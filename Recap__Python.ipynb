{
  "nbformat": 4,
  "nbformat_minor": 0,
  "metadata": {
    "colab": {
      "provenance": [],
      "include_colab_link": true
    },
    "kernelspec": {
      "name": "python3",
      "display_name": "Python 3"
    }
  },
  "cells": [
    {
      "cell_type": "markdown",
      "metadata": {
        "id": "view-in-github",
        "colab_type": "text"
      },
      "source": [
        "<a href=\"https://colab.research.google.com/github/nit-kat/Python/blob/main/Recap__Python.ipynb\" target=\"_parent\"><img src=\"https://colab.research.google.com/assets/colab-badge.svg\" alt=\"Open In Colab\"/></a>"
      ]
    },
    {
      "cell_type": "markdown",
      "metadata": {
        "id": "uKnewxWPCAcR"
      },
      "source": [
        "<center><img src=\"https://github.com/insaid2018/Term-1/blob/master/Images/INSAID_Full%20Logo.png?raw=true\" width=\"240\" height=\"100\" /></center>"
      ]
    },
    {
      "cell_type": "markdown",
      "metadata": {
        "id": "Gru3Qit5CC-k"
      },
      "source": [
        "**<center><h3>Recap: Python for Data Science Assignment Problem</h3></center>**"
      ]
    },
    {
      "cell_type": "markdown",
      "metadata": {
        "id": "GawnpjHrDF-V"
      },
      "source": [
        "---\n",
        "**<h4>Question 1:** Create a function that swap two numbers with their position.</h4>\n",
        "\n",
        "---\n",
        "\n",
        "- For example, you entered `a = 5` and `b = 6`.\n",
        "\n",
        "- The value returned will be `a = 6` and `b = 5`.\n",
        "\n",
        "<details>\n",
        "\n",
        "**<summary>Hint:</summary>**\n",
        "\n",
        "- There are two ways by which you can achieve this.\n",
        "\n",
        "- Either you can take three variables or try out some maths operations.\n",
        "\n",
        "</details>"
      ]
    },
    {
      "cell_type": "code",
      "metadata": {
        "id": "692Phk0OI7r1"
      },
      "source": [
        "def swapValues(a=None, b=None):\n",
        "  # Put your code here.\n",
        "  a,b = b,a\n",
        "  return a,b"
      ],
      "execution_count": null,
      "outputs": []
    },
    {
      "cell_type": "code",
      "metadata": {
        "id": "uzf-G2yHDDLH",
        "colab": {
          "base_uri": "https://localhost:8080/"
        },
        "outputId": "2736deaf-0da4-4d9a-e40e-4d5d04c29cb7"
      },
      "source": [
        "swapValues(a=5, b=6)"
      ],
      "execution_count": null,
      "outputs": [
        {
          "output_type": "execute_result",
          "data": {
            "text/plain": [
              "(6, 5)"
            ]
          },
          "metadata": {},
          "execution_count": 2
        }
      ]
    },
    {
      "cell_type": "markdown",
      "metadata": {
        "id": "Am10FuMSIpBO"
      },
      "source": [
        "---\n",
        "**<h4>Question 2:** Create a function that converts the datatype of a variable to a string type if it is not numeric.</h4>\n",
        "\n",
        "---\n",
        "\n",
        "- For example, you entered `num = 10` and its type is `int`.\n",
        "\n",
        "- The value returned will be `num = 10` and its type will be `str`.\n",
        "\n",
        "<details>\n",
        "\n",
        "**<summary>Hint:</summary>**\n",
        "\n",
        "- You must have learned about the typecasting in the python starter kit. Haven't you?\n",
        "\n",
        "- You can either put chained conditions to identify the data type and then typecast it,\n",
        "\n",
        "- Or directly convert the data type despite of its type.\n",
        "\n",
        "</details>"
      ]
    },
    {
      "cell_type": "code",
      "metadata": {
        "id": "oaMoMOo1IpVt"
      },
      "source": [
        "def convertType(num=None):\n",
        "  # Put your code here.\n",
        "  return str(num)\n"
      ],
      "execution_count": null,
      "outputs": []
    },
    {
      "cell_type": "code",
      "source": [
        "num = float(input(\"Enter num: \"))\n",
        "output = convertType(num)\n",
        "print(\"Input = \", num)\n",
        "print(\"Type of input = \", type(num))\n",
        "print(\"Output = \", output)\n",
        "print(\"Type of output = \", type(output))"
      ],
      "metadata": {
        "colab": {
          "base_uri": "https://localhost:8080/"
        },
        "id": "YMPllLwbN1KN",
        "outputId": "00518bd6-3937-452e-d699-5201076b3bdc"
      },
      "execution_count": null,
      "outputs": [
        {
          "output_type": "stream",
          "name": "stdout",
          "text": [
            "Enter num: 8\n",
            "Input =  8.0\n",
            "Type of input =  <class 'float'>\n",
            "Output =  8.0\n",
            "Type of output =  <class 'str'>\n"
          ]
        }
      ]
    },
    {
      "cell_type": "code",
      "metadata": {
        "id": "S0N8Gv-YKsvD",
        "colab": {
          "base_uri": "https://localhost:8080/"
        },
        "outputId": "a9b0bffc-dc30-4e22-f8bf-55656199d0c4"
      },
      "source": [
        "print(convertType(num=10), type(convertType(num=10)))\n",
        "print(convertType(num ='strr'), type(convertType(num ='strr')))"
      ],
      "execution_count": null,
      "outputs": [
        {
          "output_type": "stream",
          "name": "stdout",
          "text": [
            "10 <class 'str'>\n",
            "strr <class 'str'>\n"
          ]
        }
      ]
    },
    {
      "cell_type": "markdown",
      "metadata": {
        "id": "51YFnY5cRkNe"
      },
      "source": [
        "---\n",
        "**<h4>Question 3:** Create a function that calculates area of the triangle from user input.</h4>\n",
        "\n",
        "---\n",
        "\n",
        "- For example, you entered `base = 10` and `height = 3`.\n",
        "\n",
        "- The value returned will be `area = 15`.\n",
        "\n",
        "<details>\n",
        "\n",
        "**<summary>Hint:</summary>**\n",
        "\n",
        "- The formula to estimate area of triangle is $\\large \\frac{1}2 * base * height$\n",
        "\n",
        "</details>"
      ]
    },
    {
      "cell_type": "code",
      "metadata": {
        "id": "4DTik9qhKu6j"
      },
      "source": [
        "def areaOfTriangle():\n",
        "  # Put your code here.\n",
        "  base = float(input(\"Enter base :\"))\n",
        "  height = float(input(\"Enter height :\"))\n",
        "\n",
        "  return 1/2 *base *height"
      ],
      "execution_count": null,
      "outputs": []
    },
    {
      "cell_type": "code",
      "metadata": {
        "id": "wSxD9QcNQbsq",
        "colab": {
          "base_uri": "https://localhost:8080/"
        },
        "outputId": "b074a8c6-5638-4a75-c391-0dfc47e53a7d"
      },
      "source": [
        "# Calling function to estimate area of triangle\n",
        "areaOfTriangle()"
      ],
      "execution_count": null,
      "outputs": [
        {
          "name": "stdout",
          "output_type": "stream",
          "text": [
            "Enter base :10\n",
            "Enter height :3\n"
          ]
        },
        {
          "output_type": "execute_result",
          "data": {
            "text/plain": [
              "15.0"
            ]
          },
          "metadata": {},
          "execution_count": 11
        }
      ]
    },
    {
      "cell_type": "markdown",
      "metadata": {
        "id": "ny2aerl5cc2Z"
      },
      "source": [
        "---\n",
        "**<h4>Question 4:** Create a function that displays largest number from the provided list.</h4>\n",
        "\n",
        "---\n",
        "\n",
        "- For example, there's a list as `[18, 12, 28, 16, 22, 29, 23, 26]`.\n",
        "\n",
        "- The value returned will be `area = 29`.\n",
        "\n",
        "<details>\n",
        "\n",
        "**<summary>Hint:</summary>**\n",
        "\n",
        "- You must have learned about the control flow in the python starter kit. Haven't you?\n",
        "\n",
        "- There can be many ways to achieve this, but let's think in a simple logical way.\n",
        "\n",
        "- You initialize a variable with any value present in the list. Let's say first value, list[0].\n",
        "\n",
        "- Then iterate over each value present in the list and check if it's greater than the initialized value.\n",
        "\n",
        "- If it's greater than the value you assign it back to the initialzed variable and return it.\n",
        "\n",
        "</details>"
      ]
    },
    {
      "cell_type": "code",
      "metadata": {
        "id": "CTHVcbIVQrrp"
      },
      "source": [
        "def maxValue(list_in):\n",
        "  # Put your code here.\n",
        "  list_in.sort()\n",
        "  return list_in[-1]\n",
        "\n",
        "  # return max(list_in) # alternate way"
      ],
      "execution_count": null,
      "outputs": []
    },
    {
      "cell_type": "code",
      "metadata": {
        "id": "9admZ4gigbA4",
        "colab": {
          "base_uri": "https://localhost:8080/"
        },
        "outputId": "f28687c0-5bfa-4d35-85c2-c33665a2ac96"
      },
      "source": [
        "maxValue(list_in=[18, 12, 28, 16,112, 22, 29, 23, 26])"
      ],
      "execution_count": null,
      "outputs": [
        {
          "output_type": "execute_result",
          "data": {
            "text/plain": [
              "112"
            ]
          },
          "metadata": {},
          "execution_count": 39
        }
      ]
    },
    {
      "cell_type": "markdown",
      "metadata": {
        "id": "hC0U5nIRjcLa"
      },
      "source": [
        "---\n",
        "**<h4>Question 5:** Create a function that removes duplicate values from the provided list.</h4>\n",
        "\n",
        "---\n",
        "\n",
        "- For example, there's a list as `[10, 20, 30, 40, 50, 60, 70, 40, 80, 50, 40]`.\n",
        "\n",
        "- The returned list will be `[70, 40, 10, 80, 50, 20, 60, 30]`.\n",
        "\n",
        "<details>\n",
        "\n",
        "**<summary>Hint:</summary>**\n",
        "\n",
        "- You can typecast your list to a set type and then again typecast it to a list.\n",
        "\n",
        "- You can also use control flow over the list with different python operators to achieve the objective.\n",
        "\n",
        "</details>"
      ]
    },
    {
      "cell_type": "code",
      "metadata": {
        "id": "Z_O7p4J9pBm_"
      },
      "source": [
        "def removeDuplicates(list_in):\n",
        "  # Put your code here.\n",
        "  list_in = set(list_in)\n",
        "  return list(list_in)"
      ],
      "execution_count": null,
      "outputs": []
    },
    {
      "cell_type": "code",
      "metadata": {
        "id": "GGLzJk9rhozJ",
        "colab": {
          "base_uri": "https://localhost:8080/"
        },
        "outputId": "c7b7c53f-7dea-4667-d4be-588aae3e9251"
      },
      "source": [
        "removeDuplicates(list_in=[10, 20, 30, 40, 50, 60, 70, 40, 80, 50, 40, 20])"
      ],
      "execution_count": null,
      "outputs": [
        {
          "output_type": "execute_result",
          "data": {
            "text/plain": [
              "[70, 40, 10, 80, 50, 20, 60, 30]"
            ]
          },
          "metadata": {},
          "execution_count": 42
        }
      ]
    },
    {
      "cell_type": "code",
      "source": [
        "set1 = {('a','b','c')}\n",
        "print(set1, len(set1))\n",
        "set2 = set('abc')\n",
        "print(set2, len(set2))"
      ],
      "metadata": {
        "colab": {
          "base_uri": "https://localhost:8080/"
        },
        "id": "ogFLCsxYOpI5",
        "outputId": "4016e56c-7f20-4522-cb40-88752114ac82"
      },
      "execution_count": null,
      "outputs": [
        {
          "output_type": "stream",
          "name": "stdout",
          "text": [
            "{('a', 'b', 'c')} 1\n",
            "{'c', 'b', 'a'} 3\n"
          ]
        }
      ]
    },
    {
      "cell_type": "markdown",
      "metadata": {
        "id": "poOh3PgUq_Yz"
      },
      "source": [
        "---\n",
        "**<h4>Question 6:** Create a function that displays a sum of values present in a list.</h4>\n",
        "\n",
        "---\n",
        "\n",
        "- For example, there's a list as `[1, 2, 3, 4, 5, 6, 7, 8, 9, 10]`.\n",
        "\n",
        "- The returned sum will be `55`.\n",
        "\n",
        "<details>\n",
        "\n",
        "**<summary>Hint:</summary>**\n",
        "\n",
        "- You must have learned about the control flow in the python starter kit. Haven't you?\n",
        "\n",
        "- Initialize a variable with a zero value.\n",
        "\n",
        "- Then iterate over the list along with the intialized value to get a sum. \n",
        "\n",
        "</details>"
      ]
    },
    {
      "cell_type": "code",
      "metadata": {
        "id": "QnuMdUJZQMow"
      },
      "source": [
        "def sumList(list_in):\n",
        "  # Put your code here.\n",
        "  sum=0\n",
        "  for x in list_in:\n",
        "    sum+=x \n",
        "  \n",
        "  return sum\n",
        "\n",
        "  #return sum(list_in) # alternate way\n"
      ],
      "execution_count": null,
      "outputs": []
    },
    {
      "cell_type": "code",
      "metadata": {
        "id": "WHfu98gVSX7S",
        "colab": {
          "base_uri": "https://localhost:8080/"
        },
        "outputId": "772f8c93-8eaf-4767-ea90-89259b9ae239"
      },
      "source": [
        "sumList(list_in=[1, 2, 3, 4, 5, 6, 7, 8, 9, 10,10,True])"
      ],
      "execution_count": null,
      "outputs": [
        {
          "output_type": "execute_result",
          "data": {
            "text/plain": [
              "66"
            ]
          },
          "metadata": {},
          "execution_count": 9
        }
      ]
    },
    {
      "cell_type": "markdown",
      "metadata": {
        "id": "sHUwC4EQskYx"
      },
      "source": [
        "---\n",
        "**<h4>Question 7:** Create a function that reverse a provided string.</h4>\n",
        "\n",
        "---\n",
        "\n",
        "- For example, you passed a string such as `INSAID`.\n",
        "\n",
        "- The returned string will be `DIASNI`.\n",
        "\n",
        "<details>\n",
        "\n",
        "**<summary>Hint:</summary>**\n",
        "\n",
        "- There are several ways to achieving the defined objective.\n",
        "\n",
        "- Either you can iterate over the characters of the string or use the string striding (mostly used).\n",
        "\n",
        "</details>"
      ]
    },
    {
      "cell_type": "code",
      "source": [
        "for i in range(-1, -7, -1):\n",
        "    print(i)"
      ],
      "metadata": {
        "colab": {
          "base_uri": "https://localhost:8080/"
        },
        "id": "qFTfW9qFJa_c",
        "outputId": "801712da-b380-40a4-adff-56d37781b5b4"
      },
      "execution_count": null,
      "outputs": [
        {
          "output_type": "stream",
          "name": "stdout",
          "text": [
            "-1\n",
            "-2\n",
            "-3\n",
            "-4\n",
            "-5\n",
            "-6\n"
          ]
        }
      ]
    },
    {
      "cell_type": "code",
      "metadata": {
        "id": "pCO0S0_ppDvG"
      },
      "source": [
        "def stringReverse():\n",
        "  # Put your code here.\n",
        "  str1 = input(\"Enter String :\")\n",
        "\n",
        "  #for i in range()\n",
        "  length = -len(str1)-1\n",
        "  str2 = str1[-1:length:-1]\n",
        "  \n",
        "  return str2"
      ],
      "execution_count": null,
      "outputs": []
    },
    {
      "cell_type": "code",
      "metadata": {
        "id": "jUuxoV1_W9Hi",
        "colab": {
          "base_uri": "https://localhost:8080/"
        },
        "outputId": "af93611e-8015-431b-a78a-8f15104cecd3"
      },
      "source": [
        "# Display the reverse string\n",
        "print('Reversed String: {}'.format(stringReverse()))"
      ],
      "execution_count": null,
      "outputs": [
        {
          "output_type": "stream",
          "name": "stdout",
          "text": [
            "Enter String :INSAID\n",
            "Reversed String: DIASNI\n"
          ]
        }
      ]
    },
    {
      "cell_type": "markdown",
      "metadata": {
        "id": "K9--aUgVZdDi"
      },
      "source": [
        "---\n",
        "**<h4>Question 8:** Create a function that returns a combination of two tuples.</h4>\n",
        "\n",
        "---\n",
        "\n",
        "- For example, you passed two tuples such as `(0, 1, 2, 3)` and `('python', 'code')`.\n",
        "\n",
        "- The returned tuple will be `(0, 1, 2, 3, 'python', 'code')`.\n",
        "\n",
        "<details>\n",
        "\n",
        "**<summary>Hint:</summary>**\n",
        "\n",
        "- Why don't you try out the simple mathematical operation such as addition.\n",
        "\n",
        "</details>"
      ]
    },
    {
      "cell_type": "code",
      "metadata": {
        "id": "He7eMxnDYgo-"
      },
      "source": [
        "def concatTuple(tup1=None, tup2=None):\n",
        "  # Put your code here.\n",
        "  return tup1+tup2"
      ],
      "execution_count": null,
      "outputs": []
    },
    {
      "cell_type": "code",
      "metadata": {
        "id": "-jxzSYclbSHm",
        "colab": {
          "base_uri": "https://localhost:8080/"
        },
        "outputId": "f22641a0-39fa-4e10-8681-e24feb14ec5a"
      },
      "source": [
        "tuple1 = (0, 1, 2, 3)\n",
        "tuple2 = ('python', 'code')\n",
        "\n",
        "# Display the concatenation of tuples\n",
        "print('Concatenated Tuple: {}'.format(concatTuple(tup1=tuple1, tup2=tuple2)))"
      ],
      "execution_count": null,
      "outputs": [
        {
          "output_type": "stream",
          "name": "stdout",
          "text": [
            "Concatenated Tuple: (0, 1, 2, 3, 'python', 'code')\n"
          ]
        }
      ]
    },
    {
      "cell_type": "markdown",
      "metadata": {
        "id": "Yoe1vKMHcNeR"
      },
      "source": [
        "---\n",
        "**<h4>Question 9:** Create a function that returns an indicator of whether a provided key already exists in a dictionary.</h4>\n",
        "\n",
        "---\n",
        "\n",
        "- For example, there's a dictionary such as `{1: 10, 2: 20, 3: 30, 4: 40, 5: 50, 6: 60}`.\n",
        "\n",
        "- You passed a value to the function such as `3`, then a returned value will be `True`.\n",
        "\n",
        "- Let's say you passed a value to the function such as `8`, then a returned value will be `False`.\n",
        "\n",
        "<details>\n",
        "\n",
        "**<summary>Hint:</summary>**\n",
        "\n",
        "- You must have learned about the control flow and operators in the python starter kit. Haven't you?\n",
        "\n",
        "- You can get the desired result using simple IF-ELSE operation.\n",
        "\n",
        "</details>"
      ]
    },
    {
      "cell_type": "code",
      "metadata": {
        "id": "1cLa8iChbmQK"
      },
      "source": [
        "def isKeyPresent(dict_in=None, key=None):\n",
        "  # Put your code here.\n",
        "  return key in dict_in"
      ],
      "execution_count": null,
      "outputs": []
    },
    {
      "cell_type": "code",
      "metadata": {
        "id": "qno80WjPenI0",
        "colab": {
          "base_uri": "https://localhost:8080/"
        },
        "outputId": "5188bbc6-6997-4477-a6f9-71ece0d70e47"
      },
      "source": [
        "dict_in = {1: 10, 2: 20, 3: 30, 4: 40, 5: 50, 6: 60}\n",
        "\n",
        "# Display the indicator\n",
        "print('Returned Indicator: {}'.format(isKeyPresent(dict_in=dict_in, key=8)))"
      ],
      "execution_count": null,
      "outputs": [
        {
          "output_type": "stream",
          "name": "stdout",
          "text": [
            "Returned Indicator: False\n"
          ]
        }
      ]
    },
    {
      "cell_type": "markdown",
      "metadata": {
        "id": "0n0F_SeZgXhI"
      },
      "source": [
        "---\n",
        "**<h4>Question 10:** Create a function that returns a combination of two python dictionary.</h4>\n",
        "\n",
        "---\n",
        "\n",
        "- For example, there's are two dictionaries such as `{'a': 100, 'b': 200}` and `{'x': 300, 'y': 200}`.\n",
        "\n",
        "- The returned dictionary will be `{'a': 100, 'b': 200, 'x': 300, 'y': 200}`.\n",
        "\n",
        "<details>\n",
        "\n",
        "**<summary>Hint:</summary>**\n",
        "\n",
        "- Initialize a variable with empty dictionary or using dict() method.\n",
        "\n",
        "- Update the newly initialized dictionary with the first dictionary using .update() method.\n",
        "\n",
        "- Then again update the newly initialized dictionary with the second dictionary using .update() method.\n",
        "\n",
        "</details>"
      ]
    },
    {
      "cell_type": "code",
      "metadata": {
        "id": "T5VburKkhgWS"
      },
      "source": [
        "def combineDict(dict1=None, dict2=None):\n",
        "  # Put your code here.\n",
        "  dict1.update(dict2)\n",
        "  return dict1"
      ],
      "execution_count": null,
      "outputs": []
    },
    {
      "cell_type": "code",
      "metadata": {
        "id": "JJuu5_5_gXWV",
        "colab": {
          "base_uri": "https://localhost:8080/"
        },
        "outputId": "07b7b30c-5c82-46a5-9d1e-27bb8d632387"
      },
      "source": [
        "d1 = {'a': 100, 'b': 200}\n",
        "d2 = {'x': 300, 'y': 200}\n",
        "\n",
        "# Display the final dictionary\n",
        "print('Final Dictionary: {}'.format(combineDict(dict1=d1, dict2=d2)))"
      ],
      "execution_count": null,
      "outputs": [
        {
          "output_type": "stream",
          "name": "stdout",
          "text": [
            "Final Dictionary: {'a': 100, 'b': 200, 'x': 300, 'y': 200}\n"
          ]
        }
      ]
    },
    {
      "cell_type": "markdown",
      "metadata": {
        "id": "CineEFU-kjLe"
      },
      "source": [
        "---\n",
        "**<h4>Question 11:** Create a function that returns a factorial of a number.</h4>\n",
        "\n",
        "---\n",
        "\n",
        "- For example, you passed `val = 5`.\n",
        "\n",
        "- The returned value will be `120`.\n",
        "\n",
        "- Underlying working is as shown: `1 * 2 * 3 * 4 * 5 = 120`.\n",
        "\n",
        "<details>\n",
        "\n",
        "**<summary>Hint:</summary>**\n",
        "\n",
        "- Initialize factorial varialble with 1.\n",
        "\n",
        "- If the number is negative display message that factorial of a negative number doesn't exist.\n",
        "\n",
        "- Else if the number is zero return the initialized value.\n",
        "\n",
        "- Else return the factorial value over the specified value in the function.\n",
        "\n",
        "</details>"
      ]
    },
    {
      "cell_type": "code",
      "metadata": {
        "id": "CEkUPiRbhfBW"
      },
      "source": [
        "def factorial():\n",
        "  # Put your code here.\n",
        "  inputt = int(input(\"Enter a number\"))\n",
        "  var = 1\n",
        "\n",
        "  if inputt <0 or inputt ==0:\n",
        "    print(\"Cant display\")\n",
        "  else:\n",
        "    for i in range(1,inputt+1):\n",
        "      var = var*i\n",
        "  return var\n",
        "\n",
        "  \n"
      ],
      "execution_count": null,
      "outputs": []
    },
    {
      "cell_type": "markdown",
      "source": [
        "**General** **Practice** "
      ],
      "metadata": {
        "id": "XcwSa2hwFLPg"
      }
    },
    {
      "cell_type": "code",
      "metadata": {
        "id": "3EUnVZB9eaAb",
        "colab": {
          "base_uri": "https://localhost:8080/"
        },
        "outputId": "7ae89f0b-193f-4577-a009-ba0c1f0a79e4"
      },
      "source": [
        "# Display the fictorial value\n",
        "print('Factorial: {}'.format(factorial()))"
      ],
      "execution_count": null,
      "outputs": [
        {
          "output_type": "stream",
          "name": "stdout",
          "text": [
            "Enter a number4\n",
            "Factorial: 24\n"
          ]
        }
      ]
    },
    {
      "cell_type": "code",
      "source": [
        "word = 'galaxy'\n",
        "print(word[:-2])\n",
        "print(word[-1::-1])"
      ],
      "metadata": {
        "id": "SZUWOvdAGo6d",
        "colab": {
          "base_uri": "https://localhost:8080/"
        },
        "outputId": "875f5873-aede-4348-ff18-c2dff91646b7"
      },
      "execution_count": null,
      "outputs": [
        {
          "output_type": "stream",
          "name": "stdout",
          "text": [
            "gala\n",
            "yxalag\n"
          ]
        }
      ]
    },
    {
      "cell_type": "code",
      "source": [
        "customers = ['Marie', 'Anne', 'Donald']\n",
        "print(len(customers))\n",
        "customers[2:7] = ['Barack', 'Olivia', 'Sophia']\n",
        "print(customers)\n",
        "print(len(customers))\n"
      ],
      "metadata": {
        "colab": {
          "base_uri": "https://localhost:8080/"
        },
        "id": "1xHbVmj3dG2V",
        "outputId": "456836bd-c801-413a-a485-a63253a7873a"
      },
      "execution_count": null,
      "outputs": [
        {
          "output_type": "stream",
          "name": "stdout",
          "text": [
            "3\n",
            "['Marie', 'Anne', 'Barack', 'Olivia', 'Sophia']\n",
            "5\n"
          ]
        }
      ]
    },
    {
      "cell_type": "code",
      "source": [
        "letters = ['a', 'b', 'c', 'd']\n",
        "print(letters[1:-1])\n",
        "print(len(letters[1:-1]))\n"
      ],
      "metadata": {
        "colab": {
          "base_uri": "https://localhost:8080/"
        },
        "id": "tRCkzmUhfi1P",
        "outputId": "fb91e29b-84b3-48d6-e788-bdca43b74b3b"
      },
      "execution_count": null,
      "outputs": [
        {
          "output_type": "stream",
          "name": "stdout",
          "text": [
            "['b', 'c']\n",
            "2\n"
          ]
        }
      ]
    },
    {
      "cell_type": "code",
      "source": [
        "print(not 3 % 2)\n",
        "print(not 4 % 2)"
      ],
      "metadata": {
        "colab": {
          "base_uri": "https://localhost:8080/"
        },
        "id": "Wrq3DJ8ChRQl",
        "outputId": "9f4ffb20-e8fd-4ff7-c993-664c1c8777bb"
      },
      "execution_count": null,
      "outputs": [
        {
          "output_type": "stream",
          "name": "stdout",
          "text": [
            "False\n",
            "True\n"
          ]
        }
      ]
    },
    {
      "cell_type": "code",
      "source": [],
      "metadata": {
        "id": "lcfWwGx3i-jp"
      },
      "execution_count": null,
      "outputs": []
    }
  ]
}