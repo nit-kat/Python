{
 "cells": [
  {
   "cell_type": "markdown",
   "id": "8308c477",
   "metadata": {},
   "source": [
    "## Textwrap\n"
   ]
  },
  {
   "cell_type": "code",
   "execution_count": 4,
   "id": "1a17b6a0",
   "metadata": {},
   "outputs": [
    {
     "name": "stdout",
     "output_type": "stream",
     "text": [
      "['This is', 'a very', 'very', 'very', 'very', 'very', 'long', 'string.']\n"
     ]
    }
   ],
   "source": [
    "import textwrap # import lib\n",
    "string = \"This is a very very very very very long string.\"\n",
    "print(textwrap.wrap(string,8)) # returns a list of individual lines\n"
   ]
  },
  {
   "cell_type": "code",
   "execution_count": 5,
   "id": "eac8a24b",
   "metadata": {},
   "outputs": [
    {
     "name": "stdout",
     "output_type": "stream",
     "text": [
      "This is\n",
      "a very\n",
      "very\n",
      "very\n",
      "very\n",
      "very\n",
      "long\n",
      "string.\n"
     ]
    }
   ],
   "source": [
    "string = \"This is a very very very very very long string.\"\n",
    "print(textwrap.fill(string,8))"
   ]
  },
  {
   "cell_type": "code",
   "execution_count": null,
   "id": "a8040a3d",
   "metadata": {},
   "outputs": [],
   "source": []
  }
 ],
 "metadata": {
  "kernelspec": {
   "display_name": "Python 3",
   "language": "python",
   "name": "python3"
  },
  "language_info": {
   "codemirror_mode": {
    "name": "ipython",
    "version": 3
   },
   "file_extension": ".py",
   "mimetype": "text/x-python",
   "name": "python",
   "nbconvert_exporter": "python",
   "pygments_lexer": "ipython3",
   "version": "3.8.8"
  }
 },
 "nbformat": 4,
 "nbformat_minor": 5
}
