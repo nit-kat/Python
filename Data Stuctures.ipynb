{
 "cells": [
  {
   "cell_type": "markdown",
   "id": "46d9554b",
   "metadata": {},
   "source": [
    "## Lists"
   ]
  },
  {
   "cell_type": "code",
   "execution_count": 2,
   "id": "19305638",
   "metadata": {},
   "outputs": [
    {
     "name": "stdout",
     "output_type": "stream",
     "text": [
      "[] [1, 2, 3] [1, '22', 'string', 44.5]\n",
      "['abc', [8, 4, 6], ['def']]\n"
     ]
    }
   ],
   "source": [
    "emptylist= []\n",
    "numberlist = [1,2,3]\n",
    "mixedlist = [1,\"22\",\"string\",44.5]\n",
    "print(emptylist,numberlist,mixedlist)\n",
    "# nested list\n",
    "nested = [\"abc\",[8,4,6],[\"def\"]]\n",
    "print(nested)"
   ]
  },
  {
   "cell_type": "code",
   "execution_count": 8,
   "id": "80eeecd1",
   "metadata": {},
   "outputs": [
    {
     "name": "stdout",
     "output_type": "stream",
     "text": [
      "1\n",
      "6\n",
      "6\n",
      "[3, 4, 5]\n",
      "[1, 2, 5, 6]\n",
      "['a', 'b', 'c']\n",
      "2\n"
     ]
    }
   ],
   "source": [
    "lst = [1,2,3,4,5,6]\n",
    "print(lst[0])\n",
    "print(lst[5])\n",
    "#print(lst[6]) # index out of range \n",
    "print(len(lst))\n",
    "print(lst[2:5])\n",
    "lst[2:4] = []\n",
    "print(lst)\n",
    "\n",
    "#nested list index\n",
    "lstt = [['a', 'b', 'c'], [1, 2, 3]]\n",
    "print(lstt[0])\n",
    "print(lstt[1][1])"
   ]
  },
  {
   "cell_type": "code",
   "execution_count": 22,
   "id": "c83a538a",
   "metadata": {},
   "outputs": [
    {
     "name": "stdout",
     "output_type": "stream",
     "text": [
      "[1, 2, 3, 'a', 'b', 'c']\n",
      "[1, 2, 3, ['a', 'b', 'c']]\n",
      "4\n",
      "[1, 2, 3, ['a', 'b', 'c'], 4, 5, 6]\n",
      "7\n",
      "[1, 2, 50, 3, ['a', 'b', 'c'], 4, 5, 6]\n",
      "[1, 2, 3, ['a', 'b', 'c'], 4, 5, 6]\n"
     ]
    }
   ],
   "source": [
    "list1 = [1,2,3]\n",
    "list2 = [\"a\",\"b\",\"c\"]\n",
    "list3 = [4,5,6]\n",
    "print(list1+list2)\n",
    "list1.append(list2) # adds the list2 as an element to the list1\n",
    "print(list1)\n",
    "print(len(list1))\n",
    "list1.extend(list3) # add all elements of list2 to list1\n",
    "print(list1)\n",
    "print(len(list1))\n",
    "list1.insert(2,50) # adding element to list\n",
    "print(list1)\n",
    "list1.remove(50)\n",
    "print(list1)"
   ]
  },
  {
   "cell_type": "markdown",
   "id": "6798f9c7",
   "metadata": {},
   "source": [
    "#### List Comprehensions"
   ]
  },
  {
   "cell_type": "code",
   "execution_count": 25,
   "id": "c096a31f",
   "metadata": {},
   "outputs": [
    {
     "name": "stdout",
     "output_type": "stream",
     "text": [
      "[1, 4, 9, 16, 25, 36, 49, 64, 81]\n",
      "[1, 8, 27, 64, 125, 216, 343, 512, 729]\n",
      "[2, 4, 6, 8, 10]\n"
     ]
    }
   ],
   "source": [
    "# An expression followed by for clause and more for or if clauses\n",
    "sqlist = [x**2 for x in range(1,10)] \n",
    "print(sqlist)\n",
    "\n",
    "cubelist = [x**3 for x in range(1,10)]\n",
    "print(cubelist)\n",
    "\n",
    "evenlist = [x for x in range(1,11) if x%2==0]\n",
    "print(evenlist)"
   ]
  },
  {
   "cell_type": "markdown",
   "id": "525250c3",
   "metadata": {},
   "source": [
    "## Tuples"
   ]
  },
  {
   "cell_type": "code",
   "execution_count": 32,
   "id": "83634953",
   "metadata": {},
   "outputs": [
    {
     "name": "stdout",
     "output_type": "stream",
     "text": [
      "()\n",
      "('hello',) <class 'tuple'>\n",
      "hello <class 'str'>\n"
     ]
    }
   ],
   "source": [
    "emptytpl = ()\n",
    "singletpl = (\"hello\",)\n",
    "singletpl2 = (\"hello\") # notice we cannot create single element tuple without the comma\n",
    "print(emptytpl)\n",
    "print(singletpl, type(singletpl))\n",
    "print(singletpl2, type(singletpl2))"
   ]
  },
  {
   "cell_type": "code",
   "execution_count": 34,
   "id": "b9c24b5b",
   "metadata": {},
   "outputs": [
    {
     "name": "stdout",
     "output_type": "stream",
     "text": [
      "(1, 2, 3, 4) (1, 2.0, True, 'four') (1, 'abc', [3, 4, 5], ('d', 'e'))\n"
     ]
    }
   ],
   "source": [
    "numtpl = (1,2,3,4)\n",
    "mixedtpl = (1,2.0,True, \"four\")\n",
    "nestedtpl = (1,\"abc\",[3,4,5],(\"d\",\"e\"))\n",
    "print(numtpl,mixedtpl,nestedtpl)"
   ]
  },
  {
   "cell_type": "code",
   "execution_count": 35,
   "id": "1a7c024c",
   "metadata": {},
   "outputs": [
    {
     "name": "stdout",
     "output_type": "stream",
     "text": [
      "(3, 4.6, 'dog')\n",
      "3\n",
      "4.6\n",
      "dog\n"
     ]
    }
   ],
   "source": [
    "# Packing and Unpacking tuple\n",
    "\n",
    "# tuple packing\n",
    "my_tuple = 3, 4.6, \"dog\"\n",
    "print(my_tuple)\n",
    "\n",
    "# tuple unpacking is also possible\n",
    "a, b, c = my_tuple\n",
    "print(a)      # 3\n",
    "print(b)      # 4.6\n",
    "print(c)      # dog"
   ]
  },
  {
   "cell_type": "code",
   "execution_count": 39,
   "id": "3159a903",
   "metadata": {},
   "outputs": [
    {
     "name": "stdout",
     "output_type": "stream",
     "text": [
      "[1, 2, 6, 4]\n"
     ]
    },
    {
     "ename": "TypeError",
     "evalue": "'tuple' object does not support item assignment",
     "output_type": "error",
     "traceback": [
      "\u001b[1;31m---------------------------------------------------------------------------\u001b[0m",
      "\u001b[1;31mTypeError\u001b[0m                                 Traceback (most recent call last)",
      "\u001b[1;32m<ipython-input-39-c43ab79fcc0d>\u001b[0m in \u001b[0;36m<module>\u001b[1;34m\u001b[0m\n\u001b[0;32m      5\u001b[0m \u001b[1;33m\u001b[0m\u001b[0m\n\u001b[0;32m      6\u001b[0m \u001b[0mtpl\u001b[0m \u001b[1;33m=\u001b[0m \u001b[1;33m(\u001b[0m\u001b[1;36m1\u001b[0m\u001b[1;33m,\u001b[0m\u001b[1;36m2\u001b[0m\u001b[1;33m,\u001b[0m\u001b[1;36m3\u001b[0m\u001b[1;33m,\u001b[0m\u001b[1;36m4\u001b[0m\u001b[1;33m)\u001b[0m\u001b[1;33m\u001b[0m\u001b[1;33m\u001b[0m\u001b[0m\n\u001b[1;32m----> 7\u001b[1;33m \u001b[0mtpl\u001b[0m\u001b[1;33m[\u001b[0m\u001b[1;36m2\u001b[0m\u001b[1;33m]\u001b[0m \u001b[1;33m=\u001b[0m \u001b[1;36m6\u001b[0m\u001b[1;33m\u001b[0m\u001b[1;33m\u001b[0m\u001b[0m\n\u001b[0m\u001b[0;32m      8\u001b[0m \u001b[0mprint\u001b[0m\u001b[1;33m(\u001b[0m\u001b[0mtpl\u001b[0m\u001b[1;33m)\u001b[0m\u001b[1;33m\u001b[0m\u001b[1;33m\u001b[0m\u001b[0m\n",
      "\u001b[1;31mTypeError\u001b[0m: 'tuple' object does not support item assignment"
     ]
    }
   ],
   "source": [
    "#Tuples are immutable unlike lists\n",
    "lsst = [1,2,3,4]\n",
    "lsst[2] = 6\n",
    "print(lsst)\n",
    "\n",
    "tpl = (1,2,3,4)\n",
    "tpl[2] = 6\n",
    "print(tpl)"
   ]
  },
  {
   "cell_type": "markdown",
   "id": "5266a678",
   "metadata": {},
   "source": [
    "## Dictionaries"
   ]
  },
  {
   "cell_type": "code",
   "execution_count": 5,
   "id": "e7bb8898",
   "metadata": {},
   "outputs": [
    {
     "name": "stdout",
     "output_type": "stream",
     "text": [
      "<class 'dict'>\n",
      "{1: '1', 2: '2'}\n",
      "{'1': '1', '2': 2, 3: '3', 4: 4, 1: 11}\n"
     ]
    }
   ],
   "source": [
    "emptydict = {}\n",
    "print(type(emptydict))\n",
    "dict1 = {1:\"1\",2:\"2\"}\n",
    "print(dict1)\n",
    "mixeddict2 = {\"1\":\"1\",\"2\":2,3:\"3\",4:4,1:11}\n",
    "print(mixeddict2)"
   ]
  },
  {
   "cell_type": "code",
   "execution_count": 8,
   "id": "8147d617",
   "metadata": {},
   "outputs": [
    {
     "name": "stdout",
     "output_type": "stream",
     "text": [
      "1\n",
      "None\n"
     ]
    }
   ],
   "source": [
    "mixeddict2 = {\"1\":\"1\",\"2\":2,3:\"3\",4:4,1:11}\n",
    "print(mixeddict2.get(\"1\"))\n",
    "print(mixeddict2.get(\"11\"))"
   ]
  },
  {
   "cell_type": "code",
   "execution_count": 11,
   "id": "bf7d590c",
   "metadata": {},
   "outputs": [
    {
     "name": "stdout",
     "output_type": "stream",
     "text": [
      "{1: 2, 3: 4, 5: 6}\n",
      "{1: 22, 3: 4, 5: 6}\n",
      "{1: 22, 3: 4, 5: 6, 7: 8}\n"
     ]
    }
   ],
   "source": [
    "dict3 ={1:2,3:4,5:6}\n",
    "print(dict3)\n",
    "\n",
    "#print(dict[1]) # error\n",
    "\n",
    "dict3[1]=22 # update single element\n",
    "print(dict3)\n",
    "\n",
    "dict3[7] = 8 # adds pair to dict if does not exist\n",
    "print(dict3)"
   ]
  },
  {
   "cell_type": "code",
   "execution_count": null,
   "id": "11f8600c",
   "metadata": {},
   "outputs": [],
   "source": []
  }
 ],
 "metadata": {
  "kernelspec": {
   "display_name": "Python 3",
   "language": "python",
   "name": "python3"
  },
  "language_info": {
   "codemirror_mode": {
    "name": "ipython",
    "version": 3
   },
   "file_extension": ".py",
   "mimetype": "text/x-python",
   "name": "python",
   "nbconvert_exporter": "python",
   "pygments_lexer": "ipython3",
   "version": "3.8.8"
  }
 },
 "nbformat": 4,
 "nbformat_minor": 5
}
