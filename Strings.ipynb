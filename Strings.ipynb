{
 "cells": [
  {
   "cell_type": "markdown",
   "id": "843b1161",
   "metadata": {},
   "source": [
    "### StringsBasics"
   ]
  },
  {
   "cell_type": "code",
   "execution_count": 1,
   "id": "3e239819",
   "metadata": {},
   "outputs": [
    {
     "name": "stdout",
     "output_type": "stream",
     "text": [
      "Hello Single Quoted\n",
      "Hello Double Quoted\n"
     ]
    }
   ],
   "source": [
    "snglqtStr = 'Hello Single Quoted'\n",
    "dblqtStr = \"Hello Double Quoted\"\n",
    "print(snglqtStr)\n",
    "print(dblqtStr)"
   ]
  },
  {
   "cell_type": "code",
   "execution_count": 3,
   "id": "4e4501e5",
   "metadata": {},
   "outputs": [
    {
     "name": "stdout",
     "output_type": "stream",
     "text": [
      "Hello \"JOhn\"\n",
      "Hello 'John2'\n",
      "Hello I'm JOhn Sturgis. I am a \"Scientist\".\n"
     ]
    }
   ],
   "source": [
    "qtinqtStr = 'Hello \"JOhn\"'\n",
    "print(qtinqtStr)\n",
    "qtinqtStr2 = \"Hello 'John2'\"\n",
    "print(qtinqtStr2)\n",
    "#using triple quotes we can have both single and double quoted words in string\n",
    "trplqtStr = '''Hello I'm JOhn Sturgis. I am a \"Scientist\".'''\n",
    "print(trplqtStr)"
   ]
  },
  {
   "cell_type": "code",
   "execution_count": 4,
   "id": "9a05bad3",
   "metadata": {},
   "outputs": [
    {
     "name": "stdout",
     "output_type": "stream",
     "text": [
      "Hello\n",
      "am\n",
      "a\n",
      "multiline\n",
      "string!\n"
     ]
    }
   ],
   "source": [
    "multilinestr = '''Hello\n",
    "am\n",
    "a\n",
    "multiline\n",
    "string!'''\n",
    "print(multilinestr)"
   ]
  },
  {
   "cell_type": "code",
   "execution_count": 5,
   "id": "e9f5c199",
   "metadata": {},
   "outputs": [
    {
     "name": "stdout",
     "output_type": "stream",
     "text": [
      "S\n",
      "t\n",
      "g\n",
      "14\n",
      "S\n",
      "t\n",
      "r\n",
      "i\n",
      "n\n",
      "g\n",
      "I\n",
      "n\n",
      "d\n",
      "e\n",
      "x\n",
      "i\n",
      "n\n",
      "g\n"
     ]
    }
   ],
   "source": [
    "str = \"StringIndexing\"\n",
    "print(str[0])\n",
    "print(str[1])\n",
    "print(str[-1])\n",
    "print(len(str))\n",
    "for char in str:\n",
    "    print(char)"
   ]
  },
  {
   "cell_type": "code",
   "execution_count": 7,
   "id": "91ea3347",
   "metadata": {},
   "outputs": [
    {
     "name": "stdout",
     "output_type": "stream",
     "text": [
      "StringSlicing\n",
      "ringSlic\n",
      "gSlicing\n",
      "SrnSiig\n",
      "SiScg\n",
      "ingSlici\n",
      "StringSlicin\n"
     ]
    }
   ],
   "source": [
    "strr = \"StringSlicing\"\n",
    "print(strr[:]) # prints whole string\n",
    "print(strr[2:10]) # prints chars indexed 2 to 9\n",
    "print(strr[5:]) # prints string starting from index 5 to last\n",
    "print(strr[0:14:2]) # prints every other char\n",
    "print(strr[0:14:3]) # prints every 3rd char\n",
    "# using negative indexing\n",
    "print(strr[3:-2]) # chars between 3rd and secondlast\n",
    "print(strr[0:-1]) # whole string -last char"
   ]
  },
  {
   "cell_type": "code",
   "execution_count": 12,
   "id": "a5ea53dd",
   "metadata": {},
   "outputs": [
    {
     "name": "stdout",
     "output_type": "stream",
     "text": [
      "Update string\n",
      "Update string\n",
      "Updated string new\n"
     ]
    }
   ],
   "source": [
    "str2 = \"Update string\"\n",
    "print(str2)\n",
    "\n",
    "#char updating\n",
    "#str2[1] = 'pp'\n",
    "print(str2) # string chars cannot be assigned/updated error\n",
    "\n",
    "# updating whole string\n",
    "str2 = \"Updated string new\"\n",
    "print(str2)"
   ]
  },
  {
   "cell_type": "code",
   "execution_count": 4,
   "id": "a3fbc129",
   "metadata": {},
   "outputs": [
    {
     "name": "stdout",
     "output_type": "stream",
     "text": [
      "I am a string formatter\n",
      "I string a am formatter\n"
     ]
    }
   ],
   "source": [
    "str3 = \"String formatting\"\n",
    "print(\"I {} a {} format{}\".format(\"am\",\"string\",\"ter\"))\n",
    "# using numbers for order\n",
    "print(\"I {1} a {0} format{2}\".format(\"am\",\"string\",\"ter\"))"
   ]
  },
  {
   "cell_type": "markdown",
   "id": "932dca47",
   "metadata": {},
   "source": [
    "### Built-in String Functions"
   ]
  },
  {
   "cell_type": "code",
   "execution_count": 8,
   "id": "d226a49c",
   "metadata": {},
   "outputs": [
    {
     "name": "stdout",
     "output_type": "stream",
     "text": [
      "Capitalize words in this string\n",
      " Capitalize Words In This String\n"
     ]
    }
   ],
   "source": [
    "string1 = \"capitalize words in this string\"\n",
    "print(string1.capitalize()) # capitalize only firstletterof the string\n",
    "\n",
    "capString1 =\"\"\n",
    "for word in string1.split():\n",
    "    capString1 = capString1 +\" \"+ word.capitalize()\n",
    "    \n",
    "print(capString1)"
   ]
  },
  {
   "cell_type": "code",
   "execution_count": 17,
   "id": "581bcf10",
   "metadata": {},
   "outputs": [
    {
     "name": "stdout",
     "output_type": "stream",
     "text": [
      "True\n",
      "12\n",
      "-1\n",
      "12\n",
      "28\n",
      "test for substring in string\n",
      "TEST FOR SUBSTRING IN STRING\n",
      "test for substring in string\n",
      "u\n",
      " \n",
      "test for subabcing in string\n"
     ]
    }
   ],
   "source": [
    "string2 = \"test for substring in string\"\n",
    "\n",
    "print(\"string\" in string2)\n",
    "print(string2.find(\"string\"))\n",
    "print(string2.find(\"abcd\"))\n",
    "print(string2.index(\"string\"))\n",
    "#print(string2.index(\"abcd\")) # throws an error if not found\n",
    "print(len(string2))\n",
    "print(string2.lower())\n",
    "print(string2.upper())\n",
    "print(string2)\n",
    "print(max(string2))\n",
    "print(min(string2))\n",
    "\n",
    "print(string2.replace(\"str\",\"abc\",1)) # replaces only the 1st occurence of str\n"
   ]
  },
  {
   "cell_type": "code",
   "execution_count": 15,
   "id": "6710b31b",
   "metadata": {},
   "outputs": [
    {
     "name": "stdout",
     "output_type": "stream",
     "text": [
      "mY nAME IS nItIkA\n"
     ]
    }
   ],
   "source": [
    "string3 = \"My Name is NiTiKa\"\n",
    "print(string3.swapcase())"
   ]
  },
  {
   "cell_type": "code",
   "execution_count": null,
   "id": "ae1e9f85",
   "metadata": {},
   "outputs": [],
   "source": []
  }
 ],
 "metadata": {
  "kernelspec": {
   "display_name": "Python 3",
   "language": "python",
   "name": "python3"
  },
  "language_info": {
   "codemirror_mode": {
    "name": "ipython",
    "version": 3
   },
   "file_extension": ".py",
   "mimetype": "text/x-python",
   "name": "python",
   "nbconvert_exporter": "python",
   "pygments_lexer": "ipython3",
   "version": "3.8.8"
  }
 },
 "nbformat": 4,
 "nbformat_minor": 5
}
