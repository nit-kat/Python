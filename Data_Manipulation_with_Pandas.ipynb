{
  "nbformat": 4,
  "nbformat_minor": 0,
  "metadata": {
    "colab": {
      "provenance": [],
      "include_colab_link": true
    },
    "kernelspec": {
      "name": "python3",
      "display_name": "Python 3"
    }
  },
  "cells": [
    {
      "cell_type": "markdown",
      "metadata": {
        "id": "view-in-github",
        "colab_type": "text"
      },
      "source": [
        "<a href=\"https://colab.research.google.com/github/nit-kat/Python/blob/main/Data_Manipulation_with_Pandas.ipynb\" target=\"_parent\"><img src=\"https://colab.research.google.com/assets/colab-badge.svg\" alt=\"Open In Colab\"/></a>"
      ]
    },
    {
      "cell_type": "markdown",
      "metadata": {
        "id": "5TX2JGTrYBvQ"
      },
      "source": [
        "<center><img src=\"https://github.com/insaid2018/Term-1/blob/master/Images/INSAID_Full%20Logo.png?raw=true\" width=\"240\" height=\"100\" /></center>\n",
        "\n",
        "# <center><b>Data Manipulation with Pandas<b></center>"
      ]
    },
    {
      "cell_type": "markdown",
      "metadata": {
        "id": "pNGRUYOnYGiX"
      },
      "source": [
        "---\n",
        "# **Table of Contents**\n",
        "---\n",
        "\n",
        "**1.** [**Introduction to Pandas**](#Section1)<br>\n",
        "**2.** [**Installing & Importing Libraries**](#Section2)<br>\n",
        "  - **2.1** [**Installing Libraries**](#Section21)\n",
        "  - **2.2** [**Importing Libraries**](#Section22)\n",
        "\n",
        "**3.** [**Pandas Series & Indexing**](#Section3)<br>\n",
        "**4.** [**Pandas DataFrames**](#Section4)<br>\n",
        "  - **4.1** [**DataFrame Creation**](#Section41)\n",
        "  - **4.2** [**Loading Files into DataFrame**](#Section42)\n",
        "  - **4.3** [**DataFrame Attributes**](#Section43)\n",
        "  - **4.4** [**Access, Add & Drop Operations**](#Section44)\n",
        "  - **4.5** [**DataFrame Indexing**](#Section45)\n",
        "  - **4.6** [**Append, Concat & Merge Operations**](#Section46)\n",
        "  - **4.7** [**Data Filteration**](#Section47)\n",
        "  - **4.8** [**Multi-Indexed DataFrames**](#Section48)\n",
        "  - **4.9** [**Groupby in Pandas**](#Section49)\n",
        "  - **4.10** [**DataFrame Operations**](#Section410)\n",
        "  - **4.11** [**Time Series Operations**](#Section411)\n",
        "\n",
        "**5.** [**Conclusion**](#Section5)<br>\n"
      ]
    },
    {
      "cell_type": "markdown",
      "metadata": {
        "id": "Aj0FjL1zYJom"
      },
      "source": [
        "---\n",
        "<a name = Section1></a>\n",
        "# **1. Introduction to Pandas**\n",
        "---\n",
        "\n",
        "- Pandas is a **software library** written for the Python programming language for **data manipulation and analysis**. \n",
        "\n",
        "- The library is **highly optimized** for performance, with critical code paths **written in Cython or C**.\n",
        "\n",
        "- In particular, it **offers data structures** and **operations** for manipulating numerical tables and time series.\n",
        "\n",
        "- The name is derived from the term \"**panel data**\", an econometrics term for data sets.\n",
        "\n",
        "- More specifically datasets that include observations over multiple time periods for the same individuals.\n",
        "\n",
        "<center><img src=\"https://upload.wikimedia.org/wikipedia/commons/e/ed/Pandas_logo.svg\"></center>\n",
        "\n",
        "**Library Features:**\n",
        "\n",
        "- DataFrame object for data manipulation with **integrated indexing**.\n",
        "\n",
        "- Tools for reading and writing data between **in-memory data structures** and **different file formats**.\n",
        "\n",
        "- **Data alignment** and integrated handling of missing data.\n",
        "\n",
        "- **Reshaping, merging, joining, filtration** and **pivoting** of data sets.\n",
        "\n",
        "- **Label-based slicing, fancy indexing**, and subsetting of large data sets.\n",
        "\n",
        "- Data structure column **insertion** and **deletion**.\n",
        "\n",
        "- **Group by** engine allowing split-apply-combine operations on data sets.\n",
        "\n",
        "- **Hierarchical axis indexing** to work with high-dimensional data in a lower-dimensional data structure.\n",
        "\n",
        "- **Time series-functionalities** such as: \n",
        "\n",
        "  - Date range generation and frequency conversion, \n",
        "\n",
        "  - Moving window statistics, moving window linear regressions, date shifting and lagging.\n"
      ]
    },
    {
      "cell_type": "markdown",
      "metadata": {
        "id": "KzO8UQUPaOQm"
      },
      "source": [
        "---\n",
        "<a name = Section2></a>\n",
        "# **2. Installing & Importing Libraries**\n",
        "---\n",
        "\n",
        "- To refer to the official documentation of Pandas click <a href=\"https://pandas.pydata.org/docs/\">**here**</a>."
      ]
    },
    {
      "cell_type": "markdown",
      "metadata": {
        "id": "_EeSUF-olcaf"
      },
      "source": [
        "<a name = Section21></a>\n",
        "### **2.1 Installing Libraries**"
      ]
    },
    {
      "cell_type": "code",
      "metadata": {
        "id": "NGJ4FliAYBKU"
      },
      "source": [
        "!pip install -q --user pandas"
      ],
      "execution_count": null,
      "outputs": []
    },
    {
      "cell_type": "markdown",
      "metadata": {
        "id": "flhbfFyvaZid"
      },
      "source": [
        "<a name = Section22></a>\n",
        "### **2.2 Importing Libraries**\n",
        "\n",
        "- We can give an alias name of pd, so that we dont have to repeatedly use the longer form of the name."
      ]
    },
    {
      "cell_type": "code",
      "metadata": {
        "id": "WMICuV7-aa4w"
      },
      "source": [
        "import pandas as pd                                                 # For Panel data analysis\n",
        "import numpy as np                                                  # Importing package numpys (For Numerical Python)\n",
        "import seaborn as sns                                               # Visualization package, but we'll be using for data only"
      ],
      "execution_count": null,
      "outputs": []
    },
    {
      "cell_type": "code",
      "source": [
        "pd.__version__"
      ],
      "metadata": {
        "colab": {
          "base_uri": "https://localhost:8080/",
          "height": 36
        },
        "id": "C3doHKRpCG8c",
        "outputId": "7a0aae15-c6f3-40de-a57b-4a6301423682"
      },
      "execution_count": null,
      "outputs": [
        {
          "output_type": "execute_result",
          "data": {
            "text/plain": [
              "'1.5.3'"
            ],
            "application/vnd.google.colaboratory.intrinsic+json": {
              "type": "string"
            }
          },
          "metadata": {},
          "execution_count": 3
        }
      ]
    },
    {
      "cell_type": "code",
      "source": [
        "np.__version__"
      ],
      "metadata": {
        "colab": {
          "base_uri": "https://localhost:8080/",
          "height": 36
        },
        "id": "sSbOrnypCOcw",
        "outputId": "7281dc87-dc3a-4f56-f834-2df72f7f558f"
      },
      "execution_count": null,
      "outputs": [
        {
          "output_type": "execute_result",
          "data": {
            "text/plain": [
              "'1.22.4'"
            ],
            "application/vnd.google.colaboratory.intrinsic+json": {
              "type": "string"
            }
          },
          "metadata": {},
          "execution_count": 4
        }
      ]
    },
    {
      "cell_type": "code",
      "source": [
        "python.__version__"
      ],
      "metadata": {
        "colab": {
          "base_uri": "https://localhost:8080/",
          "height": 165
        },
        "id": "MmXllmIGCUBc",
        "outputId": "88f73b1b-7bfa-4f5f-be42-3dc1b0fed87a"
      },
      "execution_count": null,
      "outputs": [
        {
          "output_type": "error",
          "ename": "NameError",
          "evalue": "ignored",
          "traceback": [
            "\u001b[0;31m---------------------------------------------------------------------------\u001b[0m",
            "\u001b[0;31mNameError\u001b[0m                                 Traceback (most recent call last)",
            "\u001b[0;32m<ipython-input-5-45a3ce2a2cc7>\u001b[0m in \u001b[0;36m<cell line: 1>\u001b[0;34m()\u001b[0m\n\u001b[0;32m----> 1\u001b[0;31m \u001b[0mpython\u001b[0m\u001b[0;34m.\u001b[0m\u001b[0m__version__\u001b[0m\u001b[0;34m\u001b[0m\u001b[0;34m\u001b[0m\u001b[0m\n\u001b[0m",
            "\u001b[0;31mNameError\u001b[0m: name 'python' is not defined"
          ]
        }
      ]
    },
    {
      "cell_type": "markdown",
      "metadata": {
        "id": "Op8G-EmxaoBP"
      },
      "source": [
        "---\n",
        "<a name = Section3></a>\n",
        "# **3. Pandas Series & Indexing**\n",
        "---\n",
        "\n",
        "- Pandas series is a **one-dimensional ndarray** capable of storing any type of data with **axis labels** (including time series).\n",
        "\n",
        "- The axis labels are called index and they need not be unique but must be **hashable** type.\n",
        "\n",
        "- An object is hashable if it has a hash **value** that **never changes** during its **lifetime**.\n",
        "\n",
        "- All of Python’s **immutable built-in objects are hashable**, while no mutable containers (such as lists or dictionaries) are.\n",
        "\n",
        "- We will also observe how the elements of the series are indexed and how we can access any element in a series."
      ]
    },
    {
      "cell_type": "code",
      "metadata": {
        "id": "_NWdnVl5cd9-",
        "colab": {
          "base_uri": "https://localhost:8080/"
        },
        "outputId": "9423f9b9-7f18-494b-b058-9088a9c8d644"
      },
      "source": [
        "# Creating a list called countries\n",
        "countries = ['India','France','England']\n",
        "\n",
        "# Creating a list called capitals\n",
        "capitals = ['New Delhi','Paris','London']\n",
        "\n",
        "# Creating 1-D array using capitals list\n",
        "arr = np.array(capitals)\n",
        "arr"
      ],
      "execution_count": null,
      "outputs": [
        {
          "output_type": "execute_result",
          "data": {
            "text/plain": [
              "array(['New Delhi', 'Paris', 'London'], dtype='<U9')"
            ]
          },
          "metadata": {},
          "execution_count": 7
        }
      ]
    },
    {
      "cell_type": "code",
      "metadata": {
        "colab": {
          "base_uri": "https://localhost:8080/"
        },
        "id": "2KPfHXmMacj4",
        "outputId": "2dd3bc09-64c5-4d70-dd8d-a5947315cd8f"
      },
      "source": [
        "# Creating pandas series using python list\n",
        "pd.Series(data=capitals)"
      ],
      "execution_count": null,
      "outputs": [
        {
          "output_type": "execute_result",
          "data": {
            "text/plain": [
              "0    New Delhi\n",
              "1        Paris\n",
              "2       London\n",
              "dtype: object"
            ]
          },
          "metadata": {},
          "execution_count": 8
        }
      ]
    },
    {
      "cell_type": "code",
      "metadata": {
        "colab": {
          "base_uri": "https://localhost:8080/"
        },
        "id": "BhMEEf4vcf6f",
        "outputId": "b13d1cb4-8bab-4698-fd35-7300af092982"
      },
      "source": [
        "# Creating pandas series using numpy array\n",
        "pd.Series(data=arr)"
      ],
      "execution_count": null,
      "outputs": [
        {
          "output_type": "execute_result",
          "data": {
            "text/plain": [
              "0    New Delhi\n",
              "1        Paris\n",
              "2       London\n",
              "dtype: object"
            ]
          },
          "metadata": {},
          "execution_count": 9
        }
      ]
    },
    {
      "cell_type": "code",
      "metadata": {
        "colab": {
          "base_uri": "https://localhost:8080/"
        },
        "id": "ttCXO8B9cu2P",
        "outputId": "98694244-68f5-412f-bb83-17ab13db2c51"
      },
      "source": [
        "# Creating a dictionary with index as alphabets and values as numerics\n",
        "dicts = {'a':10, 'b':20, 'c':30, 'd':40, 'e':50, 'f':60, 'g':70, 'h':80}\n",
        "\n",
        "# Creating pandas series using dictionary\n",
        "myseries = pd.Series(data=dicts)\n",
        "myseries"
      ],
      "execution_count": null,
      "outputs": [
        {
          "output_type": "execute_result",
          "data": {
            "text/plain": [
              "a    10\n",
              "b    20\n",
              "c    30\n",
              "d    40\n",
              "e    50\n",
              "f    60\n",
              "g    70\n",
              "h    80\n",
              "dtype: int64"
            ]
          },
          "metadata": {},
          "execution_count": 12
        }
      ]
    },
    {
      "cell_type": "code",
      "source": [
        "# can access using custom / natural indexing\n",
        "print(myseries[2])\n",
        "print(myseries['c'])"
      ],
      "metadata": {
        "colab": {
          "base_uri": "https://localhost:8080/"
        },
        "id": "_F1_GLH4D_Os",
        "outputId": "12d3e081-1b01-4452-fb0d-89e10869dc61"
      },
      "execution_count": null,
      "outputs": [
        {
          "output_type": "stream",
          "name": "stdout",
          "text": [
            "30\n",
            "30\n"
          ]
        }
      ]
    },
    {
      "cell_type": "code",
      "source": [
        "myseries.index"
      ],
      "metadata": {
        "colab": {
          "base_uri": "https://localhost:8080/"
        },
        "id": "ZWWDqafiErGJ",
        "outputId": "ef0185e7-a201-4295-8e87-91bac6e5c904"
      },
      "execution_count": null,
      "outputs": [
        {
          "output_type": "execute_result",
          "data": {
            "text/plain": [
              "Index(['a', 'b', 'c', 'd', 'e', 'f', 'g', 'h'], dtype='object')"
            ]
          },
          "metadata": {},
          "execution_count": 15
        }
      ]
    },
    {
      "cell_type": "code",
      "metadata": {
        "colab": {
          "base_uri": "https://localhost:8080/"
        },
        "id": "V33qjeO4c1gn",
        "outputId": "b6ecb882-0afa-460d-8097-42e50c9f133e"
      },
      "source": [
        "# Creating a custom pandas series using capitals and countries\n",
        "ser = pd.Series(data=capitals, index=countries)\n",
        "print(ser.index)\n",
        "print(ser.values)"
      ],
      "execution_count": null,
      "outputs": [
        {
          "output_type": "stream",
          "name": "stdout",
          "text": [
            "Index(['India', 'France', 'England'], dtype='object')\n",
            "['New Delhi' 'Paris' 'London']\n"
          ]
        }
      ]
    },
    {
      "cell_type": "code",
      "source": [
        "capitals1 = ['New Delhi','Delhi','ND','Paris','delhi']\n",
        "countries1 = ['India','india','IndIa','France','India'] # duplicate key 'India'\n",
        "ser1 = pd.Series(data=capitals1,index=countries1)\n",
        "print(ser1)\n",
        "print(ser1['India'])"
      ],
      "metadata": {
        "colab": {
          "base_uri": "https://localhost:8080/"
        },
        "id": "7SDkQJjXGENZ",
        "outputId": "0cc0c5f7-6e8f-4324-a1b4-bc812c40b1f5"
      },
      "execution_count": null,
      "outputs": [
        {
          "output_type": "stream",
          "name": "stdout",
          "text": [
            "India     New Delhi\n",
            "india         Delhi\n",
            "IndIa            ND\n",
            "France        Paris\n",
            "India         delhi\n",
            "dtype: object\n",
            "India    New Delhi\n",
            "India        delhi\n",
            "dtype: object\n"
          ]
        }
      ]
    },
    {
      "cell_type": "markdown",
      "metadata": {
        "id": "8s0hRwNAdIrH"
      },
      "source": [
        "**Observation:**\n",
        "\n",
        "- Pandas series can be created using various inputs.\n",
        "\n",
        "- Through the above examples, we learned how to create pandas series using a list, array, and dictionary."
      ]
    },
    {
      "cell_type": "markdown",
      "metadata": {
        "id": "YHCtqMHnhRff"
      },
      "source": [
        "**Series Indexing:** Now we will observe how indexing works in case of pandas series."
      ]
    },
    {
      "cell_type": "code",
      "metadata": {
        "colab": {
          "base_uri": "https://localhost:8080/"
        },
        "id": "ppUHqIR-c1cn",
        "outputId": "5f76a094-52c0-4f7c-e5b9-40424997f758"
      },
      "source": [
        "# Creating a dictionary with index as alphabets and values as numerics\n",
        "dicts = {'a':10, 'b':20, 'c':30, 'd':40, 'e':50, 'f':60, 'g':70, 'h':80}\n",
        "\n",
        "# Creating pandas series using dictionary\n",
        "my_series = pd.Series(data=dicts)\n",
        "\n",
        "# Output the series\n",
        "my_series"
      ],
      "execution_count": null,
      "outputs": [
        {
          "output_type": "execute_result",
          "data": {
            "text/plain": [
              "a    10\n",
              "b    20\n",
              "c    30\n",
              "d    40\n",
              "e    50\n",
              "f    60\n",
              "g    70\n",
              "h    80\n",
              "dtype: int64"
            ]
          },
          "metadata": {},
          "execution_count": 21
        }
      ]
    },
    {
      "cell_type": "code",
      "metadata": {
        "colab": {
          "base_uri": "https://localhost:8080/"
        },
        "id": "b1g8z7qxheFw",
        "outputId": "62f5ede1-1106-44bb-9e9f-80b90d0b4dd4"
      },
      "source": [
        "# Accessing first element present in the series\n",
        "# Or my_series['a']\n",
        "my_series[0]"
      ],
      "execution_count": null,
      "outputs": [
        {
          "output_type": "execute_result",
          "data": {
            "text/plain": [
              "10"
            ]
          },
          "metadata": {},
          "execution_count": 22
        }
      ]
    },
    {
      "cell_type": "markdown",
      "metadata": {
        "id": "Bjvm2UT7ifIe"
      },
      "source": [
        "**Note:** Even though you pass explicit indexes to the series while creating a series, the implicit indexing is still valid."
      ]
    },
    {
      "cell_type": "code",
      "metadata": {
        "colab": {
          "base_uri": "https://localhost:8080/"
        },
        "id": "gFIQu5SvhuzZ",
        "outputId": "0eba2268-da48-4b7c-d5f0-944e5ba8307c"
      },
      "source": [
        "# Accessing first three elements present in the series\n",
        "my_series[:3]"
      ],
      "execution_count": null,
      "outputs": [
        {
          "output_type": "execute_result",
          "data": {
            "text/plain": [
              "a    10\n",
              "b    20\n",
              "c    30\n",
              "dtype: int64"
            ]
          },
          "metadata": {},
          "execution_count": 23
        }
      ]
    },
    {
      "cell_type": "code",
      "metadata": {
        "colab": {
          "base_uri": "https://localhost:8080/"
        },
        "id": "HJvPhEbYiSN4",
        "outputId": "be1e33c8-b6e2-48bf-b2c1-0caf76ec08d8"
      },
      "source": [
        "# Accessing elements using label indexes a, d, and f\n",
        "my_series[['a', 'd', 'f']]\n"
      ],
      "execution_count": null,
      "outputs": [
        {
          "output_type": "execute_result",
          "data": {
            "text/plain": [
              "a    10\n",
              "d    40\n",
              "f    60\n",
              "dtype: int64"
            ]
          },
          "metadata": {},
          "execution_count": 27
        }
      ]
    },
    {
      "cell_type": "code",
      "metadata": {
        "colab": {
          "base_uri": "https://localhost:8080/"
        },
        "id": "ma6TIjLeiYnL",
        "outputId": "1550ff53-be01-48bb-ffc2-6c269b9d4ba7"
      },
      "source": [
        "# Accessing elements ranging from 3 to 7\n",
        "my_series[3:7]"
      ],
      "execution_count": null,
      "outputs": [
        {
          "output_type": "execute_result",
          "data": {
            "text/plain": [
              "d    40\n",
              "e    50\n",
              "f    60\n",
              "g    70\n",
              "dtype: int64"
            ]
          },
          "metadata": {},
          "execution_count": 28
        }
      ]
    },
    {
      "cell_type": "code",
      "metadata": {
        "colab": {
          "base_uri": "https://localhost:8080/"
        },
        "id": "3bcU4OktjEcP",
        "outputId": "688c00c3-9952-41cc-b4f8-4c9245c863b6"
      },
      "source": [
        "# Accessing elements ranging from label a index to label c index\n",
        "my_series['d':'h'] # custom index doesnt exclude end index as it happens in range[3:7]"
      ],
      "execution_count": null,
      "outputs": [
        {
          "output_type": "execute_result",
          "data": {
            "text/plain": [
              "d    40\n",
              "e    50\n",
              "f    60\n",
              "g    70\n",
              "h    80\n",
              "dtype: int64"
            ]
          },
          "metadata": {},
          "execution_count": 29
        }
      ]
    },
    {
      "cell_type": "code",
      "metadata": {
        "colab": {
          "base_uri": "https://localhost:8080/"
        },
        "id": "9_2T_FlcjQX5",
        "outputId": "bf463e78-1764-4494-e8b5-163e7be2a2b6"
      },
      "source": [
        "# Output the result of element-wise mathematical operations\n",
        "my_series + my_series"
      ],
      "execution_count": null,
      "outputs": [
        {
          "output_type": "execute_result",
          "data": {
            "text/plain": [
              "a     20\n",
              "b     40\n",
              "c     60\n",
              "d     80\n",
              "e    100\n",
              "f    120\n",
              "g    140\n",
              "h    160\n",
              "dtype: int64"
            ]
          },
          "metadata": {},
          "execution_count": 30
        }
      ]
    },
    {
      "cell_type": "code",
      "source": [
        "myseries*3"
      ],
      "metadata": {
        "colab": {
          "base_uri": "https://localhost:8080/"
        },
        "id": "zVrmkuaMI_G0",
        "outputId": "a79f5eb9-816a-45ca-c557-e391f0607ee0"
      },
      "execution_count": null,
      "outputs": [
        {
          "output_type": "execute_result",
          "data": {
            "text/plain": [
              "a     30\n",
              "b     60\n",
              "c     90\n",
              "d    120\n",
              "e    150\n",
              "f    180\n",
              "g    210\n",
              "h    240\n",
              "dtype: int64"
            ]
          },
          "metadata": {},
          "execution_count": 31
        }
      ]
    },
    {
      "cell_type": "code",
      "source": [
        "myseries.shape"
      ],
      "metadata": {
        "colab": {
          "base_uri": "https://localhost:8080/"
        },
        "id": "gsoqStiGJMhh",
        "outputId": "d215177f-b22b-4e52-82d5-eac83bc605f1"
      },
      "execution_count": null,
      "outputs": [
        {
          "output_type": "execute_result",
          "data": {
            "text/plain": [
              "(8,)"
            ]
          },
          "metadata": {},
          "execution_count": 32
        }
      ]
    },
    {
      "cell_type": "code",
      "source": [
        "myseries.empty"
      ],
      "metadata": {
        "colab": {
          "base_uri": "https://localhost:8080/"
        },
        "id": "_1NxYVywJTZr",
        "outputId": "44f2a8ab-8e6d-457b-9ff5-9b4a4ca21791"
      },
      "execution_count": null,
      "outputs": [
        {
          "output_type": "execute_result",
          "data": {
            "text/plain": [
              "False"
            ]
          },
          "metadata": {},
          "execution_count": 33
        }
      ]
    },
    {
      "cell_type": "code",
      "source": [
        "myseries.hasnans"
      ],
      "metadata": {
        "colab": {
          "base_uri": "https://localhost:8080/"
        },
        "id": "AlWiVhPuJZwD",
        "outputId": "2b824218-cde2-486a-d9b2-c22ffc2a8998"
      },
      "execution_count": null,
      "outputs": [
        {
          "output_type": "execute_result",
          "data": {
            "text/plain": [
              "False"
            ]
          },
          "metadata": {},
          "execution_count": 34
        }
      ]
    },
    {
      "cell_type": "code",
      "source": [
        "#empty series\n",
        "em_serie= pd.Series()\n",
        "print(em_serie.empty)"
      ],
      "metadata": {
        "colab": {
          "base_uri": "https://localhost:8080/"
        },
        "id": "T-G9fkNVJrLA",
        "outputId": "0eaf9865-1573-416b-ba12-e3205a761b21"
      },
      "execution_count": null,
      "outputs": [
        {
          "output_type": "stream",
          "name": "stdout",
          "text": [
            "True\n"
          ]
        },
        {
          "output_type": "stream",
          "name": "stderr",
          "text": [
            "<ipython-input-35-b3703270ab62>:2: FutureWarning: The default dtype for empty Series will be 'object' instead of 'float64' in a future version. Specify a dtype explicitly to silence this warning.\n",
            "  em_serie= pd.Series()\n"
          ]
        }
      ]
    },
    {
      "cell_type": "markdown",
      "metadata": {
        "id": "gtj75FA9khMN"
      },
      "source": [
        "**Observation:**\n",
        "\n",
        "- As we have accessed one and multiple elements in Numpy arrays, we can do it here also in a similar fashion using index or labels.\n",
        "\n",
        "- In the last example, we saw that element-wise mathematical operations can be performed on series."
      ]
    },
    {
      "cell_type": "markdown",
      "metadata": {
        "id": "SZGwKHaslG4u"
      },
      "source": [
        "---\n",
        "<a name = Section4></a>\n",
        "# **4. Pandas DataFrames**\n",
        "---\n",
        "\n",
        "- The dataFrames are **2D data structures** having data aligned in **tabular format**.\n",
        "\n",
        "- The data is aligned in **rows** (also called **index**) and columns and can store any datatypes like int, string, float, boolean.\n",
        "\n",
        "- They are **highly flexible** and offer a lot of **mathematical functions**.\n",
        "\n",
        "- In this section, we will learn several aspects of the pandas dataframe and its working."
      ]
    },
    {
      "cell_type": "markdown",
      "metadata": {
        "id": "on93dVA7lZqG"
      },
      "source": [
        "<a name = Section41></a>\n",
        "## **4.1 DataFrame Creation**\n",
        "\n",
        "- First of all we will explore how pandas dataframes are created. So, let's get started..."
      ]
    },
    {
      "cell_type": "markdown",
      "metadata": {
        "id": "8VUEvwS9nBuZ"
      },
      "source": [
        "**Creating a DataFrame from a List**"
      ]
    },
    {
      "cell_type": "code",
      "metadata": {
        "colab": {
          "base_uri": "https://localhost:8080/",
          "height": 175
        },
        "id": "W6mJkEzgkc3U",
        "outputId": "284fe4e8-73e9-48de-e90a-df01e173741c"
      },
      "source": [
        "# Creating a list called fruits\n",
        "fruits = ['Apple', 'Banana', 'Coconut', 'Dates']\n",
        "\n",
        "# Creating a pandas dataframe using fruits list\n",
        "fruits_df = pd.DataFrame(data=fruits, columns=['Fruit'])\n",
        "\n",
        "# Output the pandas dataframe\n",
        "fruits_df"
      ],
      "execution_count": null,
      "outputs": [
        {
          "output_type": "execute_result",
          "data": {
            "text/plain": [
              "     Fruit\n",
              "0    Apple\n",
              "1   Banana\n",
              "2  Coconut\n",
              "3    Dates"
            ],
            "text/html": [
              "\n",
              "  <div id=\"df-3ec1d3a7-eca2-4133-bbc0-6f931363c1b1\">\n",
              "    <div class=\"colab-df-container\">\n",
              "      <div>\n",
              "<style scoped>\n",
              "    .dataframe tbody tr th:only-of-type {\n",
              "        vertical-align: middle;\n",
              "    }\n",
              "\n",
              "    .dataframe tbody tr th {\n",
              "        vertical-align: top;\n",
              "    }\n",
              "\n",
              "    .dataframe thead th {\n",
              "        text-align: right;\n",
              "    }\n",
              "</style>\n",
              "<table border=\"1\" class=\"dataframe\">\n",
              "  <thead>\n",
              "    <tr style=\"text-align: right;\">\n",
              "      <th></th>\n",
              "      <th>Fruit</th>\n",
              "    </tr>\n",
              "  </thead>\n",
              "  <tbody>\n",
              "    <tr>\n",
              "      <th>0</th>\n",
              "      <td>Apple</td>\n",
              "    </tr>\n",
              "    <tr>\n",
              "      <th>1</th>\n",
              "      <td>Banana</td>\n",
              "    </tr>\n",
              "    <tr>\n",
              "      <th>2</th>\n",
              "      <td>Coconut</td>\n",
              "    </tr>\n",
              "    <tr>\n",
              "      <th>3</th>\n",
              "      <td>Dates</td>\n",
              "    </tr>\n",
              "  </tbody>\n",
              "</table>\n",
              "</div>\n",
              "      <button class=\"colab-df-convert\" onclick=\"convertToInteractive('df-3ec1d3a7-eca2-4133-bbc0-6f931363c1b1')\"\n",
              "              title=\"Convert this dataframe to an interactive table.\"\n",
              "              style=\"display:none;\">\n",
              "        \n",
              "  <svg xmlns=\"http://www.w3.org/2000/svg\" height=\"24px\"viewBox=\"0 0 24 24\"\n",
              "       width=\"24px\">\n",
              "    <path d=\"M0 0h24v24H0V0z\" fill=\"none\"/>\n",
              "    <path d=\"M18.56 5.44l.94 2.06.94-2.06 2.06-.94-2.06-.94-.94-2.06-.94 2.06-2.06.94zm-11 1L8.5 8.5l.94-2.06 2.06-.94-2.06-.94L8.5 2.5l-.94 2.06-2.06.94zm10 10l.94 2.06.94-2.06 2.06-.94-2.06-.94-.94-2.06-.94 2.06-2.06.94z\"/><path d=\"M17.41 7.96l-1.37-1.37c-.4-.4-.92-.59-1.43-.59-.52 0-1.04.2-1.43.59L10.3 9.45l-7.72 7.72c-.78.78-.78 2.05 0 2.83L4 21.41c.39.39.9.59 1.41.59.51 0 1.02-.2 1.41-.59l7.78-7.78 2.81-2.81c.8-.78.8-2.07 0-2.86zM5.41 20L4 18.59l7.72-7.72 1.47 1.35L5.41 20z\"/>\n",
              "  </svg>\n",
              "      </button>\n",
              "      \n",
              "  <style>\n",
              "    .colab-df-container {\n",
              "      display:flex;\n",
              "      flex-wrap:wrap;\n",
              "      gap: 12px;\n",
              "    }\n",
              "\n",
              "    .colab-df-convert {\n",
              "      background-color: #E8F0FE;\n",
              "      border: none;\n",
              "      border-radius: 50%;\n",
              "      cursor: pointer;\n",
              "      display: none;\n",
              "      fill: #1967D2;\n",
              "      height: 32px;\n",
              "      padding: 0 0 0 0;\n",
              "      width: 32px;\n",
              "    }\n",
              "\n",
              "    .colab-df-convert:hover {\n",
              "      background-color: #E2EBFA;\n",
              "      box-shadow: 0px 1px 2px rgba(60, 64, 67, 0.3), 0px 1px 3px 1px rgba(60, 64, 67, 0.15);\n",
              "      fill: #174EA6;\n",
              "    }\n",
              "\n",
              "    [theme=dark] .colab-df-convert {\n",
              "      background-color: #3B4455;\n",
              "      fill: #D2E3FC;\n",
              "    }\n",
              "\n",
              "    [theme=dark] .colab-df-convert:hover {\n",
              "      background-color: #434B5C;\n",
              "      box-shadow: 0px 1px 3px 1px rgba(0, 0, 0, 0.15);\n",
              "      filter: drop-shadow(0px 1px 2px rgba(0, 0, 0, 0.3));\n",
              "      fill: #FFFFFF;\n",
              "    }\n",
              "  </style>\n",
              "\n",
              "      <script>\n",
              "        const buttonEl =\n",
              "          document.querySelector('#df-3ec1d3a7-eca2-4133-bbc0-6f931363c1b1 button.colab-df-convert');\n",
              "        buttonEl.style.display =\n",
              "          google.colab.kernel.accessAllowed ? 'block' : 'none';\n",
              "\n",
              "        async function convertToInteractive(key) {\n",
              "          const element = document.querySelector('#df-3ec1d3a7-eca2-4133-bbc0-6f931363c1b1');\n",
              "          const dataTable =\n",
              "            await google.colab.kernel.invokeFunction('convertToInteractive',\n",
              "                                                     [key], {});\n",
              "          if (!dataTable) return;\n",
              "\n",
              "          const docLinkHtml = 'Like what you see? Visit the ' +\n",
              "            '<a target=\"_blank\" href=https://colab.research.google.com/notebooks/data_table.ipynb>data table notebook</a>'\n",
              "            + ' to learn more about interactive tables.';\n",
              "          element.innerHTML = '';\n",
              "          dataTable['output_type'] = 'display_data';\n",
              "          await google.colab.output.renderOutput(dataTable, element);\n",
              "          const docLink = document.createElement('div');\n",
              "          docLink.innerHTML = docLinkHtml;\n",
              "          element.appendChild(docLink);\n",
              "        }\n",
              "      </script>\n",
              "    </div>\n",
              "  </div>\n",
              "  "
            ]
          },
          "metadata": {},
          "execution_count": 36
        }
      ]
    },
    {
      "cell_type": "markdown",
      "metadata": {
        "id": "J8RTDMoLnEiF"
      },
      "source": [
        "**Creating a DataFrame from Nested Lists**"
      ]
    },
    {
      "cell_type": "code",
      "metadata": {
        "colab": {
          "base_uri": "https://localhost:8080/",
          "height": 175
        },
        "id": "PCbQCq-5nERX",
        "outputId": "3cda2f61-c0a7-4345-ad1a-c6eda808a7f8"
      },
      "source": [
        "# Initiate a list of lists\n",
        "people = [['Rick', 60, 'O+'], ['Morty', 10, 'O+'], ['Summer', 45, 'A-'], ['Beth', 18, 'B+']]\n",
        "\n",
        "# Creating a pandas dataframe using people list\n",
        "people_df = pd.DataFrame(data=people, columns=['Name', 'Age', 'Blood Group'])\n",
        "\n",
        "# Output the pandas dataframe\n",
        "people_df"
      ],
      "execution_count": null,
      "outputs": [
        {
          "output_type": "execute_result",
          "data": {
            "text/plain": [
              "     Name  Age Blood Group\n",
              "0    Rick   60          O+\n",
              "1   Morty   10          O+\n",
              "2  Summer   45          A-\n",
              "3    Beth   18          B+"
            ],
            "text/html": [
              "\n",
              "  <div id=\"df-4a24d482-c3dd-4b20-8a45-4cdfaa79e057\">\n",
              "    <div class=\"colab-df-container\">\n",
              "      <div>\n",
              "<style scoped>\n",
              "    .dataframe tbody tr th:only-of-type {\n",
              "        vertical-align: middle;\n",
              "    }\n",
              "\n",
              "    .dataframe tbody tr th {\n",
              "        vertical-align: top;\n",
              "    }\n",
              "\n",
              "    .dataframe thead th {\n",
              "        text-align: right;\n",
              "    }\n",
              "</style>\n",
              "<table border=\"1\" class=\"dataframe\">\n",
              "  <thead>\n",
              "    <tr style=\"text-align: right;\">\n",
              "      <th></th>\n",
              "      <th>Name</th>\n",
              "      <th>Age</th>\n",
              "      <th>Blood Group</th>\n",
              "    </tr>\n",
              "  </thead>\n",
              "  <tbody>\n",
              "    <tr>\n",
              "      <th>0</th>\n",
              "      <td>Rick</td>\n",
              "      <td>60</td>\n",
              "      <td>O+</td>\n",
              "    </tr>\n",
              "    <tr>\n",
              "      <th>1</th>\n",
              "      <td>Morty</td>\n",
              "      <td>10</td>\n",
              "      <td>O+</td>\n",
              "    </tr>\n",
              "    <tr>\n",
              "      <th>2</th>\n",
              "      <td>Summer</td>\n",
              "      <td>45</td>\n",
              "      <td>A-</td>\n",
              "    </tr>\n",
              "    <tr>\n",
              "      <th>3</th>\n",
              "      <td>Beth</td>\n",
              "      <td>18</td>\n",
              "      <td>B+</td>\n",
              "    </tr>\n",
              "  </tbody>\n",
              "</table>\n",
              "</div>\n",
              "      <button class=\"colab-df-convert\" onclick=\"convertToInteractive('df-4a24d482-c3dd-4b20-8a45-4cdfaa79e057')\"\n",
              "              title=\"Convert this dataframe to an interactive table.\"\n",
              "              style=\"display:none;\">\n",
              "        \n",
              "  <svg xmlns=\"http://www.w3.org/2000/svg\" height=\"24px\"viewBox=\"0 0 24 24\"\n",
              "       width=\"24px\">\n",
              "    <path d=\"M0 0h24v24H0V0z\" fill=\"none\"/>\n",
              "    <path d=\"M18.56 5.44l.94 2.06.94-2.06 2.06-.94-2.06-.94-.94-2.06-.94 2.06-2.06.94zm-11 1L8.5 8.5l.94-2.06 2.06-.94-2.06-.94L8.5 2.5l-.94 2.06-2.06.94zm10 10l.94 2.06.94-2.06 2.06-.94-2.06-.94-.94-2.06-.94 2.06-2.06.94z\"/><path d=\"M17.41 7.96l-1.37-1.37c-.4-.4-.92-.59-1.43-.59-.52 0-1.04.2-1.43.59L10.3 9.45l-7.72 7.72c-.78.78-.78 2.05 0 2.83L4 21.41c.39.39.9.59 1.41.59.51 0 1.02-.2 1.41-.59l7.78-7.78 2.81-2.81c.8-.78.8-2.07 0-2.86zM5.41 20L4 18.59l7.72-7.72 1.47 1.35L5.41 20z\"/>\n",
              "  </svg>\n",
              "      </button>\n",
              "      \n",
              "  <style>\n",
              "    .colab-df-container {\n",
              "      display:flex;\n",
              "      flex-wrap:wrap;\n",
              "      gap: 12px;\n",
              "    }\n",
              "\n",
              "    .colab-df-convert {\n",
              "      background-color: #E8F0FE;\n",
              "      border: none;\n",
              "      border-radius: 50%;\n",
              "      cursor: pointer;\n",
              "      display: none;\n",
              "      fill: #1967D2;\n",
              "      height: 32px;\n",
              "      padding: 0 0 0 0;\n",
              "      width: 32px;\n",
              "    }\n",
              "\n",
              "    .colab-df-convert:hover {\n",
              "      background-color: #E2EBFA;\n",
              "      box-shadow: 0px 1px 2px rgba(60, 64, 67, 0.3), 0px 1px 3px 1px rgba(60, 64, 67, 0.15);\n",
              "      fill: #174EA6;\n",
              "    }\n",
              "\n",
              "    [theme=dark] .colab-df-convert {\n",
              "      background-color: #3B4455;\n",
              "      fill: #D2E3FC;\n",
              "    }\n",
              "\n",
              "    [theme=dark] .colab-df-convert:hover {\n",
              "      background-color: #434B5C;\n",
              "      box-shadow: 0px 1px 3px 1px rgba(0, 0, 0, 0.15);\n",
              "      filter: drop-shadow(0px 1px 2px rgba(0, 0, 0, 0.3));\n",
              "      fill: #FFFFFF;\n",
              "    }\n",
              "  </style>\n",
              "\n",
              "      <script>\n",
              "        const buttonEl =\n",
              "          document.querySelector('#df-4a24d482-c3dd-4b20-8a45-4cdfaa79e057 button.colab-df-convert');\n",
              "        buttonEl.style.display =\n",
              "          google.colab.kernel.accessAllowed ? 'block' : 'none';\n",
              "\n",
              "        async function convertToInteractive(key) {\n",
              "          const element = document.querySelector('#df-4a24d482-c3dd-4b20-8a45-4cdfaa79e057');\n",
              "          const dataTable =\n",
              "            await google.colab.kernel.invokeFunction('convertToInteractive',\n",
              "                                                     [key], {});\n",
              "          if (!dataTable) return;\n",
              "\n",
              "          const docLinkHtml = 'Like what you see? Visit the ' +\n",
              "            '<a target=\"_blank\" href=https://colab.research.google.com/notebooks/data_table.ipynb>data table notebook</a>'\n",
              "            + ' to learn more about interactive tables.';\n",
              "          element.innerHTML = '';\n",
              "          dataTable['output_type'] = 'display_data';\n",
              "          await google.colab.output.renderOutput(dataTable, element);\n",
              "          const docLink = document.createElement('div');\n",
              "          docLink.innerHTML = docLinkHtml;\n",
              "          element.appendChild(docLink);\n",
              "        }\n",
              "      </script>\n",
              "    </div>\n",
              "  </div>\n",
              "  "
            ]
          },
          "metadata": {},
          "execution_count": 37
        }
      ]
    },
    {
      "cell_type": "markdown",
      "metadata": {
        "id": "EgRDUZ_BndbF"
      },
      "source": [
        "**Creating a DataFrame from a Dictionary**"
      ]
    },
    {
      "cell_type": "code",
      "metadata": {
        "colab": {
          "base_uri": "https://localhost:8080/",
          "height": 175
        },
        "id": "-n2J-0lDm0ob",
        "outputId": "6400a22e-1c4c-4040-9ff5-d885beb83419"
      },
      "source": [
        "# Initiate a dictionary\n",
        "people = {'Name': ['Rick', 'Morty', 'Summer', 'Beth'], \n",
        "          'Age': [60, 10, 45, 18], \n",
        "          'Blood Group': ['O+', 'O+', 'A-', 'B+']}\n",
        "\n",
        "# Creating a pandas dataframe using people list\n",
        "people_df = pd.DataFrame(data=people)\n",
        "\n",
        "# Output the pandas dataframe\n",
        "people_df"
      ],
      "execution_count": null,
      "outputs": [
        {
          "output_type": "execute_result",
          "data": {
            "text/plain": [
              "     Name  Age Blood Group\n",
              "0    Rick   60          O+\n",
              "1   Morty   10          O+\n",
              "2  Summer   45          A-\n",
              "3    Beth   18          B+"
            ],
            "text/html": [
              "\n",
              "  <div id=\"df-adce07f4-a748-4db6-892f-79703a2587c0\">\n",
              "    <div class=\"colab-df-container\">\n",
              "      <div>\n",
              "<style scoped>\n",
              "    .dataframe tbody tr th:only-of-type {\n",
              "        vertical-align: middle;\n",
              "    }\n",
              "\n",
              "    .dataframe tbody tr th {\n",
              "        vertical-align: top;\n",
              "    }\n",
              "\n",
              "    .dataframe thead th {\n",
              "        text-align: right;\n",
              "    }\n",
              "</style>\n",
              "<table border=\"1\" class=\"dataframe\">\n",
              "  <thead>\n",
              "    <tr style=\"text-align: right;\">\n",
              "      <th></th>\n",
              "      <th>Name</th>\n",
              "      <th>Age</th>\n",
              "      <th>Blood Group</th>\n",
              "    </tr>\n",
              "  </thead>\n",
              "  <tbody>\n",
              "    <tr>\n",
              "      <th>0</th>\n",
              "      <td>Rick</td>\n",
              "      <td>60</td>\n",
              "      <td>O+</td>\n",
              "    </tr>\n",
              "    <tr>\n",
              "      <th>1</th>\n",
              "      <td>Morty</td>\n",
              "      <td>10</td>\n",
              "      <td>O+</td>\n",
              "    </tr>\n",
              "    <tr>\n",
              "      <th>2</th>\n",
              "      <td>Summer</td>\n",
              "      <td>45</td>\n",
              "      <td>A-</td>\n",
              "    </tr>\n",
              "    <tr>\n",
              "      <th>3</th>\n",
              "      <td>Beth</td>\n",
              "      <td>18</td>\n",
              "      <td>B+</td>\n",
              "    </tr>\n",
              "  </tbody>\n",
              "</table>\n",
              "</div>\n",
              "      <button class=\"colab-df-convert\" onclick=\"convertToInteractive('df-adce07f4-a748-4db6-892f-79703a2587c0')\"\n",
              "              title=\"Convert this dataframe to an interactive table.\"\n",
              "              style=\"display:none;\">\n",
              "        \n",
              "  <svg xmlns=\"http://www.w3.org/2000/svg\" height=\"24px\"viewBox=\"0 0 24 24\"\n",
              "       width=\"24px\">\n",
              "    <path d=\"M0 0h24v24H0V0z\" fill=\"none\"/>\n",
              "    <path d=\"M18.56 5.44l.94 2.06.94-2.06 2.06-.94-2.06-.94-.94-2.06-.94 2.06-2.06.94zm-11 1L8.5 8.5l.94-2.06 2.06-.94-2.06-.94L8.5 2.5l-.94 2.06-2.06.94zm10 10l.94 2.06.94-2.06 2.06-.94-2.06-.94-.94-2.06-.94 2.06-2.06.94z\"/><path d=\"M17.41 7.96l-1.37-1.37c-.4-.4-.92-.59-1.43-.59-.52 0-1.04.2-1.43.59L10.3 9.45l-7.72 7.72c-.78.78-.78 2.05 0 2.83L4 21.41c.39.39.9.59 1.41.59.51 0 1.02-.2 1.41-.59l7.78-7.78 2.81-2.81c.8-.78.8-2.07 0-2.86zM5.41 20L4 18.59l7.72-7.72 1.47 1.35L5.41 20z\"/>\n",
              "  </svg>\n",
              "      </button>\n",
              "      \n",
              "  <style>\n",
              "    .colab-df-container {\n",
              "      display:flex;\n",
              "      flex-wrap:wrap;\n",
              "      gap: 12px;\n",
              "    }\n",
              "\n",
              "    .colab-df-convert {\n",
              "      background-color: #E8F0FE;\n",
              "      border: none;\n",
              "      border-radius: 50%;\n",
              "      cursor: pointer;\n",
              "      display: none;\n",
              "      fill: #1967D2;\n",
              "      height: 32px;\n",
              "      padding: 0 0 0 0;\n",
              "      width: 32px;\n",
              "    }\n",
              "\n",
              "    .colab-df-convert:hover {\n",
              "      background-color: #E2EBFA;\n",
              "      box-shadow: 0px 1px 2px rgba(60, 64, 67, 0.3), 0px 1px 3px 1px rgba(60, 64, 67, 0.15);\n",
              "      fill: #174EA6;\n",
              "    }\n",
              "\n",
              "    [theme=dark] .colab-df-convert {\n",
              "      background-color: #3B4455;\n",
              "      fill: #D2E3FC;\n",
              "    }\n",
              "\n",
              "    [theme=dark] .colab-df-convert:hover {\n",
              "      background-color: #434B5C;\n",
              "      box-shadow: 0px 1px 3px 1px rgba(0, 0, 0, 0.15);\n",
              "      filter: drop-shadow(0px 1px 2px rgba(0, 0, 0, 0.3));\n",
              "      fill: #FFFFFF;\n",
              "    }\n",
              "  </style>\n",
              "\n",
              "      <script>\n",
              "        const buttonEl =\n",
              "          document.querySelector('#df-adce07f4-a748-4db6-892f-79703a2587c0 button.colab-df-convert');\n",
              "        buttonEl.style.display =\n",
              "          google.colab.kernel.accessAllowed ? 'block' : 'none';\n",
              "\n",
              "        async function convertToInteractive(key) {\n",
              "          const element = document.querySelector('#df-adce07f4-a748-4db6-892f-79703a2587c0');\n",
              "          const dataTable =\n",
              "            await google.colab.kernel.invokeFunction('convertToInteractive',\n",
              "                                                     [key], {});\n",
              "          if (!dataTable) return;\n",
              "\n",
              "          const docLinkHtml = 'Like what you see? Visit the ' +\n",
              "            '<a target=\"_blank\" href=https://colab.research.google.com/notebooks/data_table.ipynb>data table notebook</a>'\n",
              "            + ' to learn more about interactive tables.';\n",
              "          element.innerHTML = '';\n",
              "          dataTable['output_type'] = 'display_data';\n",
              "          await google.colab.output.renderOutput(dataTable, element);\n",
              "          const docLink = document.createElement('div');\n",
              "          docLink.innerHTML = docLinkHtml;\n",
              "          element.appendChild(docLink);\n",
              "        }\n",
              "      </script>\n",
              "    </div>\n",
              "  </div>\n",
              "  "
            ]
          },
          "metadata": {},
          "execution_count": 38
        }
      ]
    },
    {
      "cell_type": "markdown",
      "metadata": {
        "id": "i5njJxlWnwvy"
      },
      "source": [
        "**Observation:**\n",
        "\n",
        "- From the above examples you get to know how to create dataframes using various inputs like lists, nested lists, and a dicitionary.\n",
        "\n",
        "- Also note that pandas dataframes are mutable and potentially hetrogenous tabular data structure."
      ]
    },
    {
      "cell_type": "markdown",
      "metadata": {
        "id": "a3qsChJqoHEI"
      },
      "source": [
        "<a name = Section42></a>\n",
        "## **4.2 Loading Files into DataFrame**\n",
        "\n",
        "- DataFrames can load data from many types of files like **csv, json, excel sheets, text**, etc.\n",
        "\n",
        "- You can **also load files** in dataframe present on the web by **providing url** in the parameter list.\n",
        "\n",
        "- Below all the methods explained are applicable for the web files too.\n",
        "\n",
        "- Lets learn how to do this one by one, first by using:"
      ]
    },
    {
      "cell_type": "markdown",
      "metadata": {
        "id": "QPeRMjiQoUj1"
      },
      "source": [
        "**Loading CSV file into DataFrame**"
      ]
    },
    {
      "cell_type": "code",
      "metadata": {
        "colab": {
          "base_uri": "https://localhost:8080/",
          "height": 385
        },
        "id": "7AzCMAWBnwms",
        "outputId": "a914d276-b370-44f5-8bf7-f413b23b588f"
      },
      "source": [
        "# Loading csv files using pandas .read_csv() method\n",
        "csv_df = pd.read_csv(filepath_or_buffer='https://raw.githubusercontent.com/insaid2018/Term-1/master/Data/Casestudy/supermarkets.csv')\n",
        "\n",
        "# Output the dataframe\n",
        "csv_df"
      ],
      "execution_count": null,
      "outputs": [
        {
          "output_type": "execute_result",
          "data": {
            "text/plain": [
              "   ID          Address           City             State Country         Name  \\\n",
              "0   1     3666 21st St  San Francisco          CA 94114     USA      Madeira   \n",
              "1   2   735 Dolores St  San Francisco          CA 94119     USA  Bready Shop   \n",
              "2   3      332 Hill St  San Francisco  California 94114     USA  Super River   \n",
              "3   4     3995 23rd St  San Francisco          CA 94114     USA   Ben's Shop   \n",
              "4   5  1056 Sanchez St  San Francisco        California     USA      Sanchez   \n",
              "5   6  551 Alvarado St  San Francisco          CA 94114     USA   Richvalley   \n",
              "\n",
              "   Employees  \n",
              "0          8  \n",
              "1         15  \n",
              "2         25  \n",
              "3         10  \n",
              "4         12  \n",
              "5         20  "
            ],
            "text/html": [
              "\n",
              "  <div id=\"df-7646ffa6-d9dc-4ba6-82f1-266edec68edd\">\n",
              "    <div class=\"colab-df-container\">\n",
              "      <div>\n",
              "<style scoped>\n",
              "    .dataframe tbody tr th:only-of-type {\n",
              "        vertical-align: middle;\n",
              "    }\n",
              "\n",
              "    .dataframe tbody tr th {\n",
              "        vertical-align: top;\n",
              "    }\n",
              "\n",
              "    .dataframe thead th {\n",
              "        text-align: right;\n",
              "    }\n",
              "</style>\n",
              "<table border=\"1\" class=\"dataframe\">\n",
              "  <thead>\n",
              "    <tr style=\"text-align: right;\">\n",
              "      <th></th>\n",
              "      <th>ID</th>\n",
              "      <th>Address</th>\n",
              "      <th>City</th>\n",
              "      <th>State</th>\n",
              "      <th>Country</th>\n",
              "      <th>Name</th>\n",
              "      <th>Employees</th>\n",
              "    </tr>\n",
              "  </thead>\n",
              "  <tbody>\n",
              "    <tr>\n",
              "      <th>0</th>\n",
              "      <td>1</td>\n",
              "      <td>3666 21st St</td>\n",
              "      <td>San Francisco</td>\n",
              "      <td>CA 94114</td>\n",
              "      <td>USA</td>\n",
              "      <td>Madeira</td>\n",
              "      <td>8</td>\n",
              "    </tr>\n",
              "    <tr>\n",
              "      <th>1</th>\n",
              "      <td>2</td>\n",
              "      <td>735 Dolores St</td>\n",
              "      <td>San Francisco</td>\n",
              "      <td>CA 94119</td>\n",
              "      <td>USA</td>\n",
              "      <td>Bready Shop</td>\n",
              "      <td>15</td>\n",
              "    </tr>\n",
              "    <tr>\n",
              "      <th>2</th>\n",
              "      <td>3</td>\n",
              "      <td>332 Hill St</td>\n",
              "      <td>San Francisco</td>\n",
              "      <td>California 94114</td>\n",
              "      <td>USA</td>\n",
              "      <td>Super River</td>\n",
              "      <td>25</td>\n",
              "    </tr>\n",
              "    <tr>\n",
              "      <th>3</th>\n",
              "      <td>4</td>\n",
              "      <td>3995 23rd St</td>\n",
              "      <td>San Francisco</td>\n",
              "      <td>CA 94114</td>\n",
              "      <td>USA</td>\n",
              "      <td>Ben's Shop</td>\n",
              "      <td>10</td>\n",
              "    </tr>\n",
              "    <tr>\n",
              "      <th>4</th>\n",
              "      <td>5</td>\n",
              "      <td>1056 Sanchez St</td>\n",
              "      <td>San Francisco</td>\n",
              "      <td>California</td>\n",
              "      <td>USA</td>\n",
              "      <td>Sanchez</td>\n",
              "      <td>12</td>\n",
              "    </tr>\n",
              "    <tr>\n",
              "      <th>5</th>\n",
              "      <td>6</td>\n",
              "      <td>551 Alvarado St</td>\n",
              "      <td>San Francisco</td>\n",
              "      <td>CA 94114</td>\n",
              "      <td>USA</td>\n",
              "      <td>Richvalley</td>\n",
              "      <td>20</td>\n",
              "    </tr>\n",
              "  </tbody>\n",
              "</table>\n",
              "</div>\n",
              "      <button class=\"colab-df-convert\" onclick=\"convertToInteractive('df-7646ffa6-d9dc-4ba6-82f1-266edec68edd')\"\n",
              "              title=\"Convert this dataframe to an interactive table.\"\n",
              "              style=\"display:none;\">\n",
              "        \n",
              "  <svg xmlns=\"http://www.w3.org/2000/svg\" height=\"24px\"viewBox=\"0 0 24 24\"\n",
              "       width=\"24px\">\n",
              "    <path d=\"M0 0h24v24H0V0z\" fill=\"none\"/>\n",
              "    <path d=\"M18.56 5.44l.94 2.06.94-2.06 2.06-.94-2.06-.94-.94-2.06-.94 2.06-2.06.94zm-11 1L8.5 8.5l.94-2.06 2.06-.94-2.06-.94L8.5 2.5l-.94 2.06-2.06.94zm10 10l.94 2.06.94-2.06 2.06-.94-2.06-.94-.94-2.06-.94 2.06-2.06.94z\"/><path d=\"M17.41 7.96l-1.37-1.37c-.4-.4-.92-.59-1.43-.59-.52 0-1.04.2-1.43.59L10.3 9.45l-7.72 7.72c-.78.78-.78 2.05 0 2.83L4 21.41c.39.39.9.59 1.41.59.51 0 1.02-.2 1.41-.59l7.78-7.78 2.81-2.81c.8-.78.8-2.07 0-2.86zM5.41 20L4 18.59l7.72-7.72 1.47 1.35L5.41 20z\"/>\n",
              "  </svg>\n",
              "      </button>\n",
              "      \n",
              "  <style>\n",
              "    .colab-df-container {\n",
              "      display:flex;\n",
              "      flex-wrap:wrap;\n",
              "      gap: 12px;\n",
              "    }\n",
              "\n",
              "    .colab-df-convert {\n",
              "      background-color: #E8F0FE;\n",
              "      border: none;\n",
              "      border-radius: 50%;\n",
              "      cursor: pointer;\n",
              "      display: none;\n",
              "      fill: #1967D2;\n",
              "      height: 32px;\n",
              "      padding: 0 0 0 0;\n",
              "      width: 32px;\n",
              "    }\n",
              "\n",
              "    .colab-df-convert:hover {\n",
              "      background-color: #E2EBFA;\n",
              "      box-shadow: 0px 1px 2px rgba(60, 64, 67, 0.3), 0px 1px 3px 1px rgba(60, 64, 67, 0.15);\n",
              "      fill: #174EA6;\n",
              "    }\n",
              "\n",
              "    [theme=dark] .colab-df-convert {\n",
              "      background-color: #3B4455;\n",
              "      fill: #D2E3FC;\n",
              "    }\n",
              "\n",
              "    [theme=dark] .colab-df-convert:hover {\n",
              "      background-color: #434B5C;\n",
              "      box-shadow: 0px 1px 3px 1px rgba(0, 0, 0, 0.15);\n",
              "      filter: drop-shadow(0px 1px 2px rgba(0, 0, 0, 0.3));\n",
              "      fill: #FFFFFF;\n",
              "    }\n",
              "  </style>\n",
              "\n",
              "      <script>\n",
              "        const buttonEl =\n",
              "          document.querySelector('#df-7646ffa6-d9dc-4ba6-82f1-266edec68edd button.colab-df-convert');\n",
              "        buttonEl.style.display =\n",
              "          google.colab.kernel.accessAllowed ? 'block' : 'none';\n",
              "\n",
              "        async function convertToInteractive(key) {\n",
              "          const element = document.querySelector('#df-7646ffa6-d9dc-4ba6-82f1-266edec68edd');\n",
              "          const dataTable =\n",
              "            await google.colab.kernel.invokeFunction('convertToInteractive',\n",
              "                                                     [key], {});\n",
              "          if (!dataTable) return;\n",
              "\n",
              "          const docLinkHtml = 'Like what you see? Visit the ' +\n",
              "            '<a target=\"_blank\" href=https://colab.research.google.com/notebooks/data_table.ipynb>data table notebook</a>'\n",
              "            + ' to learn more about interactive tables.';\n",
              "          element.innerHTML = '';\n",
              "          dataTable['output_type'] = 'display_data';\n",
              "          await google.colab.output.renderOutput(dataTable, element);\n",
              "          const docLink = document.createElement('div');\n",
              "          docLink.innerHTML = docLinkHtml;\n",
              "          element.appendChild(docLink);\n",
              "        }\n",
              "      </script>\n",
              "    </div>\n",
              "  </div>\n",
              "  "
            ]
          },
          "metadata": {},
          "execution_count": 39
        }
      ]
    },
    {
      "cell_type": "markdown",
      "metadata": {
        "id": "25ravbKko2ck"
      },
      "source": [
        "**Loading JSON file into DataFrame**"
      ]
    },
    {
      "cell_type": "code",
      "metadata": {
        "colab": {
          "base_uri": "https://localhost:8080/",
          "height": 385
        },
        "id": "L7jF-79anwjt",
        "outputId": "7facdf0b-2956-4f25-fb9b-d5a5b376ab0d"
      },
      "source": [
        "# Loading json files using pandas .read_json() method\n",
        "json_df = pd.read_json(path_or_buf='https://raw.githubusercontent.com/insaid2018/Term-1/master/Data/Casestudy/supermarkets.json')\n",
        "\n",
        "# Output the dataframe\n",
        "json_df"
      ],
      "execution_count": null,
      "outputs": [
        {
          "output_type": "execute_result",
          "data": {
            "text/plain": [
              "   ID          Address           City             State Country         Name  \\\n",
              "0   1     3666 21st St  San Francisco          CA 94114     USA      Madeira   \n",
              "1   2   735 Dolores St  San Francisco          CA 94119     USA  Bready Shop   \n",
              "2   3      332 Hill St  San Francisco  California 94114     USA  Super River   \n",
              "3   4     3995 23rd St  San Francisco          CA 94114     USA   Ben's Shop   \n",
              "4   5  1056 Sanchez St  San Francisco        California     USA      Sanchez   \n",
              "5   6  551 Alvarado St  San Francisco          CA 94114     USA   Richvalley   \n",
              "\n",
              "   Employees  \n",
              "0          8  \n",
              "1         15  \n",
              "2         25  \n",
              "3         10  \n",
              "4         12  \n",
              "5         20  "
            ],
            "text/html": [
              "\n",
              "  <div id=\"df-5e7cde58-2168-46e0-9e92-906e27640e84\">\n",
              "    <div class=\"colab-df-container\">\n",
              "      <div>\n",
              "<style scoped>\n",
              "    .dataframe tbody tr th:only-of-type {\n",
              "        vertical-align: middle;\n",
              "    }\n",
              "\n",
              "    .dataframe tbody tr th {\n",
              "        vertical-align: top;\n",
              "    }\n",
              "\n",
              "    .dataframe thead th {\n",
              "        text-align: right;\n",
              "    }\n",
              "</style>\n",
              "<table border=\"1\" class=\"dataframe\">\n",
              "  <thead>\n",
              "    <tr style=\"text-align: right;\">\n",
              "      <th></th>\n",
              "      <th>ID</th>\n",
              "      <th>Address</th>\n",
              "      <th>City</th>\n",
              "      <th>State</th>\n",
              "      <th>Country</th>\n",
              "      <th>Name</th>\n",
              "      <th>Employees</th>\n",
              "    </tr>\n",
              "  </thead>\n",
              "  <tbody>\n",
              "    <tr>\n",
              "      <th>0</th>\n",
              "      <td>1</td>\n",
              "      <td>3666 21st St</td>\n",
              "      <td>San Francisco</td>\n",
              "      <td>CA 94114</td>\n",
              "      <td>USA</td>\n",
              "      <td>Madeira</td>\n",
              "      <td>8</td>\n",
              "    </tr>\n",
              "    <tr>\n",
              "      <th>1</th>\n",
              "      <td>2</td>\n",
              "      <td>735 Dolores St</td>\n",
              "      <td>San Francisco</td>\n",
              "      <td>CA 94119</td>\n",
              "      <td>USA</td>\n",
              "      <td>Bready Shop</td>\n",
              "      <td>15</td>\n",
              "    </tr>\n",
              "    <tr>\n",
              "      <th>2</th>\n",
              "      <td>3</td>\n",
              "      <td>332 Hill St</td>\n",
              "      <td>San Francisco</td>\n",
              "      <td>California 94114</td>\n",
              "      <td>USA</td>\n",
              "      <td>Super River</td>\n",
              "      <td>25</td>\n",
              "    </tr>\n",
              "    <tr>\n",
              "      <th>3</th>\n",
              "      <td>4</td>\n",
              "      <td>3995 23rd St</td>\n",
              "      <td>San Francisco</td>\n",
              "      <td>CA 94114</td>\n",
              "      <td>USA</td>\n",
              "      <td>Ben's Shop</td>\n",
              "      <td>10</td>\n",
              "    </tr>\n",
              "    <tr>\n",
              "      <th>4</th>\n",
              "      <td>5</td>\n",
              "      <td>1056 Sanchez St</td>\n",
              "      <td>San Francisco</td>\n",
              "      <td>California</td>\n",
              "      <td>USA</td>\n",
              "      <td>Sanchez</td>\n",
              "      <td>12</td>\n",
              "    </tr>\n",
              "    <tr>\n",
              "      <th>5</th>\n",
              "      <td>6</td>\n",
              "      <td>551 Alvarado St</td>\n",
              "      <td>San Francisco</td>\n",
              "      <td>CA 94114</td>\n",
              "      <td>USA</td>\n",
              "      <td>Richvalley</td>\n",
              "      <td>20</td>\n",
              "    </tr>\n",
              "  </tbody>\n",
              "</table>\n",
              "</div>\n",
              "      <button class=\"colab-df-convert\" onclick=\"convertToInteractive('df-5e7cde58-2168-46e0-9e92-906e27640e84')\"\n",
              "              title=\"Convert this dataframe to an interactive table.\"\n",
              "              style=\"display:none;\">\n",
              "        \n",
              "  <svg xmlns=\"http://www.w3.org/2000/svg\" height=\"24px\"viewBox=\"0 0 24 24\"\n",
              "       width=\"24px\">\n",
              "    <path d=\"M0 0h24v24H0V0z\" fill=\"none\"/>\n",
              "    <path d=\"M18.56 5.44l.94 2.06.94-2.06 2.06-.94-2.06-.94-.94-2.06-.94 2.06-2.06.94zm-11 1L8.5 8.5l.94-2.06 2.06-.94-2.06-.94L8.5 2.5l-.94 2.06-2.06.94zm10 10l.94 2.06.94-2.06 2.06-.94-2.06-.94-.94-2.06-.94 2.06-2.06.94z\"/><path d=\"M17.41 7.96l-1.37-1.37c-.4-.4-.92-.59-1.43-.59-.52 0-1.04.2-1.43.59L10.3 9.45l-7.72 7.72c-.78.78-.78 2.05 0 2.83L4 21.41c.39.39.9.59 1.41.59.51 0 1.02-.2 1.41-.59l7.78-7.78 2.81-2.81c.8-.78.8-2.07 0-2.86zM5.41 20L4 18.59l7.72-7.72 1.47 1.35L5.41 20z\"/>\n",
              "  </svg>\n",
              "      </button>\n",
              "      \n",
              "  <style>\n",
              "    .colab-df-container {\n",
              "      display:flex;\n",
              "      flex-wrap:wrap;\n",
              "      gap: 12px;\n",
              "    }\n",
              "\n",
              "    .colab-df-convert {\n",
              "      background-color: #E8F0FE;\n",
              "      border: none;\n",
              "      border-radius: 50%;\n",
              "      cursor: pointer;\n",
              "      display: none;\n",
              "      fill: #1967D2;\n",
              "      height: 32px;\n",
              "      padding: 0 0 0 0;\n",
              "      width: 32px;\n",
              "    }\n",
              "\n",
              "    .colab-df-convert:hover {\n",
              "      background-color: #E2EBFA;\n",
              "      box-shadow: 0px 1px 2px rgba(60, 64, 67, 0.3), 0px 1px 3px 1px rgba(60, 64, 67, 0.15);\n",
              "      fill: #174EA6;\n",
              "    }\n",
              "\n",
              "    [theme=dark] .colab-df-convert {\n",
              "      background-color: #3B4455;\n",
              "      fill: #D2E3FC;\n",
              "    }\n",
              "\n",
              "    [theme=dark] .colab-df-convert:hover {\n",
              "      background-color: #434B5C;\n",
              "      box-shadow: 0px 1px 3px 1px rgba(0, 0, 0, 0.15);\n",
              "      filter: drop-shadow(0px 1px 2px rgba(0, 0, 0, 0.3));\n",
              "      fill: #FFFFFF;\n",
              "    }\n",
              "  </style>\n",
              "\n",
              "      <script>\n",
              "        const buttonEl =\n",
              "          document.querySelector('#df-5e7cde58-2168-46e0-9e92-906e27640e84 button.colab-df-convert');\n",
              "        buttonEl.style.display =\n",
              "          google.colab.kernel.accessAllowed ? 'block' : 'none';\n",
              "\n",
              "        async function convertToInteractive(key) {\n",
              "          const element = document.querySelector('#df-5e7cde58-2168-46e0-9e92-906e27640e84');\n",
              "          const dataTable =\n",
              "            await google.colab.kernel.invokeFunction('convertToInteractive',\n",
              "                                                     [key], {});\n",
              "          if (!dataTable) return;\n",
              "\n",
              "          const docLinkHtml = 'Like what you see? Visit the ' +\n",
              "            '<a target=\"_blank\" href=https://colab.research.google.com/notebooks/data_table.ipynb>data table notebook</a>'\n",
              "            + ' to learn more about interactive tables.';\n",
              "          element.innerHTML = '';\n",
              "          dataTable['output_type'] = 'display_data';\n",
              "          await google.colab.output.renderOutput(dataTable, element);\n",
              "          const docLink = document.createElement('div');\n",
              "          docLink.innerHTML = docLinkHtml;\n",
              "          element.appendChild(docLink);\n",
              "        }\n",
              "      </script>\n",
              "    </div>\n",
              "  </div>\n",
              "  "
            ]
          },
          "metadata": {},
          "execution_count": 40
        }
      ]
    },
    {
      "cell_type": "markdown",
      "metadata": {
        "id": "CHQwl_63o03A"
      },
      "source": [
        "**Loading Excel file into DataFrame**"
      ]
    },
    {
      "cell_type": "code",
      "metadata": {
        "colab": {
          "base_uri": "https://localhost:8080/",
          "height": 403
        },
        "id": "YPNdM_X1nwg3",
        "outputId": "09fea076-9e6a-4f31-9306-4b05b9ce36fc"
      },
      "source": [
        "# Loading first sheet from excel file using pandas .read_excel() method\n",
        "excel_df = pd.read_excel(io='https://github.com/insaid2018/Term-1/blob/master/Data/Casestudy/supermarkets.xlsx?raw=true', sheet_name=0)\n",
        "\n",
        "# Output the dataframe\n",
        "excel_df"
      ],
      "execution_count": null,
      "outputs": [
        {
          "output_type": "execute_result",
          "data": {
            "text/plain": [
              "   ID          Address           City             State Country  \\\n",
              "0   1     3666 21st St  San Francisco          CA 94114     USA   \n",
              "1   2   735 Dolores St  San Francisco          CA 94119     USA   \n",
              "2   3      332 Hill St  San Francisco  California 94114     USA   \n",
              "3   4     3995 23rd St  San Francisco          CA 94114     USA   \n",
              "4   5  1056 Sanchez St  San Francisco        California     USA   \n",
              "5   6  551 Alvarado St  San Francisco          CA 94114     USA   \n",
              "\n",
              "  Supermarket Name  Number of Employees  \n",
              "0          Madeira                    8  \n",
              "1      Bready Shop                   15  \n",
              "2      Super River                   25  \n",
              "3       Ben's Shop                   10  \n",
              "4          Sanchez                   12  \n",
              "5       Richvalley                   20  "
            ],
            "text/html": [
              "\n",
              "  <div id=\"df-4975d6b8-c4c7-4036-903f-e5a1e52ab87c\">\n",
              "    <div class=\"colab-df-container\">\n",
              "      <div>\n",
              "<style scoped>\n",
              "    .dataframe tbody tr th:only-of-type {\n",
              "        vertical-align: middle;\n",
              "    }\n",
              "\n",
              "    .dataframe tbody tr th {\n",
              "        vertical-align: top;\n",
              "    }\n",
              "\n",
              "    .dataframe thead th {\n",
              "        text-align: right;\n",
              "    }\n",
              "</style>\n",
              "<table border=\"1\" class=\"dataframe\">\n",
              "  <thead>\n",
              "    <tr style=\"text-align: right;\">\n",
              "      <th></th>\n",
              "      <th>ID</th>\n",
              "      <th>Address</th>\n",
              "      <th>City</th>\n",
              "      <th>State</th>\n",
              "      <th>Country</th>\n",
              "      <th>Supermarket Name</th>\n",
              "      <th>Number of Employees</th>\n",
              "    </tr>\n",
              "  </thead>\n",
              "  <tbody>\n",
              "    <tr>\n",
              "      <th>0</th>\n",
              "      <td>1</td>\n",
              "      <td>3666 21st St</td>\n",
              "      <td>San Francisco</td>\n",
              "      <td>CA 94114</td>\n",
              "      <td>USA</td>\n",
              "      <td>Madeira</td>\n",
              "      <td>8</td>\n",
              "    </tr>\n",
              "    <tr>\n",
              "      <th>1</th>\n",
              "      <td>2</td>\n",
              "      <td>735 Dolores St</td>\n",
              "      <td>San Francisco</td>\n",
              "      <td>CA 94119</td>\n",
              "      <td>USA</td>\n",
              "      <td>Bready Shop</td>\n",
              "      <td>15</td>\n",
              "    </tr>\n",
              "    <tr>\n",
              "      <th>2</th>\n",
              "      <td>3</td>\n",
              "      <td>332 Hill St</td>\n",
              "      <td>San Francisco</td>\n",
              "      <td>California 94114</td>\n",
              "      <td>USA</td>\n",
              "      <td>Super River</td>\n",
              "      <td>25</td>\n",
              "    </tr>\n",
              "    <tr>\n",
              "      <th>3</th>\n",
              "      <td>4</td>\n",
              "      <td>3995 23rd St</td>\n",
              "      <td>San Francisco</td>\n",
              "      <td>CA 94114</td>\n",
              "      <td>USA</td>\n",
              "      <td>Ben's Shop</td>\n",
              "      <td>10</td>\n",
              "    </tr>\n",
              "    <tr>\n",
              "      <th>4</th>\n",
              "      <td>5</td>\n",
              "      <td>1056 Sanchez St</td>\n",
              "      <td>San Francisco</td>\n",
              "      <td>California</td>\n",
              "      <td>USA</td>\n",
              "      <td>Sanchez</td>\n",
              "      <td>12</td>\n",
              "    </tr>\n",
              "    <tr>\n",
              "      <th>5</th>\n",
              "      <td>6</td>\n",
              "      <td>551 Alvarado St</td>\n",
              "      <td>San Francisco</td>\n",
              "      <td>CA 94114</td>\n",
              "      <td>USA</td>\n",
              "      <td>Richvalley</td>\n",
              "      <td>20</td>\n",
              "    </tr>\n",
              "  </tbody>\n",
              "</table>\n",
              "</div>\n",
              "      <button class=\"colab-df-convert\" onclick=\"convertToInteractive('df-4975d6b8-c4c7-4036-903f-e5a1e52ab87c')\"\n",
              "              title=\"Convert this dataframe to an interactive table.\"\n",
              "              style=\"display:none;\">\n",
              "        \n",
              "  <svg xmlns=\"http://www.w3.org/2000/svg\" height=\"24px\"viewBox=\"0 0 24 24\"\n",
              "       width=\"24px\">\n",
              "    <path d=\"M0 0h24v24H0V0z\" fill=\"none\"/>\n",
              "    <path d=\"M18.56 5.44l.94 2.06.94-2.06 2.06-.94-2.06-.94-.94-2.06-.94 2.06-2.06.94zm-11 1L8.5 8.5l.94-2.06 2.06-.94-2.06-.94L8.5 2.5l-.94 2.06-2.06.94zm10 10l.94 2.06.94-2.06 2.06-.94-2.06-.94-.94-2.06-.94 2.06-2.06.94z\"/><path d=\"M17.41 7.96l-1.37-1.37c-.4-.4-.92-.59-1.43-.59-.52 0-1.04.2-1.43.59L10.3 9.45l-7.72 7.72c-.78.78-.78 2.05 0 2.83L4 21.41c.39.39.9.59 1.41.59.51 0 1.02-.2 1.41-.59l7.78-7.78 2.81-2.81c.8-.78.8-2.07 0-2.86zM5.41 20L4 18.59l7.72-7.72 1.47 1.35L5.41 20z\"/>\n",
              "  </svg>\n",
              "      </button>\n",
              "      \n",
              "  <style>\n",
              "    .colab-df-container {\n",
              "      display:flex;\n",
              "      flex-wrap:wrap;\n",
              "      gap: 12px;\n",
              "    }\n",
              "\n",
              "    .colab-df-convert {\n",
              "      background-color: #E8F0FE;\n",
              "      border: none;\n",
              "      border-radius: 50%;\n",
              "      cursor: pointer;\n",
              "      display: none;\n",
              "      fill: #1967D2;\n",
              "      height: 32px;\n",
              "      padding: 0 0 0 0;\n",
              "      width: 32px;\n",
              "    }\n",
              "\n",
              "    .colab-df-convert:hover {\n",
              "      background-color: #E2EBFA;\n",
              "      box-shadow: 0px 1px 2px rgba(60, 64, 67, 0.3), 0px 1px 3px 1px rgba(60, 64, 67, 0.15);\n",
              "      fill: #174EA6;\n",
              "    }\n",
              "\n",
              "    [theme=dark] .colab-df-convert {\n",
              "      background-color: #3B4455;\n",
              "      fill: #D2E3FC;\n",
              "    }\n",
              "\n",
              "    [theme=dark] .colab-df-convert:hover {\n",
              "      background-color: #434B5C;\n",
              "      box-shadow: 0px 1px 3px 1px rgba(0, 0, 0, 0.15);\n",
              "      filter: drop-shadow(0px 1px 2px rgba(0, 0, 0, 0.3));\n",
              "      fill: #FFFFFF;\n",
              "    }\n",
              "  </style>\n",
              "\n",
              "      <script>\n",
              "        const buttonEl =\n",
              "          document.querySelector('#df-4975d6b8-c4c7-4036-903f-e5a1e52ab87c button.colab-df-convert');\n",
              "        buttonEl.style.display =\n",
              "          google.colab.kernel.accessAllowed ? 'block' : 'none';\n",
              "\n",
              "        async function convertToInteractive(key) {\n",
              "          const element = document.querySelector('#df-4975d6b8-c4c7-4036-903f-e5a1e52ab87c');\n",
              "          const dataTable =\n",
              "            await google.colab.kernel.invokeFunction('convertToInteractive',\n",
              "                                                     [key], {});\n",
              "          if (!dataTable) return;\n",
              "\n",
              "          const docLinkHtml = 'Like what you see? Visit the ' +\n",
              "            '<a target=\"_blank\" href=https://colab.research.google.com/notebooks/data_table.ipynb>data table notebook</a>'\n",
              "            + ' to learn more about interactive tables.';\n",
              "          element.innerHTML = '';\n",
              "          dataTable['output_type'] = 'display_data';\n",
              "          await google.colab.output.renderOutput(dataTable, element);\n",
              "          const docLink = document.createElement('div');\n",
              "          docLink.innerHTML = docLinkHtml;\n",
              "          element.appendChild(docLink);\n",
              "        }\n",
              "      </script>\n",
              "    </div>\n",
              "  </div>\n",
              "  "
            ]
          },
          "metadata": {},
          "execution_count": 41
        }
      ]
    },
    {
      "cell_type": "markdown",
      "metadata": {
        "id": "yAe4BpCDquWV"
      },
      "source": [
        "**Loading CSV files separated by semi-colon ;**"
      ]
    },
    {
      "cell_type": "code",
      "metadata": {
        "colab": {
          "base_uri": "https://localhost:8080/",
          "height": 385
        },
        "id": "tsAvsVeVnwep",
        "outputId": "3bc2e449-eb9f-463b-9eef-37d0f19b38fc"
      },
      "source": [
        "# Loading csv files using pandas .read_csv() method\n",
        "txt_df = pd.read_csv('https://raw.githubusercontent.com/insaid2018/Term-1/master/Data/Casestudy/supermarkets-semi-colons.txt', sep=';')\n",
        "\n",
        "# Output the dataframe\n",
        "txt_df               "
      ],
      "execution_count": null,
      "outputs": [
        {
          "output_type": "execute_result",
          "data": {
            "text/plain": [
              "   ID          Address           City             State Country          Name  \\\n",
              "0   1     3666 21st St  San Francisco          CA 94114     USA       Madeira   \n",
              "1   2   735 Dolores St  San Francisco          CA 94119     USA   Bready Shop   \n",
              "2   3      332 Hill St  San Francisco  California 94114     USA   Super River   \n",
              "3   4     3995 23rd St  San Francisco          CA 94114     USA    Ben's Shop   \n",
              "4   5  1056 Sanchez St  San Francisco        California     USA       Sanchez   \n",
              "5   6  551 Alvarado St  San Francisco          CA 94114     USA    Richvalley   \n",
              "\n",
              "   Employees  \n",
              "0          8  \n",
              "1         15  \n",
              "2         25  \n",
              "3         10  \n",
              "4         12  \n",
              "5         20  "
            ],
            "text/html": [
              "\n",
              "  <div id=\"df-2d6a25ad-8691-46da-8878-6a44867fe415\">\n",
              "    <div class=\"colab-df-container\">\n",
              "      <div>\n",
              "<style scoped>\n",
              "    .dataframe tbody tr th:only-of-type {\n",
              "        vertical-align: middle;\n",
              "    }\n",
              "\n",
              "    .dataframe tbody tr th {\n",
              "        vertical-align: top;\n",
              "    }\n",
              "\n",
              "    .dataframe thead th {\n",
              "        text-align: right;\n",
              "    }\n",
              "</style>\n",
              "<table border=\"1\" class=\"dataframe\">\n",
              "  <thead>\n",
              "    <tr style=\"text-align: right;\">\n",
              "      <th></th>\n",
              "      <th>ID</th>\n",
              "      <th>Address</th>\n",
              "      <th>City</th>\n",
              "      <th>State</th>\n",
              "      <th>Country</th>\n",
              "      <th>Name</th>\n",
              "      <th>Employees</th>\n",
              "    </tr>\n",
              "  </thead>\n",
              "  <tbody>\n",
              "    <tr>\n",
              "      <th>0</th>\n",
              "      <td>1</td>\n",
              "      <td>3666 21st St</td>\n",
              "      <td>San Francisco</td>\n",
              "      <td>CA 94114</td>\n",
              "      <td>USA</td>\n",
              "      <td>Madeira</td>\n",
              "      <td>8</td>\n",
              "    </tr>\n",
              "    <tr>\n",
              "      <th>1</th>\n",
              "      <td>2</td>\n",
              "      <td>735 Dolores St</td>\n",
              "      <td>San Francisco</td>\n",
              "      <td>CA 94119</td>\n",
              "      <td>USA</td>\n",
              "      <td>Bready Shop</td>\n",
              "      <td>15</td>\n",
              "    </tr>\n",
              "    <tr>\n",
              "      <th>2</th>\n",
              "      <td>3</td>\n",
              "      <td>332 Hill St</td>\n",
              "      <td>San Francisco</td>\n",
              "      <td>California 94114</td>\n",
              "      <td>USA</td>\n",
              "      <td>Super River</td>\n",
              "      <td>25</td>\n",
              "    </tr>\n",
              "    <tr>\n",
              "      <th>3</th>\n",
              "      <td>4</td>\n",
              "      <td>3995 23rd St</td>\n",
              "      <td>San Francisco</td>\n",
              "      <td>CA 94114</td>\n",
              "      <td>USA</td>\n",
              "      <td>Ben's Shop</td>\n",
              "      <td>10</td>\n",
              "    </tr>\n",
              "    <tr>\n",
              "      <th>4</th>\n",
              "      <td>5</td>\n",
              "      <td>1056 Sanchez St</td>\n",
              "      <td>San Francisco</td>\n",
              "      <td>California</td>\n",
              "      <td>USA</td>\n",
              "      <td>Sanchez</td>\n",
              "      <td>12</td>\n",
              "    </tr>\n",
              "    <tr>\n",
              "      <th>5</th>\n",
              "      <td>6</td>\n",
              "      <td>551 Alvarado St</td>\n",
              "      <td>San Francisco</td>\n",
              "      <td>CA 94114</td>\n",
              "      <td>USA</td>\n",
              "      <td>Richvalley</td>\n",
              "      <td>20</td>\n",
              "    </tr>\n",
              "  </tbody>\n",
              "</table>\n",
              "</div>\n",
              "      <button class=\"colab-df-convert\" onclick=\"convertToInteractive('df-2d6a25ad-8691-46da-8878-6a44867fe415')\"\n",
              "              title=\"Convert this dataframe to an interactive table.\"\n",
              "              style=\"display:none;\">\n",
              "        \n",
              "  <svg xmlns=\"http://www.w3.org/2000/svg\" height=\"24px\"viewBox=\"0 0 24 24\"\n",
              "       width=\"24px\">\n",
              "    <path d=\"M0 0h24v24H0V0z\" fill=\"none\"/>\n",
              "    <path d=\"M18.56 5.44l.94 2.06.94-2.06 2.06-.94-2.06-.94-.94-2.06-.94 2.06-2.06.94zm-11 1L8.5 8.5l.94-2.06 2.06-.94-2.06-.94L8.5 2.5l-.94 2.06-2.06.94zm10 10l.94 2.06.94-2.06 2.06-.94-2.06-.94-.94-2.06-.94 2.06-2.06.94z\"/><path d=\"M17.41 7.96l-1.37-1.37c-.4-.4-.92-.59-1.43-.59-.52 0-1.04.2-1.43.59L10.3 9.45l-7.72 7.72c-.78.78-.78 2.05 0 2.83L4 21.41c.39.39.9.59 1.41.59.51 0 1.02-.2 1.41-.59l7.78-7.78 2.81-2.81c.8-.78.8-2.07 0-2.86zM5.41 20L4 18.59l7.72-7.72 1.47 1.35L5.41 20z\"/>\n",
              "  </svg>\n",
              "      </button>\n",
              "      \n",
              "  <style>\n",
              "    .colab-df-container {\n",
              "      display:flex;\n",
              "      flex-wrap:wrap;\n",
              "      gap: 12px;\n",
              "    }\n",
              "\n",
              "    .colab-df-convert {\n",
              "      background-color: #E8F0FE;\n",
              "      border: none;\n",
              "      border-radius: 50%;\n",
              "      cursor: pointer;\n",
              "      display: none;\n",
              "      fill: #1967D2;\n",
              "      height: 32px;\n",
              "      padding: 0 0 0 0;\n",
              "      width: 32px;\n",
              "    }\n",
              "\n",
              "    .colab-df-convert:hover {\n",
              "      background-color: #E2EBFA;\n",
              "      box-shadow: 0px 1px 2px rgba(60, 64, 67, 0.3), 0px 1px 3px 1px rgba(60, 64, 67, 0.15);\n",
              "      fill: #174EA6;\n",
              "    }\n",
              "\n",
              "    [theme=dark] .colab-df-convert {\n",
              "      background-color: #3B4455;\n",
              "      fill: #D2E3FC;\n",
              "    }\n",
              "\n",
              "    [theme=dark] .colab-df-convert:hover {\n",
              "      background-color: #434B5C;\n",
              "      box-shadow: 0px 1px 3px 1px rgba(0, 0, 0, 0.15);\n",
              "      filter: drop-shadow(0px 1px 2px rgba(0, 0, 0, 0.3));\n",
              "      fill: #FFFFFF;\n",
              "    }\n",
              "  </style>\n",
              "\n",
              "      <script>\n",
              "        const buttonEl =\n",
              "          document.querySelector('#df-2d6a25ad-8691-46da-8878-6a44867fe415 button.colab-df-convert');\n",
              "        buttonEl.style.display =\n",
              "          google.colab.kernel.accessAllowed ? 'block' : 'none';\n",
              "\n",
              "        async function convertToInteractive(key) {\n",
              "          const element = document.querySelector('#df-2d6a25ad-8691-46da-8878-6a44867fe415');\n",
              "          const dataTable =\n",
              "            await google.colab.kernel.invokeFunction('convertToInteractive',\n",
              "                                                     [key], {});\n",
              "          if (!dataTable) return;\n",
              "\n",
              "          const docLinkHtml = 'Like what you see? Visit the ' +\n",
              "            '<a target=\"_blank\" href=https://colab.research.google.com/notebooks/data_table.ipynb>data table notebook</a>'\n",
              "            + ' to learn more about interactive tables.';\n",
              "          element.innerHTML = '';\n",
              "          dataTable['output_type'] = 'display_data';\n",
              "          await google.colab.output.renderOutput(dataTable, element);\n",
              "          const docLink = document.createElement('div');\n",
              "          docLink.innerHTML = docLinkHtml;\n",
              "          element.appendChild(docLink);\n",
              "        }\n",
              "      </script>\n",
              "    </div>\n",
              "  </div>\n",
              "  "
            ]
          },
          "metadata": {},
          "execution_count": 42
        }
      ]
    },
    {
      "cell_type": "markdown",
      "metadata": {
        "id": "T7sidAN1q_j_"
      },
      "source": [
        "**Observation:**\n",
        "\n",
        "- We observed how to load data from various types of files such as csv, json, excel etc.\n",
        "\n",
        "- We also used sep argument to segment the datasheet by various formats.\n",
        "\n",
        "- There are many more parameters that one must explore to find hidden functionalities."
      ]
    },
    {
      "cell_type": "markdown",
      "metadata": {
        "id": "pWa8zoEBrgDE"
      },
      "source": [
        "<a name = Section43></a>\n",
        "## **4.3 DataFrame Attributes**\n",
        "\n",
        "- After loading your DataFrame you may be interested to know about the **columns, shape, datatypes**.\n",
        "\n",
        "- There are many functions in pandas to check all the different attributes of a DataFrame."
      ]
    },
    {
      "cell_type": "code",
      "metadata": {
        "colab": {
          "base_uri": "https://localhost:8080/",
          "height": 385
        },
        "id": "yLAoFn4MnwbW",
        "outputId": "e660d1ea-17d4-40c7-ee5c-1408df2c9dff"
      },
      "source": [
        "# Loading csv files using pandas .read_csv() method\n",
        "data = pd.read_csv(filepath_or_buffer='https://raw.githubusercontent.com/insaid2018/Term-1/master/Data/Casestudy/supermarkets.csv')\n",
        "\n",
        "# Output the dataframe\n",
        "data"
      ],
      "execution_count": null,
      "outputs": [
        {
          "output_type": "execute_result",
          "data": {
            "text/plain": [
              "   ID          Address           City             State Country         Name  \\\n",
              "0   1     3666 21st St  San Francisco          CA 94114     USA      Madeira   \n",
              "1   2   735 Dolores St  San Francisco          CA 94119     USA  Bready Shop   \n",
              "2   3      332 Hill St  San Francisco  California 94114     USA  Super River   \n",
              "3   4     3995 23rd St  San Francisco          CA 94114     USA   Ben's Shop   \n",
              "4   5  1056 Sanchez St  San Francisco        California     USA      Sanchez   \n",
              "5   6  551 Alvarado St  San Francisco          CA 94114     USA   Richvalley   \n",
              "\n",
              "   Employees  \n",
              "0          8  \n",
              "1         15  \n",
              "2         25  \n",
              "3         10  \n",
              "4         12  \n",
              "5         20  "
            ],
            "text/html": [
              "\n",
              "  <div id=\"df-df1a12c8-77f0-4712-a2e6-cee489bdbc14\">\n",
              "    <div class=\"colab-df-container\">\n",
              "      <div>\n",
              "<style scoped>\n",
              "    .dataframe tbody tr th:only-of-type {\n",
              "        vertical-align: middle;\n",
              "    }\n",
              "\n",
              "    .dataframe tbody tr th {\n",
              "        vertical-align: top;\n",
              "    }\n",
              "\n",
              "    .dataframe thead th {\n",
              "        text-align: right;\n",
              "    }\n",
              "</style>\n",
              "<table border=\"1\" class=\"dataframe\">\n",
              "  <thead>\n",
              "    <tr style=\"text-align: right;\">\n",
              "      <th></th>\n",
              "      <th>ID</th>\n",
              "      <th>Address</th>\n",
              "      <th>City</th>\n",
              "      <th>State</th>\n",
              "      <th>Country</th>\n",
              "      <th>Name</th>\n",
              "      <th>Employees</th>\n",
              "    </tr>\n",
              "  </thead>\n",
              "  <tbody>\n",
              "    <tr>\n",
              "      <th>0</th>\n",
              "      <td>1</td>\n",
              "      <td>3666 21st St</td>\n",
              "      <td>San Francisco</td>\n",
              "      <td>CA 94114</td>\n",
              "      <td>USA</td>\n",
              "      <td>Madeira</td>\n",
              "      <td>8</td>\n",
              "    </tr>\n",
              "    <tr>\n",
              "      <th>1</th>\n",
              "      <td>2</td>\n",
              "      <td>735 Dolores St</td>\n",
              "      <td>San Francisco</td>\n",
              "      <td>CA 94119</td>\n",
              "      <td>USA</td>\n",
              "      <td>Bready Shop</td>\n",
              "      <td>15</td>\n",
              "    </tr>\n",
              "    <tr>\n",
              "      <th>2</th>\n",
              "      <td>3</td>\n",
              "      <td>332 Hill St</td>\n",
              "      <td>San Francisco</td>\n",
              "      <td>California 94114</td>\n",
              "      <td>USA</td>\n",
              "      <td>Super River</td>\n",
              "      <td>25</td>\n",
              "    </tr>\n",
              "    <tr>\n",
              "      <th>3</th>\n",
              "      <td>4</td>\n",
              "      <td>3995 23rd St</td>\n",
              "      <td>San Francisco</td>\n",
              "      <td>CA 94114</td>\n",
              "      <td>USA</td>\n",
              "      <td>Ben's Shop</td>\n",
              "      <td>10</td>\n",
              "    </tr>\n",
              "    <tr>\n",
              "      <th>4</th>\n",
              "      <td>5</td>\n",
              "      <td>1056 Sanchez St</td>\n",
              "      <td>San Francisco</td>\n",
              "      <td>California</td>\n",
              "      <td>USA</td>\n",
              "      <td>Sanchez</td>\n",
              "      <td>12</td>\n",
              "    </tr>\n",
              "    <tr>\n",
              "      <th>5</th>\n",
              "      <td>6</td>\n",
              "      <td>551 Alvarado St</td>\n",
              "      <td>San Francisco</td>\n",
              "      <td>CA 94114</td>\n",
              "      <td>USA</td>\n",
              "      <td>Richvalley</td>\n",
              "      <td>20</td>\n",
              "    </tr>\n",
              "  </tbody>\n",
              "</table>\n",
              "</div>\n",
              "      <button class=\"colab-df-convert\" onclick=\"convertToInteractive('df-df1a12c8-77f0-4712-a2e6-cee489bdbc14')\"\n",
              "              title=\"Convert this dataframe to an interactive table.\"\n",
              "              style=\"display:none;\">\n",
              "        \n",
              "  <svg xmlns=\"http://www.w3.org/2000/svg\" height=\"24px\"viewBox=\"0 0 24 24\"\n",
              "       width=\"24px\">\n",
              "    <path d=\"M0 0h24v24H0V0z\" fill=\"none\"/>\n",
              "    <path d=\"M18.56 5.44l.94 2.06.94-2.06 2.06-.94-2.06-.94-.94-2.06-.94 2.06-2.06.94zm-11 1L8.5 8.5l.94-2.06 2.06-.94-2.06-.94L8.5 2.5l-.94 2.06-2.06.94zm10 10l.94 2.06.94-2.06 2.06-.94-2.06-.94-.94-2.06-.94 2.06-2.06.94z\"/><path d=\"M17.41 7.96l-1.37-1.37c-.4-.4-.92-.59-1.43-.59-.52 0-1.04.2-1.43.59L10.3 9.45l-7.72 7.72c-.78.78-.78 2.05 0 2.83L4 21.41c.39.39.9.59 1.41.59.51 0 1.02-.2 1.41-.59l7.78-7.78 2.81-2.81c.8-.78.8-2.07 0-2.86zM5.41 20L4 18.59l7.72-7.72 1.47 1.35L5.41 20z\"/>\n",
              "  </svg>\n",
              "      </button>\n",
              "      \n",
              "  <style>\n",
              "    .colab-df-container {\n",
              "      display:flex;\n",
              "      flex-wrap:wrap;\n",
              "      gap: 12px;\n",
              "    }\n",
              "\n",
              "    .colab-df-convert {\n",
              "      background-color: #E8F0FE;\n",
              "      border: none;\n",
              "      border-radius: 50%;\n",
              "      cursor: pointer;\n",
              "      display: none;\n",
              "      fill: #1967D2;\n",
              "      height: 32px;\n",
              "      padding: 0 0 0 0;\n",
              "      width: 32px;\n",
              "    }\n",
              "\n",
              "    .colab-df-convert:hover {\n",
              "      background-color: #E2EBFA;\n",
              "      box-shadow: 0px 1px 2px rgba(60, 64, 67, 0.3), 0px 1px 3px 1px rgba(60, 64, 67, 0.15);\n",
              "      fill: #174EA6;\n",
              "    }\n",
              "\n",
              "    [theme=dark] .colab-df-convert {\n",
              "      background-color: #3B4455;\n",
              "      fill: #D2E3FC;\n",
              "    }\n",
              "\n",
              "    [theme=dark] .colab-df-convert:hover {\n",
              "      background-color: #434B5C;\n",
              "      box-shadow: 0px 1px 3px 1px rgba(0, 0, 0, 0.15);\n",
              "      filter: drop-shadow(0px 1px 2px rgba(0, 0, 0, 0.3));\n",
              "      fill: #FFFFFF;\n",
              "    }\n",
              "  </style>\n",
              "\n",
              "      <script>\n",
              "        const buttonEl =\n",
              "          document.querySelector('#df-df1a12c8-77f0-4712-a2e6-cee489bdbc14 button.colab-df-convert');\n",
              "        buttonEl.style.display =\n",
              "          google.colab.kernel.accessAllowed ? 'block' : 'none';\n",
              "\n",
              "        async function convertToInteractive(key) {\n",
              "          const element = document.querySelector('#df-df1a12c8-77f0-4712-a2e6-cee489bdbc14');\n",
              "          const dataTable =\n",
              "            await google.colab.kernel.invokeFunction('convertToInteractive',\n",
              "                                                     [key], {});\n",
              "          if (!dataTable) return;\n",
              "\n",
              "          const docLinkHtml = 'Like what you see? Visit the ' +\n",
              "            '<a target=\"_blank\" href=https://colab.research.google.com/notebooks/data_table.ipynb>data table notebook</a>'\n",
              "            + ' to learn more about interactive tables.';\n",
              "          element.innerHTML = '';\n",
              "          dataTable['output_type'] = 'display_data';\n",
              "          await google.colab.output.renderOutput(dataTable, element);\n",
              "          const docLink = document.createElement('div');\n",
              "          docLink.innerHTML = docLinkHtml;\n",
              "          element.appendChild(docLink);\n",
              "        }\n",
              "      </script>\n",
              "    </div>\n",
              "  </div>\n",
              "  "
            ]
          },
          "metadata": {},
          "execution_count": 43
        }
      ]
    },
    {
      "cell_type": "markdown",
      "metadata": {
        "id": "qH-czXOGsE0G"
      },
      "source": [
        "**DataFrame Resolution**"
      ]
    },
    {
      "cell_type": "code",
      "metadata": {
        "colab": {
          "base_uri": "https://localhost:8080/"
        },
        "id": "Ahvv23VLsHBy",
        "outputId": "d7678c45-92e3-4f51-9e7c-5201eb187444"
      },
      "source": [
        "# To check the resolution of the dataframe\n",
        "print('DataFrame Resolution:', data.shape)"
      ],
      "execution_count": null,
      "outputs": [
        {
          "output_type": "stream",
          "name": "stdout",
          "text": [
            "DataFrame Resolution: (6, 7)\n"
          ]
        }
      ]
    },
    {
      "cell_type": "markdown",
      "metadata": {
        "id": "hy93bkVvsNF5"
      },
      "source": [
        "**DataType of Columns**"
      ]
    },
    {
      "cell_type": "code",
      "metadata": {
        "colab": {
          "base_uri": "https://localhost:8080/"
        },
        "id": "b7w3qTzfsUhO",
        "outputId": "e6d65af4-50c0-4c1f-8bde-9db3376cd100"
      },
      "source": [
        "# To check the data types of columns in dataframe\n",
        "print('Data Type of Columns\\n', data.dtypes)"
      ],
      "execution_count": null,
      "outputs": [
        {
          "output_type": "stream",
          "name": "stdout",
          "text": [
            "Data Type of Columns\n",
            " ID            int64\n",
            "Address      object\n",
            "City         object\n",
            "State        object\n",
            "Country      object\n",
            "Name         object\n",
            "Employees     int64\n",
            "dtype: object\n"
          ]
        }
      ]
    },
    {
      "cell_type": "markdown",
      "metadata": {
        "id": "BUQjSDiJsuB9"
      },
      "source": [
        "**Information about the Dataset**"
      ]
    },
    {
      "cell_type": "code",
      "metadata": {
        "colab": {
          "base_uri": "https://localhost:8080/"
        },
        "id": "D1MuexsgsJGr",
        "outputId": "6f26d00b-5d3b-4f3d-f15f-d7e960b0334a"
      },
      "source": [
        "data.info()"
      ],
      "execution_count": null,
      "outputs": [
        {
          "output_type": "stream",
          "name": "stdout",
          "text": [
            "<class 'pandas.core.frame.DataFrame'>\n",
            "RangeIndex: 6 entries, 0 to 5\n",
            "Data columns (total 7 columns):\n",
            " #   Column     Non-Null Count  Dtype \n",
            "---  ------     --------------  ----- \n",
            " 0   ID         6 non-null      int64 \n",
            " 1   Address    6 non-null      object\n",
            " 2   City       6 non-null      object\n",
            " 3   State      6 non-null      object\n",
            " 4   Country    6 non-null      object\n",
            " 5   Name       6 non-null      object\n",
            " 6   Employees  6 non-null      int64 \n",
            "dtypes: int64(2), object(5)\n",
            "memory usage: 464.0+ bytes\n"
          ]
        }
      ]
    },
    {
      "cell_type": "code",
      "source": [
        "data.head(2)"
      ],
      "metadata": {
        "colab": {
          "base_uri": "https://localhost:8080/",
          "height": 112
        },
        "id": "Q-crJ2CCVR67",
        "outputId": "6f16d01a-24e8-43f3-9fed-603dee35c83e"
      },
      "execution_count": null,
      "outputs": [
        {
          "output_type": "execute_result",
          "data": {
            "text/plain": [
              "   ID         Address           City     State Country         Name  Employees\n",
              "0   1    3666 21st St  San Francisco  CA 94114     USA      Madeira          8\n",
              "1   2  735 Dolores St  San Francisco  CA 94119     USA  Bready Shop         15"
            ],
            "text/html": [
              "\n",
              "  <div id=\"df-f20956d3-e313-4dff-a835-3e4739a05d4e\">\n",
              "    <div class=\"colab-df-container\">\n",
              "      <div>\n",
              "<style scoped>\n",
              "    .dataframe tbody tr th:only-of-type {\n",
              "        vertical-align: middle;\n",
              "    }\n",
              "\n",
              "    .dataframe tbody tr th {\n",
              "        vertical-align: top;\n",
              "    }\n",
              "\n",
              "    .dataframe thead th {\n",
              "        text-align: right;\n",
              "    }\n",
              "</style>\n",
              "<table border=\"1\" class=\"dataframe\">\n",
              "  <thead>\n",
              "    <tr style=\"text-align: right;\">\n",
              "      <th></th>\n",
              "      <th>ID</th>\n",
              "      <th>Address</th>\n",
              "      <th>City</th>\n",
              "      <th>State</th>\n",
              "      <th>Country</th>\n",
              "      <th>Name</th>\n",
              "      <th>Employees</th>\n",
              "    </tr>\n",
              "  </thead>\n",
              "  <tbody>\n",
              "    <tr>\n",
              "      <th>0</th>\n",
              "      <td>1</td>\n",
              "      <td>3666 21st St</td>\n",
              "      <td>San Francisco</td>\n",
              "      <td>CA 94114</td>\n",
              "      <td>USA</td>\n",
              "      <td>Madeira</td>\n",
              "      <td>8</td>\n",
              "    </tr>\n",
              "    <tr>\n",
              "      <th>1</th>\n",
              "      <td>2</td>\n",
              "      <td>735 Dolores St</td>\n",
              "      <td>San Francisco</td>\n",
              "      <td>CA 94119</td>\n",
              "      <td>USA</td>\n",
              "      <td>Bready Shop</td>\n",
              "      <td>15</td>\n",
              "    </tr>\n",
              "  </tbody>\n",
              "</table>\n",
              "</div>\n",
              "      <button class=\"colab-df-convert\" onclick=\"convertToInteractive('df-f20956d3-e313-4dff-a835-3e4739a05d4e')\"\n",
              "              title=\"Convert this dataframe to an interactive table.\"\n",
              "              style=\"display:none;\">\n",
              "        \n",
              "  <svg xmlns=\"http://www.w3.org/2000/svg\" height=\"24px\"viewBox=\"0 0 24 24\"\n",
              "       width=\"24px\">\n",
              "    <path d=\"M0 0h24v24H0V0z\" fill=\"none\"/>\n",
              "    <path d=\"M18.56 5.44l.94 2.06.94-2.06 2.06-.94-2.06-.94-.94-2.06-.94 2.06-2.06.94zm-11 1L8.5 8.5l.94-2.06 2.06-.94-2.06-.94L8.5 2.5l-.94 2.06-2.06.94zm10 10l.94 2.06.94-2.06 2.06-.94-2.06-.94-.94-2.06-.94 2.06-2.06.94z\"/><path d=\"M17.41 7.96l-1.37-1.37c-.4-.4-.92-.59-1.43-.59-.52 0-1.04.2-1.43.59L10.3 9.45l-7.72 7.72c-.78.78-.78 2.05 0 2.83L4 21.41c.39.39.9.59 1.41.59.51 0 1.02-.2 1.41-.59l7.78-7.78 2.81-2.81c.8-.78.8-2.07 0-2.86zM5.41 20L4 18.59l7.72-7.72 1.47 1.35L5.41 20z\"/>\n",
              "  </svg>\n",
              "      </button>\n",
              "      \n",
              "  <style>\n",
              "    .colab-df-container {\n",
              "      display:flex;\n",
              "      flex-wrap:wrap;\n",
              "      gap: 12px;\n",
              "    }\n",
              "\n",
              "    .colab-df-convert {\n",
              "      background-color: #E8F0FE;\n",
              "      border: none;\n",
              "      border-radius: 50%;\n",
              "      cursor: pointer;\n",
              "      display: none;\n",
              "      fill: #1967D2;\n",
              "      height: 32px;\n",
              "      padding: 0 0 0 0;\n",
              "      width: 32px;\n",
              "    }\n",
              "\n",
              "    .colab-df-convert:hover {\n",
              "      background-color: #E2EBFA;\n",
              "      box-shadow: 0px 1px 2px rgba(60, 64, 67, 0.3), 0px 1px 3px 1px rgba(60, 64, 67, 0.15);\n",
              "      fill: #174EA6;\n",
              "    }\n",
              "\n",
              "    [theme=dark] .colab-df-convert {\n",
              "      background-color: #3B4455;\n",
              "      fill: #D2E3FC;\n",
              "    }\n",
              "\n",
              "    [theme=dark] .colab-df-convert:hover {\n",
              "      background-color: #434B5C;\n",
              "      box-shadow: 0px 1px 3px 1px rgba(0, 0, 0, 0.15);\n",
              "      filter: drop-shadow(0px 1px 2px rgba(0, 0, 0, 0.3));\n",
              "      fill: #FFFFFF;\n",
              "    }\n",
              "  </style>\n",
              "\n",
              "      <script>\n",
              "        const buttonEl =\n",
              "          document.querySelector('#df-f20956d3-e313-4dff-a835-3e4739a05d4e button.colab-df-convert');\n",
              "        buttonEl.style.display =\n",
              "          google.colab.kernel.accessAllowed ? 'block' : 'none';\n",
              "\n",
              "        async function convertToInteractive(key) {\n",
              "          const element = document.querySelector('#df-f20956d3-e313-4dff-a835-3e4739a05d4e');\n",
              "          const dataTable =\n",
              "            await google.colab.kernel.invokeFunction('convertToInteractive',\n",
              "                                                     [key], {});\n",
              "          if (!dataTable) return;\n",
              "\n",
              "          const docLinkHtml = 'Like what you see? Visit the ' +\n",
              "            '<a target=\"_blank\" href=https://colab.research.google.com/notebooks/data_table.ipynb>data table notebook</a>'\n",
              "            + ' to learn more about interactive tables.';\n",
              "          element.innerHTML = '';\n",
              "          dataTable['output_type'] = 'display_data';\n",
              "          await google.colab.output.renderOutput(dataTable, element);\n",
              "          const docLink = document.createElement('div');\n",
              "          docLink.innerHTML = docLinkHtml;\n",
              "          element.appendChild(docLink);\n",
              "        }\n",
              "      </script>\n",
              "    </div>\n",
              "  </div>\n",
              "  "
            ]
          },
          "metadata": {},
          "execution_count": 49
        }
      ]
    },
    {
      "cell_type": "code",
      "source": [
        "data.tail(2)"
      ],
      "metadata": {
        "colab": {
          "base_uri": "https://localhost:8080/",
          "height": 112
        },
        "id": "3LfgTURCVVEA",
        "outputId": "f48ffc23-75e3-44b0-b084-af78a3743a9b"
      },
      "execution_count": null,
      "outputs": [
        {
          "output_type": "execute_result",
          "data": {
            "text/plain": [
              "   ID          Address           City       State Country        Name  \\\n",
              "4   5  1056 Sanchez St  San Francisco  California     USA     Sanchez   \n",
              "5   6  551 Alvarado St  San Francisco    CA 94114     USA  Richvalley   \n",
              "\n",
              "   Employees  \n",
              "4         12  \n",
              "5         20  "
            ],
            "text/html": [
              "\n",
              "  <div id=\"df-d11db6b7-8740-4637-9106-e9bd63e6aa0d\">\n",
              "    <div class=\"colab-df-container\">\n",
              "      <div>\n",
              "<style scoped>\n",
              "    .dataframe tbody tr th:only-of-type {\n",
              "        vertical-align: middle;\n",
              "    }\n",
              "\n",
              "    .dataframe tbody tr th {\n",
              "        vertical-align: top;\n",
              "    }\n",
              "\n",
              "    .dataframe thead th {\n",
              "        text-align: right;\n",
              "    }\n",
              "</style>\n",
              "<table border=\"1\" class=\"dataframe\">\n",
              "  <thead>\n",
              "    <tr style=\"text-align: right;\">\n",
              "      <th></th>\n",
              "      <th>ID</th>\n",
              "      <th>Address</th>\n",
              "      <th>City</th>\n",
              "      <th>State</th>\n",
              "      <th>Country</th>\n",
              "      <th>Name</th>\n",
              "      <th>Employees</th>\n",
              "    </tr>\n",
              "  </thead>\n",
              "  <tbody>\n",
              "    <tr>\n",
              "      <th>4</th>\n",
              "      <td>5</td>\n",
              "      <td>1056 Sanchez St</td>\n",
              "      <td>San Francisco</td>\n",
              "      <td>California</td>\n",
              "      <td>USA</td>\n",
              "      <td>Sanchez</td>\n",
              "      <td>12</td>\n",
              "    </tr>\n",
              "    <tr>\n",
              "      <th>5</th>\n",
              "      <td>6</td>\n",
              "      <td>551 Alvarado St</td>\n",
              "      <td>San Francisco</td>\n",
              "      <td>CA 94114</td>\n",
              "      <td>USA</td>\n",
              "      <td>Richvalley</td>\n",
              "      <td>20</td>\n",
              "    </tr>\n",
              "  </tbody>\n",
              "</table>\n",
              "</div>\n",
              "      <button class=\"colab-df-convert\" onclick=\"convertToInteractive('df-d11db6b7-8740-4637-9106-e9bd63e6aa0d')\"\n",
              "              title=\"Convert this dataframe to an interactive table.\"\n",
              "              style=\"display:none;\">\n",
              "        \n",
              "  <svg xmlns=\"http://www.w3.org/2000/svg\" height=\"24px\"viewBox=\"0 0 24 24\"\n",
              "       width=\"24px\">\n",
              "    <path d=\"M0 0h24v24H0V0z\" fill=\"none\"/>\n",
              "    <path d=\"M18.56 5.44l.94 2.06.94-2.06 2.06-.94-2.06-.94-.94-2.06-.94 2.06-2.06.94zm-11 1L8.5 8.5l.94-2.06 2.06-.94-2.06-.94L8.5 2.5l-.94 2.06-2.06.94zm10 10l.94 2.06.94-2.06 2.06-.94-2.06-.94-.94-2.06-.94 2.06-2.06.94z\"/><path d=\"M17.41 7.96l-1.37-1.37c-.4-.4-.92-.59-1.43-.59-.52 0-1.04.2-1.43.59L10.3 9.45l-7.72 7.72c-.78.78-.78 2.05 0 2.83L4 21.41c.39.39.9.59 1.41.59.51 0 1.02-.2 1.41-.59l7.78-7.78 2.81-2.81c.8-.78.8-2.07 0-2.86zM5.41 20L4 18.59l7.72-7.72 1.47 1.35L5.41 20z\"/>\n",
              "  </svg>\n",
              "      </button>\n",
              "      \n",
              "  <style>\n",
              "    .colab-df-container {\n",
              "      display:flex;\n",
              "      flex-wrap:wrap;\n",
              "      gap: 12px;\n",
              "    }\n",
              "\n",
              "    .colab-df-convert {\n",
              "      background-color: #E8F0FE;\n",
              "      border: none;\n",
              "      border-radius: 50%;\n",
              "      cursor: pointer;\n",
              "      display: none;\n",
              "      fill: #1967D2;\n",
              "      height: 32px;\n",
              "      padding: 0 0 0 0;\n",
              "      width: 32px;\n",
              "    }\n",
              "\n",
              "    .colab-df-convert:hover {\n",
              "      background-color: #E2EBFA;\n",
              "      box-shadow: 0px 1px 2px rgba(60, 64, 67, 0.3), 0px 1px 3px 1px rgba(60, 64, 67, 0.15);\n",
              "      fill: #174EA6;\n",
              "    }\n",
              "\n",
              "    [theme=dark] .colab-df-convert {\n",
              "      background-color: #3B4455;\n",
              "      fill: #D2E3FC;\n",
              "    }\n",
              "\n",
              "    [theme=dark] .colab-df-convert:hover {\n",
              "      background-color: #434B5C;\n",
              "      box-shadow: 0px 1px 3px 1px rgba(0, 0, 0, 0.15);\n",
              "      filter: drop-shadow(0px 1px 2px rgba(0, 0, 0, 0.3));\n",
              "      fill: #FFFFFF;\n",
              "    }\n",
              "  </style>\n",
              "\n",
              "      <script>\n",
              "        const buttonEl =\n",
              "          document.querySelector('#df-d11db6b7-8740-4637-9106-e9bd63e6aa0d button.colab-df-convert');\n",
              "        buttonEl.style.display =\n",
              "          google.colab.kernel.accessAllowed ? 'block' : 'none';\n",
              "\n",
              "        async function convertToInteractive(key) {\n",
              "          const element = document.querySelector('#df-d11db6b7-8740-4637-9106-e9bd63e6aa0d');\n",
              "          const dataTable =\n",
              "            await google.colab.kernel.invokeFunction('convertToInteractive',\n",
              "                                                     [key], {});\n",
              "          if (!dataTable) return;\n",
              "\n",
              "          const docLinkHtml = 'Like what you see? Visit the ' +\n",
              "            '<a target=\"_blank\" href=https://colab.research.google.com/notebooks/data_table.ipynb>data table notebook</a>'\n",
              "            + ' to learn more about interactive tables.';\n",
              "          element.innerHTML = '';\n",
              "          dataTable['output_type'] = 'display_data';\n",
              "          await google.colab.output.renderOutput(dataTable, element);\n",
              "          const docLink = document.createElement('div');\n",
              "          docLink.innerHTML = docLinkHtml;\n",
              "          element.appendChild(docLink);\n",
              "        }\n",
              "      </script>\n",
              "    </div>\n",
              "  </div>\n",
              "  "
            ]
          },
          "metadata": {},
          "execution_count": 50
        }
      ]
    },
    {
      "cell_type": "markdown",
      "metadata": {
        "id": "OfjrJ1bNs6SV"
      },
      "source": [
        "**Get Total Records in Columns**"
      ]
    },
    {
      "cell_type": "code",
      "metadata": {
        "colab": {
          "base_uri": "https://localhost:8080/"
        },
        "id": "3mZGUcWKsSGu",
        "outputId": "bab46ade-2729-4360-f125-3f9461a8af24"
      },
      "source": [
        "data.count()"
      ],
      "execution_count": null,
      "outputs": [
        {
          "output_type": "execute_result",
          "data": {
            "text/plain": [
              "ID           6\n",
              "Address      6\n",
              "City         6\n",
              "State        6\n",
              "Country      6\n",
              "Name         6\n",
              "Employees    6\n",
              "dtype: int64"
            ]
          },
          "metadata": {},
          "execution_count": 51
        }
      ]
    },
    {
      "cell_type": "markdown",
      "metadata": {
        "id": "kgODUIUutN4u"
      },
      "source": [
        "**Get Index range of Dataset**"
      ]
    },
    {
      "cell_type": "code",
      "metadata": {
        "colab": {
          "base_uri": "https://localhost:8080/"
        },
        "id": "ulOtXrDZtGnq",
        "outputId": "3b53e402-0230-4292-c3f8-6458e2d661da"
      },
      "source": [
        "data.index"
      ],
      "execution_count": null,
      "outputs": [
        {
          "output_type": "execute_result",
          "data": {
            "text/plain": [
              "RangeIndex(start=0, stop=6, step=1)"
            ]
          },
          "metadata": {},
          "execution_count": 52
        }
      ]
    },
    {
      "cell_type": "markdown",
      "metadata": {
        "id": "IFwCeMqgtbvG"
      },
      "source": [
        "**Get Index of Dataset Columns**"
      ]
    },
    {
      "cell_type": "code",
      "metadata": {
        "colab": {
          "base_uri": "https://localhost:8080/"
        },
        "id": "oajd9uPZtLI8",
        "outputId": "592b7852-a107-46a3-a65e-0701abbbdf77"
      },
      "source": [
        "data.columns"
      ],
      "execution_count": null,
      "outputs": [
        {
          "output_type": "execute_result",
          "data": {
            "text/plain": [
              "Index(['ID', 'Address', 'City', 'State', 'Country', 'Name', 'Employees'], dtype='object')"
            ]
          },
          "metadata": {},
          "execution_count": 53
        }
      ]
    },
    {
      "cell_type": "markdown",
      "metadata": {
        "id": "2Ft7thQEtu9-"
      },
      "source": [
        "**Set Column as Index**"
      ]
    },
    {
      "cell_type": "code",
      "metadata": {
        "colab": {
          "base_uri": "https://localhost:8080/",
          "height": 313
        },
        "id": "onMfBa85thWM",
        "outputId": "54e13807-38fc-4e76-871d-50716d2ec8d2"
      },
      "source": [
        "# Creating a new dataframe and setting Name as index\n",
        "data2 = data.set_index(keys='ID')\n",
        "\n",
        "# Output the dataframe\n",
        "data2"
      ],
      "execution_count": null,
      "outputs": [
        {
          "output_type": "execute_result",
          "data": {
            "text/plain": [
              "            Address           City             State Country         Name  \\\n",
              "ID                                                                          \n",
              "1      3666 21st St  San Francisco          CA 94114     USA      Madeira   \n",
              "2    735 Dolores St  San Francisco          CA 94119     USA  Bready Shop   \n",
              "3       332 Hill St  San Francisco  California 94114     USA  Super River   \n",
              "4      3995 23rd St  San Francisco          CA 94114     USA   Ben's Shop   \n",
              "5   1056 Sanchez St  San Francisco        California     USA      Sanchez   \n",
              "6   551 Alvarado St  San Francisco          CA 94114     USA   Richvalley   \n",
              "\n",
              "    Employees  \n",
              "ID             \n",
              "1           8  \n",
              "2          15  \n",
              "3          25  \n",
              "4          10  \n",
              "5          12  \n",
              "6          20  "
            ],
            "text/html": [
              "\n",
              "  <div id=\"df-27985566-8294-4c3d-990d-9093c25302a6\">\n",
              "    <div class=\"colab-df-container\">\n",
              "      <div>\n",
              "<style scoped>\n",
              "    .dataframe tbody tr th:only-of-type {\n",
              "        vertical-align: middle;\n",
              "    }\n",
              "\n",
              "    .dataframe tbody tr th {\n",
              "        vertical-align: top;\n",
              "    }\n",
              "\n",
              "    .dataframe thead th {\n",
              "        text-align: right;\n",
              "    }\n",
              "</style>\n",
              "<table border=\"1\" class=\"dataframe\">\n",
              "  <thead>\n",
              "    <tr style=\"text-align: right;\">\n",
              "      <th></th>\n",
              "      <th>Address</th>\n",
              "      <th>City</th>\n",
              "      <th>State</th>\n",
              "      <th>Country</th>\n",
              "      <th>Name</th>\n",
              "      <th>Employees</th>\n",
              "    </tr>\n",
              "    <tr>\n",
              "      <th>ID</th>\n",
              "      <th></th>\n",
              "      <th></th>\n",
              "      <th></th>\n",
              "      <th></th>\n",
              "      <th></th>\n",
              "      <th></th>\n",
              "    </tr>\n",
              "  </thead>\n",
              "  <tbody>\n",
              "    <tr>\n",
              "      <th>1</th>\n",
              "      <td>3666 21st St</td>\n",
              "      <td>San Francisco</td>\n",
              "      <td>CA 94114</td>\n",
              "      <td>USA</td>\n",
              "      <td>Madeira</td>\n",
              "      <td>8</td>\n",
              "    </tr>\n",
              "    <tr>\n",
              "      <th>2</th>\n",
              "      <td>735 Dolores St</td>\n",
              "      <td>San Francisco</td>\n",
              "      <td>CA 94119</td>\n",
              "      <td>USA</td>\n",
              "      <td>Bready Shop</td>\n",
              "      <td>15</td>\n",
              "    </tr>\n",
              "    <tr>\n",
              "      <th>3</th>\n",
              "      <td>332 Hill St</td>\n",
              "      <td>San Francisco</td>\n",
              "      <td>California 94114</td>\n",
              "      <td>USA</td>\n",
              "      <td>Super River</td>\n",
              "      <td>25</td>\n",
              "    </tr>\n",
              "    <tr>\n",
              "      <th>4</th>\n",
              "      <td>3995 23rd St</td>\n",
              "      <td>San Francisco</td>\n",
              "      <td>CA 94114</td>\n",
              "      <td>USA</td>\n",
              "      <td>Ben's Shop</td>\n",
              "      <td>10</td>\n",
              "    </tr>\n",
              "    <tr>\n",
              "      <th>5</th>\n",
              "      <td>1056 Sanchez St</td>\n",
              "      <td>San Francisco</td>\n",
              "      <td>California</td>\n",
              "      <td>USA</td>\n",
              "      <td>Sanchez</td>\n",
              "      <td>12</td>\n",
              "    </tr>\n",
              "    <tr>\n",
              "      <th>6</th>\n",
              "      <td>551 Alvarado St</td>\n",
              "      <td>San Francisco</td>\n",
              "      <td>CA 94114</td>\n",
              "      <td>USA</td>\n",
              "      <td>Richvalley</td>\n",
              "      <td>20</td>\n",
              "    </tr>\n",
              "  </tbody>\n",
              "</table>\n",
              "</div>\n",
              "      <button class=\"colab-df-convert\" onclick=\"convertToInteractive('df-27985566-8294-4c3d-990d-9093c25302a6')\"\n",
              "              title=\"Convert this dataframe to an interactive table.\"\n",
              "              style=\"display:none;\">\n",
              "        \n",
              "  <svg xmlns=\"http://www.w3.org/2000/svg\" height=\"24px\"viewBox=\"0 0 24 24\"\n",
              "       width=\"24px\">\n",
              "    <path d=\"M0 0h24v24H0V0z\" fill=\"none\"/>\n",
              "    <path d=\"M18.56 5.44l.94 2.06.94-2.06 2.06-.94-2.06-.94-.94-2.06-.94 2.06-2.06.94zm-11 1L8.5 8.5l.94-2.06 2.06-.94-2.06-.94L8.5 2.5l-.94 2.06-2.06.94zm10 10l.94 2.06.94-2.06 2.06-.94-2.06-.94-.94-2.06-.94 2.06-2.06.94z\"/><path d=\"M17.41 7.96l-1.37-1.37c-.4-.4-.92-.59-1.43-.59-.52 0-1.04.2-1.43.59L10.3 9.45l-7.72 7.72c-.78.78-.78 2.05 0 2.83L4 21.41c.39.39.9.59 1.41.59.51 0 1.02-.2 1.41-.59l7.78-7.78 2.81-2.81c.8-.78.8-2.07 0-2.86zM5.41 20L4 18.59l7.72-7.72 1.47 1.35L5.41 20z\"/>\n",
              "  </svg>\n",
              "      </button>\n",
              "      \n",
              "  <style>\n",
              "    .colab-df-container {\n",
              "      display:flex;\n",
              "      flex-wrap:wrap;\n",
              "      gap: 12px;\n",
              "    }\n",
              "\n",
              "    .colab-df-convert {\n",
              "      background-color: #E8F0FE;\n",
              "      border: none;\n",
              "      border-radius: 50%;\n",
              "      cursor: pointer;\n",
              "      display: none;\n",
              "      fill: #1967D2;\n",
              "      height: 32px;\n",
              "      padding: 0 0 0 0;\n",
              "      width: 32px;\n",
              "    }\n",
              "\n",
              "    .colab-df-convert:hover {\n",
              "      background-color: #E2EBFA;\n",
              "      box-shadow: 0px 1px 2px rgba(60, 64, 67, 0.3), 0px 1px 3px 1px rgba(60, 64, 67, 0.15);\n",
              "      fill: #174EA6;\n",
              "    }\n",
              "\n",
              "    [theme=dark] .colab-df-convert {\n",
              "      background-color: #3B4455;\n",
              "      fill: #D2E3FC;\n",
              "    }\n",
              "\n",
              "    [theme=dark] .colab-df-convert:hover {\n",
              "      background-color: #434B5C;\n",
              "      box-shadow: 0px 1px 3px 1px rgba(0, 0, 0, 0.15);\n",
              "      filter: drop-shadow(0px 1px 2px rgba(0, 0, 0, 0.3));\n",
              "      fill: #FFFFFF;\n",
              "    }\n",
              "  </style>\n",
              "\n",
              "      <script>\n",
              "        const buttonEl =\n",
              "          document.querySelector('#df-27985566-8294-4c3d-990d-9093c25302a6 button.colab-df-convert');\n",
              "        buttonEl.style.display =\n",
              "          google.colab.kernel.accessAllowed ? 'block' : 'none';\n",
              "\n",
              "        async function convertToInteractive(key) {\n",
              "          const element = document.querySelector('#df-27985566-8294-4c3d-990d-9093c25302a6');\n",
              "          const dataTable =\n",
              "            await google.colab.kernel.invokeFunction('convertToInteractive',\n",
              "                                                     [key], {});\n",
              "          if (!dataTable) return;\n",
              "\n",
              "          const docLinkHtml = 'Like what you see? Visit the ' +\n",
              "            '<a target=\"_blank\" href=https://colab.research.google.com/notebooks/data_table.ipynb>data table notebook</a>'\n",
              "            + ' to learn more about interactive tables.';\n",
              "          element.innerHTML = '';\n",
              "          dataTable['output_type'] = 'display_data';\n",
              "          await google.colab.output.renderOutput(dataTable, element);\n",
              "          const docLink = document.createElement('div');\n",
              "          docLink.innerHTML = docLinkHtml;\n",
              "          element.appendChild(docLink);\n",
              "        }\n",
              "      </script>\n",
              "    </div>\n",
              "  </div>\n",
              "  "
            ]
          },
          "metadata": {},
          "execution_count": 56
        }
      ]
    },
    {
      "cell_type": "markdown",
      "metadata": {
        "id": "17x--ZEduGyk"
      },
      "source": [
        "**Observation:**\n",
        "\n",
        "- We observed various dataframe attributes and its associated functions that we can use to extract basic information about the data."
      ]
    },
    {
      "cell_type": "code",
      "source": [],
      "metadata": {
        "id": "raiZL0q9aq6y"
      },
      "execution_count": null,
      "outputs": []
    },
    {
      "cell_type": "markdown",
      "metadata": {
        "id": "k7lSK4vIuStC"
      },
      "source": [
        "<a name = Section44></a>\n",
        "## **4.4 Access, Add & Drop Operations**\n",
        "\n",
        "- In this section, we will see how to perform basic DataFrame operations like,\n",
        "\n",
        "  - Access Columns in a Dataframe\n",
        "\n",
        "  - Adding Column to Existing Column in a Dataframe\n",
        "\n",
        "  - Drop Rows or Columns in a Dataframe"
      ]
    },
    {
      "cell_type": "code",
      "metadata": {
        "colab": {
          "base_uri": "https://localhost:8080/",
          "height": 235
        },
        "id": "fibXZ42AuBb8",
        "outputId": "08e7a7ef-5c51-42b9-fd55-2d02ea01c17e"
      },
      "source": [
        "# Loading csv files using pandas .read_csv() method\n",
        "data = pd.read_csv(filepath_or_buffer='https://raw.githubusercontent.com/insaid2018/Term-1/master/Data/Casestudy/supermarkets.csv')\n",
        "\n",
        "# Output the dataframe\n",
        "data"
      ],
      "execution_count": null,
      "outputs": [
        {
          "output_type": "execute_result",
          "data": {
            "text/html": [
              "<div>\n",
              "<style scoped>\n",
              "    .dataframe tbody tr th:only-of-type {\n",
              "        vertical-align: middle;\n",
              "    }\n",
              "\n",
              "    .dataframe tbody tr th {\n",
              "        vertical-align: top;\n",
              "    }\n",
              "\n",
              "    .dataframe thead th {\n",
              "        text-align: right;\n",
              "    }\n",
              "</style>\n",
              "<table border=\"1\" class=\"dataframe\">\n",
              "  <thead>\n",
              "    <tr style=\"text-align: right;\">\n",
              "      <th></th>\n",
              "      <th>ID</th>\n",
              "      <th>Address</th>\n",
              "      <th>City</th>\n",
              "      <th>State</th>\n",
              "      <th>Country</th>\n",
              "      <th>Name</th>\n",
              "      <th>Employees</th>\n",
              "    </tr>\n",
              "  </thead>\n",
              "  <tbody>\n",
              "    <tr>\n",
              "      <th>0</th>\n",
              "      <td>1</td>\n",
              "      <td>3666 21st St</td>\n",
              "      <td>San Francisco</td>\n",
              "      <td>CA 94114</td>\n",
              "      <td>USA</td>\n",
              "      <td>Madeira</td>\n",
              "      <td>8</td>\n",
              "    </tr>\n",
              "    <tr>\n",
              "      <th>1</th>\n",
              "      <td>2</td>\n",
              "      <td>735 Dolores St</td>\n",
              "      <td>San Francisco</td>\n",
              "      <td>CA 94119</td>\n",
              "      <td>USA</td>\n",
              "      <td>Bready Shop</td>\n",
              "      <td>15</td>\n",
              "    </tr>\n",
              "    <tr>\n",
              "      <th>2</th>\n",
              "      <td>3</td>\n",
              "      <td>332 Hill St</td>\n",
              "      <td>San Francisco</td>\n",
              "      <td>California 94114</td>\n",
              "      <td>USA</td>\n",
              "      <td>Super River</td>\n",
              "      <td>25</td>\n",
              "    </tr>\n",
              "    <tr>\n",
              "      <th>3</th>\n",
              "      <td>4</td>\n",
              "      <td>3995 23rd St</td>\n",
              "      <td>San Francisco</td>\n",
              "      <td>CA 94114</td>\n",
              "      <td>USA</td>\n",
              "      <td>Ben's Shop</td>\n",
              "      <td>10</td>\n",
              "    </tr>\n",
              "    <tr>\n",
              "      <th>4</th>\n",
              "      <td>5</td>\n",
              "      <td>1056 Sanchez St</td>\n",
              "      <td>San Francisco</td>\n",
              "      <td>California</td>\n",
              "      <td>USA</td>\n",
              "      <td>Sanchez</td>\n",
              "      <td>12</td>\n",
              "    </tr>\n",
              "    <tr>\n",
              "      <th>5</th>\n",
              "      <td>6</td>\n",
              "      <td>551 Alvarado St</td>\n",
              "      <td>San Francisco</td>\n",
              "      <td>CA 94114</td>\n",
              "      <td>USA</td>\n",
              "      <td>Richvalley</td>\n",
              "      <td>20</td>\n",
              "    </tr>\n",
              "  </tbody>\n",
              "</table>\n",
              "</div>"
            ],
            "text/plain": [
              "   ID          Address           City  ... Country         Name Employees\n",
              "0   1     3666 21st St  San Francisco  ...     USA      Madeira         8\n",
              "1   2   735 Dolores St  San Francisco  ...     USA  Bready Shop        15\n",
              "2   3      332 Hill St  San Francisco  ...     USA  Super River        25\n",
              "3   4     3995 23rd St  San Francisco  ...     USA   Ben's Shop        10\n",
              "4   5  1056 Sanchez St  San Francisco  ...     USA      Sanchez        12\n",
              "5   6  551 Alvarado St  San Francisco  ...     USA   Richvalley        20\n",
              "\n",
              "[6 rows x 7 columns]"
            ]
          },
          "metadata": {
            "tags": []
          },
          "execution_count": 74
        }
      ]
    },
    {
      "cell_type": "markdown",
      "metadata": {
        "id": "HQk5eXz-6uWN"
      },
      "source": [
        "**Selecting Rows or Columns in a Dataframe**"
      ]
    },
    {
      "cell_type": "code",
      "metadata": {
        "colab": {
          "base_uri": "https://localhost:8080/"
        },
        "id": "0uz2f2mf64kx",
        "outputId": "a0015064-cfec-4419-b81e-068fbae36b4f"
      },
      "source": [
        "# Selecting Address column from the dataset\n",
        "# Accessing one column from dataframe will return a series\n",
        "data['Address']"
      ],
      "execution_count": null,
      "outputs": [
        {
          "output_type": "execute_result",
          "data": {
            "text/plain": [
              "0       3666 21st St\n",
              "1     735 Dolores St\n",
              "2        332 Hill St\n",
              "3       3995 23rd St\n",
              "4    1056 Sanchez St\n",
              "5    551 Alvarado St\n",
              "Name: Address, dtype: object"
            ]
          },
          "metadata": {
            "tags": []
          },
          "execution_count": 75
        }
      ]
    },
    {
      "cell_type": "code",
      "metadata": {
        "colab": {
          "base_uri": "https://localhost:8080/",
          "height": 235
        },
        "id": "5Y3K0WQR7BkI",
        "outputId": "943cba61-4db6-45f6-e0fe-bb283f769cc8"
      },
      "source": [
        "# Selecting multiple coluns from the dataset\n",
        "data[['Address', 'Name']]"
      ],
      "execution_count": null,
      "outputs": [
        {
          "output_type": "execute_result",
          "data": {
            "text/html": [
              "<div>\n",
              "<style scoped>\n",
              "    .dataframe tbody tr th:only-of-type {\n",
              "        vertical-align: middle;\n",
              "    }\n",
              "\n",
              "    .dataframe tbody tr th {\n",
              "        vertical-align: top;\n",
              "    }\n",
              "\n",
              "    .dataframe thead th {\n",
              "        text-align: right;\n",
              "    }\n",
              "</style>\n",
              "<table border=\"1\" class=\"dataframe\">\n",
              "  <thead>\n",
              "    <tr style=\"text-align: right;\">\n",
              "      <th></th>\n",
              "      <th>Address</th>\n",
              "      <th>Name</th>\n",
              "    </tr>\n",
              "  </thead>\n",
              "  <tbody>\n",
              "    <tr>\n",
              "      <th>0</th>\n",
              "      <td>3666 21st St</td>\n",
              "      <td>Madeira</td>\n",
              "    </tr>\n",
              "    <tr>\n",
              "      <th>1</th>\n",
              "      <td>735 Dolores St</td>\n",
              "      <td>Bready Shop</td>\n",
              "    </tr>\n",
              "    <tr>\n",
              "      <th>2</th>\n",
              "      <td>332 Hill St</td>\n",
              "      <td>Super River</td>\n",
              "    </tr>\n",
              "    <tr>\n",
              "      <th>3</th>\n",
              "      <td>3995 23rd St</td>\n",
              "      <td>Ben's Shop</td>\n",
              "    </tr>\n",
              "    <tr>\n",
              "      <th>4</th>\n",
              "      <td>1056 Sanchez St</td>\n",
              "      <td>Sanchez</td>\n",
              "    </tr>\n",
              "    <tr>\n",
              "      <th>5</th>\n",
              "      <td>551 Alvarado St</td>\n",
              "      <td>Richvalley</td>\n",
              "    </tr>\n",
              "  </tbody>\n",
              "</table>\n",
              "</div>"
            ],
            "text/plain": [
              "           Address         Name\n",
              "0     3666 21st St      Madeira\n",
              "1   735 Dolores St  Bready Shop\n",
              "2      332 Hill St  Super River\n",
              "3     3995 23rd St   Ben's Shop\n",
              "4  1056 Sanchez St      Sanchez\n",
              "5  551 Alvarado St   Richvalley"
            ]
          },
          "metadata": {
            "tags": []
          },
          "execution_count": 76
        }
      ]
    },
    {
      "cell_type": "markdown",
      "metadata": {
        "id": "HRiC28Xt7yoS"
      },
      "source": [
        "**Adding Column to Existing Dataframe**"
      ]
    },
    {
      "cell_type": "code",
      "metadata": {
        "colab": {
          "base_uri": "https://localhost:8080/",
          "height": 235
        },
        "id": "oHHuJWkv7MDi",
        "outputId": "54915f6e-ecc8-4742-8066-d314baae0960"
      },
      "source": [
        "# Creating a new column of Salary in a dataframe\n",
        "data['Salary'] = [10000, 20000, 30000, 40000, 50000, 60000]\n",
        "\n",
        "# Output the dataframe\n",
        "data"
      ],
      "execution_count": null,
      "outputs": [
        {
          "output_type": "execute_result",
          "data": {
            "text/html": [
              "<div>\n",
              "<style scoped>\n",
              "    .dataframe tbody tr th:only-of-type {\n",
              "        vertical-align: middle;\n",
              "    }\n",
              "\n",
              "    .dataframe tbody tr th {\n",
              "        vertical-align: top;\n",
              "    }\n",
              "\n",
              "    .dataframe thead th {\n",
              "        text-align: right;\n",
              "    }\n",
              "</style>\n",
              "<table border=\"1\" class=\"dataframe\">\n",
              "  <thead>\n",
              "    <tr style=\"text-align: right;\">\n",
              "      <th></th>\n",
              "      <th>ID</th>\n",
              "      <th>Address</th>\n",
              "      <th>City</th>\n",
              "      <th>State</th>\n",
              "      <th>Country</th>\n",
              "      <th>Name</th>\n",
              "      <th>Employees</th>\n",
              "      <th>Salary</th>\n",
              "    </tr>\n",
              "  </thead>\n",
              "  <tbody>\n",
              "    <tr>\n",
              "      <th>0</th>\n",
              "      <td>1</td>\n",
              "      <td>3666 21st St</td>\n",
              "      <td>San Francisco</td>\n",
              "      <td>CA 94114</td>\n",
              "      <td>USA</td>\n",
              "      <td>Madeira</td>\n",
              "      <td>8</td>\n",
              "      <td>10000</td>\n",
              "    </tr>\n",
              "    <tr>\n",
              "      <th>1</th>\n",
              "      <td>2</td>\n",
              "      <td>735 Dolores St</td>\n",
              "      <td>San Francisco</td>\n",
              "      <td>CA 94119</td>\n",
              "      <td>USA</td>\n",
              "      <td>Bready Shop</td>\n",
              "      <td>15</td>\n",
              "      <td>20000</td>\n",
              "    </tr>\n",
              "    <tr>\n",
              "      <th>2</th>\n",
              "      <td>3</td>\n",
              "      <td>332 Hill St</td>\n",
              "      <td>San Francisco</td>\n",
              "      <td>California 94114</td>\n",
              "      <td>USA</td>\n",
              "      <td>Super River</td>\n",
              "      <td>25</td>\n",
              "      <td>30000</td>\n",
              "    </tr>\n",
              "    <tr>\n",
              "      <th>3</th>\n",
              "      <td>4</td>\n",
              "      <td>3995 23rd St</td>\n",
              "      <td>San Francisco</td>\n",
              "      <td>CA 94114</td>\n",
              "      <td>USA</td>\n",
              "      <td>Ben's Shop</td>\n",
              "      <td>10</td>\n",
              "      <td>40000</td>\n",
              "    </tr>\n",
              "    <tr>\n",
              "      <th>4</th>\n",
              "      <td>5</td>\n",
              "      <td>1056 Sanchez St</td>\n",
              "      <td>San Francisco</td>\n",
              "      <td>California</td>\n",
              "      <td>USA</td>\n",
              "      <td>Sanchez</td>\n",
              "      <td>12</td>\n",
              "      <td>50000</td>\n",
              "    </tr>\n",
              "    <tr>\n",
              "      <th>5</th>\n",
              "      <td>6</td>\n",
              "      <td>551 Alvarado St</td>\n",
              "      <td>San Francisco</td>\n",
              "      <td>CA 94114</td>\n",
              "      <td>USA</td>\n",
              "      <td>Richvalley</td>\n",
              "      <td>20</td>\n",
              "      <td>60000</td>\n",
              "    </tr>\n",
              "  </tbody>\n",
              "</table>\n",
              "</div>"
            ],
            "text/plain": [
              "   ID          Address           City  ...         Name Employees Salary\n",
              "0   1     3666 21st St  San Francisco  ...      Madeira         8  10000\n",
              "1   2   735 Dolores St  San Francisco  ...  Bready Shop        15  20000\n",
              "2   3      332 Hill St  San Francisco  ...  Super River        25  30000\n",
              "3   4     3995 23rd St  San Francisco  ...   Ben's Shop        10  40000\n",
              "4   5  1056 Sanchez St  San Francisco  ...      Sanchez        12  50000\n",
              "5   6  551 Alvarado St  San Francisco  ...   Richvalley        20  60000\n",
              "\n",
              "[6 rows x 8 columns]"
            ]
          },
          "metadata": {
            "tags": []
          },
          "execution_count": 77
        }
      ]
    },
    {
      "cell_type": "code",
      "metadata": {
        "colab": {
          "base_uri": "https://localhost:8080/",
          "height": 235
        },
        "id": "9RENG5638911",
        "outputId": "446a0b82-62e1-4c4e-f7fd-6099f679b0f7"
      },
      "source": [
        "# Creating a new column using existing columns\n",
        "data['Total Salary'] = data['Employees'] * data['Salary']\n",
        "\n",
        "# Output the dataframe\n",
        "data"
      ],
      "execution_count": null,
      "outputs": [
        {
          "output_type": "execute_result",
          "data": {
            "text/html": [
              "<div>\n",
              "<style scoped>\n",
              "    .dataframe tbody tr th:only-of-type {\n",
              "        vertical-align: middle;\n",
              "    }\n",
              "\n",
              "    .dataframe tbody tr th {\n",
              "        vertical-align: top;\n",
              "    }\n",
              "\n",
              "    .dataframe thead th {\n",
              "        text-align: right;\n",
              "    }\n",
              "</style>\n",
              "<table border=\"1\" class=\"dataframe\">\n",
              "  <thead>\n",
              "    <tr style=\"text-align: right;\">\n",
              "      <th></th>\n",
              "      <th>ID</th>\n",
              "      <th>Address</th>\n",
              "      <th>City</th>\n",
              "      <th>State</th>\n",
              "      <th>Country</th>\n",
              "      <th>Name</th>\n",
              "      <th>Employees</th>\n",
              "      <th>Salary</th>\n",
              "      <th>Total Salary</th>\n",
              "    </tr>\n",
              "  </thead>\n",
              "  <tbody>\n",
              "    <tr>\n",
              "      <th>0</th>\n",
              "      <td>1</td>\n",
              "      <td>3666 21st St</td>\n",
              "      <td>San Francisco</td>\n",
              "      <td>CA 94114</td>\n",
              "      <td>USA</td>\n",
              "      <td>Madeira</td>\n",
              "      <td>8</td>\n",
              "      <td>10000</td>\n",
              "      <td>80000</td>\n",
              "    </tr>\n",
              "    <tr>\n",
              "      <th>1</th>\n",
              "      <td>2</td>\n",
              "      <td>735 Dolores St</td>\n",
              "      <td>San Francisco</td>\n",
              "      <td>CA 94119</td>\n",
              "      <td>USA</td>\n",
              "      <td>Bready Shop</td>\n",
              "      <td>15</td>\n",
              "      <td>20000</td>\n",
              "      <td>300000</td>\n",
              "    </tr>\n",
              "    <tr>\n",
              "      <th>2</th>\n",
              "      <td>3</td>\n",
              "      <td>332 Hill St</td>\n",
              "      <td>San Francisco</td>\n",
              "      <td>California 94114</td>\n",
              "      <td>USA</td>\n",
              "      <td>Super River</td>\n",
              "      <td>25</td>\n",
              "      <td>30000</td>\n",
              "      <td>750000</td>\n",
              "    </tr>\n",
              "    <tr>\n",
              "      <th>3</th>\n",
              "      <td>4</td>\n",
              "      <td>3995 23rd St</td>\n",
              "      <td>San Francisco</td>\n",
              "      <td>CA 94114</td>\n",
              "      <td>USA</td>\n",
              "      <td>Ben's Shop</td>\n",
              "      <td>10</td>\n",
              "      <td>40000</td>\n",
              "      <td>400000</td>\n",
              "    </tr>\n",
              "    <tr>\n",
              "      <th>4</th>\n",
              "      <td>5</td>\n",
              "      <td>1056 Sanchez St</td>\n",
              "      <td>San Francisco</td>\n",
              "      <td>California</td>\n",
              "      <td>USA</td>\n",
              "      <td>Sanchez</td>\n",
              "      <td>12</td>\n",
              "      <td>50000</td>\n",
              "      <td>600000</td>\n",
              "    </tr>\n",
              "    <tr>\n",
              "      <th>5</th>\n",
              "      <td>6</td>\n",
              "      <td>551 Alvarado St</td>\n",
              "      <td>San Francisco</td>\n",
              "      <td>CA 94114</td>\n",
              "      <td>USA</td>\n",
              "      <td>Richvalley</td>\n",
              "      <td>20</td>\n",
              "      <td>60000</td>\n",
              "      <td>1200000</td>\n",
              "    </tr>\n",
              "  </tbody>\n",
              "</table>\n",
              "</div>"
            ],
            "text/plain": [
              "   ID          Address           City  ... Employees Salary Total Salary\n",
              "0   1     3666 21st St  San Francisco  ...         8  10000        80000\n",
              "1   2   735 Dolores St  San Francisco  ...        15  20000       300000\n",
              "2   3      332 Hill St  San Francisco  ...        25  30000       750000\n",
              "3   4     3995 23rd St  San Francisco  ...        10  40000       400000\n",
              "4   5  1056 Sanchez St  San Francisco  ...        12  50000       600000\n",
              "5   6  551 Alvarado St  San Francisco  ...        20  60000      1200000\n",
              "\n",
              "[6 rows x 9 columns]"
            ]
          },
          "metadata": {
            "tags": []
          },
          "execution_count": 78
        }
      ]
    },
    {
      "cell_type": "markdown",
      "metadata": {
        "id": "J_Kkqzvi9XtP"
      },
      "source": [
        "- These processes are generally used in Feature Engineering where we combine 2 or more columns to create more meaningful features."
      ]
    },
    {
      "cell_type": "markdown",
      "metadata": {
        "id": "mfqARFoK9f9e"
      },
      "source": [
        "**Deleting Rows or Columns in a Dataframe**"
      ]
    },
    {
      "cell_type": "code",
      "metadata": {
        "colab": {
          "base_uri": "https://localhost:8080/",
          "height": 235
        },
        "id": "RAyZ5EE49TS_",
        "outputId": "0918dd3d-f736-42e7-cbb7-fb1b7885d225"
      },
      "source": [
        "# Calling data object that we modified earlier\n",
        "data"
      ],
      "execution_count": null,
      "outputs": [
        {
          "output_type": "execute_result",
          "data": {
            "text/html": [
              "<div>\n",
              "<style scoped>\n",
              "    .dataframe tbody tr th:only-of-type {\n",
              "        vertical-align: middle;\n",
              "    }\n",
              "\n",
              "    .dataframe tbody tr th {\n",
              "        vertical-align: top;\n",
              "    }\n",
              "\n",
              "    .dataframe thead th {\n",
              "        text-align: right;\n",
              "    }\n",
              "</style>\n",
              "<table border=\"1\" class=\"dataframe\">\n",
              "  <thead>\n",
              "    <tr style=\"text-align: right;\">\n",
              "      <th></th>\n",
              "      <th>ID</th>\n",
              "      <th>Address</th>\n",
              "      <th>City</th>\n",
              "      <th>State</th>\n",
              "      <th>Country</th>\n",
              "      <th>Name</th>\n",
              "      <th>Employees</th>\n",
              "      <th>Salary</th>\n",
              "      <th>Total Salary</th>\n",
              "    </tr>\n",
              "  </thead>\n",
              "  <tbody>\n",
              "    <tr>\n",
              "      <th>0</th>\n",
              "      <td>1</td>\n",
              "      <td>3666 21st St</td>\n",
              "      <td>San Francisco</td>\n",
              "      <td>CA 94114</td>\n",
              "      <td>USA</td>\n",
              "      <td>Madeira</td>\n",
              "      <td>8</td>\n",
              "      <td>10000</td>\n",
              "      <td>80000</td>\n",
              "    </tr>\n",
              "    <tr>\n",
              "      <th>1</th>\n",
              "      <td>2</td>\n",
              "      <td>735 Dolores St</td>\n",
              "      <td>San Francisco</td>\n",
              "      <td>CA 94119</td>\n",
              "      <td>USA</td>\n",
              "      <td>Bready Shop</td>\n",
              "      <td>15</td>\n",
              "      <td>20000</td>\n",
              "      <td>300000</td>\n",
              "    </tr>\n",
              "    <tr>\n",
              "      <th>2</th>\n",
              "      <td>3</td>\n",
              "      <td>332 Hill St</td>\n",
              "      <td>San Francisco</td>\n",
              "      <td>California 94114</td>\n",
              "      <td>USA</td>\n",
              "      <td>Super River</td>\n",
              "      <td>25</td>\n",
              "      <td>30000</td>\n",
              "      <td>750000</td>\n",
              "    </tr>\n",
              "    <tr>\n",
              "      <th>3</th>\n",
              "      <td>4</td>\n",
              "      <td>3995 23rd St</td>\n",
              "      <td>San Francisco</td>\n",
              "      <td>CA 94114</td>\n",
              "      <td>USA</td>\n",
              "      <td>Ben's Shop</td>\n",
              "      <td>10</td>\n",
              "      <td>40000</td>\n",
              "      <td>400000</td>\n",
              "    </tr>\n",
              "    <tr>\n",
              "      <th>4</th>\n",
              "      <td>5</td>\n",
              "      <td>1056 Sanchez St</td>\n",
              "      <td>San Francisco</td>\n",
              "      <td>California</td>\n",
              "      <td>USA</td>\n",
              "      <td>Sanchez</td>\n",
              "      <td>12</td>\n",
              "      <td>50000</td>\n",
              "      <td>600000</td>\n",
              "    </tr>\n",
              "    <tr>\n",
              "      <th>5</th>\n",
              "      <td>6</td>\n",
              "      <td>551 Alvarado St</td>\n",
              "      <td>San Francisco</td>\n",
              "      <td>CA 94114</td>\n",
              "      <td>USA</td>\n",
              "      <td>Richvalley</td>\n",
              "      <td>20</td>\n",
              "      <td>60000</td>\n",
              "      <td>1200000</td>\n",
              "    </tr>\n",
              "  </tbody>\n",
              "</table>\n",
              "</div>"
            ],
            "text/plain": [
              "   ID          Address           City  ... Employees Salary Total Salary\n",
              "0   1     3666 21st St  San Francisco  ...         8  10000        80000\n",
              "1   2   735 Dolores St  San Francisco  ...        15  20000       300000\n",
              "2   3      332 Hill St  San Francisco  ...        25  30000       750000\n",
              "3   4     3995 23rd St  San Francisco  ...        10  40000       400000\n",
              "4   5  1056 Sanchez St  San Francisco  ...        12  50000       600000\n",
              "5   6  551 Alvarado St  San Francisco  ...        20  60000      1200000\n",
              "\n",
              "[6 rows x 9 columns]"
            ]
          },
          "metadata": {
            "tags": []
          },
          "execution_count": 79
        }
      ]
    },
    {
      "cell_type": "code",
      "metadata": {
        "colab": {
          "base_uri": "https://localhost:8080/",
          "height": 235
        },
        "id": "JpLwI_tV9okC",
        "outputId": "ba479ae4-fa01-43e5-8498-0654dba73bfe"
      },
      "source": [
        "# Drop ID column along column axis in original dataframe\n",
        "# Setting the inplace=False will not perform any operations on original data\n",
        "data.drop(labels=['ID'], axis=1, inplace=True)\n",
        "\n",
        "# Output the modified dataframe\n",
        "data"
      ],
      "execution_count": null,
      "outputs": [
        {
          "output_type": "execute_result",
          "data": {
            "text/html": [
              "<div>\n",
              "<style scoped>\n",
              "    .dataframe tbody tr th:only-of-type {\n",
              "        vertical-align: middle;\n",
              "    }\n",
              "\n",
              "    .dataframe tbody tr th {\n",
              "        vertical-align: top;\n",
              "    }\n",
              "\n",
              "    .dataframe thead th {\n",
              "        text-align: right;\n",
              "    }\n",
              "</style>\n",
              "<table border=\"1\" class=\"dataframe\">\n",
              "  <thead>\n",
              "    <tr style=\"text-align: right;\">\n",
              "      <th></th>\n",
              "      <th>Address</th>\n",
              "      <th>City</th>\n",
              "      <th>State</th>\n",
              "      <th>Country</th>\n",
              "      <th>Name</th>\n",
              "      <th>Employees</th>\n",
              "      <th>Salary</th>\n",
              "      <th>Total Salary</th>\n",
              "    </tr>\n",
              "  </thead>\n",
              "  <tbody>\n",
              "    <tr>\n",
              "      <th>0</th>\n",
              "      <td>3666 21st St</td>\n",
              "      <td>San Francisco</td>\n",
              "      <td>CA 94114</td>\n",
              "      <td>USA</td>\n",
              "      <td>Madeira</td>\n",
              "      <td>8</td>\n",
              "      <td>10000</td>\n",
              "      <td>80000</td>\n",
              "    </tr>\n",
              "    <tr>\n",
              "      <th>1</th>\n",
              "      <td>735 Dolores St</td>\n",
              "      <td>San Francisco</td>\n",
              "      <td>CA 94119</td>\n",
              "      <td>USA</td>\n",
              "      <td>Bready Shop</td>\n",
              "      <td>15</td>\n",
              "      <td>20000</td>\n",
              "      <td>300000</td>\n",
              "    </tr>\n",
              "    <tr>\n",
              "      <th>2</th>\n",
              "      <td>332 Hill St</td>\n",
              "      <td>San Francisco</td>\n",
              "      <td>California 94114</td>\n",
              "      <td>USA</td>\n",
              "      <td>Super River</td>\n",
              "      <td>25</td>\n",
              "      <td>30000</td>\n",
              "      <td>750000</td>\n",
              "    </tr>\n",
              "    <tr>\n",
              "      <th>3</th>\n",
              "      <td>3995 23rd St</td>\n",
              "      <td>San Francisco</td>\n",
              "      <td>CA 94114</td>\n",
              "      <td>USA</td>\n",
              "      <td>Ben's Shop</td>\n",
              "      <td>10</td>\n",
              "      <td>40000</td>\n",
              "      <td>400000</td>\n",
              "    </tr>\n",
              "    <tr>\n",
              "      <th>4</th>\n",
              "      <td>1056 Sanchez St</td>\n",
              "      <td>San Francisco</td>\n",
              "      <td>California</td>\n",
              "      <td>USA</td>\n",
              "      <td>Sanchez</td>\n",
              "      <td>12</td>\n",
              "      <td>50000</td>\n",
              "      <td>600000</td>\n",
              "    </tr>\n",
              "    <tr>\n",
              "      <th>5</th>\n",
              "      <td>551 Alvarado St</td>\n",
              "      <td>San Francisco</td>\n",
              "      <td>CA 94114</td>\n",
              "      <td>USA</td>\n",
              "      <td>Richvalley</td>\n",
              "      <td>20</td>\n",
              "      <td>60000</td>\n",
              "      <td>1200000</td>\n",
              "    </tr>\n",
              "  </tbody>\n",
              "</table>\n",
              "</div>"
            ],
            "text/plain": [
              "           Address           City  ... Salary Total Salary\n",
              "0     3666 21st St  San Francisco  ...  10000        80000\n",
              "1   735 Dolores St  San Francisco  ...  20000       300000\n",
              "2      332 Hill St  San Francisco  ...  30000       750000\n",
              "3     3995 23rd St  San Francisco  ...  40000       400000\n",
              "4  1056 Sanchez St  San Francisco  ...  50000       600000\n",
              "5  551 Alvarado St  San Francisco  ...  60000      1200000\n",
              "\n",
              "[6 rows x 8 columns]"
            ]
          },
          "metadata": {
            "tags": []
          },
          "execution_count": 80
        }
      ]
    },
    {
      "cell_type": "markdown",
      "metadata": {
        "id": "hJolEXgm-8_h"
      },
      "source": [
        "- To drop rows we need pass the index of the rows in .drop() function."
      ]
    },
    {
      "cell_type": "code",
      "metadata": {
        "colab": {
          "base_uri": "https://localhost:8080/",
          "height": 204
        },
        "id": "itt-eY3V-Pnu",
        "outputId": "85b898b6-4712-4467-e1a2-b71672b390d2"
      },
      "source": [
        "# Dropping first record with affecting our original dataset\n",
        "data.drop(labels=[0], axis=0, inplace=False)"
      ],
      "execution_count": null,
      "outputs": [
        {
          "output_type": "execute_result",
          "data": {
            "text/html": [
              "<div>\n",
              "<style scoped>\n",
              "    .dataframe tbody tr th:only-of-type {\n",
              "        vertical-align: middle;\n",
              "    }\n",
              "\n",
              "    .dataframe tbody tr th {\n",
              "        vertical-align: top;\n",
              "    }\n",
              "\n",
              "    .dataframe thead th {\n",
              "        text-align: right;\n",
              "    }\n",
              "</style>\n",
              "<table border=\"1\" class=\"dataframe\">\n",
              "  <thead>\n",
              "    <tr style=\"text-align: right;\">\n",
              "      <th></th>\n",
              "      <th>Address</th>\n",
              "      <th>City</th>\n",
              "      <th>State</th>\n",
              "      <th>Country</th>\n",
              "      <th>Name</th>\n",
              "      <th>Employees</th>\n",
              "      <th>Salary</th>\n",
              "      <th>Total Salary</th>\n",
              "    </tr>\n",
              "  </thead>\n",
              "  <tbody>\n",
              "    <tr>\n",
              "      <th>1</th>\n",
              "      <td>735 Dolores St</td>\n",
              "      <td>San Francisco</td>\n",
              "      <td>CA 94119</td>\n",
              "      <td>USA</td>\n",
              "      <td>Bready Shop</td>\n",
              "      <td>15</td>\n",
              "      <td>20000</td>\n",
              "      <td>300000</td>\n",
              "    </tr>\n",
              "    <tr>\n",
              "      <th>2</th>\n",
              "      <td>332 Hill St</td>\n",
              "      <td>San Francisco</td>\n",
              "      <td>California 94114</td>\n",
              "      <td>USA</td>\n",
              "      <td>Super River</td>\n",
              "      <td>25</td>\n",
              "      <td>30000</td>\n",
              "      <td>750000</td>\n",
              "    </tr>\n",
              "    <tr>\n",
              "      <th>3</th>\n",
              "      <td>3995 23rd St</td>\n",
              "      <td>San Francisco</td>\n",
              "      <td>CA 94114</td>\n",
              "      <td>USA</td>\n",
              "      <td>Ben's Shop</td>\n",
              "      <td>10</td>\n",
              "      <td>40000</td>\n",
              "      <td>400000</td>\n",
              "    </tr>\n",
              "    <tr>\n",
              "      <th>4</th>\n",
              "      <td>1056 Sanchez St</td>\n",
              "      <td>San Francisco</td>\n",
              "      <td>California</td>\n",
              "      <td>USA</td>\n",
              "      <td>Sanchez</td>\n",
              "      <td>12</td>\n",
              "      <td>50000</td>\n",
              "      <td>600000</td>\n",
              "    </tr>\n",
              "    <tr>\n",
              "      <th>5</th>\n",
              "      <td>551 Alvarado St</td>\n",
              "      <td>San Francisco</td>\n",
              "      <td>CA 94114</td>\n",
              "      <td>USA</td>\n",
              "      <td>Richvalley</td>\n",
              "      <td>20</td>\n",
              "      <td>60000</td>\n",
              "      <td>1200000</td>\n",
              "    </tr>\n",
              "  </tbody>\n",
              "</table>\n",
              "</div>"
            ],
            "text/plain": [
              "           Address           City  ... Salary Total Salary\n",
              "1   735 Dolores St  San Francisco  ...  20000       300000\n",
              "2      332 Hill St  San Francisco  ...  30000       750000\n",
              "3     3995 23rd St  San Francisco  ...  40000       400000\n",
              "4  1056 Sanchez St  San Francisco  ...  50000       600000\n",
              "5  551 Alvarado St  San Francisco  ...  60000      1200000\n",
              "\n",
              "[5 rows x 8 columns]"
            ]
          },
          "metadata": {
            "tags": []
          },
          "execution_count": 81
        }
      ]
    },
    {
      "cell_type": "markdown",
      "metadata": {
        "id": "B22ZnJoLQCP1"
      },
      "source": [
        "- You can also use labels as index for the rows and drop rows based on those labels."
      ]
    },
    {
      "cell_type": "code",
      "metadata": {
        "colab": {
          "base_uri": "https://localhost:8080/",
          "height": 266
        },
        "id": "nCl0oVZ7_YVS",
        "outputId": "516f6c69-3f22-4530-f94a-db5008b67292"
      },
      "source": [
        "# Creating a new variable where Name column is set as index\n",
        "data2 = data.set_index(keys=['Name'], inplace=False)\n",
        "\n",
        "# Output the dataframe\n",
        "data2"
      ],
      "execution_count": null,
      "outputs": [
        {
          "output_type": "execute_result",
          "data": {
            "text/html": [
              "<div>\n",
              "<style scoped>\n",
              "    .dataframe tbody tr th:only-of-type {\n",
              "        vertical-align: middle;\n",
              "    }\n",
              "\n",
              "    .dataframe tbody tr th {\n",
              "        vertical-align: top;\n",
              "    }\n",
              "\n",
              "    .dataframe thead th {\n",
              "        text-align: right;\n",
              "    }\n",
              "</style>\n",
              "<table border=\"1\" class=\"dataframe\">\n",
              "  <thead>\n",
              "    <tr style=\"text-align: right;\">\n",
              "      <th></th>\n",
              "      <th>Address</th>\n",
              "      <th>City</th>\n",
              "      <th>State</th>\n",
              "      <th>Country</th>\n",
              "      <th>Employees</th>\n",
              "      <th>Salary</th>\n",
              "      <th>Total Salary</th>\n",
              "    </tr>\n",
              "    <tr>\n",
              "      <th>Name</th>\n",
              "      <th></th>\n",
              "      <th></th>\n",
              "      <th></th>\n",
              "      <th></th>\n",
              "      <th></th>\n",
              "      <th></th>\n",
              "      <th></th>\n",
              "    </tr>\n",
              "  </thead>\n",
              "  <tbody>\n",
              "    <tr>\n",
              "      <th>Madeira</th>\n",
              "      <td>3666 21st St</td>\n",
              "      <td>San Francisco</td>\n",
              "      <td>CA 94114</td>\n",
              "      <td>USA</td>\n",
              "      <td>8</td>\n",
              "      <td>10000</td>\n",
              "      <td>80000</td>\n",
              "    </tr>\n",
              "    <tr>\n",
              "      <th>Bready Shop</th>\n",
              "      <td>735 Dolores St</td>\n",
              "      <td>San Francisco</td>\n",
              "      <td>CA 94119</td>\n",
              "      <td>USA</td>\n",
              "      <td>15</td>\n",
              "      <td>20000</td>\n",
              "      <td>300000</td>\n",
              "    </tr>\n",
              "    <tr>\n",
              "      <th>Super River</th>\n",
              "      <td>332 Hill St</td>\n",
              "      <td>San Francisco</td>\n",
              "      <td>California 94114</td>\n",
              "      <td>USA</td>\n",
              "      <td>25</td>\n",
              "      <td>30000</td>\n",
              "      <td>750000</td>\n",
              "    </tr>\n",
              "    <tr>\n",
              "      <th>Ben's Shop</th>\n",
              "      <td>3995 23rd St</td>\n",
              "      <td>San Francisco</td>\n",
              "      <td>CA 94114</td>\n",
              "      <td>USA</td>\n",
              "      <td>10</td>\n",
              "      <td>40000</td>\n",
              "      <td>400000</td>\n",
              "    </tr>\n",
              "    <tr>\n",
              "      <th>Sanchez</th>\n",
              "      <td>1056 Sanchez St</td>\n",
              "      <td>San Francisco</td>\n",
              "      <td>California</td>\n",
              "      <td>USA</td>\n",
              "      <td>12</td>\n",
              "      <td>50000</td>\n",
              "      <td>600000</td>\n",
              "    </tr>\n",
              "    <tr>\n",
              "      <th>Richvalley</th>\n",
              "      <td>551 Alvarado St</td>\n",
              "      <td>San Francisco</td>\n",
              "      <td>CA 94114</td>\n",
              "      <td>USA</td>\n",
              "      <td>20</td>\n",
              "      <td>60000</td>\n",
              "      <td>1200000</td>\n",
              "    </tr>\n",
              "  </tbody>\n",
              "</table>\n",
              "</div>"
            ],
            "text/plain": [
              "                     Address           City  ... Salary Total Salary\n",
              "Name                                         ...                    \n",
              "Madeira         3666 21st St  San Francisco  ...  10000        80000\n",
              "Bready Shop   735 Dolores St  San Francisco  ...  20000       300000\n",
              "Super River      332 Hill St  San Francisco  ...  30000       750000\n",
              "Ben's Shop      3995 23rd St  San Francisco  ...  40000       400000\n",
              "Sanchez      1056 Sanchez St  San Francisco  ...  50000       600000\n",
              "Richvalley   551 Alvarado St  San Francisco  ...  60000      1200000\n",
              "\n",
              "[6 rows x 7 columns]"
            ]
          },
          "metadata": {
            "tags": []
          },
          "execution_count": 82
        }
      ]
    },
    {
      "cell_type": "code",
      "metadata": {
        "colab": {
          "base_uri": "https://localhost:8080/",
          "height": 235
        },
        "id": "EEmo1X_WRae2",
        "outputId": "021a3ca6-27b7-45d5-a318-2bc3e22ea67b"
      },
      "source": [
        "# Dropping record that contains Sanchez without affecting our original dataset\n",
        "data2.drop(labels=['Sanchez'], axis=0, inplace=False)"
      ],
      "execution_count": null,
      "outputs": [
        {
          "output_type": "execute_result",
          "data": {
            "text/html": [
              "<div>\n",
              "<style scoped>\n",
              "    .dataframe tbody tr th:only-of-type {\n",
              "        vertical-align: middle;\n",
              "    }\n",
              "\n",
              "    .dataframe tbody tr th {\n",
              "        vertical-align: top;\n",
              "    }\n",
              "\n",
              "    .dataframe thead th {\n",
              "        text-align: right;\n",
              "    }\n",
              "</style>\n",
              "<table border=\"1\" class=\"dataframe\">\n",
              "  <thead>\n",
              "    <tr style=\"text-align: right;\">\n",
              "      <th></th>\n",
              "      <th>Address</th>\n",
              "      <th>City</th>\n",
              "      <th>State</th>\n",
              "      <th>Country</th>\n",
              "      <th>Employees</th>\n",
              "      <th>Salary</th>\n",
              "      <th>Total Salary</th>\n",
              "    </tr>\n",
              "    <tr>\n",
              "      <th>Name</th>\n",
              "      <th></th>\n",
              "      <th></th>\n",
              "      <th></th>\n",
              "      <th></th>\n",
              "      <th></th>\n",
              "      <th></th>\n",
              "      <th></th>\n",
              "    </tr>\n",
              "  </thead>\n",
              "  <tbody>\n",
              "    <tr>\n",
              "      <th>Madeira</th>\n",
              "      <td>3666 21st St</td>\n",
              "      <td>San Francisco</td>\n",
              "      <td>CA 94114</td>\n",
              "      <td>USA</td>\n",
              "      <td>8</td>\n",
              "      <td>10000</td>\n",
              "      <td>80000</td>\n",
              "    </tr>\n",
              "    <tr>\n",
              "      <th>Bready Shop</th>\n",
              "      <td>735 Dolores St</td>\n",
              "      <td>San Francisco</td>\n",
              "      <td>CA 94119</td>\n",
              "      <td>USA</td>\n",
              "      <td>15</td>\n",
              "      <td>20000</td>\n",
              "      <td>300000</td>\n",
              "    </tr>\n",
              "    <tr>\n",
              "      <th>Super River</th>\n",
              "      <td>332 Hill St</td>\n",
              "      <td>San Francisco</td>\n",
              "      <td>California 94114</td>\n",
              "      <td>USA</td>\n",
              "      <td>25</td>\n",
              "      <td>30000</td>\n",
              "      <td>750000</td>\n",
              "    </tr>\n",
              "    <tr>\n",
              "      <th>Ben's Shop</th>\n",
              "      <td>3995 23rd St</td>\n",
              "      <td>San Francisco</td>\n",
              "      <td>CA 94114</td>\n",
              "      <td>USA</td>\n",
              "      <td>10</td>\n",
              "      <td>40000</td>\n",
              "      <td>400000</td>\n",
              "    </tr>\n",
              "    <tr>\n",
              "      <th>Richvalley</th>\n",
              "      <td>551 Alvarado St</td>\n",
              "      <td>San Francisco</td>\n",
              "      <td>CA 94114</td>\n",
              "      <td>USA</td>\n",
              "      <td>20</td>\n",
              "      <td>60000</td>\n",
              "      <td>1200000</td>\n",
              "    </tr>\n",
              "  </tbody>\n",
              "</table>\n",
              "</div>"
            ],
            "text/plain": [
              "                     Address           City  ... Salary Total Salary\n",
              "Name                                         ...                    \n",
              "Madeira         3666 21st St  San Francisco  ...  10000        80000\n",
              "Bready Shop   735 Dolores St  San Francisco  ...  20000       300000\n",
              "Super River      332 Hill St  San Francisco  ...  30000       750000\n",
              "Ben's Shop      3995 23rd St  San Francisco  ...  40000       400000\n",
              "Richvalley   551 Alvarado St  San Francisco  ...  60000      1200000\n",
              "\n",
              "[5 rows x 7 columns]"
            ]
          },
          "metadata": {
            "tags": []
          },
          "execution_count": 84
        }
      ]
    },
    {
      "cell_type": "markdown",
      "metadata": {
        "id": "mjOw1WUfSW80"
      },
      "source": [
        "**Observation:**\n",
        "\n",
        "- We have seen how to use select, add, and drop records or columns from a dataframe.\n",
        "\n",
        "- The use of these operations may differ according to the objective need.\n",
        "\n",
        "- For example, you use **dropping operations** when you have **null data** or **outliers**."
      ]
    },
    {
      "cell_type": "code",
      "source": [
        "D1 = pd.DataFrame([{'a':10,'b':20},{'a':5,'b':10,'c':20}])\n",
        "print(D1)\n",
        "print(D1.shape)"
      ],
      "metadata": {
        "colab": {
          "base_uri": "https://localhost:8080/"
        },
        "id": "5hP4B6T8bDo-",
        "outputId": "cef6cd4c-d836-45bc-fdbf-409b8d4049bc"
      },
      "execution_count": null,
      "outputs": [
        {
          "output_type": "stream",
          "name": "stdout",
          "text": [
            "    a   b     c\n",
            "0  10  20   NaN\n",
            "1   5  10  20.0\n",
            "(2, 3)\n"
          ]
        }
      ]
    },
    {
      "cell_type": "markdown",
      "metadata": {
        "id": "b_ZsUn22TF5u"
      },
      "source": [
        "<a name = Section45></a>\n",
        "## **4.5 DataFrame Indexing**\n",
        "\n",
        "- There are **two types** of indexing that we can perform in Pandas dataframe.\n",
        "\n",
        "  - Using numbers (row or column index) using .iloc[].\n",
        "\n",
        "  - Using names (row name or column name) using .loc[]."
      ]
    },
    {
      "cell_type": "code",
      "metadata": {
        "colab": {
          "base_uri": "https://localhost:8080/",
          "height": 266
        },
        "id": "TsqO9AY2SPKV",
        "outputId": "b0671ca5-ac26-4c3c-ec34-6c886438dfc6"
      },
      "source": [
        "# Loading remote csv files using pandas .read_csv() method and setting ID as index\n",
        "market_df = pd.read_csv(filepath_or_buffer='http://pythonhow.com/supermarkets.csv', index_col='ID')\n",
        "\n",
        "# Output the dataframe\n",
        "market_df"
      ],
      "execution_count": null,
      "outputs": [
        {
          "output_type": "execute_result",
          "data": {
            "text/html": [
              "<div>\n",
              "<style scoped>\n",
              "    .dataframe tbody tr th:only-of-type {\n",
              "        vertical-align: middle;\n",
              "    }\n",
              "\n",
              "    .dataframe tbody tr th {\n",
              "        vertical-align: top;\n",
              "    }\n",
              "\n",
              "    .dataframe thead th {\n",
              "        text-align: right;\n",
              "    }\n",
              "</style>\n",
              "<table border=\"1\" class=\"dataframe\">\n",
              "  <thead>\n",
              "    <tr style=\"text-align: right;\">\n",
              "      <th></th>\n",
              "      <th>Address</th>\n",
              "      <th>City</th>\n",
              "      <th>State</th>\n",
              "      <th>Country</th>\n",
              "      <th>Name</th>\n",
              "      <th>Employees</th>\n",
              "    </tr>\n",
              "    <tr>\n",
              "      <th>ID</th>\n",
              "      <th></th>\n",
              "      <th></th>\n",
              "      <th></th>\n",
              "      <th></th>\n",
              "      <th></th>\n",
              "      <th></th>\n",
              "    </tr>\n",
              "  </thead>\n",
              "  <tbody>\n",
              "    <tr>\n",
              "      <th>1</th>\n",
              "      <td>3666 21st St</td>\n",
              "      <td>San Francisco</td>\n",
              "      <td>CA 94114</td>\n",
              "      <td>USA</td>\n",
              "      <td>Madeira</td>\n",
              "      <td>8</td>\n",
              "    </tr>\n",
              "    <tr>\n",
              "      <th>2</th>\n",
              "      <td>735 Dolores St</td>\n",
              "      <td>San Francisco</td>\n",
              "      <td>CA 94119</td>\n",
              "      <td>USA</td>\n",
              "      <td>Bready Shop</td>\n",
              "      <td>15</td>\n",
              "    </tr>\n",
              "    <tr>\n",
              "      <th>3</th>\n",
              "      <td>332 Hill St</td>\n",
              "      <td>San Francisco</td>\n",
              "      <td>California 94114</td>\n",
              "      <td>USA</td>\n",
              "      <td>Super River</td>\n",
              "      <td>25</td>\n",
              "    </tr>\n",
              "    <tr>\n",
              "      <th>4</th>\n",
              "      <td>3995 23rd St</td>\n",
              "      <td>San Francisco</td>\n",
              "      <td>CA 94114</td>\n",
              "      <td>USA</td>\n",
              "      <td>Ben's Shop</td>\n",
              "      <td>10</td>\n",
              "    </tr>\n",
              "    <tr>\n",
              "      <th>5</th>\n",
              "      <td>1056 Sanchez St</td>\n",
              "      <td>San Francisco</td>\n",
              "      <td>California</td>\n",
              "      <td>USA</td>\n",
              "      <td>Sanchez</td>\n",
              "      <td>12</td>\n",
              "    </tr>\n",
              "    <tr>\n",
              "      <th>6</th>\n",
              "      <td>551 Alvarado St</td>\n",
              "      <td>San Francisco</td>\n",
              "      <td>CA 94114</td>\n",
              "      <td>USA</td>\n",
              "      <td>Richvalley</td>\n",
              "      <td>20</td>\n",
              "    </tr>\n",
              "  </tbody>\n",
              "</table>\n",
              "</div>"
            ],
            "text/plain": [
              "            Address           City  ...         Name Employees\n",
              "ID                                  ...                       \n",
              "1      3666 21st St  San Francisco  ...      Madeira         8\n",
              "2    735 Dolores St  San Francisco  ...  Bready Shop        15\n",
              "3       332 Hill St  San Francisco  ...  Super River        25\n",
              "4      3995 23rd St  San Francisco  ...   Ben's Shop        10\n",
              "5   1056 Sanchez St  San Francisco  ...      Sanchez        12\n",
              "6   551 Alvarado St  San Francisco  ...   Richvalley        20\n",
              "\n",
              "[6 rows x 6 columns]"
            ]
          },
          "metadata": {
            "tags": []
          },
          "execution_count": 86
        }
      ]
    },
    {
      "cell_type": "markdown",
      "metadata": {
        "id": "a-v4w5x1U4TF"
      },
      "source": [
        "**Indexing using .iloc[]**: Purely integer-location based indexing for selection by position."
      ]
    },
    {
      "cell_type": "code",
      "metadata": {
        "colab": {
          "base_uri": "https://localhost:8080/",
          "height": 204
        },
        "id": "hKpYtEz8TyNj",
        "outputId": "07b968b9-8b41-4e93-f9a2-44eb338d1684"
      },
      "source": [
        "# Accessing rows (0th to 4th index) and columns (1st to 3rd index) in a dataframe\n",
        "market_df.iloc[0:4,1:3]"
      ],
      "execution_count": null,
      "outputs": [
        {
          "output_type": "execute_result",
          "data": {
            "text/html": [
              "<div>\n",
              "<style scoped>\n",
              "    .dataframe tbody tr th:only-of-type {\n",
              "        vertical-align: middle;\n",
              "    }\n",
              "\n",
              "    .dataframe tbody tr th {\n",
              "        vertical-align: top;\n",
              "    }\n",
              "\n",
              "    .dataframe thead th {\n",
              "        text-align: right;\n",
              "    }\n",
              "</style>\n",
              "<table border=\"1\" class=\"dataframe\">\n",
              "  <thead>\n",
              "    <tr style=\"text-align: right;\">\n",
              "      <th></th>\n",
              "      <th>City</th>\n",
              "      <th>State</th>\n",
              "    </tr>\n",
              "    <tr>\n",
              "      <th>ID</th>\n",
              "      <th></th>\n",
              "      <th></th>\n",
              "    </tr>\n",
              "  </thead>\n",
              "  <tbody>\n",
              "    <tr>\n",
              "      <th>1</th>\n",
              "      <td>San Francisco</td>\n",
              "      <td>CA 94114</td>\n",
              "    </tr>\n",
              "    <tr>\n",
              "      <th>2</th>\n",
              "      <td>San Francisco</td>\n",
              "      <td>CA 94119</td>\n",
              "    </tr>\n",
              "    <tr>\n",
              "      <th>3</th>\n",
              "      <td>San Francisco</td>\n",
              "      <td>California 94114</td>\n",
              "    </tr>\n",
              "    <tr>\n",
              "      <th>4</th>\n",
              "      <td>San Francisco</td>\n",
              "      <td>CA 94114</td>\n",
              "    </tr>\n",
              "  </tbody>\n",
              "</table>\n",
              "</div>"
            ],
            "text/plain": [
              "             City             State\n",
              "ID                                 \n",
              "1   San Francisco          CA 94114\n",
              "2   San Francisco          CA 94119\n",
              "3   San Francisco  California 94114\n",
              "4   San Francisco          CA 94114"
            ]
          },
          "metadata": {
            "tags": []
          },
          "execution_count": 87
        }
      ]
    },
    {
      "cell_type": "code",
      "metadata": {
        "colab": {
          "base_uri": "https://localhost:8080/",
          "height": 266
        },
        "id": "nqM8Y093VUGG",
        "outputId": "d64e26ad-a9e1-4630-abe8-eb0a29717c4b"
      },
      "source": [
        "# Accessing rows (all) and columns (0th to 5th index) in a dataframe\n",
        "market_df.iloc[:, 0:5]"
      ],
      "execution_count": null,
      "outputs": [
        {
          "output_type": "execute_result",
          "data": {
            "text/html": [
              "<div>\n",
              "<style scoped>\n",
              "    .dataframe tbody tr th:only-of-type {\n",
              "        vertical-align: middle;\n",
              "    }\n",
              "\n",
              "    .dataframe tbody tr th {\n",
              "        vertical-align: top;\n",
              "    }\n",
              "\n",
              "    .dataframe thead th {\n",
              "        text-align: right;\n",
              "    }\n",
              "</style>\n",
              "<table border=\"1\" class=\"dataframe\">\n",
              "  <thead>\n",
              "    <tr style=\"text-align: right;\">\n",
              "      <th></th>\n",
              "      <th>Address</th>\n",
              "      <th>City</th>\n",
              "      <th>State</th>\n",
              "      <th>Country</th>\n",
              "      <th>Name</th>\n",
              "    </tr>\n",
              "    <tr>\n",
              "      <th>ID</th>\n",
              "      <th></th>\n",
              "      <th></th>\n",
              "      <th></th>\n",
              "      <th></th>\n",
              "      <th></th>\n",
              "    </tr>\n",
              "  </thead>\n",
              "  <tbody>\n",
              "    <tr>\n",
              "      <th>1</th>\n",
              "      <td>3666 21st St</td>\n",
              "      <td>San Francisco</td>\n",
              "      <td>CA 94114</td>\n",
              "      <td>USA</td>\n",
              "      <td>Madeira</td>\n",
              "    </tr>\n",
              "    <tr>\n",
              "      <th>2</th>\n",
              "      <td>735 Dolores St</td>\n",
              "      <td>San Francisco</td>\n",
              "      <td>CA 94119</td>\n",
              "      <td>USA</td>\n",
              "      <td>Bready Shop</td>\n",
              "    </tr>\n",
              "    <tr>\n",
              "      <th>3</th>\n",
              "      <td>332 Hill St</td>\n",
              "      <td>San Francisco</td>\n",
              "      <td>California 94114</td>\n",
              "      <td>USA</td>\n",
              "      <td>Super River</td>\n",
              "    </tr>\n",
              "    <tr>\n",
              "      <th>4</th>\n",
              "      <td>3995 23rd St</td>\n",
              "      <td>San Francisco</td>\n",
              "      <td>CA 94114</td>\n",
              "      <td>USA</td>\n",
              "      <td>Ben's Shop</td>\n",
              "    </tr>\n",
              "    <tr>\n",
              "      <th>5</th>\n",
              "      <td>1056 Sanchez St</td>\n",
              "      <td>San Francisco</td>\n",
              "      <td>California</td>\n",
              "      <td>USA</td>\n",
              "      <td>Sanchez</td>\n",
              "    </tr>\n",
              "    <tr>\n",
              "      <th>6</th>\n",
              "      <td>551 Alvarado St</td>\n",
              "      <td>San Francisco</td>\n",
              "      <td>CA 94114</td>\n",
              "      <td>USA</td>\n",
              "      <td>Richvalley</td>\n",
              "    </tr>\n",
              "  </tbody>\n",
              "</table>\n",
              "</div>"
            ],
            "text/plain": [
              "            Address           City             State Country         Name\n",
              "ID                                                                       \n",
              "1      3666 21st St  San Francisco          CA 94114     USA      Madeira\n",
              "2    735 Dolores St  San Francisco          CA 94119     USA  Bready Shop\n",
              "3       332 Hill St  San Francisco  California 94114     USA  Super River\n",
              "4      3995 23rd St  San Francisco          CA 94114     USA   Ben's Shop\n",
              "5   1056 Sanchez St  San Francisco        California     USA      Sanchez\n",
              "6   551 Alvarado St  San Francisco          CA 94114     USA   Richvalley"
            ]
          },
          "metadata": {
            "tags": []
          },
          "execution_count": 88
        }
      ]
    },
    {
      "cell_type": "code",
      "metadata": {
        "colab": {
          "base_uri": "https://localhost:8080/",
          "height": 204
        },
        "id": "bUe7bD--Vdco",
        "outputId": "cb5170a3-223d-47b4-c3cd-031400868758"
      },
      "source": [
        "# Accessing rows (0th to 4th index) and columns (all) in a dataframe\n",
        "market_df.iloc[0:4, :]"
      ],
      "execution_count": null,
      "outputs": [
        {
          "output_type": "execute_result",
          "data": {
            "text/html": [
              "<div>\n",
              "<style scoped>\n",
              "    .dataframe tbody tr th:only-of-type {\n",
              "        vertical-align: middle;\n",
              "    }\n",
              "\n",
              "    .dataframe tbody tr th {\n",
              "        vertical-align: top;\n",
              "    }\n",
              "\n",
              "    .dataframe thead th {\n",
              "        text-align: right;\n",
              "    }\n",
              "</style>\n",
              "<table border=\"1\" class=\"dataframe\">\n",
              "  <thead>\n",
              "    <tr style=\"text-align: right;\">\n",
              "      <th></th>\n",
              "      <th>Address</th>\n",
              "      <th>City</th>\n",
              "      <th>State</th>\n",
              "      <th>Country</th>\n",
              "      <th>Name</th>\n",
              "      <th>Employees</th>\n",
              "    </tr>\n",
              "    <tr>\n",
              "      <th>ID</th>\n",
              "      <th></th>\n",
              "      <th></th>\n",
              "      <th></th>\n",
              "      <th></th>\n",
              "      <th></th>\n",
              "      <th></th>\n",
              "    </tr>\n",
              "  </thead>\n",
              "  <tbody>\n",
              "    <tr>\n",
              "      <th>1</th>\n",
              "      <td>3666 21st St</td>\n",
              "      <td>San Francisco</td>\n",
              "      <td>CA 94114</td>\n",
              "      <td>USA</td>\n",
              "      <td>Madeira</td>\n",
              "      <td>8</td>\n",
              "    </tr>\n",
              "    <tr>\n",
              "      <th>2</th>\n",
              "      <td>735 Dolores St</td>\n",
              "      <td>San Francisco</td>\n",
              "      <td>CA 94119</td>\n",
              "      <td>USA</td>\n",
              "      <td>Bready Shop</td>\n",
              "      <td>15</td>\n",
              "    </tr>\n",
              "    <tr>\n",
              "      <th>3</th>\n",
              "      <td>332 Hill St</td>\n",
              "      <td>San Francisco</td>\n",
              "      <td>California 94114</td>\n",
              "      <td>USA</td>\n",
              "      <td>Super River</td>\n",
              "      <td>25</td>\n",
              "    </tr>\n",
              "    <tr>\n",
              "      <th>4</th>\n",
              "      <td>3995 23rd St</td>\n",
              "      <td>San Francisco</td>\n",
              "      <td>CA 94114</td>\n",
              "      <td>USA</td>\n",
              "      <td>Ben's Shop</td>\n",
              "      <td>10</td>\n",
              "    </tr>\n",
              "  </tbody>\n",
              "</table>\n",
              "</div>"
            ],
            "text/plain": [
              "           Address           City  ...         Name Employees\n",
              "ID                                 ...                       \n",
              "1     3666 21st St  San Francisco  ...      Madeira         8\n",
              "2   735 Dolores St  San Francisco  ...  Bready Shop        15\n",
              "3      332 Hill St  San Francisco  ...  Super River        25\n",
              "4     3995 23rd St  San Francisco  ...   Ben's Shop        10\n",
              "\n",
              "[4 rows x 6 columns]"
            ]
          },
          "metadata": {
            "tags": []
          },
          "execution_count": 89
        }
      ]
    },
    {
      "cell_type": "markdown",
      "metadata": {
        "id": "niyT52sAVsC1"
      },
      "source": [
        "**Indexing using .loc[]**: Access a group of rows and columns by label(s) or a boolean array."
      ]
    },
    {
      "cell_type": "code",
      "metadata": {
        "colab": {
          "base_uri": "https://localhost:8080/"
        },
        "id": "OJKDXQRpVpxz",
        "outputId": "3924044c-a969-4b93-ade0-7944d3108c2a"
      },
      "source": [
        "# Accessing rows (3rd to 5th index) and columns (Address) in a dataframe\n",
        "# As we are accessing only one column it will be returned as a series\n",
        "market_df.loc[3:5, 'Address']"
      ],
      "execution_count": null,
      "outputs": [
        {
          "output_type": "execute_result",
          "data": {
            "text/plain": [
              "ID\n",
              "3        332 Hill St\n",
              "4       3995 23rd St\n",
              "5    1056 Sanchez St\n",
              "Name: Address, dtype: object"
            ]
          },
          "metadata": {
            "tags": []
          },
          "execution_count": 90
        }
      ]
    },
    {
      "cell_type": "code",
      "metadata": {
        "colab": {
          "base_uri": "https://localhost:8080/",
          "height": 204
        },
        "id": "jPNtyk-BWKi6",
        "outputId": "71abad9b-59fc-4b97-fe18-de172f8b4831"
      },
      "source": [
        "# Accessing rows (1st to 4th index) and columns (Address to Country) in a dataframe\n",
        "market_df.loc[1:4, 'Address':'Country']"
      ],
      "execution_count": null,
      "outputs": [
        {
          "output_type": "execute_result",
          "data": {
            "text/html": [
              "<div>\n",
              "<style scoped>\n",
              "    .dataframe tbody tr th:only-of-type {\n",
              "        vertical-align: middle;\n",
              "    }\n",
              "\n",
              "    .dataframe tbody tr th {\n",
              "        vertical-align: top;\n",
              "    }\n",
              "\n",
              "    .dataframe thead th {\n",
              "        text-align: right;\n",
              "    }\n",
              "</style>\n",
              "<table border=\"1\" class=\"dataframe\">\n",
              "  <thead>\n",
              "    <tr style=\"text-align: right;\">\n",
              "      <th></th>\n",
              "      <th>Address</th>\n",
              "      <th>City</th>\n",
              "      <th>State</th>\n",
              "      <th>Country</th>\n",
              "    </tr>\n",
              "    <tr>\n",
              "      <th>ID</th>\n",
              "      <th></th>\n",
              "      <th></th>\n",
              "      <th></th>\n",
              "      <th></th>\n",
              "    </tr>\n",
              "  </thead>\n",
              "  <tbody>\n",
              "    <tr>\n",
              "      <th>1</th>\n",
              "      <td>3666 21st St</td>\n",
              "      <td>San Francisco</td>\n",
              "      <td>CA 94114</td>\n",
              "      <td>USA</td>\n",
              "    </tr>\n",
              "    <tr>\n",
              "      <th>2</th>\n",
              "      <td>735 Dolores St</td>\n",
              "      <td>San Francisco</td>\n",
              "      <td>CA 94119</td>\n",
              "      <td>USA</td>\n",
              "    </tr>\n",
              "    <tr>\n",
              "      <th>3</th>\n",
              "      <td>332 Hill St</td>\n",
              "      <td>San Francisco</td>\n",
              "      <td>California 94114</td>\n",
              "      <td>USA</td>\n",
              "    </tr>\n",
              "    <tr>\n",
              "      <th>4</th>\n",
              "      <td>3995 23rd St</td>\n",
              "      <td>San Francisco</td>\n",
              "      <td>CA 94114</td>\n",
              "      <td>USA</td>\n",
              "    </tr>\n",
              "  </tbody>\n",
              "</table>\n",
              "</div>"
            ],
            "text/plain": [
              "           Address           City             State Country\n",
              "ID                                                         \n",
              "1     3666 21st St  San Francisco          CA 94114     USA\n",
              "2   735 Dolores St  San Francisco          CA 94119     USA\n",
              "3      332 Hill St  San Francisco  California 94114     USA\n",
              "4     3995 23rd St  San Francisco          CA 94114     USA"
            ]
          },
          "metadata": {
            "tags": []
          },
          "execution_count": 91
        }
      ]
    },
    {
      "cell_type": "code",
      "metadata": {
        "colab": {
          "base_uri": "https://localhost:8080/",
          "height": 266
        },
        "id": "vcAhB4USWFMR",
        "outputId": "8339e094-7f6d-4457-a228-0a8cef28ba42"
      },
      "source": [
        "# Accessing rows (all) and columns (State to all) in a dataframe\n",
        "market_df.loc[:, 'State':]"
      ],
      "execution_count": null,
      "outputs": [
        {
          "output_type": "execute_result",
          "data": {
            "text/html": [
              "<div>\n",
              "<style scoped>\n",
              "    .dataframe tbody tr th:only-of-type {\n",
              "        vertical-align: middle;\n",
              "    }\n",
              "\n",
              "    .dataframe tbody tr th {\n",
              "        vertical-align: top;\n",
              "    }\n",
              "\n",
              "    .dataframe thead th {\n",
              "        text-align: right;\n",
              "    }\n",
              "</style>\n",
              "<table border=\"1\" class=\"dataframe\">\n",
              "  <thead>\n",
              "    <tr style=\"text-align: right;\">\n",
              "      <th></th>\n",
              "      <th>State</th>\n",
              "      <th>Country</th>\n",
              "      <th>Name</th>\n",
              "      <th>Employees</th>\n",
              "    </tr>\n",
              "    <tr>\n",
              "      <th>ID</th>\n",
              "      <th></th>\n",
              "      <th></th>\n",
              "      <th></th>\n",
              "      <th></th>\n",
              "    </tr>\n",
              "  </thead>\n",
              "  <tbody>\n",
              "    <tr>\n",
              "      <th>1</th>\n",
              "      <td>CA 94114</td>\n",
              "      <td>USA</td>\n",
              "      <td>Madeira</td>\n",
              "      <td>8</td>\n",
              "    </tr>\n",
              "    <tr>\n",
              "      <th>2</th>\n",
              "      <td>CA 94119</td>\n",
              "      <td>USA</td>\n",
              "      <td>Bready Shop</td>\n",
              "      <td>15</td>\n",
              "    </tr>\n",
              "    <tr>\n",
              "      <th>3</th>\n",
              "      <td>California 94114</td>\n",
              "      <td>USA</td>\n",
              "      <td>Super River</td>\n",
              "      <td>25</td>\n",
              "    </tr>\n",
              "    <tr>\n",
              "      <th>4</th>\n",
              "      <td>CA 94114</td>\n",
              "      <td>USA</td>\n",
              "      <td>Ben's Shop</td>\n",
              "      <td>10</td>\n",
              "    </tr>\n",
              "    <tr>\n",
              "      <th>5</th>\n",
              "      <td>California</td>\n",
              "      <td>USA</td>\n",
              "      <td>Sanchez</td>\n",
              "      <td>12</td>\n",
              "    </tr>\n",
              "    <tr>\n",
              "      <th>6</th>\n",
              "      <td>CA 94114</td>\n",
              "      <td>USA</td>\n",
              "      <td>Richvalley</td>\n",
              "      <td>20</td>\n",
              "    </tr>\n",
              "  </tbody>\n",
              "</table>\n",
              "</div>"
            ],
            "text/plain": [
              "               State Country         Name  Employees\n",
              "ID                                                  \n",
              "1           CA 94114     USA      Madeira          8\n",
              "2           CA 94119     USA  Bready Shop         15\n",
              "3   California 94114     USA  Super River         25\n",
              "4           CA 94114     USA   Ben's Shop         10\n",
              "5         California     USA      Sanchez         12\n",
              "6           CA 94114     USA   Richvalley         20"
            ]
          },
          "metadata": {
            "tags": []
          },
          "execution_count": 92
        }
      ]
    },
    {
      "cell_type": "markdown",
      "metadata": {
        "id": "Kx9FjKfnWjrf"
      },
      "source": [
        "**Observation:**\n",
        "\n",
        "- We observed how to index data elements (rows and columns) using .loc[] and .iloc[].\n",
        "\n",
        "- You can use these operations to separate features into numerical and categorical columns."
      ]
    },
    {
      "cell_type": "markdown",
      "metadata": {
        "id": "DkXYC2B8W6rc"
      },
      "source": [
        "<a name = Section46></a>\n",
        "## **4.6 Append, Concat & Merge Operations**\n",
        "\n",
        "- In this section we will see how to append, merge and concatenate two or more dataframes."
      ]
    },
    {
      "cell_type": "markdown",
      "metadata": {
        "id": "lpjrPgdNYHrc"
      },
      "source": [
        "**Appending DataFrames**: For full documentation of the function click <a href=\"https://pandas.pydata.org/pandas-docs/stable/reference/api/pandas.DataFrame.append.html\">**here**</a>."
      ]
    },
    {
      "cell_type": "code",
      "metadata": {
        "colab": {
          "base_uri": "https://localhost:8080/",
          "height": 204
        },
        "id": "3loC4Yg_ZWnx",
        "outputId": "8b001320-df8b-4cdb-957f-3925b02943de"
      },
      "source": [
        "# Creating custom data of data science students\n",
        "data_dict = {'id':[1, 2, 3, 4, 5], 'name':['Suchit', 'Mohit', 'Mukesh', 'Hemanka', 'Ashish'], \n",
        "             'language':['English', 'Hindi', 'Punjabi', 'Hindi', 'Hindi']}\n",
        "\n",
        "# Creating dataframe out of data_dict variable\n",
        "df1 = pd.DataFrame(data=data_dict)\n",
        "\n",
        "# Output the dataframe\n",
        "df1"
      ],
      "execution_count": null,
      "outputs": [
        {
          "output_type": "execute_result",
          "data": {
            "text/html": [
              "<div>\n",
              "<style scoped>\n",
              "    .dataframe tbody tr th:only-of-type {\n",
              "        vertical-align: middle;\n",
              "    }\n",
              "\n",
              "    .dataframe tbody tr th {\n",
              "        vertical-align: top;\n",
              "    }\n",
              "\n",
              "    .dataframe thead th {\n",
              "        text-align: right;\n",
              "    }\n",
              "</style>\n",
              "<table border=\"1\" class=\"dataframe\">\n",
              "  <thead>\n",
              "    <tr style=\"text-align: right;\">\n",
              "      <th></th>\n",
              "      <th>id</th>\n",
              "      <th>name</th>\n",
              "      <th>language</th>\n",
              "    </tr>\n",
              "  </thead>\n",
              "  <tbody>\n",
              "    <tr>\n",
              "      <th>0</th>\n",
              "      <td>1</td>\n",
              "      <td>Suchit</td>\n",
              "      <td>English</td>\n",
              "    </tr>\n",
              "    <tr>\n",
              "      <th>1</th>\n",
              "      <td>2</td>\n",
              "      <td>Mohit</td>\n",
              "      <td>Hindi</td>\n",
              "    </tr>\n",
              "    <tr>\n",
              "      <th>2</th>\n",
              "      <td>3</td>\n",
              "      <td>Mukesh</td>\n",
              "      <td>Punjabi</td>\n",
              "    </tr>\n",
              "    <tr>\n",
              "      <th>3</th>\n",
              "      <td>4</td>\n",
              "      <td>Hemanka</td>\n",
              "      <td>Hindi</td>\n",
              "    </tr>\n",
              "    <tr>\n",
              "      <th>4</th>\n",
              "      <td>5</td>\n",
              "      <td>Ashish</td>\n",
              "      <td>Hindi</td>\n",
              "    </tr>\n",
              "  </tbody>\n",
              "</table>\n",
              "</div>"
            ],
            "text/plain": [
              "   id     name language\n",
              "0   1   Suchit  English\n",
              "1   2    Mohit    Hindi\n",
              "2   3   Mukesh  Punjabi\n",
              "3   4  Hemanka    Hindi\n",
              "4   5   Ashish    Hindi"
            ]
          },
          "metadata": {
            "tags": []
          },
          "execution_count": 103
        }
      ]
    },
    {
      "cell_type": "code",
      "metadata": {
        "colab": {
          "base_uri": "https://localhost:8080/",
          "height": 80
        },
        "id": "MXhtKaX3WdpC",
        "outputId": "82a5f76a-6a9c-4563-99d9-2369bc03aec6"
      },
      "source": [
        "# Creating another dataframe that contains only one row\n",
        "df2 = pd.DataFrame(data={'id': [6], 'name': ['Hiren'], 'language': ['English']})\n",
        "\n",
        "# Output the dataframe\n",
        "df2"
      ],
      "execution_count": null,
      "outputs": [
        {
          "output_type": "execute_result",
          "data": {
            "text/html": [
              "<div>\n",
              "<style scoped>\n",
              "    .dataframe tbody tr th:only-of-type {\n",
              "        vertical-align: middle;\n",
              "    }\n",
              "\n",
              "    .dataframe tbody tr th {\n",
              "        vertical-align: top;\n",
              "    }\n",
              "\n",
              "    .dataframe thead th {\n",
              "        text-align: right;\n",
              "    }\n",
              "</style>\n",
              "<table border=\"1\" class=\"dataframe\">\n",
              "  <thead>\n",
              "    <tr style=\"text-align: right;\">\n",
              "      <th></th>\n",
              "      <th>id</th>\n",
              "      <th>name</th>\n",
              "      <th>language</th>\n",
              "    </tr>\n",
              "  </thead>\n",
              "  <tbody>\n",
              "    <tr>\n",
              "      <th>0</th>\n",
              "      <td>6</td>\n",
              "      <td>Hiren</td>\n",
              "      <td>English</td>\n",
              "    </tr>\n",
              "  </tbody>\n",
              "</table>\n",
              "</div>"
            ],
            "text/plain": [
              "   id   name language\n",
              "0   6  Hiren  English"
            ]
          },
          "metadata": {
            "tags": []
          },
          "execution_count": 104
        }
      ]
    },
    {
      "cell_type": "code",
      "metadata": {
        "colab": {
          "base_uri": "https://localhost:8080/",
          "height": 235
        },
        "id": "TUihcvZzabvK",
        "outputId": "a5b811d3-f0d2-4156-e2af-7179429c1aeb"
      },
      "source": [
        "# Creating a third dataframe by appending df2 to df1\n",
        "df3 = df1.append(other=df2)\n",
        "\n",
        "# Output the dataframe\n",
        "df3"
      ],
      "execution_count": null,
      "outputs": [
        {
          "output_type": "execute_result",
          "data": {
            "text/html": [
              "<div>\n",
              "<style scoped>\n",
              "    .dataframe tbody tr th:only-of-type {\n",
              "        vertical-align: middle;\n",
              "    }\n",
              "\n",
              "    .dataframe tbody tr th {\n",
              "        vertical-align: top;\n",
              "    }\n",
              "\n",
              "    .dataframe thead th {\n",
              "        text-align: right;\n",
              "    }\n",
              "</style>\n",
              "<table border=\"1\" class=\"dataframe\">\n",
              "  <thead>\n",
              "    <tr style=\"text-align: right;\">\n",
              "      <th></th>\n",
              "      <th>id</th>\n",
              "      <th>name</th>\n",
              "      <th>language</th>\n",
              "    </tr>\n",
              "  </thead>\n",
              "  <tbody>\n",
              "    <tr>\n",
              "      <th>0</th>\n",
              "      <td>1</td>\n",
              "      <td>Suchit</td>\n",
              "      <td>English</td>\n",
              "    </tr>\n",
              "    <tr>\n",
              "      <th>1</th>\n",
              "      <td>2</td>\n",
              "      <td>Mohit</td>\n",
              "      <td>Hindi</td>\n",
              "    </tr>\n",
              "    <tr>\n",
              "      <th>2</th>\n",
              "      <td>3</td>\n",
              "      <td>Mukesh</td>\n",
              "      <td>Punjabi</td>\n",
              "    </tr>\n",
              "    <tr>\n",
              "      <th>3</th>\n",
              "      <td>4</td>\n",
              "      <td>Hemanka</td>\n",
              "      <td>Hindi</td>\n",
              "    </tr>\n",
              "    <tr>\n",
              "      <th>4</th>\n",
              "      <td>5</td>\n",
              "      <td>Ashish</td>\n",
              "      <td>Hindi</td>\n",
              "    </tr>\n",
              "    <tr>\n",
              "      <th>0</th>\n",
              "      <td>6</td>\n",
              "      <td>Hiren</td>\n",
              "      <td>English</td>\n",
              "    </tr>\n",
              "  </tbody>\n",
              "</table>\n",
              "</div>"
            ],
            "text/plain": [
              "   id     name language\n",
              "0   1   Suchit  English\n",
              "1   2    Mohit    Hindi\n",
              "2   3   Mukesh  Punjabi\n",
              "3   4  Hemanka    Hindi\n",
              "4   5   Ashish    Hindi\n",
              "0   6    Hiren  English"
            ]
          },
          "metadata": {
            "tags": []
          },
          "execution_count": 105
        }
      ]
    },
    {
      "cell_type": "markdown",
      "metadata": {
        "id": "WGFJZf0Sbav1"
      },
      "source": [
        "**Observation:** \n",
        "\n",
        "- Did you observed the index of the row from second dataframe?\n",
        "\n",
        "- Well there a solution to that as well, just set ignore_index to True."
      ]
    },
    {
      "cell_type": "code",
      "metadata": {
        "colab": {
          "base_uri": "https://localhost:8080/",
          "height": 235
        },
        "id": "VkHYtrohawE1",
        "outputId": "ca8d73d7-3d25-483a-d817-00f0ee3332c4"
      },
      "source": [
        "# Creating a third dataframe by appending df2 to df1 and ingoring index\n",
        "df3 = df1.append(other=df2, ignore_index=True)\n",
        "\n",
        "# Output the dataframe\n",
        "df3"
      ],
      "execution_count": null,
      "outputs": [
        {
          "output_type": "execute_result",
          "data": {
            "text/html": [
              "<div>\n",
              "<style scoped>\n",
              "    .dataframe tbody tr th:only-of-type {\n",
              "        vertical-align: middle;\n",
              "    }\n",
              "\n",
              "    .dataframe tbody tr th {\n",
              "        vertical-align: top;\n",
              "    }\n",
              "\n",
              "    .dataframe thead th {\n",
              "        text-align: right;\n",
              "    }\n",
              "</style>\n",
              "<table border=\"1\" class=\"dataframe\">\n",
              "  <thead>\n",
              "    <tr style=\"text-align: right;\">\n",
              "      <th></th>\n",
              "      <th>id</th>\n",
              "      <th>name</th>\n",
              "      <th>language</th>\n",
              "    </tr>\n",
              "  </thead>\n",
              "  <tbody>\n",
              "    <tr>\n",
              "      <th>0</th>\n",
              "      <td>1</td>\n",
              "      <td>Suchit</td>\n",
              "      <td>English</td>\n",
              "    </tr>\n",
              "    <tr>\n",
              "      <th>1</th>\n",
              "      <td>2</td>\n",
              "      <td>Mohit</td>\n",
              "      <td>Hindi</td>\n",
              "    </tr>\n",
              "    <tr>\n",
              "      <th>2</th>\n",
              "      <td>3</td>\n",
              "      <td>Mukesh</td>\n",
              "      <td>Punjabi</td>\n",
              "    </tr>\n",
              "    <tr>\n",
              "      <th>3</th>\n",
              "      <td>4</td>\n",
              "      <td>Hemanka</td>\n",
              "      <td>Hindi</td>\n",
              "    </tr>\n",
              "    <tr>\n",
              "      <th>4</th>\n",
              "      <td>5</td>\n",
              "      <td>Ashish</td>\n",
              "      <td>Hindi</td>\n",
              "    </tr>\n",
              "    <tr>\n",
              "      <th>5</th>\n",
              "      <td>6</td>\n",
              "      <td>Hiren</td>\n",
              "      <td>English</td>\n",
              "    </tr>\n",
              "  </tbody>\n",
              "</table>\n",
              "</div>"
            ],
            "text/plain": [
              "   id     name language\n",
              "0   1   Suchit  English\n",
              "1   2    Mohit    Hindi\n",
              "2   3   Mukesh  Punjabi\n",
              "3   4  Hemanka    Hindi\n",
              "4   5   Ashish    Hindi\n",
              "5   6    Hiren  English"
            ]
          },
          "metadata": {
            "tags": []
          },
          "execution_count": 106
        }
      ]
    },
    {
      "cell_type": "markdown",
      "metadata": {
        "id": "wIM0lPO8b2YD"
      },
      "source": [
        "**Concatenating DataFrames**: For full documentation of the function click <a href=\"https://pandas.pydata.org/pandas-docs/stable/reference/api/pandas.concat.html\">**here**</a>."
      ]
    },
    {
      "cell_type": "code",
      "metadata": {
        "id": "elsc_o8Ccv6F"
      },
      "source": [
        "# Creating custom dataset 1\n",
        "data_dict1 = {'id': [1, 2, 3, 4, 5], 'name': ['a', 'b', 'c', 'd', 'e'], \n",
        "              'sub': ['sub1', 'sub2', 'sub3', 'sub4', 'sub5']\n",
        "              }\n",
        "\n",
        "# Creating custom dataset 2              \n",
        "data_dict2 = {'id': [1, 2, 3, 4, 5], 'name': ['b', 'c', 'd', 'e', 'f'],\n",
        "              'sub': ['sub3', 'sub4', 'sub5', 'sub6', 'sub7']\n",
        "              }\n",
        "\n",
        "# Creating dataframes out of custom data dictionaries\n",
        "df1 = pd.DataFrame(data=data_dict1)\n",
        "df2 = pd.DataFrame(data=data_dict2)"
      ],
      "execution_count": null,
      "outputs": []
    },
    {
      "cell_type": "code",
      "metadata": {
        "colab": {
          "base_uri": "https://localhost:8080/",
          "height": 204
        },
        "id": "7ffIosB_dl3e",
        "outputId": "b523245e-48ad-44ff-e054-b344f03f84a0"
      },
      "source": [
        "df1"
      ],
      "execution_count": null,
      "outputs": [
        {
          "output_type": "execute_result",
          "data": {
            "text/html": [
              "<div>\n",
              "<style scoped>\n",
              "    .dataframe tbody tr th:only-of-type {\n",
              "        vertical-align: middle;\n",
              "    }\n",
              "\n",
              "    .dataframe tbody tr th {\n",
              "        vertical-align: top;\n",
              "    }\n",
              "\n",
              "    .dataframe thead th {\n",
              "        text-align: right;\n",
              "    }\n",
              "</style>\n",
              "<table border=\"1\" class=\"dataframe\">\n",
              "  <thead>\n",
              "    <tr style=\"text-align: right;\">\n",
              "      <th></th>\n",
              "      <th>id</th>\n",
              "      <th>name</th>\n",
              "      <th>sub</th>\n",
              "    </tr>\n",
              "  </thead>\n",
              "  <tbody>\n",
              "    <tr>\n",
              "      <th>0</th>\n",
              "      <td>1</td>\n",
              "      <td>a</td>\n",
              "      <td>sub1</td>\n",
              "    </tr>\n",
              "    <tr>\n",
              "      <th>1</th>\n",
              "      <td>2</td>\n",
              "      <td>b</td>\n",
              "      <td>sub2</td>\n",
              "    </tr>\n",
              "    <tr>\n",
              "      <th>2</th>\n",
              "      <td>3</td>\n",
              "      <td>c</td>\n",
              "      <td>sub3</td>\n",
              "    </tr>\n",
              "    <tr>\n",
              "      <th>3</th>\n",
              "      <td>4</td>\n",
              "      <td>d</td>\n",
              "      <td>sub4</td>\n",
              "    </tr>\n",
              "    <tr>\n",
              "      <th>4</th>\n",
              "      <td>5</td>\n",
              "      <td>e</td>\n",
              "      <td>sub5</td>\n",
              "    </tr>\n",
              "  </tbody>\n",
              "</table>\n",
              "</div>"
            ],
            "text/plain": [
              "   id name   sub\n",
              "0   1    a  sub1\n",
              "1   2    b  sub2\n",
              "2   3    c  sub3\n",
              "3   4    d  sub4\n",
              "4   5    e  sub5"
            ]
          },
          "metadata": {
            "tags": []
          },
          "execution_count": 108
        }
      ]
    },
    {
      "cell_type": "code",
      "metadata": {
        "colab": {
          "base_uri": "https://localhost:8080/",
          "height": 204
        },
        "id": "n7Hq0AOndoPb",
        "outputId": "89d85adc-a6e5-4b23-8678-b2c526b1a94b"
      },
      "source": [
        "df2"
      ],
      "execution_count": null,
      "outputs": [
        {
          "output_type": "execute_result",
          "data": {
            "text/html": [
              "<div>\n",
              "<style scoped>\n",
              "    .dataframe tbody tr th:only-of-type {\n",
              "        vertical-align: middle;\n",
              "    }\n",
              "\n",
              "    .dataframe tbody tr th {\n",
              "        vertical-align: top;\n",
              "    }\n",
              "\n",
              "    .dataframe thead th {\n",
              "        text-align: right;\n",
              "    }\n",
              "</style>\n",
              "<table border=\"1\" class=\"dataframe\">\n",
              "  <thead>\n",
              "    <tr style=\"text-align: right;\">\n",
              "      <th></th>\n",
              "      <th>id</th>\n",
              "      <th>name</th>\n",
              "      <th>sub</th>\n",
              "    </tr>\n",
              "  </thead>\n",
              "  <tbody>\n",
              "    <tr>\n",
              "      <th>0</th>\n",
              "      <td>1</td>\n",
              "      <td>b</td>\n",
              "      <td>sub3</td>\n",
              "    </tr>\n",
              "    <tr>\n",
              "      <th>1</th>\n",
              "      <td>2</td>\n",
              "      <td>c</td>\n",
              "      <td>sub4</td>\n",
              "    </tr>\n",
              "    <tr>\n",
              "      <th>2</th>\n",
              "      <td>3</td>\n",
              "      <td>d</td>\n",
              "      <td>sub5</td>\n",
              "    </tr>\n",
              "    <tr>\n",
              "      <th>3</th>\n",
              "      <td>4</td>\n",
              "      <td>e</td>\n",
              "      <td>sub6</td>\n",
              "    </tr>\n",
              "    <tr>\n",
              "      <th>4</th>\n",
              "      <td>5</td>\n",
              "      <td>f</td>\n",
              "      <td>sub7</td>\n",
              "    </tr>\n",
              "  </tbody>\n",
              "</table>\n",
              "</div>"
            ],
            "text/plain": [
              "   id name   sub\n",
              "0   1    b  sub3\n",
              "1   2    c  sub4\n",
              "2   3    d  sub5\n",
              "3   4    e  sub6\n",
              "4   5    f  sub7"
            ]
          },
          "metadata": {
            "tags": []
          },
          "execution_count": 109
        }
      ]
    },
    {
      "cell_type": "code",
      "metadata": {
        "colab": {
          "base_uri": "https://localhost:8080/",
          "height": 359
        },
        "id": "P-Ir81wRdvtM",
        "outputId": "81fcafe1-5102-4fbc-c2c0-693018d239dc"
      },
      "source": [
        "# Creating a third dataframe by concatenating df2 to df1 along row axis\n",
        "df3 = pd.concat(objs=[df1, df2], axis=0)\n",
        "\n",
        "# Output the dataframe\n",
        "df3"
      ],
      "execution_count": null,
      "outputs": [
        {
          "output_type": "execute_result",
          "data": {
            "text/html": [
              "<div>\n",
              "<style scoped>\n",
              "    .dataframe tbody tr th:only-of-type {\n",
              "        vertical-align: middle;\n",
              "    }\n",
              "\n",
              "    .dataframe tbody tr th {\n",
              "        vertical-align: top;\n",
              "    }\n",
              "\n",
              "    .dataframe thead th {\n",
              "        text-align: right;\n",
              "    }\n",
              "</style>\n",
              "<table border=\"1\" class=\"dataframe\">\n",
              "  <thead>\n",
              "    <tr style=\"text-align: right;\">\n",
              "      <th></th>\n",
              "      <th>id</th>\n",
              "      <th>name</th>\n",
              "      <th>sub</th>\n",
              "    </tr>\n",
              "  </thead>\n",
              "  <tbody>\n",
              "    <tr>\n",
              "      <th>0</th>\n",
              "      <td>1</td>\n",
              "      <td>a</td>\n",
              "      <td>sub1</td>\n",
              "    </tr>\n",
              "    <tr>\n",
              "      <th>1</th>\n",
              "      <td>2</td>\n",
              "      <td>b</td>\n",
              "      <td>sub2</td>\n",
              "    </tr>\n",
              "    <tr>\n",
              "      <th>2</th>\n",
              "      <td>3</td>\n",
              "      <td>c</td>\n",
              "      <td>sub3</td>\n",
              "    </tr>\n",
              "    <tr>\n",
              "      <th>3</th>\n",
              "      <td>4</td>\n",
              "      <td>d</td>\n",
              "      <td>sub4</td>\n",
              "    </tr>\n",
              "    <tr>\n",
              "      <th>4</th>\n",
              "      <td>5</td>\n",
              "      <td>e</td>\n",
              "      <td>sub5</td>\n",
              "    </tr>\n",
              "    <tr>\n",
              "      <th>0</th>\n",
              "      <td>1</td>\n",
              "      <td>b</td>\n",
              "      <td>sub3</td>\n",
              "    </tr>\n",
              "    <tr>\n",
              "      <th>1</th>\n",
              "      <td>2</td>\n",
              "      <td>c</td>\n",
              "      <td>sub4</td>\n",
              "    </tr>\n",
              "    <tr>\n",
              "      <th>2</th>\n",
              "      <td>3</td>\n",
              "      <td>d</td>\n",
              "      <td>sub5</td>\n",
              "    </tr>\n",
              "    <tr>\n",
              "      <th>3</th>\n",
              "      <td>4</td>\n",
              "      <td>e</td>\n",
              "      <td>sub6</td>\n",
              "    </tr>\n",
              "    <tr>\n",
              "      <th>4</th>\n",
              "      <td>5</td>\n",
              "      <td>f</td>\n",
              "      <td>sub7</td>\n",
              "    </tr>\n",
              "  </tbody>\n",
              "</table>\n",
              "</div>"
            ],
            "text/plain": [
              "   id name   sub\n",
              "0   1    a  sub1\n",
              "1   2    b  sub2\n",
              "2   3    c  sub3\n",
              "3   4    d  sub4\n",
              "4   5    e  sub5\n",
              "0   1    b  sub3\n",
              "1   2    c  sub4\n",
              "2   3    d  sub5\n",
              "3   4    e  sub6\n",
              "4   5    f  sub7"
            ]
          },
          "metadata": {
            "tags": []
          },
          "execution_count": 110
        }
      ]
    },
    {
      "cell_type": "code",
      "metadata": {
        "colab": {
          "base_uri": "https://localhost:8080/",
          "height": 204
        },
        "id": "pZmgcr4fejS_",
        "outputId": "711e50bf-a372-44cc-9251-fdd8ac8e1dc4"
      },
      "source": [
        "# Creating a third dataframe by concatenating df2 to df1 along column axis\n",
        "df3 = pd.concat(objs=[df1, df2], axis=1)\n",
        "\n",
        "# Output the dataframe\n",
        "df3"
      ],
      "execution_count": null,
      "outputs": [
        {
          "output_type": "execute_result",
          "data": {
            "text/html": [
              "<div>\n",
              "<style scoped>\n",
              "    .dataframe tbody tr th:only-of-type {\n",
              "        vertical-align: middle;\n",
              "    }\n",
              "\n",
              "    .dataframe tbody tr th {\n",
              "        vertical-align: top;\n",
              "    }\n",
              "\n",
              "    .dataframe thead th {\n",
              "        text-align: right;\n",
              "    }\n",
              "</style>\n",
              "<table border=\"1\" class=\"dataframe\">\n",
              "  <thead>\n",
              "    <tr style=\"text-align: right;\">\n",
              "      <th></th>\n",
              "      <th>id</th>\n",
              "      <th>name</th>\n",
              "      <th>sub</th>\n",
              "      <th>id</th>\n",
              "      <th>name</th>\n",
              "      <th>sub</th>\n",
              "    </tr>\n",
              "  </thead>\n",
              "  <tbody>\n",
              "    <tr>\n",
              "      <th>0</th>\n",
              "      <td>1</td>\n",
              "      <td>a</td>\n",
              "      <td>sub1</td>\n",
              "      <td>1</td>\n",
              "      <td>b</td>\n",
              "      <td>sub3</td>\n",
              "    </tr>\n",
              "    <tr>\n",
              "      <th>1</th>\n",
              "      <td>2</td>\n",
              "      <td>b</td>\n",
              "      <td>sub2</td>\n",
              "      <td>2</td>\n",
              "      <td>c</td>\n",
              "      <td>sub4</td>\n",
              "    </tr>\n",
              "    <tr>\n",
              "      <th>2</th>\n",
              "      <td>3</td>\n",
              "      <td>c</td>\n",
              "      <td>sub3</td>\n",
              "      <td>3</td>\n",
              "      <td>d</td>\n",
              "      <td>sub5</td>\n",
              "    </tr>\n",
              "    <tr>\n",
              "      <th>3</th>\n",
              "      <td>4</td>\n",
              "      <td>d</td>\n",
              "      <td>sub4</td>\n",
              "      <td>4</td>\n",
              "      <td>e</td>\n",
              "      <td>sub6</td>\n",
              "    </tr>\n",
              "    <tr>\n",
              "      <th>4</th>\n",
              "      <td>5</td>\n",
              "      <td>e</td>\n",
              "      <td>sub5</td>\n",
              "      <td>5</td>\n",
              "      <td>f</td>\n",
              "      <td>sub7</td>\n",
              "    </tr>\n",
              "  </tbody>\n",
              "</table>\n",
              "</div>"
            ],
            "text/plain": [
              "   id name   sub  id name   sub\n",
              "0   1    a  sub1   1    b  sub3\n",
              "1   2    b  sub2   2    c  sub4\n",
              "2   3    c  sub3   3    d  sub5\n",
              "3   4    d  sub4   4    e  sub6\n",
              "4   5    e  sub5   5    f  sub7"
            ]
          },
          "metadata": {
            "tags": []
          },
          "execution_count": 111
        }
      ]
    },
    {
      "cell_type": "markdown",
      "metadata": {
        "id": "AbHG7t9rclVh"
      },
      "source": [
        "**Merging DataFrames**: For full documentation of the function click <a href=\"https://pandas.pydata.org/pandas-docs/stable/reference/api/pandas.DataFrame.merge.html\">**here**</a>.\n",
        "\n",
        "- Merging can happen on a columns that have common name or we can specify how to join two tables.\n",
        "\n",
        "- There are following types of merging that we can perform on two dataframes:\n",
        "\n",
        "  - **Left Join:** It use only **keys from left frame**, similar to a SQL left outer join; preserve key order.\n",
        "\n",
        "  - **Right Join:** It use only **keys from right frame**, similar to a SQL right outer join; preserve key order.\n",
        "\n",
        "  - **Outer Join:** It use union of **keys from both frames**, similar to a SQL full outer join; sort keys lexicographically.\n",
        "\n",
        "  - **Inner Join (default):** It use **intersection** of **keys from both frames**, similar to a SQL inner join; preserve the order of the left keys.\n",
        "\n",
        "  - **Cross Join:** It creates the **cartesian product** from **both frames**, preserves the order of the left keys."
      ]
    },
    {
      "cell_type": "code",
      "metadata": {
        "id": "JUEV2_xHiDPW"
      },
      "source": [
        "# Creating custom dataset 1\n",
        "data_dict1 = {'emp_id': [1, 2, 3, 4, 5], 'emp_name': ['a', 'b', 'c', 'd', 'e'], \n",
        "              'sub': ['sub1', 'sub2', 'sub3', 'sub4', 'sub5']\n",
        "              }\n",
        "\n",
        "# Creating custom dataset 2              \n",
        "data_dict2 = {'dept_id': [1, 2, 3, 4, 5], 'dept_name': ['b', 'c', 'd', 'e', 'f'],\n",
        "              'sub': ['sub3', 'sub4', 'sub5', 'sub6', 'sub7']\n",
        "              }\n",
        "\n",
        "# Creating dataframes out of custom data dictionaries\n",
        "df1 = pd.DataFrame(data=data_dict1)\n",
        "df2 = pd.DataFrame(data=data_dict2)"
      ],
      "execution_count": null,
      "outputs": []
    },
    {
      "cell_type": "code",
      "metadata": {
        "colab": {
          "base_uri": "https://localhost:8080/",
          "height": 142
        },
        "id": "d80baAoEayaR",
        "outputId": "1fa69251-082b-47ac-bcd8-cc622cb14373"
      },
      "source": [
        "# Merging dataframe df1 and df2 based on common column name\n",
        "pd.merge(left=df1, right=df2, on='sub')"
      ],
      "execution_count": null,
      "outputs": [
        {
          "output_type": "execute_result",
          "data": {
            "text/html": [
              "<div>\n",
              "<style scoped>\n",
              "    .dataframe tbody tr th:only-of-type {\n",
              "        vertical-align: middle;\n",
              "    }\n",
              "\n",
              "    .dataframe tbody tr th {\n",
              "        vertical-align: top;\n",
              "    }\n",
              "\n",
              "    .dataframe thead th {\n",
              "        text-align: right;\n",
              "    }\n",
              "</style>\n",
              "<table border=\"1\" class=\"dataframe\">\n",
              "  <thead>\n",
              "    <tr style=\"text-align: right;\">\n",
              "      <th></th>\n",
              "      <th>emp_id</th>\n",
              "      <th>emp_name</th>\n",
              "      <th>sub</th>\n",
              "      <th>dept_id</th>\n",
              "      <th>dept_name</th>\n",
              "    </tr>\n",
              "  </thead>\n",
              "  <tbody>\n",
              "    <tr>\n",
              "      <th>0</th>\n",
              "      <td>3</td>\n",
              "      <td>c</td>\n",
              "      <td>sub3</td>\n",
              "      <td>1</td>\n",
              "      <td>b</td>\n",
              "    </tr>\n",
              "    <tr>\n",
              "      <th>1</th>\n",
              "      <td>4</td>\n",
              "      <td>d</td>\n",
              "      <td>sub4</td>\n",
              "      <td>2</td>\n",
              "      <td>c</td>\n",
              "    </tr>\n",
              "    <tr>\n",
              "      <th>2</th>\n",
              "      <td>5</td>\n",
              "      <td>e</td>\n",
              "      <td>sub5</td>\n",
              "      <td>3</td>\n",
              "      <td>d</td>\n",
              "    </tr>\n",
              "  </tbody>\n",
              "</table>\n",
              "</div>"
            ],
            "text/plain": [
              "   emp_id emp_name   sub  dept_id dept_name\n",
              "0       3        c  sub3        1         b\n",
              "1       4        d  sub4        2         c\n",
              "2       5        e  sub5        3         d"
            ]
          },
          "metadata": {
            "tags": []
          },
          "execution_count": 114
        }
      ]
    },
    {
      "cell_type": "code",
      "metadata": {
        "colab": {
          "base_uri": "https://localhost:8080/",
          "height": 204
        },
        "id": "CS1e7DRsh7gR",
        "outputId": "be6130eb-a805-44dd-c8fe-ed438ea3b4a0"
      },
      "source": [
        "# Merging dataframe df1 and df2 based on df1's sub values\n",
        "pd.merge(left=df1, right=df2, on='sub', how='left')"
      ],
      "execution_count": null,
      "outputs": [
        {
          "output_type": "execute_result",
          "data": {
            "text/html": [
              "<div>\n",
              "<style scoped>\n",
              "    .dataframe tbody tr th:only-of-type {\n",
              "        vertical-align: middle;\n",
              "    }\n",
              "\n",
              "    .dataframe tbody tr th {\n",
              "        vertical-align: top;\n",
              "    }\n",
              "\n",
              "    .dataframe thead th {\n",
              "        text-align: right;\n",
              "    }\n",
              "</style>\n",
              "<table border=\"1\" class=\"dataframe\">\n",
              "  <thead>\n",
              "    <tr style=\"text-align: right;\">\n",
              "      <th></th>\n",
              "      <th>emp_id</th>\n",
              "      <th>emp_name</th>\n",
              "      <th>sub</th>\n",
              "      <th>dept_id</th>\n",
              "      <th>dept_name</th>\n",
              "    </tr>\n",
              "  </thead>\n",
              "  <tbody>\n",
              "    <tr>\n",
              "      <th>0</th>\n",
              "      <td>1</td>\n",
              "      <td>a</td>\n",
              "      <td>sub1</td>\n",
              "      <td>NaN</td>\n",
              "      <td>NaN</td>\n",
              "    </tr>\n",
              "    <tr>\n",
              "      <th>1</th>\n",
              "      <td>2</td>\n",
              "      <td>b</td>\n",
              "      <td>sub2</td>\n",
              "      <td>NaN</td>\n",
              "      <td>NaN</td>\n",
              "    </tr>\n",
              "    <tr>\n",
              "      <th>2</th>\n",
              "      <td>3</td>\n",
              "      <td>c</td>\n",
              "      <td>sub3</td>\n",
              "      <td>1.0</td>\n",
              "      <td>b</td>\n",
              "    </tr>\n",
              "    <tr>\n",
              "      <th>3</th>\n",
              "      <td>4</td>\n",
              "      <td>d</td>\n",
              "      <td>sub4</td>\n",
              "      <td>2.0</td>\n",
              "      <td>c</td>\n",
              "    </tr>\n",
              "    <tr>\n",
              "      <th>4</th>\n",
              "      <td>5</td>\n",
              "      <td>e</td>\n",
              "      <td>sub5</td>\n",
              "      <td>3.0</td>\n",
              "      <td>d</td>\n",
              "    </tr>\n",
              "  </tbody>\n",
              "</table>\n",
              "</div>"
            ],
            "text/plain": [
              "   emp_id emp_name   sub  dept_id dept_name\n",
              "0       1        a  sub1      NaN       NaN\n",
              "1       2        b  sub2      NaN       NaN\n",
              "2       3        c  sub3      1.0         b\n",
              "3       4        d  sub4      2.0         c\n",
              "4       5        e  sub5      3.0         d"
            ]
          },
          "metadata": {
            "tags": []
          },
          "execution_count": 115
        }
      ]
    },
    {
      "cell_type": "code",
      "metadata": {
        "colab": {
          "base_uri": "https://localhost:8080/",
          "height": 204
        },
        "id": "ZyHfBRStie0u",
        "outputId": "515ae534-7cef-494e-d99b-ab6eae4b6450"
      },
      "source": [
        "# Merging dataframe df1 and df2 based on df2's sub values\n",
        "pd.merge(left=df1, right=df2, on='sub', how='right')"
      ],
      "execution_count": null,
      "outputs": [
        {
          "output_type": "execute_result",
          "data": {
            "text/html": [
              "<div>\n",
              "<style scoped>\n",
              "    .dataframe tbody tr th:only-of-type {\n",
              "        vertical-align: middle;\n",
              "    }\n",
              "\n",
              "    .dataframe tbody tr th {\n",
              "        vertical-align: top;\n",
              "    }\n",
              "\n",
              "    .dataframe thead th {\n",
              "        text-align: right;\n",
              "    }\n",
              "</style>\n",
              "<table border=\"1\" class=\"dataframe\">\n",
              "  <thead>\n",
              "    <tr style=\"text-align: right;\">\n",
              "      <th></th>\n",
              "      <th>emp_id</th>\n",
              "      <th>emp_name</th>\n",
              "      <th>sub</th>\n",
              "      <th>dept_id</th>\n",
              "      <th>dept_name</th>\n",
              "    </tr>\n",
              "  </thead>\n",
              "  <tbody>\n",
              "    <tr>\n",
              "      <th>0</th>\n",
              "      <td>3.0</td>\n",
              "      <td>c</td>\n",
              "      <td>sub3</td>\n",
              "      <td>1</td>\n",
              "      <td>b</td>\n",
              "    </tr>\n",
              "    <tr>\n",
              "      <th>1</th>\n",
              "      <td>4.0</td>\n",
              "      <td>d</td>\n",
              "      <td>sub4</td>\n",
              "      <td>2</td>\n",
              "      <td>c</td>\n",
              "    </tr>\n",
              "    <tr>\n",
              "      <th>2</th>\n",
              "      <td>5.0</td>\n",
              "      <td>e</td>\n",
              "      <td>sub5</td>\n",
              "      <td>3</td>\n",
              "      <td>d</td>\n",
              "    </tr>\n",
              "    <tr>\n",
              "      <th>3</th>\n",
              "      <td>NaN</td>\n",
              "      <td>NaN</td>\n",
              "      <td>sub6</td>\n",
              "      <td>4</td>\n",
              "      <td>e</td>\n",
              "    </tr>\n",
              "    <tr>\n",
              "      <th>4</th>\n",
              "      <td>NaN</td>\n",
              "      <td>NaN</td>\n",
              "      <td>sub7</td>\n",
              "      <td>5</td>\n",
              "      <td>f</td>\n",
              "    </tr>\n",
              "  </tbody>\n",
              "</table>\n",
              "</div>"
            ],
            "text/plain": [
              "   emp_id emp_name   sub  dept_id dept_name\n",
              "0     3.0        c  sub3        1         b\n",
              "1     4.0        d  sub4        2         c\n",
              "2     5.0        e  sub5        3         d\n",
              "3     NaN      NaN  sub6        4         e\n",
              "4     NaN      NaN  sub7        5         f"
            ]
          },
          "metadata": {
            "tags": []
          },
          "execution_count": 116
        }
      ]
    },
    {
      "cell_type": "code",
      "metadata": {
        "colab": {
          "base_uri": "https://localhost:8080/",
          "height": 266
        },
        "id": "puc_YNM_ijO2",
        "outputId": "45f9a267-7320-4844-9088-0d6d3ef398fd"
      },
      "source": [
        "# Merging dataframe df1 and df2 based on union of both sub column\n",
        "pd.merge(left=df1, right=df2, on='sub', how='outer')"
      ],
      "execution_count": null,
      "outputs": [
        {
          "output_type": "execute_result",
          "data": {
            "text/html": [
              "<div>\n",
              "<style scoped>\n",
              "    .dataframe tbody tr th:only-of-type {\n",
              "        vertical-align: middle;\n",
              "    }\n",
              "\n",
              "    .dataframe tbody tr th {\n",
              "        vertical-align: top;\n",
              "    }\n",
              "\n",
              "    .dataframe thead th {\n",
              "        text-align: right;\n",
              "    }\n",
              "</style>\n",
              "<table border=\"1\" class=\"dataframe\">\n",
              "  <thead>\n",
              "    <tr style=\"text-align: right;\">\n",
              "      <th></th>\n",
              "      <th>emp_id</th>\n",
              "      <th>emp_name</th>\n",
              "      <th>sub</th>\n",
              "      <th>dept_id</th>\n",
              "      <th>dept_name</th>\n",
              "    </tr>\n",
              "  </thead>\n",
              "  <tbody>\n",
              "    <tr>\n",
              "      <th>0</th>\n",
              "      <td>1.0</td>\n",
              "      <td>a</td>\n",
              "      <td>sub1</td>\n",
              "      <td>NaN</td>\n",
              "      <td>NaN</td>\n",
              "    </tr>\n",
              "    <tr>\n",
              "      <th>1</th>\n",
              "      <td>2.0</td>\n",
              "      <td>b</td>\n",
              "      <td>sub2</td>\n",
              "      <td>NaN</td>\n",
              "      <td>NaN</td>\n",
              "    </tr>\n",
              "    <tr>\n",
              "      <th>2</th>\n",
              "      <td>3.0</td>\n",
              "      <td>c</td>\n",
              "      <td>sub3</td>\n",
              "      <td>1.0</td>\n",
              "      <td>b</td>\n",
              "    </tr>\n",
              "    <tr>\n",
              "      <th>3</th>\n",
              "      <td>4.0</td>\n",
              "      <td>d</td>\n",
              "      <td>sub4</td>\n",
              "      <td>2.0</td>\n",
              "      <td>c</td>\n",
              "    </tr>\n",
              "    <tr>\n",
              "      <th>4</th>\n",
              "      <td>5.0</td>\n",
              "      <td>e</td>\n",
              "      <td>sub5</td>\n",
              "      <td>3.0</td>\n",
              "      <td>d</td>\n",
              "    </tr>\n",
              "    <tr>\n",
              "      <th>5</th>\n",
              "      <td>NaN</td>\n",
              "      <td>NaN</td>\n",
              "      <td>sub6</td>\n",
              "      <td>4.0</td>\n",
              "      <td>e</td>\n",
              "    </tr>\n",
              "    <tr>\n",
              "      <th>6</th>\n",
              "      <td>NaN</td>\n",
              "      <td>NaN</td>\n",
              "      <td>sub7</td>\n",
              "      <td>5.0</td>\n",
              "      <td>f</td>\n",
              "    </tr>\n",
              "  </tbody>\n",
              "</table>\n",
              "</div>"
            ],
            "text/plain": [
              "   emp_id emp_name   sub  dept_id dept_name\n",
              "0     1.0        a  sub1      NaN       NaN\n",
              "1     2.0        b  sub2      NaN       NaN\n",
              "2     3.0        c  sub3      1.0         b\n",
              "3     4.0        d  sub4      2.0         c\n",
              "4     5.0        e  sub5      3.0         d\n",
              "5     NaN      NaN  sub6      4.0         e\n",
              "6     NaN      NaN  sub7      5.0         f"
            ]
          },
          "metadata": {
            "tags": []
          },
          "execution_count": 117
        }
      ]
    },
    {
      "cell_type": "markdown",
      "metadata": {
        "id": "b9uO8sAgjSe6"
      },
      "source": [
        "**Observation:**\n",
        "\n",
        "- We learned how to concatenate, merge and append dataframes using corresponding functions.\n",
        "\n",
        "- They are widely used while collecting data from multiple data sources."
      ]
    },
    {
      "cell_type": "markdown",
      "metadata": {
        "id": "T19Nx8UDjkNj"
      },
      "source": [
        "<a name = Section47></a>\n",
        "## **4.7 Data Filteration**\n",
        "\n",
        "- In this section, we will observe how to perform data filtration operations.\n",
        "\n",
        "- Remember? the **output** of the **comparison** is of **boolean data** type i.e. True or False.\n",
        "\n",
        "- You can use this **boolean** to **filter** out **records** from the DataFrame."
      ]
    },
    {
      "cell_type": "code",
      "metadata": {
        "colab": {
          "base_uri": "https://localhost:8080/",
          "height": 235
        },
        "id": "bw2AL_sYi21Z",
        "outputId": "152a7abb-069d-42cd-c341-3fd2146d2115"
      },
      "source": [
        "# Loading remote csv files using pandas .read_csv() method and setting ID as index\n",
        "market_df = pd.read_csv(filepath_or_buffer='http://pythonhow.com/supermarkets.csv')\n",
        "\n",
        "# Output the dataframe\n",
        "market_df"
      ],
      "execution_count": null,
      "outputs": [
        {
          "output_type": "execute_result",
          "data": {
            "text/html": [
              "<div>\n",
              "<style scoped>\n",
              "    .dataframe tbody tr th:only-of-type {\n",
              "        vertical-align: middle;\n",
              "    }\n",
              "\n",
              "    .dataframe tbody tr th {\n",
              "        vertical-align: top;\n",
              "    }\n",
              "\n",
              "    .dataframe thead th {\n",
              "        text-align: right;\n",
              "    }\n",
              "</style>\n",
              "<table border=\"1\" class=\"dataframe\">\n",
              "  <thead>\n",
              "    <tr style=\"text-align: right;\">\n",
              "      <th></th>\n",
              "      <th>ID</th>\n",
              "      <th>Address</th>\n",
              "      <th>City</th>\n",
              "      <th>State</th>\n",
              "      <th>Country</th>\n",
              "      <th>Name</th>\n",
              "      <th>Employees</th>\n",
              "    </tr>\n",
              "  </thead>\n",
              "  <tbody>\n",
              "    <tr>\n",
              "      <th>0</th>\n",
              "      <td>1</td>\n",
              "      <td>3666 21st St</td>\n",
              "      <td>San Francisco</td>\n",
              "      <td>CA 94114</td>\n",
              "      <td>USA</td>\n",
              "      <td>Madeira</td>\n",
              "      <td>8</td>\n",
              "    </tr>\n",
              "    <tr>\n",
              "      <th>1</th>\n",
              "      <td>2</td>\n",
              "      <td>735 Dolores St</td>\n",
              "      <td>San Francisco</td>\n",
              "      <td>CA 94119</td>\n",
              "      <td>USA</td>\n",
              "      <td>Bready Shop</td>\n",
              "      <td>15</td>\n",
              "    </tr>\n",
              "    <tr>\n",
              "      <th>2</th>\n",
              "      <td>3</td>\n",
              "      <td>332 Hill St</td>\n",
              "      <td>San Francisco</td>\n",
              "      <td>California 94114</td>\n",
              "      <td>USA</td>\n",
              "      <td>Super River</td>\n",
              "      <td>25</td>\n",
              "    </tr>\n",
              "    <tr>\n",
              "      <th>3</th>\n",
              "      <td>4</td>\n",
              "      <td>3995 23rd St</td>\n",
              "      <td>San Francisco</td>\n",
              "      <td>CA 94114</td>\n",
              "      <td>USA</td>\n",
              "      <td>Ben's Shop</td>\n",
              "      <td>10</td>\n",
              "    </tr>\n",
              "    <tr>\n",
              "      <th>4</th>\n",
              "      <td>5</td>\n",
              "      <td>1056 Sanchez St</td>\n",
              "      <td>San Francisco</td>\n",
              "      <td>California</td>\n",
              "      <td>USA</td>\n",
              "      <td>Sanchez</td>\n",
              "      <td>12</td>\n",
              "    </tr>\n",
              "    <tr>\n",
              "      <th>5</th>\n",
              "      <td>6</td>\n",
              "      <td>551 Alvarado St</td>\n",
              "      <td>San Francisco</td>\n",
              "      <td>CA 94114</td>\n",
              "      <td>USA</td>\n",
              "      <td>Richvalley</td>\n",
              "      <td>20</td>\n",
              "    </tr>\n",
              "  </tbody>\n",
              "</table>\n",
              "</div>"
            ],
            "text/plain": [
              "   ID          Address           City  ... Country         Name Employees\n",
              "0   1     3666 21st St  San Francisco  ...     USA      Madeira         8\n",
              "1   2   735 Dolores St  San Francisco  ...     USA  Bready Shop        15\n",
              "2   3      332 Hill St  San Francisco  ...     USA  Super River        25\n",
              "3   4     3995 23rd St  San Francisco  ...     USA   Ben's Shop        10\n",
              "4   5  1056 Sanchez St  San Francisco  ...     USA      Sanchez        12\n",
              "5   6  551 Alvarado St  San Francisco  ...     USA   Richvalley        20\n",
              "\n",
              "[6 rows x 7 columns]"
            ]
          },
          "metadata": {
            "tags": []
          },
          "execution_count": 118
        }
      ]
    },
    {
      "cell_type": "code",
      "metadata": {
        "colab": {
          "base_uri": "https://localhost:8080/"
        },
        "id": "OOocckfbkx6d",
        "outputId": "2b1ccaeb-b309-42a4-e666-ac58b0beaa16"
      },
      "source": [
        "# Returns True of False if Employees are greater than 15\n",
        "market_df['Employees'] >= 15"
      ],
      "execution_count": null,
      "outputs": [
        {
          "output_type": "execute_result",
          "data": {
            "text/plain": [
              "0    False\n",
              "1     True\n",
              "2     True\n",
              "3    False\n",
              "4    False\n",
              "5     True\n",
              "Name: Employees, dtype: bool"
            ]
          },
          "metadata": {
            "tags": []
          },
          "execution_count": 120
        }
      ]
    },
    {
      "cell_type": "markdown",
      "metadata": {
        "id": "UXtACBKbk8zs"
      },
      "source": [
        "- We can use the above output in a dataframe to filter out important information."
      ]
    },
    {
      "cell_type": "code",
      "metadata": {
        "colab": {
          "base_uri": "https://localhost:8080/",
          "height": 142
        },
        "id": "8ePf1AC-ke6F",
        "outputId": "4fffce39-2efb-4266-c64b-726641424e8d"
      },
      "source": [
        "# Filter out all the rows where Employees are greater than equal to 15\n",
        "market_df[market_df['Employees'] >= 15]"
      ],
      "execution_count": null,
      "outputs": [
        {
          "output_type": "execute_result",
          "data": {
            "text/html": [
              "<div>\n",
              "<style scoped>\n",
              "    .dataframe tbody tr th:only-of-type {\n",
              "        vertical-align: middle;\n",
              "    }\n",
              "\n",
              "    .dataframe tbody tr th {\n",
              "        vertical-align: top;\n",
              "    }\n",
              "\n",
              "    .dataframe thead th {\n",
              "        text-align: right;\n",
              "    }\n",
              "</style>\n",
              "<table border=\"1\" class=\"dataframe\">\n",
              "  <thead>\n",
              "    <tr style=\"text-align: right;\">\n",
              "      <th></th>\n",
              "      <th>ID</th>\n",
              "      <th>Address</th>\n",
              "      <th>City</th>\n",
              "      <th>State</th>\n",
              "      <th>Country</th>\n",
              "      <th>Name</th>\n",
              "      <th>Employees</th>\n",
              "    </tr>\n",
              "  </thead>\n",
              "  <tbody>\n",
              "    <tr>\n",
              "      <th>1</th>\n",
              "      <td>2</td>\n",
              "      <td>735 Dolores St</td>\n",
              "      <td>San Francisco</td>\n",
              "      <td>CA 94119</td>\n",
              "      <td>USA</td>\n",
              "      <td>Bready Shop</td>\n",
              "      <td>15</td>\n",
              "    </tr>\n",
              "    <tr>\n",
              "      <th>2</th>\n",
              "      <td>3</td>\n",
              "      <td>332 Hill St</td>\n",
              "      <td>San Francisco</td>\n",
              "      <td>California 94114</td>\n",
              "      <td>USA</td>\n",
              "      <td>Super River</td>\n",
              "      <td>25</td>\n",
              "    </tr>\n",
              "    <tr>\n",
              "      <th>5</th>\n",
              "      <td>6</td>\n",
              "      <td>551 Alvarado St</td>\n",
              "      <td>San Francisco</td>\n",
              "      <td>CA 94114</td>\n",
              "      <td>USA</td>\n",
              "      <td>Richvalley</td>\n",
              "      <td>20</td>\n",
              "    </tr>\n",
              "  </tbody>\n",
              "</table>\n",
              "</div>"
            ],
            "text/plain": [
              "   ID          Address           City  ... Country         Name Employees\n",
              "1   2   735 Dolores St  San Francisco  ...     USA  Bready Shop        15\n",
              "2   3      332 Hill St  San Francisco  ...     USA  Super River        25\n",
              "5   6  551 Alvarado St  San Francisco  ...     USA   Richvalley        20\n",
              "\n",
              "[3 rows x 7 columns]"
            ]
          },
          "metadata": {
            "tags": []
          },
          "execution_count": 119
        }
      ]
    },
    {
      "cell_type": "code",
      "metadata": {
        "colab": {
          "base_uri": "https://localhost:8080/",
          "height": 111
        },
        "id": "biYnWZBxke2U",
        "outputId": "ad716a98-8c68-4f27-cfb4-b1ab1efd3ed6"
      },
      "source": [
        "# Filter out all the rows where Employees >= 15 and State is not equal to CA 94119\n",
        "market_df[(market_df['Employees'] >= 15) & (market_df['State'] != 'CA 94119')]"
      ],
      "execution_count": null,
      "outputs": [
        {
          "output_type": "execute_result",
          "data": {
            "text/html": [
              "<div>\n",
              "<style scoped>\n",
              "    .dataframe tbody tr th:only-of-type {\n",
              "        vertical-align: middle;\n",
              "    }\n",
              "\n",
              "    .dataframe tbody tr th {\n",
              "        vertical-align: top;\n",
              "    }\n",
              "\n",
              "    .dataframe thead th {\n",
              "        text-align: right;\n",
              "    }\n",
              "</style>\n",
              "<table border=\"1\" class=\"dataframe\">\n",
              "  <thead>\n",
              "    <tr style=\"text-align: right;\">\n",
              "      <th></th>\n",
              "      <th>ID</th>\n",
              "      <th>Address</th>\n",
              "      <th>City</th>\n",
              "      <th>State</th>\n",
              "      <th>Country</th>\n",
              "      <th>Name</th>\n",
              "      <th>Employees</th>\n",
              "    </tr>\n",
              "  </thead>\n",
              "  <tbody>\n",
              "    <tr>\n",
              "      <th>2</th>\n",
              "      <td>3</td>\n",
              "      <td>332 Hill St</td>\n",
              "      <td>San Francisco</td>\n",
              "      <td>California 94114</td>\n",
              "      <td>USA</td>\n",
              "      <td>Super River</td>\n",
              "      <td>25</td>\n",
              "    </tr>\n",
              "    <tr>\n",
              "      <th>5</th>\n",
              "      <td>6</td>\n",
              "      <td>551 Alvarado St</td>\n",
              "      <td>San Francisco</td>\n",
              "      <td>CA 94114</td>\n",
              "      <td>USA</td>\n",
              "      <td>Richvalley</td>\n",
              "      <td>20</td>\n",
              "    </tr>\n",
              "  </tbody>\n",
              "</table>\n",
              "</div>"
            ],
            "text/plain": [
              "   ID          Address           City  ... Country         Name Employees\n",
              "2   3      332 Hill St  San Francisco  ...     USA  Super River        25\n",
              "5   6  551 Alvarado St  San Francisco  ...     USA   Richvalley        20\n",
              "\n",
              "[2 rows x 7 columns]"
            ]
          },
          "metadata": {
            "tags": []
          },
          "execution_count": 121
        }
      ]
    },
    {
      "cell_type": "markdown",
      "metadata": {
        "id": "Oj39Mh3DlSsX"
      },
      "source": [
        "**Observation:**\n",
        "\n",
        "- We observed how easy it is to filter out information from the dataframes.\n",
        "\n",
        "- They also help us to get a clear picture of data by logically operating on combinations of various features.\n",
        "\n",
        "- Therefore these functions are widely used in Feature Engineering."
      ]
    },
    {
      "cell_type": "markdown",
      "metadata": {
        "id": "iEQlXFMul029"
      },
      "source": [
        "<a name = Section48></a>\n",
        "## **4.8 Multi-Indexed DataFrames**\n",
        "\n",
        "- Until now you have seen DataFrames with a single index. \n",
        "\n",
        "- Lets see how we can use more than 1 index to gain better insights."
      ]
    },
    {
      "cell_type": "code",
      "metadata": {
        "colab": {
          "base_uri": "https://localhost:8080/",
          "height": 235
        },
        "id": "O64-uOxKkey3",
        "outputId": "f9c69ac8-fa19-4a29-88fc-f5cf7c7cc305"
      },
      "source": [
        "# Creating custom data dictionary of company\n",
        "company_df = {'Company':['Google', 'Google', 'Google', 'Microsoft', 'Microsoft', 'Microsoft'],\n",
        "              'Year' : [2008, 2009, 2010, 2008, 2009, 2010],\n",
        "              'Revenue' : [11, 15, 16, 9, 12, 14],\n",
        "              'Employee' : [300, 400, 500, 350, 450, 550]\n",
        "              }\n",
        "\n",
        "# Creating custom dataframe out of company_df\n",
        "cmp_df = pd.DataFrame(data=company_df)\n",
        "\n",
        "# Output the dataframe\n",
        "cmp_df"
      ],
      "execution_count": null,
      "outputs": [
        {
          "output_type": "execute_result",
          "data": {
            "text/html": [
              "<div>\n",
              "<style scoped>\n",
              "    .dataframe tbody tr th:only-of-type {\n",
              "        vertical-align: middle;\n",
              "    }\n",
              "\n",
              "    .dataframe tbody tr th {\n",
              "        vertical-align: top;\n",
              "    }\n",
              "\n",
              "    .dataframe thead th {\n",
              "        text-align: right;\n",
              "    }\n",
              "</style>\n",
              "<table border=\"1\" class=\"dataframe\">\n",
              "  <thead>\n",
              "    <tr style=\"text-align: right;\">\n",
              "      <th></th>\n",
              "      <th>Company</th>\n",
              "      <th>Year</th>\n",
              "      <th>Revenue</th>\n",
              "      <th>Employee</th>\n",
              "    </tr>\n",
              "  </thead>\n",
              "  <tbody>\n",
              "    <tr>\n",
              "      <th>0</th>\n",
              "      <td>Google</td>\n",
              "      <td>2008</td>\n",
              "      <td>11</td>\n",
              "      <td>300</td>\n",
              "    </tr>\n",
              "    <tr>\n",
              "      <th>1</th>\n",
              "      <td>Google</td>\n",
              "      <td>2009</td>\n",
              "      <td>15</td>\n",
              "      <td>400</td>\n",
              "    </tr>\n",
              "    <tr>\n",
              "      <th>2</th>\n",
              "      <td>Google</td>\n",
              "      <td>2010</td>\n",
              "      <td>16</td>\n",
              "      <td>500</td>\n",
              "    </tr>\n",
              "    <tr>\n",
              "      <th>3</th>\n",
              "      <td>Microsoft</td>\n",
              "      <td>2008</td>\n",
              "      <td>9</td>\n",
              "      <td>350</td>\n",
              "    </tr>\n",
              "    <tr>\n",
              "      <th>4</th>\n",
              "      <td>Microsoft</td>\n",
              "      <td>2009</td>\n",
              "      <td>12</td>\n",
              "      <td>450</td>\n",
              "    </tr>\n",
              "    <tr>\n",
              "      <th>5</th>\n",
              "      <td>Microsoft</td>\n",
              "      <td>2010</td>\n",
              "      <td>14</td>\n",
              "      <td>550</td>\n",
              "    </tr>\n",
              "  </tbody>\n",
              "</table>\n",
              "</div>"
            ],
            "text/plain": [
              "     Company  Year  Revenue  Employee\n",
              "0     Google  2008       11       300\n",
              "1     Google  2009       15       400\n",
              "2     Google  2010       16       500\n",
              "3  Microsoft  2008        9       350\n",
              "4  Microsoft  2009       12       450\n",
              "5  Microsoft  2010       14       550"
            ]
          },
          "metadata": {
            "tags": []
          },
          "execution_count": 127
        }
      ]
    },
    {
      "cell_type": "markdown",
      "metadata": {
        "id": "u8G0EAjBpN97"
      },
      "source": [
        "- Now we will set Company and Year as index and try to access rows."
      ]
    },
    {
      "cell_type": "code",
      "metadata": {
        "colab": {
          "base_uri": "https://localhost:8080/",
          "height": 266
        },
        "id": "8R_4sumJkeut",
        "outputId": "722cfbbc-1833-4f6c-8ae2-2b0151fdd1d5"
      },
      "source": [
        "# Set Company and Year as index values\n",
        "cmp_df.set_index(keys=['Company', 'Year'], inplace=True)\n",
        "\n",
        "# Display the output the modified dataframe\n",
        "cmp_df"
      ],
      "execution_count": null,
      "outputs": [
        {
          "output_type": "execute_result",
          "data": {
            "text/html": [
              "<div>\n",
              "<style scoped>\n",
              "    .dataframe tbody tr th:only-of-type {\n",
              "        vertical-align: middle;\n",
              "    }\n",
              "\n",
              "    .dataframe tbody tr th {\n",
              "        vertical-align: top;\n",
              "    }\n",
              "\n",
              "    .dataframe thead th {\n",
              "        text-align: right;\n",
              "    }\n",
              "</style>\n",
              "<table border=\"1\" class=\"dataframe\">\n",
              "  <thead>\n",
              "    <tr style=\"text-align: right;\">\n",
              "      <th></th>\n",
              "      <th></th>\n",
              "      <th>Revenue</th>\n",
              "      <th>Employee</th>\n",
              "    </tr>\n",
              "    <tr>\n",
              "      <th>Company</th>\n",
              "      <th>Year</th>\n",
              "      <th></th>\n",
              "      <th></th>\n",
              "    </tr>\n",
              "  </thead>\n",
              "  <tbody>\n",
              "    <tr>\n",
              "      <th rowspan=\"3\" valign=\"top\">Google</th>\n",
              "      <th>2008</th>\n",
              "      <td>11</td>\n",
              "      <td>300</td>\n",
              "    </tr>\n",
              "    <tr>\n",
              "      <th>2009</th>\n",
              "      <td>15</td>\n",
              "      <td>400</td>\n",
              "    </tr>\n",
              "    <tr>\n",
              "      <th>2010</th>\n",
              "      <td>16</td>\n",
              "      <td>500</td>\n",
              "    </tr>\n",
              "    <tr>\n",
              "      <th rowspan=\"3\" valign=\"top\">Microsoft</th>\n",
              "      <th>2008</th>\n",
              "      <td>9</td>\n",
              "      <td>350</td>\n",
              "    </tr>\n",
              "    <tr>\n",
              "      <th>2009</th>\n",
              "      <td>12</td>\n",
              "      <td>450</td>\n",
              "    </tr>\n",
              "    <tr>\n",
              "      <th>2010</th>\n",
              "      <td>14</td>\n",
              "      <td>550</td>\n",
              "    </tr>\n",
              "  </tbody>\n",
              "</table>\n",
              "</div>"
            ],
            "text/plain": [
              "                Revenue  Employee\n",
              "Company   Year                   \n",
              "Google    2008       11       300\n",
              "          2009       15       400\n",
              "          2010       16       500\n",
              "Microsoft 2008        9       350\n",
              "          2009       12       450\n",
              "          2010       14       550"
            ]
          },
          "metadata": {
            "tags": []
          },
          "execution_count": 128
        }
      ]
    },
    {
      "cell_type": "markdown",
      "metadata": {
        "id": "3Z0zLF4Zp2Os"
      },
      "source": [
        "- Let's say we are interested in accessing data for **Google** of year **2009**.\n",
        "\n",
        "- We won't be able to access data directly and we will end up getting error as shown below:"
      ]
    },
    {
      "cell_type": "code",
      "metadata": {
        "colab": {
          "base_uri": "https://localhost:8080/",
          "height": 561
        },
        "id": "jt0SaVyNp1Z_",
        "outputId": "a434f4e3-5700-4c94-8d37-ed83f36f2c86"
      },
      "source": [
        "cmp_df.loc[2009]"
      ],
      "execution_count": null,
      "outputs": [
        {
          "output_type": "error",
          "ename": "KeyError",
          "evalue": "ignored",
          "traceback": [
            "\u001b[0;31m---------------------------------------------------------------------------\u001b[0m",
            "\u001b[0;31mKeyError\u001b[0m                                  Traceback (most recent call last)",
            "\u001b[0;32m/usr/local/lib/python3.7/dist-packages/pandas/core/indexes/base.py\u001b[0m in \u001b[0;36mget_loc\u001b[0;34m(self, key, method, tolerance)\u001b[0m\n\u001b[1;32m   2897\u001b[0m             \u001b[0;32mtry\u001b[0m\u001b[0;34m:\u001b[0m\u001b[0;34m\u001b[0m\u001b[0;34m\u001b[0m\u001b[0m\n\u001b[0;32m-> 2898\u001b[0;31m                 \u001b[0;32mreturn\u001b[0m \u001b[0mself\u001b[0m\u001b[0;34m.\u001b[0m\u001b[0m_engine\u001b[0m\u001b[0;34m.\u001b[0m\u001b[0mget_loc\u001b[0m\u001b[0;34m(\u001b[0m\u001b[0mcasted_key\u001b[0m\u001b[0;34m)\u001b[0m\u001b[0;34m\u001b[0m\u001b[0;34m\u001b[0m\u001b[0m\n\u001b[0m\u001b[1;32m   2899\u001b[0m             \u001b[0;32mexcept\u001b[0m \u001b[0mKeyError\u001b[0m \u001b[0;32mas\u001b[0m \u001b[0merr\u001b[0m\u001b[0;34m:\u001b[0m\u001b[0;34m\u001b[0m\u001b[0;34m\u001b[0m\u001b[0m\n",
            "\u001b[0;32mpandas/_libs/index.pyx\u001b[0m in \u001b[0;36mpandas._libs.index.IndexEngine.get_loc\u001b[0;34m()\u001b[0m\n",
            "\u001b[0;32mpandas/_libs/index.pyx\u001b[0m in \u001b[0;36mpandas._libs.index.IndexEngine.get_loc\u001b[0;34m()\u001b[0m\n",
            "\u001b[0;32mpandas/_libs/hashtable_class_helper.pxi\u001b[0m in \u001b[0;36mpandas._libs.hashtable.PyObjectHashTable.get_item\u001b[0;34m()\u001b[0m\n",
            "\u001b[0;32mpandas/_libs/hashtable_class_helper.pxi\u001b[0m in \u001b[0;36mpandas._libs.hashtable.PyObjectHashTable.get_item\u001b[0;34m()\u001b[0m\n",
            "\u001b[0;31mKeyError\u001b[0m: 2009",
            "\nThe above exception was the direct cause of the following exception:\n",
            "\u001b[0;31mKeyError\u001b[0m                                  Traceback (most recent call last)",
            "\u001b[0;32m<ipython-input-129-112c8f388b13>\u001b[0m in \u001b[0;36m<module>\u001b[0;34m()\u001b[0m\n\u001b[0;32m----> 1\u001b[0;31m \u001b[0mcmp_df\u001b[0m\u001b[0;34m.\u001b[0m\u001b[0mloc\u001b[0m\u001b[0;34m[\u001b[0m\u001b[0;36m2009\u001b[0m\u001b[0;34m]\u001b[0m\u001b[0;34m\u001b[0m\u001b[0;34m\u001b[0m\u001b[0m\n\u001b[0m",
            "\u001b[0;32m/usr/local/lib/python3.7/dist-packages/pandas/core/indexing.py\u001b[0m in \u001b[0;36m__getitem__\u001b[0;34m(self, key)\u001b[0m\n\u001b[1;32m    877\u001b[0m \u001b[0;34m\u001b[0m\u001b[0m\n\u001b[1;32m    878\u001b[0m             \u001b[0mmaybe_callable\u001b[0m \u001b[0;34m=\u001b[0m \u001b[0mcom\u001b[0m\u001b[0;34m.\u001b[0m\u001b[0mapply_if_callable\u001b[0m\u001b[0;34m(\u001b[0m\u001b[0mkey\u001b[0m\u001b[0;34m,\u001b[0m \u001b[0mself\u001b[0m\u001b[0;34m.\u001b[0m\u001b[0mobj\u001b[0m\u001b[0;34m)\u001b[0m\u001b[0;34m\u001b[0m\u001b[0;34m\u001b[0m\u001b[0m\n\u001b[0;32m--> 879\u001b[0;31m             \u001b[0;32mreturn\u001b[0m \u001b[0mself\u001b[0m\u001b[0;34m.\u001b[0m\u001b[0m_getitem_axis\u001b[0m\u001b[0;34m(\u001b[0m\u001b[0mmaybe_callable\u001b[0m\u001b[0;34m,\u001b[0m \u001b[0maxis\u001b[0m\u001b[0;34m=\u001b[0m\u001b[0maxis\u001b[0m\u001b[0;34m)\u001b[0m\u001b[0;34m\u001b[0m\u001b[0;34m\u001b[0m\u001b[0m\n\u001b[0m\u001b[1;32m    880\u001b[0m \u001b[0;34m\u001b[0m\u001b[0m\n\u001b[1;32m    881\u001b[0m     \u001b[0;32mdef\u001b[0m \u001b[0m_is_scalar_access\u001b[0m\u001b[0;34m(\u001b[0m\u001b[0mself\u001b[0m\u001b[0;34m,\u001b[0m \u001b[0mkey\u001b[0m\u001b[0;34m:\u001b[0m \u001b[0mTuple\u001b[0m\u001b[0;34m)\u001b[0m\u001b[0;34m:\u001b[0m\u001b[0;34m\u001b[0m\u001b[0;34m\u001b[0m\u001b[0m\n",
            "\u001b[0;32m/usr/local/lib/python3.7/dist-packages/pandas/core/indexing.py\u001b[0m in \u001b[0;36m_getitem_axis\u001b[0;34m(self, key, axis)\u001b[0m\n\u001b[1;32m   1108\u001b[0m         \u001b[0;31m# fall thru to straight lookup\u001b[0m\u001b[0;34m\u001b[0m\u001b[0;34m\u001b[0m\u001b[0;34m\u001b[0m\u001b[0m\n\u001b[1;32m   1109\u001b[0m         \u001b[0mself\u001b[0m\u001b[0;34m.\u001b[0m\u001b[0m_validate_key\u001b[0m\u001b[0;34m(\u001b[0m\u001b[0mkey\u001b[0m\u001b[0;34m,\u001b[0m \u001b[0maxis\u001b[0m\u001b[0;34m)\u001b[0m\u001b[0;34m\u001b[0m\u001b[0;34m\u001b[0m\u001b[0m\n\u001b[0;32m-> 1110\u001b[0;31m         \u001b[0;32mreturn\u001b[0m \u001b[0mself\u001b[0m\u001b[0;34m.\u001b[0m\u001b[0m_get_label\u001b[0m\u001b[0;34m(\u001b[0m\u001b[0mkey\u001b[0m\u001b[0;34m,\u001b[0m \u001b[0maxis\u001b[0m\u001b[0;34m=\u001b[0m\u001b[0maxis\u001b[0m\u001b[0;34m)\u001b[0m\u001b[0;34m\u001b[0m\u001b[0;34m\u001b[0m\u001b[0m\n\u001b[0m\u001b[1;32m   1111\u001b[0m \u001b[0;34m\u001b[0m\u001b[0m\n\u001b[1;32m   1112\u001b[0m     \u001b[0;32mdef\u001b[0m \u001b[0m_get_slice_axis\u001b[0m\u001b[0;34m(\u001b[0m\u001b[0mself\u001b[0m\u001b[0;34m,\u001b[0m \u001b[0mslice_obj\u001b[0m\u001b[0;34m:\u001b[0m \u001b[0mslice\u001b[0m\u001b[0;34m,\u001b[0m \u001b[0maxis\u001b[0m\u001b[0;34m:\u001b[0m \u001b[0mint\u001b[0m\u001b[0;34m)\u001b[0m\u001b[0;34m:\u001b[0m\u001b[0;34m\u001b[0m\u001b[0;34m\u001b[0m\u001b[0m\n",
            "\u001b[0;32m/usr/local/lib/python3.7/dist-packages/pandas/core/indexing.py\u001b[0m in \u001b[0;36m_get_label\u001b[0;34m(self, label, axis)\u001b[0m\n\u001b[1;32m   1057\u001b[0m     \u001b[0;32mdef\u001b[0m \u001b[0m_get_label\u001b[0m\u001b[0;34m(\u001b[0m\u001b[0mself\u001b[0m\u001b[0;34m,\u001b[0m \u001b[0mlabel\u001b[0m\u001b[0;34m,\u001b[0m \u001b[0maxis\u001b[0m\u001b[0;34m:\u001b[0m \u001b[0mint\u001b[0m\u001b[0;34m)\u001b[0m\u001b[0;34m:\u001b[0m\u001b[0;34m\u001b[0m\u001b[0;34m\u001b[0m\u001b[0m\n\u001b[1;32m   1058\u001b[0m         \u001b[0;31m# GH#5667 this will fail if the label is not present in the axis.\u001b[0m\u001b[0;34m\u001b[0m\u001b[0;34m\u001b[0m\u001b[0;34m\u001b[0m\u001b[0m\n\u001b[0;32m-> 1059\u001b[0;31m         \u001b[0;32mreturn\u001b[0m \u001b[0mself\u001b[0m\u001b[0;34m.\u001b[0m\u001b[0mobj\u001b[0m\u001b[0;34m.\u001b[0m\u001b[0mxs\u001b[0m\u001b[0;34m(\u001b[0m\u001b[0mlabel\u001b[0m\u001b[0;34m,\u001b[0m \u001b[0maxis\u001b[0m\u001b[0;34m=\u001b[0m\u001b[0maxis\u001b[0m\u001b[0;34m)\u001b[0m\u001b[0;34m\u001b[0m\u001b[0;34m\u001b[0m\u001b[0m\n\u001b[0m\u001b[1;32m   1060\u001b[0m \u001b[0;34m\u001b[0m\u001b[0m\n\u001b[1;32m   1061\u001b[0m     \u001b[0;32mdef\u001b[0m \u001b[0m_handle_lowerdim_multi_index_axis0\u001b[0m\u001b[0;34m(\u001b[0m\u001b[0mself\u001b[0m\u001b[0;34m,\u001b[0m \u001b[0mtup\u001b[0m\u001b[0;34m:\u001b[0m \u001b[0mTuple\u001b[0m\u001b[0;34m)\u001b[0m\u001b[0;34m:\u001b[0m\u001b[0;34m\u001b[0m\u001b[0;34m\u001b[0m\u001b[0m\n",
            "\u001b[0;32m/usr/local/lib/python3.7/dist-packages/pandas/core/generic.py\u001b[0m in \u001b[0;36mxs\u001b[0;34m(self, key, axis, level, drop_level)\u001b[0m\n\u001b[1;32m   3489\u001b[0m         \u001b[0mindex\u001b[0m \u001b[0;34m=\u001b[0m \u001b[0mself\u001b[0m\u001b[0;34m.\u001b[0m\u001b[0mindex\u001b[0m\u001b[0;34m\u001b[0m\u001b[0;34m\u001b[0m\u001b[0m\n\u001b[1;32m   3490\u001b[0m         \u001b[0;32mif\u001b[0m \u001b[0misinstance\u001b[0m\u001b[0;34m(\u001b[0m\u001b[0mindex\u001b[0m\u001b[0;34m,\u001b[0m \u001b[0mMultiIndex\u001b[0m\u001b[0;34m)\u001b[0m\u001b[0;34m:\u001b[0m\u001b[0;34m\u001b[0m\u001b[0;34m\u001b[0m\u001b[0m\n\u001b[0;32m-> 3491\u001b[0;31m             \u001b[0mloc\u001b[0m\u001b[0;34m,\u001b[0m \u001b[0mnew_index\u001b[0m \u001b[0;34m=\u001b[0m \u001b[0mself\u001b[0m\u001b[0;34m.\u001b[0m\u001b[0mindex\u001b[0m\u001b[0;34m.\u001b[0m\u001b[0mget_loc_level\u001b[0m\u001b[0;34m(\u001b[0m\u001b[0mkey\u001b[0m\u001b[0;34m,\u001b[0m \u001b[0mdrop_level\u001b[0m\u001b[0;34m=\u001b[0m\u001b[0mdrop_level\u001b[0m\u001b[0;34m)\u001b[0m\u001b[0;34m\u001b[0m\u001b[0;34m\u001b[0m\u001b[0m\n\u001b[0m\u001b[1;32m   3492\u001b[0m         \u001b[0;32melse\u001b[0m\u001b[0;34m:\u001b[0m\u001b[0;34m\u001b[0m\u001b[0;34m\u001b[0m\u001b[0m\n\u001b[1;32m   3493\u001b[0m             \u001b[0mloc\u001b[0m \u001b[0;34m=\u001b[0m \u001b[0mself\u001b[0m\u001b[0;34m.\u001b[0m\u001b[0mindex\u001b[0m\u001b[0;34m.\u001b[0m\u001b[0mget_loc\u001b[0m\u001b[0;34m(\u001b[0m\u001b[0mkey\u001b[0m\u001b[0;34m)\u001b[0m\u001b[0;34m\u001b[0m\u001b[0;34m\u001b[0m\u001b[0m\n",
            "\u001b[0;32m/usr/local/lib/python3.7/dist-packages/pandas/core/indexes/multi.py\u001b[0m in \u001b[0;36mget_loc_level\u001b[0;34m(self, key, level, drop_level)\u001b[0m\n\u001b[1;32m   2883\u001b[0m                 \u001b[0;32mreturn\u001b[0m \u001b[0mindexer\u001b[0m\u001b[0;34m,\u001b[0m \u001b[0mmaybe_mi_droplevels\u001b[0m\u001b[0;34m(\u001b[0m\u001b[0mindexer\u001b[0m\u001b[0;34m,\u001b[0m \u001b[0milevels\u001b[0m\u001b[0;34m,\u001b[0m \u001b[0mdrop_level\u001b[0m\u001b[0;34m)\u001b[0m\u001b[0;34m\u001b[0m\u001b[0;34m\u001b[0m\u001b[0m\n\u001b[1;32m   2884\u001b[0m         \u001b[0;32melse\u001b[0m\u001b[0;34m:\u001b[0m\u001b[0;34m\u001b[0m\u001b[0;34m\u001b[0m\u001b[0m\n\u001b[0;32m-> 2885\u001b[0;31m             \u001b[0mindexer\u001b[0m \u001b[0;34m=\u001b[0m \u001b[0mself\u001b[0m\u001b[0;34m.\u001b[0m\u001b[0m_get_level_indexer\u001b[0m\u001b[0;34m(\u001b[0m\u001b[0mkey\u001b[0m\u001b[0;34m,\u001b[0m \u001b[0mlevel\u001b[0m\u001b[0;34m=\u001b[0m\u001b[0mlevel\u001b[0m\u001b[0;34m)\u001b[0m\u001b[0;34m\u001b[0m\u001b[0;34m\u001b[0m\u001b[0m\n\u001b[0m\u001b[1;32m   2886\u001b[0m             \u001b[0;32mreturn\u001b[0m \u001b[0mindexer\u001b[0m\u001b[0;34m,\u001b[0m \u001b[0mmaybe_mi_droplevels\u001b[0m\u001b[0;34m(\u001b[0m\u001b[0mindexer\u001b[0m\u001b[0;34m,\u001b[0m \u001b[0;34m[\u001b[0m\u001b[0mlevel\u001b[0m\u001b[0;34m]\u001b[0m\u001b[0;34m,\u001b[0m \u001b[0mdrop_level\u001b[0m\u001b[0;34m)\u001b[0m\u001b[0;34m\u001b[0m\u001b[0;34m\u001b[0m\u001b[0m\n\u001b[1;32m   2887\u001b[0m \u001b[0;34m\u001b[0m\u001b[0m\n",
            "\u001b[0;32m/usr/local/lib/python3.7/dist-packages/pandas/core/indexes/multi.py\u001b[0m in \u001b[0;36m_get_level_indexer\u001b[0;34m(self, key, level, indexer)\u001b[0m\n\u001b[1;32m   2967\u001b[0m         \u001b[0;32melse\u001b[0m\u001b[0;34m:\u001b[0m\u001b[0;34m\u001b[0m\u001b[0;34m\u001b[0m\u001b[0m\n\u001b[1;32m   2968\u001b[0m \u001b[0;34m\u001b[0m\u001b[0m\n\u001b[0;32m-> 2969\u001b[0;31m             \u001b[0mcode\u001b[0m \u001b[0;34m=\u001b[0m \u001b[0mself\u001b[0m\u001b[0;34m.\u001b[0m\u001b[0m_get_loc_single_level_index\u001b[0m\u001b[0;34m(\u001b[0m\u001b[0mlevel_index\u001b[0m\u001b[0;34m,\u001b[0m \u001b[0mkey\u001b[0m\u001b[0;34m)\u001b[0m\u001b[0;34m\u001b[0m\u001b[0;34m\u001b[0m\u001b[0m\n\u001b[0m\u001b[1;32m   2970\u001b[0m \u001b[0;34m\u001b[0m\u001b[0m\n\u001b[1;32m   2971\u001b[0m             \u001b[0;32mif\u001b[0m \u001b[0mlevel\u001b[0m \u001b[0;34m>\u001b[0m \u001b[0;36m0\u001b[0m \u001b[0;32mor\u001b[0m \u001b[0mself\u001b[0m\u001b[0;34m.\u001b[0m\u001b[0mlexsort_depth\u001b[0m \u001b[0;34m==\u001b[0m \u001b[0;36m0\u001b[0m\u001b[0;34m:\u001b[0m\u001b[0;34m\u001b[0m\u001b[0;34m\u001b[0m\u001b[0m\n",
            "\u001b[0;32m/usr/local/lib/python3.7/dist-packages/pandas/core/indexes/multi.py\u001b[0m in \u001b[0;36m_get_loc_single_level_index\u001b[0;34m(self, level_index, key)\u001b[0m\n\u001b[1;32m   2635\u001b[0m             \u001b[0;32mreturn\u001b[0m \u001b[0;34m-\u001b[0m\u001b[0;36m1\u001b[0m\u001b[0;34m\u001b[0m\u001b[0;34m\u001b[0m\u001b[0m\n\u001b[1;32m   2636\u001b[0m         \u001b[0;32melse\u001b[0m\u001b[0;34m:\u001b[0m\u001b[0;34m\u001b[0m\u001b[0;34m\u001b[0m\u001b[0m\n\u001b[0;32m-> 2637\u001b[0;31m             \u001b[0;32mreturn\u001b[0m \u001b[0mlevel_index\u001b[0m\u001b[0;34m.\u001b[0m\u001b[0mget_loc\u001b[0m\u001b[0;34m(\u001b[0m\u001b[0mkey\u001b[0m\u001b[0;34m)\u001b[0m\u001b[0;34m\u001b[0m\u001b[0;34m\u001b[0m\u001b[0m\n\u001b[0m\u001b[1;32m   2638\u001b[0m \u001b[0;34m\u001b[0m\u001b[0m\n\u001b[1;32m   2639\u001b[0m     \u001b[0;32mdef\u001b[0m \u001b[0mget_loc\u001b[0m\u001b[0;34m(\u001b[0m\u001b[0mself\u001b[0m\u001b[0;34m,\u001b[0m \u001b[0mkey\u001b[0m\u001b[0;34m,\u001b[0m \u001b[0mmethod\u001b[0m\u001b[0;34m=\u001b[0m\u001b[0;32mNone\u001b[0m\u001b[0;34m)\u001b[0m\u001b[0;34m:\u001b[0m\u001b[0;34m\u001b[0m\u001b[0;34m\u001b[0m\u001b[0m\n",
            "\u001b[0;32m/usr/local/lib/python3.7/dist-packages/pandas/core/indexes/base.py\u001b[0m in \u001b[0;36mget_loc\u001b[0;34m(self, key, method, tolerance)\u001b[0m\n\u001b[1;32m   2898\u001b[0m                 \u001b[0;32mreturn\u001b[0m \u001b[0mself\u001b[0m\u001b[0;34m.\u001b[0m\u001b[0m_engine\u001b[0m\u001b[0;34m.\u001b[0m\u001b[0mget_loc\u001b[0m\u001b[0;34m(\u001b[0m\u001b[0mcasted_key\u001b[0m\u001b[0;34m)\u001b[0m\u001b[0;34m\u001b[0m\u001b[0;34m\u001b[0m\u001b[0m\n\u001b[1;32m   2899\u001b[0m             \u001b[0;32mexcept\u001b[0m \u001b[0mKeyError\u001b[0m \u001b[0;32mas\u001b[0m \u001b[0merr\u001b[0m\u001b[0;34m:\u001b[0m\u001b[0;34m\u001b[0m\u001b[0;34m\u001b[0m\u001b[0m\n\u001b[0;32m-> 2900\u001b[0;31m                 \u001b[0;32mraise\u001b[0m \u001b[0mKeyError\u001b[0m\u001b[0;34m(\u001b[0m\u001b[0mkey\u001b[0m\u001b[0;34m)\u001b[0m \u001b[0;32mfrom\u001b[0m \u001b[0merr\u001b[0m\u001b[0;34m\u001b[0m\u001b[0;34m\u001b[0m\u001b[0m\n\u001b[0m\u001b[1;32m   2901\u001b[0m \u001b[0;34m\u001b[0m\u001b[0m\n\u001b[1;32m   2902\u001b[0m         \u001b[0;32mif\u001b[0m \u001b[0mtolerance\u001b[0m \u001b[0;32mis\u001b[0m \u001b[0;32mnot\u001b[0m \u001b[0;32mNone\u001b[0m\u001b[0;34m:\u001b[0m\u001b[0;34m\u001b[0m\u001b[0;34m\u001b[0m\u001b[0m\n",
            "\u001b[0;31mKeyError\u001b[0m: 2009"
          ]
        }
      ]
    },
    {
      "cell_type": "code",
      "metadata": {
        "colab": {
          "base_uri": "https://localhost:8080/"
        },
        "id": "Vea9zRnGqrmZ",
        "outputId": "90cfd7aa-4cb9-471f-e01f-4606d10b21ab"
      },
      "source": [
        "# Accessing data by using .loc[] two times\n",
        "cmp_df.loc['Google'].loc[2009]"
      ],
      "execution_count": null,
      "outputs": [
        {
          "output_type": "execute_result",
          "data": {
            "text/plain": [
              "Revenue      15\n",
              "Employee    400\n",
              "Name: 2009, dtype: int64"
            ]
          },
          "metadata": {
            "tags": []
          },
          "execution_count": 130
        }
      ]
    },
    {
      "cell_type": "markdown",
      "metadata": {
        "id": "9cvx8_LRq5fw"
      },
      "source": [
        "- The above approach is not bad, but there's a **better way** we can peform **accessing of rows** that are **indexed** with **multiple** values.\n",
        "\n",
        "- We will use **.xs()** function of pandas."
      ]
    },
    {
      "cell_type": "code",
      "metadata": {
        "colab": {
          "base_uri": "https://localhost:8080/",
          "height": 173
        },
        "id": "gcR1rJBXkeqX",
        "outputId": "449562d2-7b96-47f0-f284-b0c4a1d66f60"
      },
      "source": [
        "# Accessing Microsoft data at Company level or index level 0\n",
        "cmp_df.xs(key='Microsoft', level='Company')"
      ],
      "execution_count": null,
      "outputs": [
        {
          "output_type": "execute_result",
          "data": {
            "text/html": [
              "<div>\n",
              "<style scoped>\n",
              "    .dataframe tbody tr th:only-of-type {\n",
              "        vertical-align: middle;\n",
              "    }\n",
              "\n",
              "    .dataframe tbody tr th {\n",
              "        vertical-align: top;\n",
              "    }\n",
              "\n",
              "    .dataframe thead th {\n",
              "        text-align: right;\n",
              "    }\n",
              "</style>\n",
              "<table border=\"1\" class=\"dataframe\">\n",
              "  <thead>\n",
              "    <tr style=\"text-align: right;\">\n",
              "      <th></th>\n",
              "      <th>Revenue</th>\n",
              "      <th>Employee</th>\n",
              "    </tr>\n",
              "    <tr>\n",
              "      <th>Year</th>\n",
              "      <th></th>\n",
              "      <th></th>\n",
              "    </tr>\n",
              "  </thead>\n",
              "  <tbody>\n",
              "    <tr>\n",
              "      <th>2008</th>\n",
              "      <td>9</td>\n",
              "      <td>350</td>\n",
              "    </tr>\n",
              "    <tr>\n",
              "      <th>2009</th>\n",
              "      <td>12</td>\n",
              "      <td>450</td>\n",
              "    </tr>\n",
              "    <tr>\n",
              "      <th>2010</th>\n",
              "      <td>14</td>\n",
              "      <td>550</td>\n",
              "    </tr>\n",
              "  </tbody>\n",
              "</table>\n",
              "</div>"
            ],
            "text/plain": [
              "      Revenue  Employee\n",
              "Year                   \n",
              "2008        9       350\n",
              "2009       12       450\n",
              "2010       14       550"
            ]
          },
          "metadata": {
            "tags": []
          },
          "execution_count": 132
        }
      ]
    },
    {
      "cell_type": "code",
      "metadata": {
        "colab": {
          "base_uri": "https://localhost:8080/",
          "height": 142
        },
        "id": "oQQATfburSdf",
        "outputId": "8bb8d9a7-5ae5-4604-c7b2-1d57fcfbf1c1"
      },
      "source": [
        "# Accessing data of year 2009\n",
        "cmp_df.xs(key=2009, level='Year')"
      ],
      "execution_count": null,
      "outputs": [
        {
          "output_type": "execute_result",
          "data": {
            "text/html": [
              "<div>\n",
              "<style scoped>\n",
              "    .dataframe tbody tr th:only-of-type {\n",
              "        vertical-align: middle;\n",
              "    }\n",
              "\n",
              "    .dataframe tbody tr th {\n",
              "        vertical-align: top;\n",
              "    }\n",
              "\n",
              "    .dataframe thead th {\n",
              "        text-align: right;\n",
              "    }\n",
              "</style>\n",
              "<table border=\"1\" class=\"dataframe\">\n",
              "  <thead>\n",
              "    <tr style=\"text-align: right;\">\n",
              "      <th></th>\n",
              "      <th>Revenue</th>\n",
              "      <th>Employee</th>\n",
              "    </tr>\n",
              "    <tr>\n",
              "      <th>Company</th>\n",
              "      <th></th>\n",
              "      <th></th>\n",
              "    </tr>\n",
              "  </thead>\n",
              "  <tbody>\n",
              "    <tr>\n",
              "      <th>Google</th>\n",
              "      <td>15</td>\n",
              "      <td>400</td>\n",
              "    </tr>\n",
              "    <tr>\n",
              "      <th>Microsoft</th>\n",
              "      <td>12</td>\n",
              "      <td>450</td>\n",
              "    </tr>\n",
              "  </tbody>\n",
              "</table>\n",
              "</div>"
            ],
            "text/plain": [
              "           Revenue  Employee\n",
              "Company                     \n",
              "Google          15       400\n",
              "Microsoft       12       450"
            ]
          },
          "metadata": {
            "tags": []
          },
          "execution_count": 133
        }
      ]
    },
    {
      "cell_type": "markdown",
      "metadata": {
        "id": "VhR5PHU8sUoz"
      },
      "source": [
        "- Let's observe multi-indexing over different dataset."
      ]
    },
    {
      "cell_type": "code",
      "metadata": {
        "colab": {
          "base_uri": "https://localhost:8080/",
          "height": 359
        },
        "id": "pozhxG3jrrfS",
        "outputId": "c9e57020-5ef4-463e-912f-41b63592d60d"
      },
      "source": [
        "# Loading synthetic data present in seaborn library\n",
        "tips = sns.load_dataset(name='tips', cache=True)\n",
        "\n",
        "# Extracting only top 10 rows\n",
        "tips = tips.head(10)\n",
        "\n",
        "# Output the dataframe\n",
        "tips"
      ],
      "execution_count": null,
      "outputs": [
        {
          "output_type": "execute_result",
          "data": {
            "text/html": [
              "<div>\n",
              "<style scoped>\n",
              "    .dataframe tbody tr th:only-of-type {\n",
              "        vertical-align: middle;\n",
              "    }\n",
              "\n",
              "    .dataframe tbody tr th {\n",
              "        vertical-align: top;\n",
              "    }\n",
              "\n",
              "    .dataframe thead th {\n",
              "        text-align: right;\n",
              "    }\n",
              "</style>\n",
              "<table border=\"1\" class=\"dataframe\">\n",
              "  <thead>\n",
              "    <tr style=\"text-align: right;\">\n",
              "      <th></th>\n",
              "      <th>total_bill</th>\n",
              "      <th>tip</th>\n",
              "      <th>sex</th>\n",
              "      <th>smoker</th>\n",
              "      <th>day</th>\n",
              "      <th>time</th>\n",
              "      <th>size</th>\n",
              "    </tr>\n",
              "  </thead>\n",
              "  <tbody>\n",
              "    <tr>\n",
              "      <th>0</th>\n",
              "      <td>16.99</td>\n",
              "      <td>1.01</td>\n",
              "      <td>Female</td>\n",
              "      <td>No</td>\n",
              "      <td>Sun</td>\n",
              "      <td>Dinner</td>\n",
              "      <td>2</td>\n",
              "    </tr>\n",
              "    <tr>\n",
              "      <th>1</th>\n",
              "      <td>10.34</td>\n",
              "      <td>1.66</td>\n",
              "      <td>Male</td>\n",
              "      <td>No</td>\n",
              "      <td>Sun</td>\n",
              "      <td>Dinner</td>\n",
              "      <td>3</td>\n",
              "    </tr>\n",
              "    <tr>\n",
              "      <th>2</th>\n",
              "      <td>21.01</td>\n",
              "      <td>3.50</td>\n",
              "      <td>Male</td>\n",
              "      <td>No</td>\n",
              "      <td>Sun</td>\n",
              "      <td>Dinner</td>\n",
              "      <td>3</td>\n",
              "    </tr>\n",
              "    <tr>\n",
              "      <th>3</th>\n",
              "      <td>23.68</td>\n",
              "      <td>3.31</td>\n",
              "      <td>Male</td>\n",
              "      <td>No</td>\n",
              "      <td>Sun</td>\n",
              "      <td>Dinner</td>\n",
              "      <td>2</td>\n",
              "    </tr>\n",
              "    <tr>\n",
              "      <th>4</th>\n",
              "      <td>24.59</td>\n",
              "      <td>3.61</td>\n",
              "      <td>Female</td>\n",
              "      <td>No</td>\n",
              "      <td>Sun</td>\n",
              "      <td>Dinner</td>\n",
              "      <td>4</td>\n",
              "    </tr>\n",
              "    <tr>\n",
              "      <th>5</th>\n",
              "      <td>25.29</td>\n",
              "      <td>4.71</td>\n",
              "      <td>Male</td>\n",
              "      <td>No</td>\n",
              "      <td>Sun</td>\n",
              "      <td>Dinner</td>\n",
              "      <td>4</td>\n",
              "    </tr>\n",
              "    <tr>\n",
              "      <th>6</th>\n",
              "      <td>8.77</td>\n",
              "      <td>2.00</td>\n",
              "      <td>Male</td>\n",
              "      <td>No</td>\n",
              "      <td>Sun</td>\n",
              "      <td>Dinner</td>\n",
              "      <td>2</td>\n",
              "    </tr>\n",
              "    <tr>\n",
              "      <th>7</th>\n",
              "      <td>26.88</td>\n",
              "      <td>3.12</td>\n",
              "      <td>Male</td>\n",
              "      <td>No</td>\n",
              "      <td>Sun</td>\n",
              "      <td>Dinner</td>\n",
              "      <td>4</td>\n",
              "    </tr>\n",
              "    <tr>\n",
              "      <th>8</th>\n",
              "      <td>15.04</td>\n",
              "      <td>1.96</td>\n",
              "      <td>Male</td>\n",
              "      <td>No</td>\n",
              "      <td>Sun</td>\n",
              "      <td>Dinner</td>\n",
              "      <td>2</td>\n",
              "    </tr>\n",
              "    <tr>\n",
              "      <th>9</th>\n",
              "      <td>14.78</td>\n",
              "      <td>3.23</td>\n",
              "      <td>Male</td>\n",
              "      <td>No</td>\n",
              "      <td>Sun</td>\n",
              "      <td>Dinner</td>\n",
              "      <td>2</td>\n",
              "    </tr>\n",
              "  </tbody>\n",
              "</table>\n",
              "</div>"
            ],
            "text/plain": [
              "   total_bill   tip     sex smoker  day    time  size\n",
              "0       16.99  1.01  Female     No  Sun  Dinner     2\n",
              "1       10.34  1.66    Male     No  Sun  Dinner     3\n",
              "2       21.01  3.50    Male     No  Sun  Dinner     3\n",
              "3       23.68  3.31    Male     No  Sun  Dinner     2\n",
              "4       24.59  3.61  Female     No  Sun  Dinner     4\n",
              "5       25.29  4.71    Male     No  Sun  Dinner     4\n",
              "6        8.77  2.00    Male     No  Sun  Dinner     2\n",
              "7       26.88  3.12    Male     No  Sun  Dinner     4\n",
              "8       15.04  1.96    Male     No  Sun  Dinner     2\n",
              "9       14.78  3.23    Male     No  Sun  Dinner     2"
            ]
          },
          "metadata": {
            "tags": []
          },
          "execution_count": 142
        }
      ]
    },
    {
      "cell_type": "code",
      "metadata": {
        "colab": {
          "base_uri": "https://localhost:8080/",
          "height": 390
        },
        "id": "_0s4QXTisSIC",
        "outputId": "b66be920-33f0-4985-9693-44d16a78c994"
      },
      "source": [
        "# Setting sex and size as index of the dataframe\n",
        "tips.set_index(keys=['sex','size'], inplace=True)\n",
        "\n",
        "# Output the dataframe\n",
        "tips"
      ],
      "execution_count": null,
      "outputs": [
        {
          "output_type": "execute_result",
          "data": {
            "text/html": [
              "<div>\n",
              "<style scoped>\n",
              "    .dataframe tbody tr th:only-of-type {\n",
              "        vertical-align: middle;\n",
              "    }\n",
              "\n",
              "    .dataframe tbody tr th {\n",
              "        vertical-align: top;\n",
              "    }\n",
              "\n",
              "    .dataframe thead th {\n",
              "        text-align: right;\n",
              "    }\n",
              "</style>\n",
              "<table border=\"1\" class=\"dataframe\">\n",
              "  <thead>\n",
              "    <tr style=\"text-align: right;\">\n",
              "      <th></th>\n",
              "      <th></th>\n",
              "      <th>total_bill</th>\n",
              "      <th>tip</th>\n",
              "      <th>smoker</th>\n",
              "      <th>day</th>\n",
              "      <th>time</th>\n",
              "    </tr>\n",
              "    <tr>\n",
              "      <th>sex</th>\n",
              "      <th>size</th>\n",
              "      <th></th>\n",
              "      <th></th>\n",
              "      <th></th>\n",
              "      <th></th>\n",
              "      <th></th>\n",
              "    </tr>\n",
              "  </thead>\n",
              "  <tbody>\n",
              "    <tr>\n",
              "      <th>Female</th>\n",
              "      <th>2</th>\n",
              "      <td>16.99</td>\n",
              "      <td>1.01</td>\n",
              "      <td>No</td>\n",
              "      <td>Sun</td>\n",
              "      <td>Dinner</td>\n",
              "    </tr>\n",
              "    <tr>\n",
              "      <th rowspan=\"3\" valign=\"top\">Male</th>\n",
              "      <th>3</th>\n",
              "      <td>10.34</td>\n",
              "      <td>1.66</td>\n",
              "      <td>No</td>\n",
              "      <td>Sun</td>\n",
              "      <td>Dinner</td>\n",
              "    </tr>\n",
              "    <tr>\n",
              "      <th>3</th>\n",
              "      <td>21.01</td>\n",
              "      <td>3.50</td>\n",
              "      <td>No</td>\n",
              "      <td>Sun</td>\n",
              "      <td>Dinner</td>\n",
              "    </tr>\n",
              "    <tr>\n",
              "      <th>2</th>\n",
              "      <td>23.68</td>\n",
              "      <td>3.31</td>\n",
              "      <td>No</td>\n",
              "      <td>Sun</td>\n",
              "      <td>Dinner</td>\n",
              "    </tr>\n",
              "    <tr>\n",
              "      <th>Female</th>\n",
              "      <th>4</th>\n",
              "      <td>24.59</td>\n",
              "      <td>3.61</td>\n",
              "      <td>No</td>\n",
              "      <td>Sun</td>\n",
              "      <td>Dinner</td>\n",
              "    </tr>\n",
              "    <tr>\n",
              "      <th rowspan=\"5\" valign=\"top\">Male</th>\n",
              "      <th>4</th>\n",
              "      <td>25.29</td>\n",
              "      <td>4.71</td>\n",
              "      <td>No</td>\n",
              "      <td>Sun</td>\n",
              "      <td>Dinner</td>\n",
              "    </tr>\n",
              "    <tr>\n",
              "      <th>2</th>\n",
              "      <td>8.77</td>\n",
              "      <td>2.00</td>\n",
              "      <td>No</td>\n",
              "      <td>Sun</td>\n",
              "      <td>Dinner</td>\n",
              "    </tr>\n",
              "    <tr>\n",
              "      <th>4</th>\n",
              "      <td>26.88</td>\n",
              "      <td>3.12</td>\n",
              "      <td>No</td>\n",
              "      <td>Sun</td>\n",
              "      <td>Dinner</td>\n",
              "    </tr>\n",
              "    <tr>\n",
              "      <th>2</th>\n",
              "      <td>15.04</td>\n",
              "      <td>1.96</td>\n",
              "      <td>No</td>\n",
              "      <td>Sun</td>\n",
              "      <td>Dinner</td>\n",
              "    </tr>\n",
              "    <tr>\n",
              "      <th>2</th>\n",
              "      <td>14.78</td>\n",
              "      <td>3.23</td>\n",
              "      <td>No</td>\n",
              "      <td>Sun</td>\n",
              "      <td>Dinner</td>\n",
              "    </tr>\n",
              "  </tbody>\n",
              "</table>\n",
              "</div>"
            ],
            "text/plain": [
              "             total_bill   tip smoker  day    time\n",
              "sex    size                                      \n",
              "Female 2          16.99  1.01     No  Sun  Dinner\n",
              "Male   3          10.34  1.66     No  Sun  Dinner\n",
              "       3          21.01  3.50     No  Sun  Dinner\n",
              "       2          23.68  3.31     No  Sun  Dinner\n",
              "Female 4          24.59  3.61     No  Sun  Dinner\n",
              "Male   4          25.29  4.71     No  Sun  Dinner\n",
              "       2           8.77  2.00     No  Sun  Dinner\n",
              "       4          26.88  3.12     No  Sun  Dinner\n",
              "       2          15.04  1.96     No  Sun  Dinner\n",
              "       2          14.78  3.23     No  Sun  Dinner"
            ]
          },
          "metadata": {
            "tags": []
          },
          "execution_count": 143
        }
      ]
    },
    {
      "cell_type": "code",
      "metadata": {
        "colab": {
          "base_uri": "https://localhost:8080/",
          "height": 390
        },
        "id": "YSBQ9DSks4PA",
        "outputId": "5f4b8eb3-13d8-41a3-e93a-76f350546fdd"
      },
      "source": [
        "# Sorting out the index in ascending order\n",
        "tips.sort_index(inplace=True)\n",
        "\n",
        "# Output the dataframe\n",
        "tips"
      ],
      "execution_count": null,
      "outputs": [
        {
          "output_type": "execute_result",
          "data": {
            "text/html": [
              "<div>\n",
              "<style scoped>\n",
              "    .dataframe tbody tr th:only-of-type {\n",
              "        vertical-align: middle;\n",
              "    }\n",
              "\n",
              "    .dataframe tbody tr th {\n",
              "        vertical-align: top;\n",
              "    }\n",
              "\n",
              "    .dataframe thead th {\n",
              "        text-align: right;\n",
              "    }\n",
              "</style>\n",
              "<table border=\"1\" class=\"dataframe\">\n",
              "  <thead>\n",
              "    <tr style=\"text-align: right;\">\n",
              "      <th></th>\n",
              "      <th></th>\n",
              "      <th>total_bill</th>\n",
              "      <th>tip</th>\n",
              "      <th>smoker</th>\n",
              "      <th>day</th>\n",
              "      <th>time</th>\n",
              "    </tr>\n",
              "    <tr>\n",
              "      <th>sex</th>\n",
              "      <th>size</th>\n",
              "      <th></th>\n",
              "      <th></th>\n",
              "      <th></th>\n",
              "      <th></th>\n",
              "      <th></th>\n",
              "    </tr>\n",
              "  </thead>\n",
              "  <tbody>\n",
              "    <tr>\n",
              "      <th rowspan=\"8\" valign=\"top\">Male</th>\n",
              "      <th>2</th>\n",
              "      <td>23.68</td>\n",
              "      <td>3.31</td>\n",
              "      <td>No</td>\n",
              "      <td>Sun</td>\n",
              "      <td>Dinner</td>\n",
              "    </tr>\n",
              "    <tr>\n",
              "      <th>2</th>\n",
              "      <td>8.77</td>\n",
              "      <td>2.00</td>\n",
              "      <td>No</td>\n",
              "      <td>Sun</td>\n",
              "      <td>Dinner</td>\n",
              "    </tr>\n",
              "    <tr>\n",
              "      <th>2</th>\n",
              "      <td>15.04</td>\n",
              "      <td>1.96</td>\n",
              "      <td>No</td>\n",
              "      <td>Sun</td>\n",
              "      <td>Dinner</td>\n",
              "    </tr>\n",
              "    <tr>\n",
              "      <th>2</th>\n",
              "      <td>14.78</td>\n",
              "      <td>3.23</td>\n",
              "      <td>No</td>\n",
              "      <td>Sun</td>\n",
              "      <td>Dinner</td>\n",
              "    </tr>\n",
              "    <tr>\n",
              "      <th>3</th>\n",
              "      <td>10.34</td>\n",
              "      <td>1.66</td>\n",
              "      <td>No</td>\n",
              "      <td>Sun</td>\n",
              "      <td>Dinner</td>\n",
              "    </tr>\n",
              "    <tr>\n",
              "      <th>3</th>\n",
              "      <td>21.01</td>\n",
              "      <td>3.50</td>\n",
              "      <td>No</td>\n",
              "      <td>Sun</td>\n",
              "      <td>Dinner</td>\n",
              "    </tr>\n",
              "    <tr>\n",
              "      <th>4</th>\n",
              "      <td>25.29</td>\n",
              "      <td>4.71</td>\n",
              "      <td>No</td>\n",
              "      <td>Sun</td>\n",
              "      <td>Dinner</td>\n",
              "    </tr>\n",
              "    <tr>\n",
              "      <th>4</th>\n",
              "      <td>26.88</td>\n",
              "      <td>3.12</td>\n",
              "      <td>No</td>\n",
              "      <td>Sun</td>\n",
              "      <td>Dinner</td>\n",
              "    </tr>\n",
              "    <tr>\n",
              "      <th rowspan=\"2\" valign=\"top\">Female</th>\n",
              "      <th>2</th>\n",
              "      <td>16.99</td>\n",
              "      <td>1.01</td>\n",
              "      <td>No</td>\n",
              "      <td>Sun</td>\n",
              "      <td>Dinner</td>\n",
              "    </tr>\n",
              "    <tr>\n",
              "      <th>4</th>\n",
              "      <td>24.59</td>\n",
              "      <td>3.61</td>\n",
              "      <td>No</td>\n",
              "      <td>Sun</td>\n",
              "      <td>Dinner</td>\n",
              "    </tr>\n",
              "  </tbody>\n",
              "</table>\n",
              "</div>"
            ],
            "text/plain": [
              "             total_bill   tip smoker  day    time\n",
              "sex    size                                      \n",
              "Male   2          23.68  3.31     No  Sun  Dinner\n",
              "       2           8.77  2.00     No  Sun  Dinner\n",
              "       2          15.04  1.96     No  Sun  Dinner\n",
              "       2          14.78  3.23     No  Sun  Dinner\n",
              "       3          10.34  1.66     No  Sun  Dinner\n",
              "       3          21.01  3.50     No  Sun  Dinner\n",
              "       4          25.29  4.71     No  Sun  Dinner\n",
              "       4          26.88  3.12     No  Sun  Dinner\n",
              "Female 2          16.99  1.01     No  Sun  Dinner\n",
              "       4          24.59  3.61     No  Sun  Dinner"
            ]
          },
          "metadata": {
            "tags": []
          },
          "execution_count": 144
        }
      ]
    },
    {
      "cell_type": "code",
      "metadata": {
        "colab": {
          "base_uri": "https://localhost:8080/",
          "height": 235
        },
        "id": "Lf2GXmHpt6LU",
        "outputId": "bb35d5ed-071d-4fe6-b160-8104778c1dff"
      },
      "source": [
        "# Access all records where size = 2\n",
        "tips.xs(key=2, level='size')"
      ],
      "execution_count": null,
      "outputs": [
        {
          "output_type": "execute_result",
          "data": {
            "text/html": [
              "<div>\n",
              "<style scoped>\n",
              "    .dataframe tbody tr th:only-of-type {\n",
              "        vertical-align: middle;\n",
              "    }\n",
              "\n",
              "    .dataframe tbody tr th {\n",
              "        vertical-align: top;\n",
              "    }\n",
              "\n",
              "    .dataframe thead th {\n",
              "        text-align: right;\n",
              "    }\n",
              "</style>\n",
              "<table border=\"1\" class=\"dataframe\">\n",
              "  <thead>\n",
              "    <tr style=\"text-align: right;\">\n",
              "      <th></th>\n",
              "      <th>total_bill</th>\n",
              "      <th>tip</th>\n",
              "      <th>smoker</th>\n",
              "      <th>day</th>\n",
              "      <th>time</th>\n",
              "    </tr>\n",
              "    <tr>\n",
              "      <th>sex</th>\n",
              "      <th></th>\n",
              "      <th></th>\n",
              "      <th></th>\n",
              "      <th></th>\n",
              "      <th></th>\n",
              "    </tr>\n",
              "  </thead>\n",
              "  <tbody>\n",
              "    <tr>\n",
              "      <th>Male</th>\n",
              "      <td>23.68</td>\n",
              "      <td>3.31</td>\n",
              "      <td>No</td>\n",
              "      <td>Sun</td>\n",
              "      <td>Dinner</td>\n",
              "    </tr>\n",
              "    <tr>\n",
              "      <th>Male</th>\n",
              "      <td>8.77</td>\n",
              "      <td>2.00</td>\n",
              "      <td>No</td>\n",
              "      <td>Sun</td>\n",
              "      <td>Dinner</td>\n",
              "    </tr>\n",
              "    <tr>\n",
              "      <th>Male</th>\n",
              "      <td>15.04</td>\n",
              "      <td>1.96</td>\n",
              "      <td>No</td>\n",
              "      <td>Sun</td>\n",
              "      <td>Dinner</td>\n",
              "    </tr>\n",
              "    <tr>\n",
              "      <th>Male</th>\n",
              "      <td>14.78</td>\n",
              "      <td>3.23</td>\n",
              "      <td>No</td>\n",
              "      <td>Sun</td>\n",
              "      <td>Dinner</td>\n",
              "    </tr>\n",
              "    <tr>\n",
              "      <th>Female</th>\n",
              "      <td>16.99</td>\n",
              "      <td>1.01</td>\n",
              "      <td>No</td>\n",
              "      <td>Sun</td>\n",
              "      <td>Dinner</td>\n",
              "    </tr>\n",
              "  </tbody>\n",
              "</table>\n",
              "</div>"
            ],
            "text/plain": [
              "        total_bill   tip smoker  day    time\n",
              "sex                                         \n",
              "Male         23.68  3.31     No  Sun  Dinner\n",
              "Male          8.77  2.00     No  Sun  Dinner\n",
              "Male         15.04  1.96     No  Sun  Dinner\n",
              "Male         14.78  3.23     No  Sun  Dinner\n",
              "Female       16.99  1.01     No  Sun  Dinner"
            ]
          },
          "metadata": {
            "tags": []
          },
          "execution_count": 145
        }
      ]
    },
    {
      "cell_type": "markdown",
      "metadata": {
        "id": "f4RfVgveuZaU"
      },
      "source": [
        "**Observation:**\n",
        "\n",
        "- When dealing with multiple indices we have seen how to access data using .xs() function. \n",
        "\n",
        "- Also, we have seen creating an index using categorical variables."
      ]
    },
    {
      "cell_type": "markdown",
      "metadata": {
        "id": "x4YlmWEQu5X6"
      },
      "source": [
        "<a name = Section49></a>\n",
        "## **4.9 Groupby in Pandas**\n",
        "\n",
        "- Groupby allows you to **group together rows** based on a **column** and perform an **aggregate function** on them.\n",
        "\n",
        "- This is quiet a handy tool if you don't want to change the index of the DataFrame."
      ]
    },
    {
      "cell_type": "code",
      "metadata": {
        "colab": {
          "base_uri": "https://localhost:8080/",
          "height": 204
        },
        "id": "iGqW01vnuY2U",
        "outputId": "acee7c05-257e-4a72-d2a6-7139a9f22820"
      },
      "source": [
        "# Loading synthetic data present in seaborn library\n",
        "tips = sns.load_dataset(name='tips', cache=True)\n",
        "\n",
        "# Output top 5 rows of the dataframe\n",
        "tips.head()"
      ],
      "execution_count": null,
      "outputs": [
        {
          "output_type": "execute_result",
          "data": {
            "text/html": [
              "<div>\n",
              "<style scoped>\n",
              "    .dataframe tbody tr th:only-of-type {\n",
              "        vertical-align: middle;\n",
              "    }\n",
              "\n",
              "    .dataframe tbody tr th {\n",
              "        vertical-align: top;\n",
              "    }\n",
              "\n",
              "    .dataframe thead th {\n",
              "        text-align: right;\n",
              "    }\n",
              "</style>\n",
              "<table border=\"1\" class=\"dataframe\">\n",
              "  <thead>\n",
              "    <tr style=\"text-align: right;\">\n",
              "      <th></th>\n",
              "      <th>total_bill</th>\n",
              "      <th>tip</th>\n",
              "      <th>sex</th>\n",
              "      <th>smoker</th>\n",
              "      <th>day</th>\n",
              "      <th>time</th>\n",
              "      <th>size</th>\n",
              "    </tr>\n",
              "  </thead>\n",
              "  <tbody>\n",
              "    <tr>\n",
              "      <th>0</th>\n",
              "      <td>16.99</td>\n",
              "      <td>1.01</td>\n",
              "      <td>Female</td>\n",
              "      <td>No</td>\n",
              "      <td>Sun</td>\n",
              "      <td>Dinner</td>\n",
              "      <td>2</td>\n",
              "    </tr>\n",
              "    <tr>\n",
              "      <th>1</th>\n",
              "      <td>10.34</td>\n",
              "      <td>1.66</td>\n",
              "      <td>Male</td>\n",
              "      <td>No</td>\n",
              "      <td>Sun</td>\n",
              "      <td>Dinner</td>\n",
              "      <td>3</td>\n",
              "    </tr>\n",
              "    <tr>\n",
              "      <th>2</th>\n",
              "      <td>21.01</td>\n",
              "      <td>3.50</td>\n",
              "      <td>Male</td>\n",
              "      <td>No</td>\n",
              "      <td>Sun</td>\n",
              "      <td>Dinner</td>\n",
              "      <td>3</td>\n",
              "    </tr>\n",
              "    <tr>\n",
              "      <th>3</th>\n",
              "      <td>23.68</td>\n",
              "      <td>3.31</td>\n",
              "      <td>Male</td>\n",
              "      <td>No</td>\n",
              "      <td>Sun</td>\n",
              "      <td>Dinner</td>\n",
              "      <td>2</td>\n",
              "    </tr>\n",
              "    <tr>\n",
              "      <th>4</th>\n",
              "      <td>24.59</td>\n",
              "      <td>3.61</td>\n",
              "      <td>Female</td>\n",
              "      <td>No</td>\n",
              "      <td>Sun</td>\n",
              "      <td>Dinner</td>\n",
              "      <td>4</td>\n",
              "    </tr>\n",
              "  </tbody>\n",
              "</table>\n",
              "</div>"
            ],
            "text/plain": [
              "   total_bill   tip     sex smoker  day    time  size\n",
              "0       16.99  1.01  Female     No  Sun  Dinner     2\n",
              "1       10.34  1.66    Male     No  Sun  Dinner     3\n",
              "2       21.01  3.50    Male     No  Sun  Dinner     3\n",
              "3       23.68  3.31    Male     No  Sun  Dinner     2\n",
              "4       24.59  3.61  Female     No  Sun  Dinner     4"
            ]
          },
          "metadata": {
            "tags": []
          },
          "execution_count": 147
        }
      ]
    },
    {
      "cell_type": "code",
      "metadata": {
        "colab": {
          "base_uri": "https://localhost:8080/",
          "height": 142
        },
        "id": "I8KnjZBEuYxs",
        "outputId": "a4060226-6132-4dd9-f967-8bf7d492721b"
      },
      "source": [
        "# Group by data based on time column estimating total rows\n",
        "tips.groupby(by=['time']).count()"
      ],
      "execution_count": null,
      "outputs": [
        {
          "output_type": "execute_result",
          "data": {
            "text/html": [
              "<div>\n",
              "<style scoped>\n",
              "    .dataframe tbody tr th:only-of-type {\n",
              "        vertical-align: middle;\n",
              "    }\n",
              "\n",
              "    .dataframe tbody tr th {\n",
              "        vertical-align: top;\n",
              "    }\n",
              "\n",
              "    .dataframe thead th {\n",
              "        text-align: right;\n",
              "    }\n",
              "</style>\n",
              "<table border=\"1\" class=\"dataframe\">\n",
              "  <thead>\n",
              "    <tr style=\"text-align: right;\">\n",
              "      <th></th>\n",
              "      <th>total_bill</th>\n",
              "      <th>tip</th>\n",
              "      <th>sex</th>\n",
              "      <th>smoker</th>\n",
              "      <th>day</th>\n",
              "      <th>size</th>\n",
              "    </tr>\n",
              "    <tr>\n",
              "      <th>time</th>\n",
              "      <th></th>\n",
              "      <th></th>\n",
              "      <th></th>\n",
              "      <th></th>\n",
              "      <th></th>\n",
              "      <th></th>\n",
              "    </tr>\n",
              "  </thead>\n",
              "  <tbody>\n",
              "    <tr>\n",
              "      <th>Lunch</th>\n",
              "      <td>68</td>\n",
              "      <td>68</td>\n",
              "      <td>68</td>\n",
              "      <td>68</td>\n",
              "      <td>68</td>\n",
              "      <td>68</td>\n",
              "    </tr>\n",
              "    <tr>\n",
              "      <th>Dinner</th>\n",
              "      <td>176</td>\n",
              "      <td>176</td>\n",
              "      <td>176</td>\n",
              "      <td>176</td>\n",
              "      <td>176</td>\n",
              "      <td>176</td>\n",
              "    </tr>\n",
              "  </tbody>\n",
              "</table>\n",
              "</div>"
            ],
            "text/plain": [
              "        total_bill  tip  sex  smoker  day  size\n",
              "time                                           \n",
              "Lunch           68   68   68      68   68    68\n",
              "Dinner         176  176  176     176  176   176"
            ]
          },
          "metadata": {
            "tags": []
          },
          "execution_count": 151
        }
      ]
    },
    {
      "cell_type": "code",
      "metadata": {
        "colab": {
          "base_uri": "https://localhost:8080/",
          "height": 142
        },
        "id": "vtuRLO_auYs0",
        "outputId": "dafdb4a7-45fe-4498-a337-5e0b2ffbbb23"
      },
      "source": [
        "# Group by data based on time column estimating mean of numerical columns\n",
        "tips.groupby(by=['time']).mean()"
      ],
      "execution_count": null,
      "outputs": [
        {
          "output_type": "execute_result",
          "data": {
            "text/html": [
              "<div>\n",
              "<style scoped>\n",
              "    .dataframe tbody tr th:only-of-type {\n",
              "        vertical-align: middle;\n",
              "    }\n",
              "\n",
              "    .dataframe tbody tr th {\n",
              "        vertical-align: top;\n",
              "    }\n",
              "\n",
              "    .dataframe thead th {\n",
              "        text-align: right;\n",
              "    }\n",
              "</style>\n",
              "<table border=\"1\" class=\"dataframe\">\n",
              "  <thead>\n",
              "    <tr style=\"text-align: right;\">\n",
              "      <th></th>\n",
              "      <th>total_bill</th>\n",
              "      <th>tip</th>\n",
              "      <th>size</th>\n",
              "    </tr>\n",
              "    <tr>\n",
              "      <th>time</th>\n",
              "      <th></th>\n",
              "      <th></th>\n",
              "      <th></th>\n",
              "    </tr>\n",
              "  </thead>\n",
              "  <tbody>\n",
              "    <tr>\n",
              "      <th>Lunch</th>\n",
              "      <td>17.168676</td>\n",
              "      <td>2.728088</td>\n",
              "      <td>2.411765</td>\n",
              "    </tr>\n",
              "    <tr>\n",
              "      <th>Dinner</th>\n",
              "      <td>20.797159</td>\n",
              "      <td>3.102670</td>\n",
              "      <td>2.630682</td>\n",
              "    </tr>\n",
              "  </tbody>\n",
              "</table>\n",
              "</div>"
            ],
            "text/plain": [
              "        total_bill       tip      size\n",
              "time                                  \n",
              "Lunch    17.168676  2.728088  2.411765\n",
              "Dinner   20.797159  3.102670  2.630682"
            ]
          },
          "metadata": {
            "tags": []
          },
          "execution_count": 153
        }
      ]
    },
    {
      "cell_type": "code",
      "metadata": {
        "id": "rQ8gJZP3uYnw"
      },
      "source": [
        "# Group by data based on time column estimating mean of numerical columns\n",
        "tips.groupby(by=['time']).agg({'total_bill'})"
      ],
      "execution_count": null,
      "outputs": []
    },
    {
      "cell_type": "code",
      "metadata": {
        "colab": {
          "base_uri": "https://localhost:8080/",
          "height": 173
        },
        "id": "kU9XKofr7YIj",
        "outputId": "eadbd9b3-58e8-45d3-a5a1-03237781992b"
      },
      "source": [
        "# Group by data based on time column estimating min and max of total_bill and sum of tip\n",
        "tips.groupby('time').agg({'total_bill': ['min', 'max'], 'tip': 'sum'})"
      ],
      "execution_count": null,
      "outputs": [
        {
          "output_type": "execute_result",
          "data": {
            "text/html": [
              "<div>\n",
              "<style scoped>\n",
              "    .dataframe tbody tr th:only-of-type {\n",
              "        vertical-align: middle;\n",
              "    }\n",
              "\n",
              "    .dataframe tbody tr th {\n",
              "        vertical-align: top;\n",
              "    }\n",
              "\n",
              "    .dataframe thead tr th {\n",
              "        text-align: left;\n",
              "    }\n",
              "\n",
              "    .dataframe thead tr:last-of-type th {\n",
              "        text-align: right;\n",
              "    }\n",
              "</style>\n",
              "<table border=\"1\" class=\"dataframe\">\n",
              "  <thead>\n",
              "    <tr>\n",
              "      <th></th>\n",
              "      <th colspan=\"2\" halign=\"left\">total_bill</th>\n",
              "      <th>tip</th>\n",
              "    </tr>\n",
              "    <tr>\n",
              "      <th></th>\n",
              "      <th>min</th>\n",
              "      <th>max</th>\n",
              "      <th>sum</th>\n",
              "    </tr>\n",
              "    <tr>\n",
              "      <th>time</th>\n",
              "      <th></th>\n",
              "      <th></th>\n",
              "      <th></th>\n",
              "    </tr>\n",
              "  </thead>\n",
              "  <tbody>\n",
              "    <tr>\n",
              "      <th>Lunch</th>\n",
              "      <td>7.51</td>\n",
              "      <td>43.11</td>\n",
              "      <td>185.51</td>\n",
              "    </tr>\n",
              "    <tr>\n",
              "      <th>Dinner</th>\n",
              "      <td>3.07</td>\n",
              "      <td>50.81</td>\n",
              "      <td>546.07</td>\n",
              "    </tr>\n",
              "  </tbody>\n",
              "</table>\n",
              "</div>"
            ],
            "text/plain": [
              "       total_bill            tip\n",
              "              min    max     sum\n",
              "time                            \n",
              "Lunch        7.51  43.11  185.51\n",
              "Dinner       3.07  50.81  546.07"
            ]
          },
          "metadata": {
            "tags": []
          },
          "execution_count": 154
        }
      ]
    },
    {
      "cell_type": "markdown",
      "metadata": {
        "id": "Vr0no4oP9Qxo"
      },
      "source": [
        "**Observation:**\n",
        "\n",
        "- We observed how useful groupby method is when it comes to analyzing data."
      ]
    },
    {
      "cell_type": "markdown",
      "metadata": {
        "id": "RDUmAmqn9l5k"
      },
      "source": [
        "<a name = Section410></a>\n",
        "## **4.10 DataFrame Operations**\n",
        "\n",
        "- There are some basic operations that we can apply on any dataframe and these are as follows:\n",
        "  - **.unique():** Hash table-based unique values are returned in order of appearance.\n",
        "\n",
        "  - **.nunique():** Count distinct observations over requested axis.\n",
        "\n",
        "  - **.value_counts():** Return a Series containing counts of unique values.\n",
        "\n",
        "  - **.apply():** Apply a function along an axis of the DataFrame.\n",
        "  \n",
        "  - **.sort_values():** Sort by the values along either axis."
      ]
    },
    {
      "cell_type": "code",
      "metadata": {
        "colab": {
          "base_uri": "https://localhost:8080/",
          "height": 173
        },
        "id": "yw8OrkQr9Kvl",
        "outputId": "81f289ea-a98e-407a-fcd5-70532845fbea"
      },
      "source": [
        "# Creating a list of lists\n",
        "people = [['Rick', 60, 'O+'], ['Morty', 10, 'O+'], ['Summer', 45, 'A-'], ['Beth', 18, 'B+']]\n",
        "\n",
        "# Creating dataframe out of people list\n",
        "people_df = pd.DataFrame(data=people, columns=['Name', 'Score', 'Blood Group'])\n",
        "\n",
        "# Output the dataframe\n",
        "people_df"
      ],
      "execution_count": null,
      "outputs": [
        {
          "output_type": "execute_result",
          "data": {
            "text/html": [
              "<div>\n",
              "<style scoped>\n",
              "    .dataframe tbody tr th:only-of-type {\n",
              "        vertical-align: middle;\n",
              "    }\n",
              "\n",
              "    .dataframe tbody tr th {\n",
              "        vertical-align: top;\n",
              "    }\n",
              "\n",
              "    .dataframe thead th {\n",
              "        text-align: right;\n",
              "    }\n",
              "</style>\n",
              "<table border=\"1\" class=\"dataframe\">\n",
              "  <thead>\n",
              "    <tr style=\"text-align: right;\">\n",
              "      <th></th>\n",
              "      <th>Name</th>\n",
              "      <th>Score</th>\n",
              "      <th>Blood Group</th>\n",
              "    </tr>\n",
              "  </thead>\n",
              "  <tbody>\n",
              "    <tr>\n",
              "      <th>0</th>\n",
              "      <td>Rick</td>\n",
              "      <td>60</td>\n",
              "      <td>O+</td>\n",
              "    </tr>\n",
              "    <tr>\n",
              "      <th>1</th>\n",
              "      <td>Morty</td>\n",
              "      <td>10</td>\n",
              "      <td>O+</td>\n",
              "    </tr>\n",
              "    <tr>\n",
              "      <th>2</th>\n",
              "      <td>Summer</td>\n",
              "      <td>45</td>\n",
              "      <td>A-</td>\n",
              "    </tr>\n",
              "    <tr>\n",
              "      <th>3</th>\n",
              "      <td>Beth</td>\n",
              "      <td>18</td>\n",
              "      <td>B+</td>\n",
              "    </tr>\n",
              "  </tbody>\n",
              "</table>\n",
              "</div>"
            ],
            "text/plain": [
              "     Name  Score Blood Group\n",
              "0    Rick     60          O+\n",
              "1   Morty     10          O+\n",
              "2  Summer     45          A-\n",
              "3    Beth     18          B+"
            ]
          },
          "metadata": {
            "tags": []
          },
          "execution_count": 155
        }
      ]
    },
    {
      "cell_type": "code",
      "metadata": {
        "colab": {
          "base_uri": "https://localhost:8080/"
        },
        "id": "OqepZe8YBq7A",
        "outputId": "1356ae90-516a-482f-8476-ec0fc96556b0"
      },
      "source": [
        "# Display the unique labels in Blood Group\n",
        "print('Unique values in Blood Group:', people_df['Blood Group'].unique())\n",
        "\n",
        "# Dispaly the unique count in Blood Group\n",
        "print('Unique count in Blood Group:', people_df['Blood Group'].nunique())"
      ],
      "execution_count": null,
      "outputs": [
        {
          "output_type": "stream",
          "text": [
            "Unique values in Blood Group: ['O+' 'A-' 'B+']\n",
            "Unique count in Blood Group: 3\n"
          ],
          "name": "stdout"
        }
      ]
    },
    {
      "cell_type": "code",
      "metadata": {
        "colab": {
          "base_uri": "https://localhost:8080/"
        },
        "id": "Km_mJcM4CpAB",
        "outputId": "fbe7088f-f608-4b1d-c0dc-166920fd909a"
      },
      "source": [
        "# Return a Series of Blood Group containing counts of unique values.\n",
        "people_df['Blood Group'].value_counts()"
      ],
      "execution_count": null,
      "outputs": [
        {
          "output_type": "execute_result",
          "data": {
            "text/plain": [
              "O+    2\n",
              "A-    1\n",
              "B+    1\n",
              "Name: Blood Group, dtype: int64"
            ]
          },
          "metadata": {
            "tags": []
          },
          "execution_count": 158
        }
      ]
    },
    {
      "cell_type": "code",
      "metadata": {
        "id": "gFoRtFxsC8BM"
      },
      "source": [
        "def times2(x):\n",
        "    return x*2"
      ],
      "execution_count": null,
      "outputs": []
    },
    {
      "cell_type": "code",
      "metadata": {
        "colab": {
          "base_uri": "https://localhost:8080/",
          "height": 173
        },
        "id": "A3E_qjkWC0eD",
        "outputId": "9fc14fb6-d3c5-4c10-c82d-24f2d19a096d"
      },
      "source": [
        "# Apply a times2 function along an axis of the DataFrame.\n",
        "# people_df['Score Times2'] = people_df['Score'].apply(lambda x: x * 2)\n",
        "people_df['Score Times2'] = people_df['Score'].apply(times2)\n",
        "\n",
        "# Output the dataframe\n",
        "people_df"
      ],
      "execution_count": null,
      "outputs": [
        {
          "output_type": "execute_result",
          "data": {
            "text/html": [
              "<div>\n",
              "<style scoped>\n",
              "    .dataframe tbody tr th:only-of-type {\n",
              "        vertical-align: middle;\n",
              "    }\n",
              "\n",
              "    .dataframe tbody tr th {\n",
              "        vertical-align: top;\n",
              "    }\n",
              "\n",
              "    .dataframe thead th {\n",
              "        text-align: right;\n",
              "    }\n",
              "</style>\n",
              "<table border=\"1\" class=\"dataframe\">\n",
              "  <thead>\n",
              "    <tr style=\"text-align: right;\">\n",
              "      <th></th>\n",
              "      <th>Name</th>\n",
              "      <th>Score</th>\n",
              "      <th>Blood Group</th>\n",
              "      <th>Score Times2</th>\n",
              "    </tr>\n",
              "  </thead>\n",
              "  <tbody>\n",
              "    <tr>\n",
              "      <th>0</th>\n",
              "      <td>Rick</td>\n",
              "      <td>60</td>\n",
              "      <td>O+</td>\n",
              "      <td>120</td>\n",
              "    </tr>\n",
              "    <tr>\n",
              "      <th>1</th>\n",
              "      <td>Morty</td>\n",
              "      <td>10</td>\n",
              "      <td>O+</td>\n",
              "      <td>20</td>\n",
              "    </tr>\n",
              "    <tr>\n",
              "      <th>2</th>\n",
              "      <td>Summer</td>\n",
              "      <td>45</td>\n",
              "      <td>A-</td>\n",
              "      <td>90</td>\n",
              "    </tr>\n",
              "    <tr>\n",
              "      <th>3</th>\n",
              "      <td>Beth</td>\n",
              "      <td>18</td>\n",
              "      <td>B+</td>\n",
              "      <td>36</td>\n",
              "    </tr>\n",
              "  </tbody>\n",
              "</table>\n",
              "</div>"
            ],
            "text/plain": [
              "     Name  Score Blood Group  Score Times2\n",
              "0    Rick     60          O+           120\n",
              "1   Morty     10          O+            20\n",
              "2  Summer     45          A-            90\n",
              "3    Beth     18          B+            36"
            ]
          },
          "metadata": {
            "tags": []
          },
          "execution_count": 160
        }
      ]
    },
    {
      "cell_type": "code",
      "metadata": {
        "colab": {
          "base_uri": "https://localhost:8080/",
          "height": 173
        },
        "id": "LsAJMVF_DfMQ",
        "outputId": "84a7e5d3-41d9-4ed5-9826-525360c876f0"
      },
      "source": [
        "# Sort the dataframe based on score column in ascending order\n",
        "people_df.sort_values(by='Score', ascending=True)"
      ],
      "execution_count": null,
      "outputs": [
        {
          "output_type": "execute_result",
          "data": {
            "text/html": [
              "<div>\n",
              "<style scoped>\n",
              "    .dataframe tbody tr th:only-of-type {\n",
              "        vertical-align: middle;\n",
              "    }\n",
              "\n",
              "    .dataframe tbody tr th {\n",
              "        vertical-align: top;\n",
              "    }\n",
              "\n",
              "    .dataframe thead th {\n",
              "        text-align: right;\n",
              "    }\n",
              "</style>\n",
              "<table border=\"1\" class=\"dataframe\">\n",
              "  <thead>\n",
              "    <tr style=\"text-align: right;\">\n",
              "      <th></th>\n",
              "      <th>Name</th>\n",
              "      <th>Score</th>\n",
              "      <th>Blood Group</th>\n",
              "      <th>Score Times2</th>\n",
              "    </tr>\n",
              "  </thead>\n",
              "  <tbody>\n",
              "    <tr>\n",
              "      <th>1</th>\n",
              "      <td>Morty</td>\n",
              "      <td>10</td>\n",
              "      <td>O+</td>\n",
              "      <td>20</td>\n",
              "    </tr>\n",
              "    <tr>\n",
              "      <th>3</th>\n",
              "      <td>Beth</td>\n",
              "      <td>18</td>\n",
              "      <td>B+</td>\n",
              "      <td>36</td>\n",
              "    </tr>\n",
              "    <tr>\n",
              "      <th>2</th>\n",
              "      <td>Summer</td>\n",
              "      <td>45</td>\n",
              "      <td>A-</td>\n",
              "      <td>90</td>\n",
              "    </tr>\n",
              "    <tr>\n",
              "      <th>0</th>\n",
              "      <td>Rick</td>\n",
              "      <td>60</td>\n",
              "      <td>O+</td>\n",
              "      <td>120</td>\n",
              "    </tr>\n",
              "  </tbody>\n",
              "</table>\n",
              "</div>"
            ],
            "text/plain": [
              "     Name  Score Blood Group  Score Times2\n",
              "1   Morty     10          O+            20\n",
              "3    Beth     18          B+            36\n",
              "2  Summer     45          A-            90\n",
              "0    Rick     60          O+           120"
            ]
          },
          "metadata": {
            "tags": []
          },
          "execution_count": 161
        }
      ]
    },
    {
      "cell_type": "markdown",
      "metadata": {
        "id": "UH3_5P5uUXLF"
      },
      "source": [
        "**Observation:**\n",
        "\n",
        "- We observed various operations that can be applied on the dataframe."
      ]
    },
    {
      "cell_type": "markdown",
      "metadata": {
        "id": "-pPi4odoErqK"
      },
      "source": [
        "<a name = Section411></a>\n",
        "## **4.11 Time Series Operations**\n",
        "\n",
        "- In this section, we will observe how to perform time series related operations when time as a factor is associcated."
      ]
    },
    {
      "cell_type": "code",
      "metadata": {
        "id": "X14ECSxTD0p4",
        "colab": {
          "base_uri": "https://localhost:8080/",
          "height": 204
        },
        "outputId": "3ab9ebba-f3f0-4586-f006-743fa1dde1c1"
      },
      "source": [
        "# Loading remote csv files using pandas .read_csv() method and setting ID as index\n",
        "air_df = pd.read_csv(filepath_or_buffer='https://raw.githubusercontent.com/insaid2018/Term-1/master/Data/Casestudy/AirQualityUCI.csv')\n",
        "\n",
        "# Output the top 5 rows in dataframe\n",
        "air_df.head()"
      ],
      "execution_count": null,
      "outputs": [
        {
          "output_type": "execute_result",
          "data": {
            "text/html": [
              "<div>\n",
              "<style scoped>\n",
              "    .dataframe tbody tr th:only-of-type {\n",
              "        vertical-align: middle;\n",
              "    }\n",
              "\n",
              "    .dataframe tbody tr th {\n",
              "        vertical-align: top;\n",
              "    }\n",
              "\n",
              "    .dataframe thead th {\n",
              "        text-align: right;\n",
              "    }\n",
              "</style>\n",
              "<table border=\"1\" class=\"dataframe\">\n",
              "  <thead>\n",
              "    <tr style=\"text-align: right;\">\n",
              "      <th></th>\n",
              "      <th>Date</th>\n",
              "      <th>Time</th>\n",
              "      <th>CO(GT)</th>\n",
              "      <th>PT08.S1(CO)</th>\n",
              "      <th>NMHC(GT)</th>\n",
              "      <th>C6H6(GT)</th>\n",
              "      <th>PT08.S2(NMHC)</th>\n",
              "      <th>NOx(GT)</th>\n",
              "      <th>PT08.S3(NOx)</th>\n",
              "      <th>NO2(GT)</th>\n",
              "      <th>PT08.S4(NO2)</th>\n",
              "      <th>PT08.S5(O3)</th>\n",
              "      <th>T</th>\n",
              "      <th>RH</th>\n",
              "      <th>AH</th>\n",
              "    </tr>\n",
              "  </thead>\n",
              "  <tbody>\n",
              "    <tr>\n",
              "      <th>0</th>\n",
              "      <td>3/10/2004</td>\n",
              "      <td>18:00:00</td>\n",
              "      <td>2.6</td>\n",
              "      <td>1360</td>\n",
              "      <td>150</td>\n",
              "      <td>11.9</td>\n",
              "      <td>1046</td>\n",
              "      <td>166</td>\n",
              "      <td>1056</td>\n",
              "      <td>113</td>\n",
              "      <td>1692</td>\n",
              "      <td>1268</td>\n",
              "      <td>13.6</td>\n",
              "      <td>48.9</td>\n",
              "      <td>0.7578</td>\n",
              "    </tr>\n",
              "    <tr>\n",
              "      <th>1</th>\n",
              "      <td>3/10/2004</td>\n",
              "      <td>19:00:00</td>\n",
              "      <td>2.0</td>\n",
              "      <td>1292</td>\n",
              "      <td>112</td>\n",
              "      <td>9.4</td>\n",
              "      <td>955</td>\n",
              "      <td>103</td>\n",
              "      <td>1174</td>\n",
              "      <td>92</td>\n",
              "      <td>1559</td>\n",
              "      <td>972</td>\n",
              "      <td>13.3</td>\n",
              "      <td>47.7</td>\n",
              "      <td>0.7255</td>\n",
              "    </tr>\n",
              "    <tr>\n",
              "      <th>2</th>\n",
              "      <td>3/10/2004</td>\n",
              "      <td>20:00:00</td>\n",
              "      <td>2.2</td>\n",
              "      <td>1402</td>\n",
              "      <td>88</td>\n",
              "      <td>9.0</td>\n",
              "      <td>939</td>\n",
              "      <td>131</td>\n",
              "      <td>1140</td>\n",
              "      <td>114</td>\n",
              "      <td>1555</td>\n",
              "      <td>1074</td>\n",
              "      <td>11.9</td>\n",
              "      <td>54.0</td>\n",
              "      <td>0.7502</td>\n",
              "    </tr>\n",
              "    <tr>\n",
              "      <th>3</th>\n",
              "      <td>3/10/2004</td>\n",
              "      <td>21:00:00</td>\n",
              "      <td>2.2</td>\n",
              "      <td>1376</td>\n",
              "      <td>80</td>\n",
              "      <td>9.2</td>\n",
              "      <td>948</td>\n",
              "      <td>172</td>\n",
              "      <td>1092</td>\n",
              "      <td>122</td>\n",
              "      <td>1584</td>\n",
              "      <td>1203</td>\n",
              "      <td>11.0</td>\n",
              "      <td>60.0</td>\n",
              "      <td>0.7867</td>\n",
              "    </tr>\n",
              "    <tr>\n",
              "      <th>4</th>\n",
              "      <td>3/10/2004</td>\n",
              "      <td>22:00:00</td>\n",
              "      <td>1.6</td>\n",
              "      <td>1272</td>\n",
              "      <td>51</td>\n",
              "      <td>6.5</td>\n",
              "      <td>836</td>\n",
              "      <td>131</td>\n",
              "      <td>1205</td>\n",
              "      <td>116</td>\n",
              "      <td>1490</td>\n",
              "      <td>1110</td>\n",
              "      <td>11.2</td>\n",
              "      <td>59.6</td>\n",
              "      <td>0.7888</td>\n",
              "    </tr>\n",
              "  </tbody>\n",
              "</table>\n",
              "</div>"
            ],
            "text/plain": [
              "        Date      Time  CO(GT)  PT08.S1(CO)  ...  PT08.S5(O3)     T    RH      AH\n",
              "0  3/10/2004  18:00:00     2.6         1360  ...         1268  13.6  48.9  0.7578\n",
              "1  3/10/2004  19:00:00     2.0         1292  ...          972  13.3  47.7  0.7255\n",
              "2  3/10/2004  20:00:00     2.2         1402  ...         1074  11.9  54.0  0.7502\n",
              "3  3/10/2004  21:00:00     2.2         1376  ...         1203  11.0  60.0  0.7867\n",
              "4  3/10/2004  22:00:00     1.6         1272  ...         1110  11.2  59.6  0.7888\n",
              "\n",
              "[5 rows x 15 columns]"
            ]
          },
          "metadata": {
            "tags": []
          },
          "execution_count": 13
        }
      ]
    },
    {
      "cell_type": "markdown",
      "metadata": {
        "id": "YVqxW7_UVUHW"
      },
      "source": [
        "- Let's get some basic information about the columns in our dataset."
      ]
    },
    {
      "cell_type": "code",
      "metadata": {
        "colab": {
          "base_uri": "https://localhost:8080/"
        },
        "id": "OMqkHFaDVRk3",
        "outputId": "a9e4470d-19cc-482a-c514-2ee13f65e56d"
      },
      "source": [
        "air_df.info()"
      ],
      "execution_count": null,
      "outputs": [
        {
          "output_type": "stream",
          "text": [
            "<class 'pandas.core.frame.DataFrame'>\n",
            "RangeIndex: 9357 entries, 0 to 9356\n",
            "Data columns (total 15 columns):\n",
            " #   Column         Non-Null Count  Dtype  \n",
            "---  ------         --------------  -----  \n",
            " 0   Date           9357 non-null   object \n",
            " 1   Time           9357 non-null   object \n",
            " 2   CO(GT)         9357 non-null   float64\n",
            " 3   PT08.S1(CO)    9357 non-null   int64  \n",
            " 4   NMHC(GT)       9357 non-null   int64  \n",
            " 5   C6H6(GT)       9357 non-null   float64\n",
            " 6   PT08.S2(NMHC)  9357 non-null   int64  \n",
            " 7   NOx(GT)        9357 non-null   int64  \n",
            " 8   PT08.S3(NOx)   9357 non-null   int64  \n",
            " 9   NO2(GT)        9357 non-null   int64  \n",
            " 10  PT08.S4(NO2)   9357 non-null   int64  \n",
            " 11  PT08.S5(O3)    9357 non-null   int64  \n",
            " 12  T              9357 non-null   float64\n",
            " 13  RH             9357 non-null   float64\n",
            " 14  AH             9357 non-null   float64\n",
            "dtypes: float64(5), int64(8), object(2)\n",
            "memory usage: 1.1+ MB\n"
          ],
          "name": "stdout"
        }
      ]
    },
    {
      "cell_type": "markdown",
      "metadata": {
        "id": "ieY5mK7iVYxa"
      },
      "source": [
        "- We can observe that **Date** and **Time** features are **identified as object**, **instead** they **should be datetime**.\n",
        "\n",
        "- We can **correct** this **schema** by **casting** it to the datetime along with specific datetime format.\n",
        "\n",
        "- For better visibility we will take only first row for now."
      ]
    },
    {
      "cell_type": "code",
      "metadata": {
        "colab": {
          "base_uri": "https://localhost:8080/",
          "height": 80
        },
        "id": "2A5uoUEeVzs3",
        "outputId": "a34e8e4a-3c53-4c1d-bc57-db130dd0b8ae"
      },
      "source": [
        "air_df.head(1)"
      ],
      "execution_count": null,
      "outputs": [
        {
          "output_type": "execute_result",
          "data": {
            "text/html": [
              "<div>\n",
              "<style scoped>\n",
              "    .dataframe tbody tr th:only-of-type {\n",
              "        vertical-align: middle;\n",
              "    }\n",
              "\n",
              "    .dataframe tbody tr th {\n",
              "        vertical-align: top;\n",
              "    }\n",
              "\n",
              "    .dataframe thead th {\n",
              "        text-align: right;\n",
              "    }\n",
              "</style>\n",
              "<table border=\"1\" class=\"dataframe\">\n",
              "  <thead>\n",
              "    <tr style=\"text-align: right;\">\n",
              "      <th></th>\n",
              "      <th>Date</th>\n",
              "      <th>Time</th>\n",
              "      <th>CO(GT)</th>\n",
              "      <th>PT08.S1(CO)</th>\n",
              "      <th>NMHC(GT)</th>\n",
              "      <th>C6H6(GT)</th>\n",
              "      <th>PT08.S2(NMHC)</th>\n",
              "      <th>NOx(GT)</th>\n",
              "      <th>PT08.S3(NOx)</th>\n",
              "      <th>NO2(GT)</th>\n",
              "      <th>PT08.S4(NO2)</th>\n",
              "      <th>PT08.S5(O3)</th>\n",
              "      <th>T</th>\n",
              "      <th>RH</th>\n",
              "      <th>AH</th>\n",
              "    </tr>\n",
              "  </thead>\n",
              "  <tbody>\n",
              "    <tr>\n",
              "      <th>0</th>\n",
              "      <td>3/10/2004</td>\n",
              "      <td>18:00:00</td>\n",
              "      <td>2.6</td>\n",
              "      <td>1360</td>\n",
              "      <td>150</td>\n",
              "      <td>11.9</td>\n",
              "      <td>1046</td>\n",
              "      <td>166</td>\n",
              "      <td>1056</td>\n",
              "      <td>113</td>\n",
              "      <td>1692</td>\n",
              "      <td>1268</td>\n",
              "      <td>13.6</td>\n",
              "      <td>48.9</td>\n",
              "      <td>0.7578</td>\n",
              "    </tr>\n",
              "  </tbody>\n",
              "</table>\n",
              "</div>"
            ],
            "text/plain": [
              "        Date      Time  CO(GT)  PT08.S1(CO)  ...  PT08.S5(O3)     T    RH      AH\n",
              "0  3/10/2004  18:00:00     2.6         1360  ...         1268  13.6  48.9  0.7578\n",
              "\n",
              "[1 rows x 15 columns]"
            ]
          },
          "metadata": {
            "tags": []
          },
          "execution_count": 15
        }
      ]
    },
    {
      "cell_type": "code",
      "metadata": {
        "colab": {
          "base_uri": "https://localhost:8080/"
        },
        "id": "6681iRNbV378",
        "outputId": "f849f88a-b314-40bd-f9d0-b2f95e867a02"
      },
      "source": [
        "# Casting Date column to datetime format\n",
        "air_df['Date'] = pd.to_datetime(arg=air_df['Date'], format='%m/%d/%Y')\n",
        "\n",
        "# Display the type of the Date column\n",
        "print('Date Type:', air_df['Date'].dtype)"
      ],
      "execution_count": null,
      "outputs": [
        {
          "output_type": "stream",
          "text": [
            "Date Type: datetime64[ns]\n"
          ],
          "name": "stdout"
        }
      ]
    },
    {
      "cell_type": "markdown",
      "metadata": {
        "id": "WuKd5LlhWbbC"
      },
      "source": [
        "- Now let's do the same for Time column."
      ]
    },
    {
      "cell_type": "code",
      "metadata": {
        "colab": {
          "base_uri": "https://localhost:8080/"
        },
        "id": "c-O9xO3NWgQ5",
        "outputId": "32a00a99-c5c2-4983-f6dd-3c8e47b4a96c"
      },
      "source": [
        "# Casting Time column to datetime format\n",
        "air_df['Time'] = pd.to_datetime(arg=air_df['Time'], format='%H:%M:%S')\n",
        "\n",
        "# Display the type of the Time column\n",
        "print('Time Type:', air_df['Time'].dtype)"
      ],
      "execution_count": null,
      "outputs": [
        {
          "output_type": "stream",
          "text": [
            "Time Type: datetime64[ns]\n"
          ],
          "name": "stdout"
        }
      ]
    },
    {
      "cell_type": "markdown",
      "metadata": {
        "id": "RJY668VJXYpP"
      },
      "source": [
        "- Now, we will see how to extract day, month and year from any date.\n",
        "\n",
        "- For ease of understanding, we will be using only one row."
      ]
    },
    {
      "cell_type": "code",
      "metadata": {
        "colab": {
          "base_uri": "https://localhost:8080/"
        },
        "id": "AHqTYGOTW0Yp",
        "outputId": "e9a8de75-c72f-4583-fbad-3f1487164ba4"
      },
      "source": [
        "# Extract day from Date column\n",
        "# We used index to extract only value not a series\n",
        "day = air_df['Date'].head(1).dt.day[0]\n",
        "\n",
        "# Extract month from Date column\n",
        "# We used index to extract only value not a series\n",
        "month = air_df['Date'].head(1).dt.month[0]\n",
        "\n",
        "# Extract year from Date column\n",
        "# We used index to extract only value not a series\n",
        "year = air_df['Date'].head(1).dt.year[0]\n",
        "\n",
        "# Display day\n",
        "print('Day:', day)\n",
        "\n",
        "# Display month\n",
        "print('Month:', month)\n",
        "\n",
        "# Display year\n",
        "print('Year:', year)"
      ],
      "execution_count": null,
      "outputs": [
        {
          "output_type": "stream",
          "text": [
            "Day: 10\n",
            "Month: 3\n",
            "Year: 2004\n"
          ],
          "name": "stdout"
        }
      ]
    },
    {
      "cell_type": "code",
      "metadata": {
        "colab": {
          "base_uri": "https://localhost:8080/"
        },
        "id": "O9ZJZLtqY4UA",
        "outputId": "0b2fde91-d2e8-46aa-b3b1-47366bbe2ac3"
      },
      "source": [
        "# Display the number of unique days\n",
        "print('Number of Unique Days:', air_df['Date'].dt.day.nunique())\n",
        "\n",
        "# Display the number of unique months\n",
        "print('Number of Unique Months:', air_df['Date'].dt.month.nunique())\n",
        "\n",
        "# Display the number of unique years\n",
        "print('Number of Unique Months:', air_df['Date'].dt.year.nunique())"
      ],
      "execution_count": null,
      "outputs": [
        {
          "output_type": "stream",
          "text": [
            "Number of Unique Days: 31\n",
            "Number of Unique Months: 12\n",
            "Number of Unique Months: 2\n"
          ],
          "name": "stdout"
        }
      ]
    },
    {
      "cell_type": "markdown",
      "metadata": {
        "id": "1h3WPsPucrZU"
      },
      "source": [
        "- Next, we will see how to extract week number, day of the week, weekday name, day of the year.\n",
        "\n",
        "- For the sake of simplicity we will be only using first row. \n",
        "\n",
        "- The __index of week days__ are provided below.\n",
        "\n",
        "  - 0 = Monday\n",
        "  - 1 = Tuesday\n",
        "  - 2 = Wednesday\n",
        "  - 3 = Thursday\n",
        "  - 4 = Friday\n",
        "  - 5 = Saturday\n",
        "  - 6 = Sunday"
      ]
    },
    {
      "cell_type": "code",
      "metadata": {
        "colab": {
          "base_uri": "https://localhost:8080/"
        },
        "id": "_FxaJvSQb3Kp",
        "outputId": "39f0b3ef-8924-4608-aa41-1c0927d9d149"
      },
      "source": [
        "# Display the week number\n",
        "print('Week Number:', air_df['Date'].head(1).dt.isocalendar().week[0])\n",
        "\n",
        "# Display the day of the week\n",
        "print('Day of the week:', air_df['Date'].head(1).dt.dayofweek[0])\n",
        "\n",
        "# Display weekday name\n",
        "print('Weekday name:', air_df['Date'].head(1).dt.day_name()[0])\n",
        "\n",
        "# Display day of the year\n",
        "print('Day of the year:', air_df['Date'].head(1).dt.dayofyear[0])"
      ],
      "execution_count": null,
      "outputs": [
        {
          "output_type": "stream",
          "text": [
            "Week Number: 11\n",
            "Day of the week: 2\n",
            "Weekday name: Wednesday\n",
            "Day of the year: 70\n"
          ],
          "name": "stdout"
        }
      ]
    },
    {
      "cell_type": "markdown",
      "metadata": {
        "id": "76F2HQvwe4Ab"
      },
      "source": [
        "- Next, we will see how to get hours, minutes, seconds from Time column.\n",
        "\n",
        "- For the sake of simplicity we will take only first row as an example."
      ]
    },
    {
      "cell_type": "code",
      "metadata": {
        "colab": {
          "base_uri": "https://localhost:8080/"
        },
        "id": "jKrfCCuBfIWa",
        "outputId": "f8c2c613-28bf-477c-aed9-b7916e811bec"
      },
      "source": [
        "# Display hours from Time column\n",
        "print('Hours:', air_df['Time'].head(1).dt.hour[0])\n",
        "\n",
        "# Display minutes from Time column\n",
        "print('Minutes:', air_df['Time'].head(1).dt.minute[0])\n",
        "\n",
        "# Display seconds from Time column\n",
        "print('Seconds:', air_df['Time'].head(1).dt.second[0])"
      ],
      "execution_count": null,
      "outputs": [
        {
          "output_type": "stream",
          "text": [
            "Hours: 18\n",
            "Minutes: 0\n",
            "Seconds: 0\n"
          ],
          "name": "stdout"
        }
      ]
    },
    {
      "cell_type": "markdown",
      "metadata": {
        "id": "FZ1GhXdZfxvA"
      },
      "source": [
        "- We can also perform **conditional filtering** over the rows of dataframe **using datetime** type data.\n",
        "\n",
        "- Below, we will show you an exmpale how to measure the number of records before 9 a.m."
      ]
    },
    {
      "cell_type": "code",
      "metadata": {
        "colab": {
          "base_uri": "https://localhost:8080/"
        },
        "id": "LYF2ejNHf4x9",
        "outputId": "096a69b9-1703-4c91-8efd-6eed20b754f7"
      },
      "source": [
        "# Initiating a custom timestap of 9 AM\n",
        "timestamp = pd.to_datetime(arg=\"09:00:00\", format='%H:%M:%S')\n",
        "\n",
        "# Display the number of records that are below than the defined timestamp\n",
        "print('Filtered Data Shape:', air_df[air_df['Time'] < timestamp].shape)"
      ],
      "execution_count": null,
      "outputs": [
        {
          "output_type": "stream",
          "text": [
            "Filtered Data Shape: (3510, 15)\n"
          ],
          "name": "stdout"
        }
      ]
    },
    {
      "cell_type": "markdown",
      "metadata": {
        "id": "jI2IQDuxgXku"
      },
      "source": [
        "- Let's try to filter the rows that are before 01/01/2005 date."
      ]
    },
    {
      "cell_type": "code",
      "metadata": {
        "colab": {
          "base_uri": "https://localhost:8080/",
          "height": 289
        },
        "id": "zoZDhRAXgSXy",
        "outputId": "d5b514f1-2f63-4c1b-d29e-e5ffca05589f"
      },
      "source": [
        "# Initiating a custom date of 01/01/2005\n",
        "datestamp = pd.to_datetime(\"01/01/2005\", format='%d/%m/%Y')\n",
        "\n",
        "# Ouput 5 rows that are before 01/01/2005\n",
        "air_df[air_df['Date'] < datestamp].tail()"
      ],
      "execution_count": null,
      "outputs": [
        {
          "output_type": "execute_result",
          "data": {
            "text/html": [
              "<div>\n",
              "<style scoped>\n",
              "    .dataframe tbody tr th:only-of-type {\n",
              "        vertical-align: middle;\n",
              "    }\n",
              "\n",
              "    .dataframe tbody tr th {\n",
              "        vertical-align: top;\n",
              "    }\n",
              "\n",
              "    .dataframe thead th {\n",
              "        text-align: right;\n",
              "    }\n",
              "</style>\n",
              "<table border=\"1\" class=\"dataframe\">\n",
              "  <thead>\n",
              "    <tr style=\"text-align: right;\">\n",
              "      <th></th>\n",
              "      <th>Date</th>\n",
              "      <th>Time</th>\n",
              "      <th>CO(GT)</th>\n",
              "      <th>PT08.S1(CO)</th>\n",
              "      <th>NMHC(GT)</th>\n",
              "      <th>C6H6(GT)</th>\n",
              "      <th>PT08.S2(NMHC)</th>\n",
              "      <th>NOx(GT)</th>\n",
              "      <th>PT08.S3(NOx)</th>\n",
              "      <th>NO2(GT)</th>\n",
              "      <th>PT08.S4(NO2)</th>\n",
              "      <th>PT08.S5(O3)</th>\n",
              "      <th>T</th>\n",
              "      <th>RH</th>\n",
              "      <th>AH</th>\n",
              "    </tr>\n",
              "  </thead>\n",
              "  <tbody>\n",
              "    <tr>\n",
              "      <th>7105</th>\n",
              "      <td>2004-12-31</td>\n",
              "      <td>1900-01-01 19:00:00</td>\n",
              "      <td>-200.0</td>\n",
              "      <td>930</td>\n",
              "      <td>-200</td>\n",
              "      <td>5.3</td>\n",
              "      <td>781</td>\n",
              "      <td>-200</td>\n",
              "      <td>933</td>\n",
              "      <td>-200</td>\n",
              "      <td>906</td>\n",
              "      <td>866</td>\n",
              "      <td>9.3</td>\n",
              "      <td>33.6</td>\n",
              "      <td>0.3958</td>\n",
              "    </tr>\n",
              "    <tr>\n",
              "      <th>7106</th>\n",
              "      <td>2004-12-31</td>\n",
              "      <td>1900-01-01 20:00:00</td>\n",
              "      <td>-200.0</td>\n",
              "      <td>962</td>\n",
              "      <td>-200</td>\n",
              "      <td>5.3</td>\n",
              "      <td>780</td>\n",
              "      <td>-200</td>\n",
              "      <td>919</td>\n",
              "      <td>-200</td>\n",
              "      <td>909</td>\n",
              "      <td>884</td>\n",
              "      <td>9.6</td>\n",
              "      <td>32.3</td>\n",
              "      <td>0.3871</td>\n",
              "    </tr>\n",
              "    <tr>\n",
              "      <th>7107</th>\n",
              "      <td>2004-12-31</td>\n",
              "      <td>1900-01-01 21:00:00</td>\n",
              "      <td>-200.0</td>\n",
              "      <td>974</td>\n",
              "      <td>-200</td>\n",
              "      <td>5.5</td>\n",
              "      <td>790</td>\n",
              "      <td>-200</td>\n",
              "      <td>915</td>\n",
              "      <td>-200</td>\n",
              "      <td>895</td>\n",
              "      <td>951</td>\n",
              "      <td>9.1</td>\n",
              "      <td>32.5</td>\n",
              "      <td>0.3766</td>\n",
              "    </tr>\n",
              "    <tr>\n",
              "      <th>7108</th>\n",
              "      <td>2004-12-31</td>\n",
              "      <td>1900-01-01 22:00:00</td>\n",
              "      <td>-200.0</td>\n",
              "      <td>1055</td>\n",
              "      <td>-200</td>\n",
              "      <td>5.6</td>\n",
              "      <td>791</td>\n",
              "      <td>-200</td>\n",
              "      <td>845</td>\n",
              "      <td>-200</td>\n",
              "      <td>936</td>\n",
              "      <td>1195</td>\n",
              "      <td>9.1</td>\n",
              "      <td>37.2</td>\n",
              "      <td>0.4310</td>\n",
              "    </tr>\n",
              "    <tr>\n",
              "      <th>7109</th>\n",
              "      <td>2004-12-31</td>\n",
              "      <td>1900-01-01 23:00:00</td>\n",
              "      <td>-200.0</td>\n",
              "      <td>1003</td>\n",
              "      <td>-200</td>\n",
              "      <td>4.6</td>\n",
              "      <td>744</td>\n",
              "      <td>-200</td>\n",
              "      <td>882</td>\n",
              "      <td>-200</td>\n",
              "      <td>899</td>\n",
              "      <td>1138</td>\n",
              "      <td>7.8</td>\n",
              "      <td>38.4</td>\n",
              "      <td>0.4085</td>\n",
              "    </tr>\n",
              "  </tbody>\n",
              "</table>\n",
              "</div>"
            ],
            "text/plain": [
              "           Date                Time  CO(GT)  ...    T    RH      AH\n",
              "7105 2004-12-31 1900-01-01 19:00:00  -200.0  ...  9.3  33.6  0.3958\n",
              "7106 2004-12-31 1900-01-01 20:00:00  -200.0  ...  9.6  32.3  0.3871\n",
              "7107 2004-12-31 1900-01-01 21:00:00  -200.0  ...  9.1  32.5  0.3766\n",
              "7108 2004-12-31 1900-01-01 22:00:00  -200.0  ...  9.1  37.2  0.4310\n",
              "7109 2004-12-31 1900-01-01 23:00:00  -200.0  ...  7.8  38.4  0.4085\n",
              "\n",
              "[5 rows x 15 columns]"
            ]
          },
          "metadata": {
            "tags": []
          },
          "execution_count": 51
        }
      ]
    },
    {
      "cell_type": "markdown",
      "metadata": {
        "id": "T_mGaqUhgwbX"
      },
      "source": [
        "**Observation:**\n",
        "\n",
        "- We have seen that by using datetime format we can extract information like year, month, hour, minute, etc from time.\n",
        "\n",
        "- We can even retrieve the name of the day and day of the year type information.\n",
        "\n",
        "- All these things **help** to better **understand** our **data** which in turn help in **drawing** important **conclusions** and **insights**."
      ]
    },
    {
      "cell_type": "markdown",
      "metadata": {
        "id": "HsrK-G5EFRfN"
      },
      "source": [
        "---\n",
        "<a name = Section5></a>\n",
        "# **5. Conclusion**\n",
        "---\n",
        "\n",
        "- **Python** is a **great language** for doing data analysis, primarily because of the fantastic ecosystem of data-centric Python packages.\n",
        "\n",
        "- Pandas is one of those packages and makes **importing** and **analyzing** **data** much **easier**.\n",
        "\n",
        "- It is an **open-source**, **BSD-licensed** Python library providing high-performance, easy-to-use data structures, and data analysis tools.\n",
        "\n",
        "- Python with **Pandas** is **used in a wide range of fields** including academic and commercial domains like finance, statistics, etc.\n",
        "\n",
        "- They are **built on packages like NumPy and matplotlib** to give you a convenient place to do data analysis and visualization work."
      ]
    },
    {
      "cell_type": "markdown",
      "metadata": {
        "id": "4PTvsfGbFXgn"
      },
      "source": [
        "**<center><h2>That's All Folks!</h2></center>**"
      ]
    }
  ]
}