{
 "cells": [
  {
   "cell_type": "markdown",
   "id": "c42ca920",
   "metadata": {},
   "source": [
    "### Functions\n"
   ]
  },
  {
   "cell_type": "code",
   "execution_count": 1,
   "id": "f4cc7aad",
   "metadata": {},
   "outputs": [
    {
     "name": "stdout",
     "output_type": "stream",
     "text": [
      "1 2 3\n",
      "a b c\n",
      "1.2 True abc\n"
     ]
    }
   ],
   "source": [
    "def method1(a,b,c):\n",
    "    print(a,b,c)\n",
    "    \n",
    "method1(1,2,3)\n",
    "method1(\"a\",\"b\",\"c\")\n",
    "method1(1.2,True,\"abc\")"
   ]
  },
  {
   "cell_type": "code",
   "execution_count": 5,
   "id": "ec4600a1",
   "metadata": {},
   "outputs": [
    {
     "name": "stdout",
     "output_type": "stream",
     "text": [
      "Name:  miki\n",
      "Age  50\n"
     ]
    }
   ],
   "source": [
    "def printinfo( name, age ):\n",
    "   #\"This prints a passed info into this function\"\n",
    "   print(\"Name: \", name)\n",
    "   print(\"Age \", age)\n",
    "   #return;\n",
    "\n",
    "\n",
    "printinfo( age=50, name=\"miki\" )"
   ]
  },
  {
   "cell_type": "markdown",
   "id": "e113b758",
   "metadata": {},
   "source": [
    "## Exceptions"
   ]
  },
  {
   "cell_type": "code",
   "execution_count": 7,
   "id": "94133b70",
   "metadata": {},
   "outputs": [
    {
     "ename": "ZeroDivisionError",
     "evalue": "division by zero",
     "output_type": "error",
     "traceback": [
      "\u001b[1;31m---------------------------------------------------------------------------\u001b[0m",
      "\u001b[1;31mZeroDivisionError\u001b[0m                         Traceback (most recent call last)",
      "\u001b[1;32m<ipython-input-7-d638452c1d4a>\u001b[0m in \u001b[0;36m<module>\u001b[1;34m\u001b[0m\n\u001b[0;32m      1\u001b[0m \u001b[0mn\u001b[0m \u001b[1;33m=\u001b[0m \u001b[1;36m10\u001b[0m\u001b[1;33m\u001b[0m\u001b[1;33m\u001b[0m\u001b[0m\n\u001b[0;32m      2\u001b[0m \u001b[0md\u001b[0m\u001b[1;33m=\u001b[0m \u001b[1;36m0\u001b[0m\u001b[1;33m\u001b[0m\u001b[1;33m\u001b[0m\u001b[0m\n\u001b[1;32m----> 3\u001b[1;33m \u001b[0mprint\u001b[0m\u001b[1;33m(\u001b[0m\u001b[0mn\u001b[0m\u001b[1;33m/\u001b[0m\u001b[0md\u001b[0m\u001b[1;33m)\u001b[0m\u001b[1;33m\u001b[0m\u001b[1;33m\u001b[0m\u001b[0m\n\u001b[0m",
      "\u001b[1;31mZeroDivisionError\u001b[0m: division by zero"
     ]
    }
   ],
   "source": [
    "n = 10\n",
    "d= 0\n",
    "print(n/d)"
   ]
  },
  {
   "cell_type": "code",
   "execution_count": 13,
   "id": "2d33c279",
   "metadata": {},
   "outputs": [
    {
     "name": "stdout",
     "output_type": "stream",
     "text": [
      "n10\n",
      "d2\n",
      "5.0\n",
      "in else\n",
      "finallyy\n"
     ]
    },
    {
     "ename": "MemoryError",
     "evalue": "just raising an exception",
     "output_type": "error",
     "traceback": [
      "\u001b[1;31m---------------------------------------------------------------------------\u001b[0m",
      "\u001b[1;31mMemoryError\u001b[0m                               Traceback (most recent call last)",
      "\u001b[1;32m<ipython-input-13-704744757a99>\u001b[0m in \u001b[0;36m<module>\u001b[1;34m\u001b[0m\n\u001b[0;32m      7\u001b[0m \u001b[1;32melse\u001b[0m\u001b[1;33m:\u001b[0m  \u001b[1;31m# else runs if try runs without errors\u001b[0m\u001b[1;33m\u001b[0m\u001b[1;33m\u001b[0m\u001b[0m\n\u001b[0;32m      8\u001b[0m     \u001b[0mprint\u001b[0m\u001b[1;33m(\u001b[0m\u001b[1;34m\"in else\"\u001b[0m\u001b[1;33m)\u001b[0m\u001b[1;33m\u001b[0m\u001b[1;33m\u001b[0m\u001b[0m\n\u001b[1;32m----> 9\u001b[1;33m     \u001b[1;32mraise\u001b[0m \u001b[0mMemoryError\u001b[0m\u001b[1;33m(\u001b[0m\u001b[1;34m\"just raising an exception\"\u001b[0m\u001b[1;33m)\u001b[0m\u001b[1;33m\u001b[0m\u001b[1;33m\u001b[0m\u001b[0m\n\u001b[0m\u001b[0;32m     10\u001b[0m \u001b[1;32mfinally\u001b[0m\u001b[1;33m:\u001b[0m \u001b[1;31m# runs in all cases\u001b[0m\u001b[1;33m\u001b[0m\u001b[1;33m\u001b[0m\u001b[0m\n\u001b[0;32m     11\u001b[0m     \u001b[0mprint\u001b[0m\u001b[1;33m(\u001b[0m\u001b[1;34m\"finallyy\"\u001b[0m\u001b[1;33m)\u001b[0m\u001b[1;33m\u001b[0m\u001b[1;33m\u001b[0m\u001b[0m\n",
      "\u001b[1;31mMemoryError\u001b[0m: just raising an exception"
     ]
    }
   ],
   "source": [
    "try:\n",
    "    n=int(input(\"n\"))\n",
    "    d = int(input(\"d\"))\n",
    "    print(n/d)\n",
    "except: # runs only if exception occurs\n",
    "    print(\"exception\")\n",
    "else:  # else runs if try runs without errors\n",
    "    print(\"in else\")\n",
    "    raise MemoryError(\"just raising an exception\")\n",
    "finally: # runs in all cases\n",
    "    print(\"finallyy\")"
   ]
  },
  {
   "cell_type": "code",
   "execution_count": 15,
   "id": "94ee0a92",
   "metadata": {},
   "outputs": [],
   "source": [
    "class customError(Exception):\n",
    "    pass"
   ]
  },
  {
   "cell_type": "code",
   "execution_count": 16,
   "id": "beb7601b",
   "metadata": {},
   "outputs": [
    {
     "ename": "customError",
     "evalue": "",
     "output_type": "error",
     "traceback": [
      "\u001b[1;31m---------------------------------------------------------------------------\u001b[0m",
      "\u001b[1;31mcustomError\u001b[0m                               Traceback (most recent call last)",
      "\u001b[1;32m<ipython-input-16-d37024203800>\u001b[0m in \u001b[0;36m<module>\u001b[1;34m\u001b[0m\n\u001b[1;32m----> 1\u001b[1;33m \u001b[1;32mraise\u001b[0m \u001b[0mcustomError\u001b[0m\u001b[1;33m\u001b[0m\u001b[1;33m\u001b[0m\u001b[0m\n\u001b[0m",
      "\u001b[1;31mcustomError\u001b[0m: "
     ]
    }
   ],
   "source": [
    "raise customError"
   ]
  },
  {
   "cell_type": "code",
   "execution_count": 17,
   "id": "8bb9acb4",
   "metadata": {},
   "outputs": [
    {
     "ename": "customError",
     "evalue": "This is custom exception",
     "output_type": "error",
     "traceback": [
      "\u001b[1;31m---------------------------------------------------------------------------\u001b[0m",
      "\u001b[1;31mcustomError\u001b[0m                               Traceback (most recent call last)",
      "\u001b[1;32m<ipython-input-17-60474954209a>\u001b[0m in \u001b[0;36m<module>\u001b[1;34m\u001b[0m\n\u001b[1;32m----> 1\u001b[1;33m \u001b[1;32mraise\u001b[0m \u001b[0mcustomError\u001b[0m\u001b[1;33m(\u001b[0m\u001b[1;34m\"This is custom exception\"\u001b[0m\u001b[1;33m)\u001b[0m\u001b[1;33m\u001b[0m\u001b[1;33m\u001b[0m\u001b[0m\n\u001b[0m",
      "\u001b[1;31mcustomError\u001b[0m: This is custom exception"
     ]
    }
   ],
   "source": [
    "raise customError(\"This is custom exception\")"
   ]
  },
  {
   "cell_type": "code",
   "execution_count": null,
   "id": "f9b776bf",
   "metadata": {},
   "outputs": [],
   "source": []
  }
 ],
 "metadata": {
  "kernelspec": {
   "display_name": "Python 3",
   "language": "python",
   "name": "python3"
  },
  "language_info": {
   "codemirror_mode": {
    "name": "ipython",
    "version": 3
   },
   "file_extension": ".py",
   "mimetype": "text/x-python",
   "name": "python",
   "nbconvert_exporter": "python",
   "pygments_lexer": "ipython3",
   "version": "3.8.8"
  }
 },
 "nbformat": 4,
 "nbformat_minor": 5
}
